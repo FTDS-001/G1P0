{
 "cells": [
  {
   "cell_type": "code",
   "execution_count": 10,
   "id": "f8bfeaa0",
   "metadata": {},
   "outputs": [],
   "source": [
    "import numpy as np\n",
    "import pandas as pd\n",
    "import matplotlib.pyplot as plt"
   ]
  },
  {
   "cell_type": "code",
   "execution_count": 11,
   "id": "ba526dcd",
   "metadata": {},
   "outputs": [
    {
     "data": {
      "text/plain": [
       "'/Users/dimas/Documents/data-science'"
      ]
     },
     "execution_count": 11,
     "metadata": {},
     "output_type": "execute_result"
    }
   ],
   "source": [
    "pwd"
   ]
  },
  {
   "cell_type": "markdown",
   "id": "098b919f",
   "metadata": {},
   "source": [
    "# Data Loading and Column Delete :\n",
    "\n",
    "- Memuat dan membaca file berupa csv\n",
    "- Menghapus kolom data yang tidak digunakan"
   ]
  },
  {
   "cell_type": "code",
   "execution_count": 12,
   "id": "5fba5230",
   "metadata": {
    "scrolled": true
   },
   "outputs": [
    {
     "data": {
      "text/html": [
       "<div>\n",
       "<style scoped>\n",
       "    .dataframe tbody tr th:only-of-type {\n",
       "        vertical-align: middle;\n",
       "    }\n",
       "\n",
       "    .dataframe tbody tr th {\n",
       "        vertical-align: top;\n",
       "    }\n",
       "\n",
       "    .dataframe thead th {\n",
       "        text-align: right;\n",
       "    }\n",
       "</style>\n",
       "<table border=\"1\" class=\"dataframe\">\n",
       "  <thead>\n",
       "    <tr style=\"text-align: right;\">\n",
       "      <th></th>\n",
       "      <th>Number</th>\n",
       "      <th>Name</th>\n",
       "      <th>Type_1</th>\n",
       "      <th>Type_2</th>\n",
       "      <th>HP</th>\n",
       "      <th>Attack</th>\n",
       "      <th>Defense</th>\n",
       "      <th>Sp_Atk</th>\n",
       "      <th>Sp_Def</th>\n",
       "      <th>Speed</th>\n",
       "    </tr>\n",
       "  </thead>\n",
       "  <tbody>\n",
       "    <tr>\n",
       "      <th>0</th>\n",
       "      <td>1</td>\n",
       "      <td>Bulbasaur</td>\n",
       "      <td>Grass</td>\n",
       "      <td>Poison</td>\n",
       "      <td>45</td>\n",
       "      <td>49</td>\n",
       "      <td>49</td>\n",
       "      <td>65</td>\n",
       "      <td>65</td>\n",
       "      <td>45</td>\n",
       "    </tr>\n",
       "    <tr>\n",
       "      <th>1</th>\n",
       "      <td>2</td>\n",
       "      <td>Ivysaur</td>\n",
       "      <td>Grass</td>\n",
       "      <td>Poison</td>\n",
       "      <td>60</td>\n",
       "      <td>62</td>\n",
       "      <td>63</td>\n",
       "      <td>80</td>\n",
       "      <td>80</td>\n",
       "      <td>60</td>\n",
       "    </tr>\n",
       "    <tr>\n",
       "      <th>2</th>\n",
       "      <td>3</td>\n",
       "      <td>Venusaur</td>\n",
       "      <td>Grass</td>\n",
       "      <td>Poison</td>\n",
       "      <td>80</td>\n",
       "      <td>82</td>\n",
       "      <td>83</td>\n",
       "      <td>100</td>\n",
       "      <td>100</td>\n",
       "      <td>80</td>\n",
       "    </tr>\n",
       "    <tr>\n",
       "      <th>3</th>\n",
       "      <td>4</td>\n",
       "      <td>Charmander</td>\n",
       "      <td>Fire</td>\n",
       "      <td>NaN</td>\n",
       "      <td>39</td>\n",
       "      <td>52</td>\n",
       "      <td>43</td>\n",
       "      <td>60</td>\n",
       "      <td>50</td>\n",
       "      <td>65</td>\n",
       "    </tr>\n",
       "    <tr>\n",
       "      <th>4</th>\n",
       "      <td>5</td>\n",
       "      <td>Charmeleon</td>\n",
       "      <td>Fire</td>\n",
       "      <td>NaN</td>\n",
       "      <td>58</td>\n",
       "      <td>64</td>\n",
       "      <td>58</td>\n",
       "      <td>80</td>\n",
       "      <td>65</td>\n",
       "      <td>80</td>\n",
       "    </tr>\n",
       "  </tbody>\n",
       "</table>\n",
       "</div>"
      ],
      "text/plain": [
       "   Number        Name Type_1  Type_2  HP  Attack  Defense  Sp_Atk  Sp_Def  \\\n",
       "0       1   Bulbasaur  Grass  Poison  45      49       49      65      65   \n",
       "1       2     Ivysaur  Grass  Poison  60      62       63      80      80   \n",
       "2       3    Venusaur  Grass  Poison  80      82       83     100     100   \n",
       "3       4  Charmander   Fire     NaN  39      52       43      60      50   \n",
       "4       5  Charmeleon   Fire     NaN  58      64       58      80      65   \n",
       "\n",
       "   Speed  \n",
       "0     45  \n",
       "1     60  \n",
       "2     80  \n",
       "3     65  \n",
       "4     80  "
      ]
     },
     "execution_count": 12,
     "metadata": {},
     "output_type": "execute_result"
    }
   ],
   "source": [
    "df = pd.read_csv('pokemon_alopez247.csv')\n",
    "\n",
    "del df['Total']\n",
    "del df['Generation']\n",
    "del df['isLegendary']\n",
    "del df['Color']\n",
    "del df['hasGender']\n",
    "del df['Pr_Male']\n",
    "del df['Egg_Group_1']\n",
    "del df['Egg_Group_2']\n",
    "del df['hasMegaEvolution']\n",
    "del df['Height_m']\n",
    "del df['Weight_kg']\n",
    "del df['Catch_Rate']\n",
    "del df['Body_Style']\n",
    "\n",
    "df.head()"
   ]
  },
  {
   "cell_type": "markdown",
   "id": "92a45c30",
   "metadata": {},
   "source": [
    "# Data dan Informasi untuk di jadikan analisis dan di rubah menjadi pengetahuan dan insights"
   ]
  },
  {
   "cell_type": "code",
   "execution_count": 13,
   "id": "9c4a7213",
   "metadata": {
    "scrolled": true
   },
   "outputs": [
    {
     "data": {
      "text/html": [
       "<div>\n",
       "<style scoped>\n",
       "    .dataframe tbody tr th:only-of-type {\n",
       "        vertical-align: middle;\n",
       "    }\n",
       "\n",
       "    .dataframe tbody tr th {\n",
       "        vertical-align: top;\n",
       "    }\n",
       "\n",
       "    .dataframe thead th {\n",
       "        text-align: right;\n",
       "    }\n",
       "</style>\n",
       "<table border=\"1\" class=\"dataframe\">\n",
       "  <thead>\n",
       "    <tr style=\"text-align: right;\">\n",
       "      <th></th>\n",
       "      <th>Number</th>\n",
       "      <th>Name</th>\n",
       "      <th>Type_1</th>\n",
       "      <th>Type_2</th>\n",
       "      <th>HP</th>\n",
       "      <th>Attack</th>\n",
       "      <th>Defense</th>\n",
       "      <th>Sp_Atk</th>\n",
       "      <th>Sp_Def</th>\n",
       "      <th>Speed</th>\n",
       "    </tr>\n",
       "  </thead>\n",
       "  <tbody>\n",
       "    <tr>\n",
       "      <th>count</th>\n",
       "      <td>721.00000</td>\n",
       "      <td>721</td>\n",
       "      <td>721</td>\n",
       "      <td>350</td>\n",
       "      <td>721.000000</td>\n",
       "      <td>721.000000</td>\n",
       "      <td>721.000000</td>\n",
       "      <td>721.000000</td>\n",
       "      <td>721.000000</td>\n",
       "      <td>721.000000</td>\n",
       "    </tr>\n",
       "    <tr>\n",
       "      <th>unique</th>\n",
       "      <td>NaN</td>\n",
       "      <td>721</td>\n",
       "      <td>18</td>\n",
       "      <td>18</td>\n",
       "      <td>NaN</td>\n",
       "      <td>NaN</td>\n",
       "      <td>NaN</td>\n",
       "      <td>NaN</td>\n",
       "      <td>NaN</td>\n",
       "      <td>NaN</td>\n",
       "    </tr>\n",
       "    <tr>\n",
       "      <th>top</th>\n",
       "      <td>NaN</td>\n",
       "      <td>Diglett</td>\n",
       "      <td>Water</td>\n",
       "      <td>Flying</td>\n",
       "      <td>NaN</td>\n",
       "      <td>NaN</td>\n",
       "      <td>NaN</td>\n",
       "      <td>NaN</td>\n",
       "      <td>NaN</td>\n",
       "      <td>NaN</td>\n",
       "    </tr>\n",
       "    <tr>\n",
       "      <th>freq</th>\n",
       "      <td>NaN</td>\n",
       "      <td>1</td>\n",
       "      <td>105</td>\n",
       "      <td>87</td>\n",
       "      <td>NaN</td>\n",
       "      <td>NaN</td>\n",
       "      <td>NaN</td>\n",
       "      <td>NaN</td>\n",
       "      <td>NaN</td>\n",
       "      <td>NaN</td>\n",
       "    </tr>\n",
       "    <tr>\n",
       "      <th>mean</th>\n",
       "      <td>361.00000</td>\n",
       "      <td>NaN</td>\n",
       "      <td>NaN</td>\n",
       "      <td>NaN</td>\n",
       "      <td>68.380028</td>\n",
       "      <td>75.013870</td>\n",
       "      <td>70.808599</td>\n",
       "      <td>68.737864</td>\n",
       "      <td>69.291262</td>\n",
       "      <td>65.714286</td>\n",
       "    </tr>\n",
       "    <tr>\n",
       "      <th>std</th>\n",
       "      <td>208.27906</td>\n",
       "      <td>NaN</td>\n",
       "      <td>NaN</td>\n",
       "      <td>NaN</td>\n",
       "      <td>25.848272</td>\n",
       "      <td>28.984475</td>\n",
       "      <td>29.296558</td>\n",
       "      <td>28.788005</td>\n",
       "      <td>27.015860</td>\n",
       "      <td>27.277920</td>\n",
       "    </tr>\n",
       "    <tr>\n",
       "      <th>min</th>\n",
       "      <td>1.00000</td>\n",
       "      <td>NaN</td>\n",
       "      <td>NaN</td>\n",
       "      <td>NaN</td>\n",
       "      <td>1.000000</td>\n",
       "      <td>5.000000</td>\n",
       "      <td>5.000000</td>\n",
       "      <td>10.000000</td>\n",
       "      <td>20.000000</td>\n",
       "      <td>5.000000</td>\n",
       "    </tr>\n",
       "    <tr>\n",
       "      <th>25%</th>\n",
       "      <td>181.00000</td>\n",
       "      <td>NaN</td>\n",
       "      <td>NaN</td>\n",
       "      <td>NaN</td>\n",
       "      <td>50.000000</td>\n",
       "      <td>53.000000</td>\n",
       "      <td>50.000000</td>\n",
       "      <td>45.000000</td>\n",
       "      <td>50.000000</td>\n",
       "      <td>45.000000</td>\n",
       "    </tr>\n",
       "    <tr>\n",
       "      <th>50%</th>\n",
       "      <td>361.00000</td>\n",
       "      <td>NaN</td>\n",
       "      <td>NaN</td>\n",
       "      <td>NaN</td>\n",
       "      <td>65.000000</td>\n",
       "      <td>74.000000</td>\n",
       "      <td>65.000000</td>\n",
       "      <td>65.000000</td>\n",
       "      <td>65.000000</td>\n",
       "      <td>65.000000</td>\n",
       "    </tr>\n",
       "    <tr>\n",
       "      <th>75%</th>\n",
       "      <td>541.00000</td>\n",
       "      <td>NaN</td>\n",
       "      <td>NaN</td>\n",
       "      <td>NaN</td>\n",
       "      <td>80.000000</td>\n",
       "      <td>95.000000</td>\n",
       "      <td>85.000000</td>\n",
       "      <td>90.000000</td>\n",
       "      <td>85.000000</td>\n",
       "      <td>85.000000</td>\n",
       "    </tr>\n",
       "    <tr>\n",
       "      <th>max</th>\n",
       "      <td>721.00000</td>\n",
       "      <td>NaN</td>\n",
       "      <td>NaN</td>\n",
       "      <td>NaN</td>\n",
       "      <td>255.000000</td>\n",
       "      <td>165.000000</td>\n",
       "      <td>230.000000</td>\n",
       "      <td>154.000000</td>\n",
       "      <td>230.000000</td>\n",
       "      <td>160.000000</td>\n",
       "    </tr>\n",
       "  </tbody>\n",
       "</table>\n",
       "</div>"
      ],
      "text/plain": [
       "           Number     Name Type_1  Type_2          HP      Attack     Defense  \\\n",
       "count   721.00000      721    721     350  721.000000  721.000000  721.000000   \n",
       "unique        NaN      721     18      18         NaN         NaN         NaN   \n",
       "top           NaN  Diglett  Water  Flying         NaN         NaN         NaN   \n",
       "freq          NaN        1    105      87         NaN         NaN         NaN   \n",
       "mean    361.00000      NaN    NaN     NaN   68.380028   75.013870   70.808599   \n",
       "std     208.27906      NaN    NaN     NaN   25.848272   28.984475   29.296558   \n",
       "min       1.00000      NaN    NaN     NaN    1.000000    5.000000    5.000000   \n",
       "25%     181.00000      NaN    NaN     NaN   50.000000   53.000000   50.000000   \n",
       "50%     361.00000      NaN    NaN     NaN   65.000000   74.000000   65.000000   \n",
       "75%     541.00000      NaN    NaN     NaN   80.000000   95.000000   85.000000   \n",
       "max     721.00000      NaN    NaN     NaN  255.000000  165.000000  230.000000   \n",
       "\n",
       "            Sp_Atk      Sp_Def       Speed  \n",
       "count   721.000000  721.000000  721.000000  \n",
       "unique         NaN         NaN         NaN  \n",
       "top            NaN         NaN         NaN  \n",
       "freq           NaN         NaN         NaN  \n",
       "mean     68.737864   69.291262   65.714286  \n",
       "std      28.788005   27.015860   27.277920  \n",
       "min      10.000000   20.000000    5.000000  \n",
       "25%      45.000000   50.000000   45.000000  \n",
       "50%      65.000000   65.000000   65.000000  \n",
       "75%      90.000000   85.000000   85.000000  \n",
       "max     154.000000  230.000000  160.000000  "
      ]
     },
     "execution_count": 13,
     "metadata": {},
     "output_type": "execute_result"
    }
   ],
   "source": [
    "df.describe(include = \"all\")"
   ]
  },
  {
   "cell_type": "markdown",
   "id": "eb7a3198",
   "metadata": {},
   "source": [
    "- Informasi data untuk melihat berapa jenis data yang tersedia dalam data tersebut"
   ]
  },
  {
   "cell_type": "code",
   "execution_count": 14,
   "id": "d5b93b5d",
   "metadata": {
    "scrolled": true
   },
   "outputs": [
    {
     "name": "stdout",
     "output_type": "stream",
     "text": [
      "<class 'pandas.core.frame.DataFrame'>\n",
      "RangeIndex: 721 entries, 0 to 720\n",
      "Data columns (total 10 columns):\n",
      " #   Column   Non-Null Count  Dtype \n",
      "---  ------   --------------  ----- \n",
      " 0   Number   721 non-null    int64 \n",
      " 1   Name     721 non-null    object\n",
      " 2   Type_1   721 non-null    object\n",
      " 3   Type_2   350 non-null    object\n",
      " 4   HP       721 non-null    int64 \n",
      " 5   Attack   721 non-null    int64 \n",
      " 6   Defense  721 non-null    int64 \n",
      " 7   Sp_Atk   721 non-null    int64 \n",
      " 8   Sp_Def   721 non-null    int64 \n",
      " 9   Speed    721 non-null    int64 \n",
      "dtypes: int64(7), object(3)\n",
      "memory usage: 56.5+ KB\n"
     ]
    }
   ],
   "source": [
    "df.info()"
   ]
  },
  {
   "cell_type": "markdown",
   "id": "54d080c3",
   "metadata": {},
   "source": [
    "frekuensi = populasi\n",
    "\n",
    "- Untuk 'Type_1', Elemen 'Water' memiliki frekuensi terbanyak di banding dengan Pokemon yang lain\n",
    "\n",
    "- Untuk 'Type_2', Elemen 'Flying' memiliki frekuensi terbanyak di banding dengan Pokemon yang lain"
   ]
  },
  {
   "cell_type": "code",
   "execution_count": 15,
   "id": "209a945a",
   "metadata": {
    "scrolled": false
   },
   "outputs": [
    {
     "data": {
      "text/plain": [
       "Water       105\n",
       "Normal       93\n",
       "Grass        66\n",
       "Bug          63\n",
       "Fire         47\n",
       "Psychic      47\n",
       "Rock         41\n",
       "Electric     36\n",
       "Ground       30\n",
       "Poison       28\n",
       "Dark         28\n",
       "Fighting     25\n",
       "Dragon       24\n",
       "Ghost        23\n",
       "Ice          23\n",
       "Steel        22\n",
       "Fairy        17\n",
       "Flying        3\n",
       "Name: Type_1, dtype: int64"
      ]
     },
     "execution_count": 15,
     "metadata": {},
     "output_type": "execute_result"
    }
   ],
   "source": [
    "df['Type_1'].value_counts()"
   ]
  },
  {
   "cell_type": "code",
   "execution_count": 16,
   "id": "ffd1e2f6",
   "metadata": {
    "scrolled": false
   },
   "outputs": [
    {
     "data": {
      "text/plain": [
       "Flying      87\n",
       "Poison      31\n",
       "Ground      30\n",
       "Psychic     27\n",
       "Steel       19\n",
       "Fighting    19\n",
       "Grass       18\n",
       "Fairy       18\n",
       "Dark        16\n",
       "Rock        14\n",
       "Dragon      14\n",
       "Water       13\n",
       "Ghost       12\n",
       "Ice         10\n",
       "Fire         9\n",
       "Electric     6\n",
       "Normal       4\n",
       "Bug          3\n",
       "Name: Type_2, dtype: int64"
      ]
     },
     "execution_count": 16,
     "metadata": {},
     "output_type": "execute_result"
    }
   ],
   "source": [
    "df['Type_2'].value_counts()"
   ]
  },
  {
   "cell_type": "markdown",
   "id": "325ee980",
   "metadata": {},
   "source": [
    "# Data Cleaning dan Data Prep\n",
    "\n",
    "\n",
    "\n",
    "- Untuk data yang kosong (NaN), sejauh ini hanya terjadi di kolom Type_2.\n",
    "\n",
    "\n",
    "- Membuat kolom baru yang bersifat untuk memberikan karakteristik baru dari data tersebut.\n",
    "\n",
    "\n",
    "- Dari data tersebut, saya mengisi data 'NaN' menjadi 'None' karena tidak semua Pokemon memiliki 2 tipe elemen."
   ]
  },
  {
   "cell_type": "code",
   "execution_count": 17,
   "id": "c68449bb",
   "metadata": {
    "scrolled": true
   },
   "outputs": [
    {
     "data": {
      "text/html": [
       "<div>\n",
       "<style scoped>\n",
       "    .dataframe tbody tr th:only-of-type {\n",
       "        vertical-align: middle;\n",
       "    }\n",
       "\n",
       "    .dataframe tbody tr th {\n",
       "        vertical-align: top;\n",
       "    }\n",
       "\n",
       "    .dataframe thead th {\n",
       "        text-align: right;\n",
       "    }\n",
       "</style>\n",
       "<table border=\"1\" class=\"dataframe\">\n",
       "  <thead>\n",
       "    <tr style=\"text-align: right;\">\n",
       "      <th></th>\n",
       "      <th>Number</th>\n",
       "      <th>Name</th>\n",
       "      <th>Type_1</th>\n",
       "      <th>Type_2</th>\n",
       "      <th>HP</th>\n",
       "      <th>Attack</th>\n",
       "      <th>Defense</th>\n",
       "      <th>Sp_Atk</th>\n",
       "      <th>Sp_Def</th>\n",
       "      <th>Speed</th>\n",
       "    </tr>\n",
       "  </thead>\n",
       "  <tbody>\n",
       "    <tr>\n",
       "      <th>0</th>\n",
       "      <td>1</td>\n",
       "      <td>Bulbasaur</td>\n",
       "      <td>Grass</td>\n",
       "      <td>Poison</td>\n",
       "      <td>45</td>\n",
       "      <td>49</td>\n",
       "      <td>49</td>\n",
       "      <td>65</td>\n",
       "      <td>65</td>\n",
       "      <td>45</td>\n",
       "    </tr>\n",
       "    <tr>\n",
       "      <th>1</th>\n",
       "      <td>2</td>\n",
       "      <td>Ivysaur</td>\n",
       "      <td>Grass</td>\n",
       "      <td>Poison</td>\n",
       "      <td>60</td>\n",
       "      <td>62</td>\n",
       "      <td>63</td>\n",
       "      <td>80</td>\n",
       "      <td>80</td>\n",
       "      <td>60</td>\n",
       "    </tr>\n",
       "    <tr>\n",
       "      <th>2</th>\n",
       "      <td>3</td>\n",
       "      <td>Venusaur</td>\n",
       "      <td>Grass</td>\n",
       "      <td>Poison</td>\n",
       "      <td>80</td>\n",
       "      <td>82</td>\n",
       "      <td>83</td>\n",
       "      <td>100</td>\n",
       "      <td>100</td>\n",
       "      <td>80</td>\n",
       "    </tr>\n",
       "    <tr>\n",
       "      <th>3</th>\n",
       "      <td>4</td>\n",
       "      <td>Charmander</td>\n",
       "      <td>Fire</td>\n",
       "      <td>None</td>\n",
       "      <td>39</td>\n",
       "      <td>52</td>\n",
       "      <td>43</td>\n",
       "      <td>60</td>\n",
       "      <td>50</td>\n",
       "      <td>65</td>\n",
       "    </tr>\n",
       "    <tr>\n",
       "      <th>4</th>\n",
       "      <td>5</td>\n",
       "      <td>Charmeleon</td>\n",
       "      <td>Fire</td>\n",
       "      <td>None</td>\n",
       "      <td>58</td>\n",
       "      <td>64</td>\n",
       "      <td>58</td>\n",
       "      <td>80</td>\n",
       "      <td>65</td>\n",
       "      <td>80</td>\n",
       "    </tr>\n",
       "    <tr>\n",
       "      <th>...</th>\n",
       "      <td>...</td>\n",
       "      <td>...</td>\n",
       "      <td>...</td>\n",
       "      <td>...</td>\n",
       "      <td>...</td>\n",
       "      <td>...</td>\n",
       "      <td>...</td>\n",
       "      <td>...</td>\n",
       "      <td>...</td>\n",
       "      <td>...</td>\n",
       "    </tr>\n",
       "    <tr>\n",
       "      <th>716</th>\n",
       "      <td>717</td>\n",
       "      <td>Yveltal</td>\n",
       "      <td>Dark</td>\n",
       "      <td>Flying</td>\n",
       "      <td>126</td>\n",
       "      <td>131</td>\n",
       "      <td>95</td>\n",
       "      <td>131</td>\n",
       "      <td>98</td>\n",
       "      <td>99</td>\n",
       "    </tr>\n",
       "    <tr>\n",
       "      <th>717</th>\n",
       "      <td>718</td>\n",
       "      <td>Zygarde</td>\n",
       "      <td>Dragon</td>\n",
       "      <td>Ground</td>\n",
       "      <td>108</td>\n",
       "      <td>100</td>\n",
       "      <td>121</td>\n",
       "      <td>81</td>\n",
       "      <td>95</td>\n",
       "      <td>95</td>\n",
       "    </tr>\n",
       "    <tr>\n",
       "      <th>718</th>\n",
       "      <td>719</td>\n",
       "      <td>Diancie</td>\n",
       "      <td>Rock</td>\n",
       "      <td>Fairy</td>\n",
       "      <td>50</td>\n",
       "      <td>100</td>\n",
       "      <td>150</td>\n",
       "      <td>100</td>\n",
       "      <td>150</td>\n",
       "      <td>50</td>\n",
       "    </tr>\n",
       "    <tr>\n",
       "      <th>719</th>\n",
       "      <td>720</td>\n",
       "      <td>Hoopa</td>\n",
       "      <td>Psychic</td>\n",
       "      <td>Ghost</td>\n",
       "      <td>80</td>\n",
       "      <td>110</td>\n",
       "      <td>60</td>\n",
       "      <td>150</td>\n",
       "      <td>130</td>\n",
       "      <td>70</td>\n",
       "    </tr>\n",
       "    <tr>\n",
       "      <th>720</th>\n",
       "      <td>721</td>\n",
       "      <td>Volcanion</td>\n",
       "      <td>Fire</td>\n",
       "      <td>Water</td>\n",
       "      <td>80</td>\n",
       "      <td>110</td>\n",
       "      <td>120</td>\n",
       "      <td>130</td>\n",
       "      <td>90</td>\n",
       "      <td>70</td>\n",
       "    </tr>\n",
       "  </tbody>\n",
       "</table>\n",
       "<p>721 rows × 10 columns</p>\n",
       "</div>"
      ],
      "text/plain": [
       "     Number        Name   Type_1  Type_2   HP  Attack  Defense  Sp_Atk  \\\n",
       "0         1   Bulbasaur    Grass  Poison   45      49       49      65   \n",
       "1         2     Ivysaur    Grass  Poison   60      62       63      80   \n",
       "2         3    Venusaur    Grass  Poison   80      82       83     100   \n",
       "3         4  Charmander     Fire    None   39      52       43      60   \n",
       "4         5  Charmeleon     Fire    None   58      64       58      80   \n",
       "..      ...         ...      ...     ...  ...     ...      ...     ...   \n",
       "716     717     Yveltal     Dark  Flying  126     131       95     131   \n",
       "717     718     Zygarde   Dragon  Ground  108     100      121      81   \n",
       "718     719     Diancie     Rock   Fairy   50     100      150     100   \n",
       "719     720       Hoopa  Psychic   Ghost   80     110       60     150   \n",
       "720     721   Volcanion     Fire   Water   80     110      120     130   \n",
       "\n",
       "     Sp_Def  Speed  \n",
       "0        65     45  \n",
       "1        80     60  \n",
       "2       100     80  \n",
       "3        50     65  \n",
       "4        65     80  \n",
       "..      ...    ...  \n",
       "716      98     99  \n",
       "717      95     95  \n",
       "718     150     50  \n",
       "719     130     70  \n",
       "720      90     70  \n",
       "\n",
       "[721 rows x 10 columns]"
      ]
     },
     "execution_count": 17,
     "metadata": {},
     "output_type": "execute_result"
    }
   ],
   "source": [
    "df.fillna(\"None\")"
   ]
  },
  {
   "cell_type": "markdown",
   "id": "fd2329a0",
   "metadata": {},
   "source": [
    "- Visual Data untuk menunjukkan korelasi antara 'Attack' dan 'Sp_Atk'.\n",
    "- Semakin ke kanan/atas, maka semakin kuat pertahanan keseluruhan suatu 'Pokemon'."
   ]
  },
  {
   "cell_type": "code",
   "execution_count": 18,
   "id": "c4916a84",
   "metadata": {
    "scrolled": false
   },
   "outputs": [
    {
     "data": {
      "text/plain": [
       "<matplotlib.collections.PathCollection at 0x7fa0064d4a30>"
      ]
     },
     "execution_count": 18,
     "metadata": {},
     "output_type": "execute_result"
    },
    {
     "data": {
      "image/png": "[encoded data removed]",
      "text/plain": [
       "<Figure size 432x288 with 1 Axes>"
      ]
     },
     "metadata": {
      "needs_background": "light"
     },
     "output_type": "display_data"
    }
   ],
   "source": [
    "plt.scatter(df['Attack'],df['Sp_Atk'])"
   ]
  },
  {
   "cell_type": "markdown",
   "id": "d260cf8a",
   "metadata": {},
   "source": [
    "- Visual Data untuk menunjukkan korelasi antara 'Defense' dan 'Sp_Def'.\n",
    "- Semakin ke kanan/atas, maka semakin kuat pertahanan keseluruhan suatu 'Pokemon'."
   ]
  },
  {
   "cell_type": "code",
   "execution_count": 19,
   "id": "c7bf7695",
   "metadata": {
    "scrolled": true
   },
   "outputs": [
    {
     "data": {
      "text/plain": [
       "<matplotlib.collections.PathCollection at 0x7fa0065f3160>"
      ]
     },
     "execution_count": 19,
     "metadata": {},
     "output_type": "execute_result"
    },
    {
     "data": {
      "image/png": "[encoded data removed]",
      "text/plain": [
       "<Figure size 432x288 with 1 Axes>"
      ]
     },
     "metadata": {
      "needs_background": "light"
     },
     "output_type": "display_data"
    }
   ],
   "source": [
    "plt.scatter(df['Defense'],df['Sp_Def'])"
   ]
  },
  {
   "cell_type": "markdown",
   "id": "72115e49",
   "metadata": {},
   "source": [
    "# Membuat kolom baru dan membuat data yang bersifat :\n",
    "\n",
    "\n",
    "- Offense bersifat untuk menunjukkan keseluruhan kekuatan serang suatu 'Pokemon'\n",
    "\n",
    "\n",
    "- Def_Pow (Defensive Power) bersifat untuk menunjukkan keseluruhan kekuatan pertahanan suatu 'Pokemon'\n",
    "\n",
    "\n",
    "\n",
    "- Ovr_Pow (Overall Power) bersifat untuk menunjukkan keseluruhan kekuatan suatu 'Pokemon'"
   ]
  },
  {
   "cell_type": "code",
   "execution_count": 20,
   "id": "74fddc5d",
   "metadata": {},
   "outputs": [],
   "source": [
    "df['Offense'] = (df['Attack'] / df['Sp_Atk']) * 100\n",
    "df['Def_Pow'] = (df['Defense'] / df['Sp_Def']) * 100\n",
    "df['Ovr_Pow'] = ((df['Attack'] + df['HP'] + df['Defense'] + df['Sp_Atk'] + df['Sp_Def'] + df['Speed']) / 721) * 100"
   ]
  },
  {
   "cell_type": "code",
   "execution_count": 21,
   "id": "acae8886",
   "metadata": {
    "scrolled": true
   },
   "outputs": [
    {
     "data": {
      "text/html": [
       "<div>\n",
       "<style scoped>\n",
       "    .dataframe tbody tr th:only-of-type {\n",
       "        vertical-align: middle;\n",
       "    }\n",
       "\n",
       "    .dataframe tbody tr th {\n",
       "        vertical-align: top;\n",
       "    }\n",
       "\n",
       "    .dataframe thead th {\n",
       "        text-align: right;\n",
       "    }\n",
       "</style>\n",
       "<table border=\"1\" class=\"dataframe\">\n",
       "  <thead>\n",
       "    <tr style=\"text-align: right;\">\n",
       "      <th></th>\n",
       "      <th>Number</th>\n",
       "      <th>Name</th>\n",
       "      <th>Type_1</th>\n",
       "      <th>Type_2</th>\n",
       "      <th>HP</th>\n",
       "      <th>Attack</th>\n",
       "      <th>Defense</th>\n",
       "      <th>Sp_Atk</th>\n",
       "      <th>Sp_Def</th>\n",
       "      <th>Speed</th>\n",
       "      <th>Offense</th>\n",
       "      <th>Def_Pow</th>\n",
       "      <th>Ovr_Pow</th>\n",
       "    </tr>\n",
       "  </thead>\n",
       "  <tbody>\n",
       "    <tr>\n",
       "      <th>0</th>\n",
       "      <td>1</td>\n",
       "      <td>Bulbasaur</td>\n",
       "      <td>Grass</td>\n",
       "      <td>Poison</td>\n",
       "      <td>45</td>\n",
       "      <td>49</td>\n",
       "      <td>49</td>\n",
       "      <td>65</td>\n",
       "      <td>65</td>\n",
       "      <td>45</td>\n",
       "      <td>75.384615</td>\n",
       "      <td>75.384615</td>\n",
       "      <td>44.105409</td>\n",
       "    </tr>\n",
       "    <tr>\n",
       "      <th>1</th>\n",
       "      <td>2</td>\n",
       "      <td>Ivysaur</td>\n",
       "      <td>Grass</td>\n",
       "      <td>Poison</td>\n",
       "      <td>60</td>\n",
       "      <td>62</td>\n",
       "      <td>63</td>\n",
       "      <td>80</td>\n",
       "      <td>80</td>\n",
       "      <td>60</td>\n",
       "      <td>77.500000</td>\n",
       "      <td>78.750000</td>\n",
       "      <td>56.171983</td>\n",
       "    </tr>\n",
       "    <tr>\n",
       "      <th>2</th>\n",
       "      <td>3</td>\n",
       "      <td>Venusaur</td>\n",
       "      <td>Grass</td>\n",
       "      <td>Poison</td>\n",
       "      <td>80</td>\n",
       "      <td>82</td>\n",
       "      <td>83</td>\n",
       "      <td>100</td>\n",
       "      <td>100</td>\n",
       "      <td>80</td>\n",
       "      <td>82.000000</td>\n",
       "      <td>83.000000</td>\n",
       "      <td>72.815534</td>\n",
       "    </tr>\n",
       "    <tr>\n",
       "      <th>3</th>\n",
       "      <td>4</td>\n",
       "      <td>Charmander</td>\n",
       "      <td>Fire</td>\n",
       "      <td>NaN</td>\n",
       "      <td>39</td>\n",
       "      <td>52</td>\n",
       "      <td>43</td>\n",
       "      <td>60</td>\n",
       "      <td>50</td>\n",
       "      <td>65</td>\n",
       "      <td>86.666667</td>\n",
       "      <td>86.000000</td>\n",
       "      <td>42.857143</td>\n",
       "    </tr>\n",
       "    <tr>\n",
       "      <th>4</th>\n",
       "      <td>5</td>\n",
       "      <td>Charmeleon</td>\n",
       "      <td>Fire</td>\n",
       "      <td>NaN</td>\n",
       "      <td>58</td>\n",
       "      <td>64</td>\n",
       "      <td>58</td>\n",
       "      <td>80</td>\n",
       "      <td>65</td>\n",
       "      <td>80</td>\n",
       "      <td>80.000000</td>\n",
       "      <td>89.230769</td>\n",
       "      <td>56.171983</td>\n",
       "    </tr>\n",
       "  </tbody>\n",
       "</table>\n",
       "</div>"
      ],
      "text/plain": [
       "   Number        Name Type_1  Type_2  HP  Attack  Defense  Sp_Atk  Sp_Def  \\\n",
       "0       1   Bulbasaur  Grass  Poison  45      49       49      65      65   \n",
       "1       2     Ivysaur  Grass  Poison  60      62       63      80      80   \n",
       "2       3    Venusaur  Grass  Poison  80      82       83     100     100   \n",
       "3       4  Charmander   Fire     NaN  39      52       43      60      50   \n",
       "4       5  Charmeleon   Fire     NaN  58      64       58      80      65   \n",
       "\n",
       "   Speed    Offense    Def_Pow    Ovr_Pow  \n",
       "0     45  75.384615  75.384615  44.105409  \n",
       "1     60  77.500000  78.750000  56.171983  \n",
       "2     80  82.000000  83.000000  72.815534  \n",
       "3     65  86.666667  86.000000  42.857143  \n",
       "4     80  80.000000  89.230769  56.171983  "
      ]
     },
     "execution_count": 21,
     "metadata": {},
     "output_type": "execute_result"
    }
   ],
   "source": [
    "df.head()"
   ]
  },
  {
   "cell_type": "markdown",
   "id": "cd31a0c9",
   "metadata": {},
   "source": [
    "# Konklusi Data :"
   ]
  },
  {
   "cell_type": "markdown",
   "id": "38aead32",
   "metadata": {},
   "source": [
    "# Konklusi untuk attribut di setiap 'Pokemon'\n",
    "\n",
    "Berikut adalah data dan grafik yang memiliki karakteristik untuk menunjukkan kekuatan dan kelemahan setiap 'Pokemon'\n",
    "\n",
    "Mengambil data kolom Type_1 karena tidak semua Pokemon memiliki Type_2 dan Type_1 merupakan kekuatan dominan dari setiap 'Pokemon'\n",
    "Mengambil mean(rata-rata) untuk meng-sortir setiap kolom dan bersifat konklusif untuk approach data berikut."
   ]
  },
  {
   "cell_type": "code",
   "execution_count": 22,
   "id": "de776f81",
   "metadata": {
    "scrolled": true
   },
   "outputs": [
    {
     "data": {
      "text/html": [
       "<div>\n",
       "<style scoped>\n",
       "    .dataframe tbody tr th:only-of-type {\n",
       "        vertical-align: middle;\n",
       "    }\n",
       "\n",
       "    .dataframe tbody tr th {\n",
       "        vertical-align: top;\n",
       "    }\n",
       "\n",
       "    .dataframe thead th {\n",
       "        text-align: right;\n",
       "    }\n",
       "</style>\n",
       "<table border=\"1\" class=\"dataframe\">\n",
       "  <thead>\n",
       "    <tr style=\"text-align: right;\">\n",
       "      <th></th>\n",
       "      <th>Number</th>\n",
       "      <th>HP</th>\n",
       "      <th>Attack</th>\n",
       "      <th>Defense</th>\n",
       "      <th>Sp_Atk</th>\n",
       "      <th>Sp_Def</th>\n",
       "      <th>Speed</th>\n",
       "      <th>Offense</th>\n",
       "      <th>Def_Pow</th>\n",
       "      <th>Ovr_Pow</th>\n",
       "    </tr>\n",
       "  </thead>\n",
       "  <tbody>\n",
       "    <tr>\n",
       "      <th>count</th>\n",
       "      <td>721.00000</td>\n",
       "      <td>721.000000</td>\n",
       "      <td>721.000000</td>\n",
       "      <td>721.000000</td>\n",
       "      <td>721.000000</td>\n",
       "      <td>721.000000</td>\n",
       "      <td>721.000000</td>\n",
       "      <td>721.000000</td>\n",
       "      <td>721.000000</td>\n",
       "      <td>721.000000</td>\n",
       "    </tr>\n",
       "    <tr>\n",
       "      <th>mean</th>\n",
       "      <td>361.00000</td>\n",
       "      <td>68.380028</td>\n",
       "      <td>75.013870</td>\n",
       "      <td>70.808599</td>\n",
       "      <td>68.737864</td>\n",
       "      <td>69.291262</td>\n",
       "      <td>65.714286</td>\n",
       "      <td>124.571183</td>\n",
       "      <td>110.143181</td>\n",
       "      <td>57.967532</td>\n",
       "    </tr>\n",
       "    <tr>\n",
       "      <th>std</th>\n",
       "      <td>208.27906</td>\n",
       "      <td>25.848272</td>\n",
       "      <td>28.984475</td>\n",
       "      <td>29.296558</td>\n",
       "      <td>28.788005</td>\n",
       "      <td>27.015860</td>\n",
       "      <td>27.277920</td>\n",
       "      <td>69.877838</td>\n",
       "      <td>51.113998</td>\n",
       "      <td>15.209940</td>\n",
       "    </tr>\n",
       "    <tr>\n",
       "      <th>min</th>\n",
       "      <td>1.00000</td>\n",
       "      <td>1.000000</td>\n",
       "      <td>5.000000</td>\n",
       "      <td>5.000000</td>\n",
       "      <td>10.000000</td>\n",
       "      <td>20.000000</td>\n",
       "      <td>5.000000</td>\n",
       "      <td>13.333333</td>\n",
       "      <td>4.761905</td>\n",
       "      <td>24.965326</td>\n",
       "    </tr>\n",
       "    <tr>\n",
       "      <th>25%</th>\n",
       "      <td>181.00000</td>\n",
       "      <td>50.000000</td>\n",
       "      <td>53.000000</td>\n",
       "      <td>50.000000</td>\n",
       "      <td>45.000000</td>\n",
       "      <td>50.000000</td>\n",
       "      <td>45.000000</td>\n",
       "      <td>80.000000</td>\n",
       "      <td>86.363636</td>\n",
       "      <td>44.382802</td>\n",
       "    </tr>\n",
       "    <tr>\n",
       "      <th>50%</th>\n",
       "      <td>361.00000</td>\n",
       "      <td>65.000000</td>\n",
       "      <td>74.000000</td>\n",
       "      <td>65.000000</td>\n",
       "      <td>65.000000</td>\n",
       "      <td>65.000000</td>\n",
       "      <td>65.000000</td>\n",
       "      <td>100.000000</td>\n",
       "      <td>100.000000</td>\n",
       "      <td>58.807212</td>\n",
       "    </tr>\n",
       "    <tr>\n",
       "      <th>75%</th>\n",
       "      <td>541.00000</td>\n",
       "      <td>80.000000</td>\n",
       "      <td>95.000000</td>\n",
       "      <td>85.000000</td>\n",
       "      <td>90.000000</td>\n",
       "      <td>85.000000</td>\n",
       "      <td>85.000000</td>\n",
       "      <td>150.000000</td>\n",
       "      <td>116.666667</td>\n",
       "      <td>69.209431</td>\n",
       "    </tr>\n",
       "    <tr>\n",
       "      <th>max</th>\n",
       "      <td>721.00000</td>\n",
       "      <td>255.000000</td>\n",
       "      <td>165.000000</td>\n",
       "      <td>230.000000</td>\n",
       "      <td>154.000000</td>\n",
       "      <td>230.000000</td>\n",
       "      <td>160.000000</td>\n",
       "      <td>800.000000</td>\n",
       "      <td>400.000000</td>\n",
       "      <td>99.861304</td>\n",
       "    </tr>\n",
       "  </tbody>\n",
       "</table>\n",
       "</div>"
      ],
      "text/plain": [
       "          Number          HP      Attack     Defense      Sp_Atk      Sp_Def  \\\n",
       "count  721.00000  721.000000  721.000000  721.000000  721.000000  721.000000   \n",
       "mean   361.00000   68.380028   75.013870   70.808599   68.737864   69.291262   \n",
       "std    208.27906   25.848272   28.984475   29.296558   28.788005   27.015860   \n",
       "min      1.00000    1.000000    5.000000    5.000000   10.000000   20.000000   \n",
       "25%    181.00000   50.000000   53.000000   50.000000   45.000000   50.000000   \n",
       "50%    361.00000   65.000000   74.000000   65.000000   65.000000   65.000000   \n",
       "75%    541.00000   80.000000   95.000000   85.000000   90.000000   85.000000   \n",
       "max    721.00000  255.000000  165.000000  230.000000  154.000000  230.000000   \n",
       "\n",
       "            Speed     Offense     Def_Pow     Ovr_Pow  \n",
       "count  721.000000  721.000000  721.000000  721.000000  \n",
       "mean    65.714286  124.571183  110.143181   57.967532  \n",
       "std     27.277920   69.877838   51.113998   15.209940  \n",
       "min      5.000000   13.333333    4.761905   24.965326  \n",
       "25%     45.000000   80.000000   86.363636   44.382802  \n",
       "50%     65.000000  100.000000  100.000000   58.807212  \n",
       "75%     85.000000  150.000000  116.666667   69.209431  \n",
       "max    160.000000  800.000000  400.000000   99.861304  "
      ]
     },
     "execution_count": 22,
     "metadata": {},
     "output_type": "execute_result"
    }
   ],
   "source": [
    "df.describe()"
   ]
  },
  {
   "cell_type": "markdown",
   "id": "01e1848c",
   "metadata": {},
   "source": [
    "- Data di atas digunakan untuk analisis secara keseluruhan untuk di grouping"
   ]
  },
  {
   "cell_type": "markdown",
   "id": "878b0c98",
   "metadata": {},
   "source": [
    "# Grouping/Aggregate\n",
    "\n",
    "- Bersifat untuk grouping dan aggregate data\n",
    "\n",
    "- Mencari setiap atribut Pokemon yang untuk mencari titik kekuatan dan kelemahan berdasarkan tipe elemen mereka\n",
    "\n",
    "Syntax :\n",
    "\n",
    "df.groupby(['Type_1']).mean().sort_values(\"Atribut yang mau di cari\", ascending = False)\n",
    "\n",
    "- Mencari rata-rata dari setiap grup untuk mendapatkan konklusi dari setiap elemen 'Pokemon'."
   ]
  },
  {
   "cell_type": "code",
   "execution_count": 23,
   "id": "161191e1",
   "metadata": {},
   "outputs": [
    {
     "data": {
      "text/html": [
       "<div>\n",
       "<style scoped>\n",
       "    .dataframe tbody tr th:only-of-type {\n",
       "        vertical-align: middle;\n",
       "    }\n",
       "\n",
       "    .dataframe tbody tr th {\n",
       "        vertical-align: top;\n",
       "    }\n",
       "\n",
       "    .dataframe thead th {\n",
       "        text-align: right;\n",
       "    }\n",
       "</style>\n",
       "<table border=\"1\" class=\"dataframe\">\n",
       "  <thead>\n",
       "    <tr style=\"text-align: right;\">\n",
       "      <th></th>\n",
       "      <th>Number</th>\n",
       "      <th>HP</th>\n",
       "      <th>Attack</th>\n",
       "      <th>Defense</th>\n",
       "      <th>Sp_Atk</th>\n",
       "      <th>Sp_Def</th>\n",
       "      <th>Speed</th>\n",
       "      <th>Offense</th>\n",
       "      <th>Def_Pow</th>\n",
       "      <th>Ovr_Pow</th>\n",
       "    </tr>\n",
       "    <tr>\n",
       "      <th>Type_1</th>\n",
       "      <th></th>\n",
       "      <th></th>\n",
       "      <th></th>\n",
       "      <th></th>\n",
       "      <th></th>\n",
       "      <th></th>\n",
       "      <th></th>\n",
       "      <th></th>\n",
       "      <th></th>\n",
       "      <th></th>\n",
       "    </tr>\n",
       "  </thead>\n",
       "  <tbody>\n",
       "    <tr>\n",
       "      <th>Steel</th>\n",
       "      <td>458.318182</td>\n",
       "      <td>64.818182</td>\n",
       "      <td>83.545455</td>\n",
       "      <td>119.409091</td>\n",
       "      <td>63.545455</td>\n",
       "      <td>79.409091</td>\n",
       "      <td>54.181818</td>\n",
       "      <td>142.185235</td>\n",
       "      <td>169.949914</td>\n",
       "      <td>64.481150</td>\n",
       "    </tr>\n",
       "    <tr>\n",
       "      <th>Rock</th>\n",
       "      <td>394.414634</td>\n",
       "      <td>64.536585</td>\n",
       "      <td>88.463415</td>\n",
       "      <td>99.756098</td>\n",
       "      <td>60.048780</td>\n",
       "      <td>73.073171</td>\n",
       "      <td>51.926829</td>\n",
       "      <td>178.328266</td>\n",
       "      <td>152.574646</td>\n",
       "      <td>60.721897</td>\n",
       "    </tr>\n",
       "    <tr>\n",
       "      <th>Ground</th>\n",
       "      <td>345.766667</td>\n",
       "      <td>72.400000</td>\n",
       "      <td>91.300000</td>\n",
       "      <td>82.166667</td>\n",
       "      <td>51.733333</td>\n",
       "      <td>61.266667</td>\n",
       "      <td>62.133333</td>\n",
       "      <td>191.375382</td>\n",
       "      <td>143.326017</td>\n",
       "      <td>58.391123</td>\n",
       "    </tr>\n",
       "    <tr>\n",
       "      <th>Bug</th>\n",
       "      <td>344.222222</td>\n",
       "      <td>55.952381</td>\n",
       "      <td>65.222222</td>\n",
       "      <td>67.698413</td>\n",
       "      <td>54.031746</td>\n",
       "      <td>62.158730</td>\n",
       "      <td>60.063492</td>\n",
       "      <td>133.441225</td>\n",
       "      <td>123.095915</td>\n",
       "      <td>50.641745</td>\n",
       "    </tr>\n",
       "    <tr>\n",
       "      <th>Water</th>\n",
       "      <td>305.895238</td>\n",
       "      <td>70.866667</td>\n",
       "      <td>71.047619</td>\n",
       "      <td>70.485714</td>\n",
       "      <td>71.714286</td>\n",
       "      <td>68.076190</td>\n",
       "      <td>65.009524</td>\n",
       "      <td>106.618767</td>\n",
       "      <td>116.398619</td>\n",
       "      <td>57.864078</td>\n",
       "    </tr>\n",
       "    <tr>\n",
       "      <th>Ice</th>\n",
       "      <td>426.217391</td>\n",
       "      <td>71.652174</td>\n",
       "      <td>70.695652</td>\n",
       "      <td>71.043478</td>\n",
       "      <td>75.695652</td>\n",
       "      <td>76.130435</td>\n",
       "      <td>61.869565</td>\n",
       "      <td>106.848375</td>\n",
       "      <td>110.011372</td>\n",
       "      <td>59.235362</td>\n",
       "    </tr>\n",
       "    <tr>\n",
       "      <th>Poison</th>\n",
       "      <td>251.785714</td>\n",
       "      <td>67.250000</td>\n",
       "      <td>74.678571</td>\n",
       "      <td>68.821429</td>\n",
       "      <td>60.428571</td>\n",
       "      <td>64.392857</td>\n",
       "      <td>63.571429</td>\n",
       "      <td>128.203379</td>\n",
       "      <td>109.843371</td>\n",
       "      <td>55.359620</td>\n",
       "    </tr>\n",
       "    <tr>\n",
       "      <th>Fighting</th>\n",
       "      <td>362.720000</td>\n",
       "      <td>70.240000</td>\n",
       "      <td>94.720000</td>\n",
       "      <td>64.280000</td>\n",
       "      <td>48.560000</td>\n",
       "      <td>63.680000</td>\n",
       "      <td>62.880000</td>\n",
       "      <td>219.901838</td>\n",
       "      <td>106.194692</td>\n",
       "      <td>56.083218</td>\n",
       "    </tr>\n",
       "    <tr>\n",
       "      <th>Grass</th>\n",
       "      <td>347.454545</td>\n",
       "      <td>66.196970</td>\n",
       "      <td>70.909091</td>\n",
       "      <td>69.363636</td>\n",
       "      <td>74.333333</td>\n",
       "      <td>68.863636</td>\n",
       "      <td>59.893939</td>\n",
       "      <td>100.224873</td>\n",
       "      <td>105.422629</td>\n",
       "      <td>56.804522</td>\n",
       "    </tr>\n",
       "    <tr>\n",
       "      <th>Dragon</th>\n",
       "      <td>482.958333</td>\n",
       "      <td>78.041667</td>\n",
       "      <td>102.625000</td>\n",
       "      <td>79.125000</td>\n",
       "      <td>82.458333</td>\n",
       "      <td>83.041667</td>\n",
       "      <td>76.666667</td>\n",
       "      <td>143.256461</td>\n",
       "      <td>105.207715</td>\n",
       "      <td>69.619741</td>\n",
       "    </tr>\n",
       "    <tr>\n",
       "      <th>Dark</th>\n",
       "      <td>479.000000</td>\n",
       "      <td>67.178571</td>\n",
       "      <td>86.250000</td>\n",
       "      <td>67.928571</td>\n",
       "      <td>70.500000</td>\n",
       "      <td>67.500000</td>\n",
       "      <td>75.392857</td>\n",
       "      <td>139.133541</td>\n",
       "      <td>102.817672</td>\n",
       "      <td>60.298197</td>\n",
       "    </tr>\n",
       "    <tr>\n",
       "      <th>Ghost</th>\n",
       "      <td>450.869565</td>\n",
       "      <td>61.565217</td>\n",
       "      <td>67.521739</td>\n",
       "      <td>75.956522</td>\n",
       "      <td>81.304348</td>\n",
       "      <td>76.478261</td>\n",
       "      <td>60.826087</td>\n",
       "      <td>92.941301</td>\n",
       "      <td>98.901729</td>\n",
       "      <td>58.758970</td>\n",
       "    </tr>\n",
       "    <tr>\n",
       "      <th>Normal</th>\n",
       "      <td>317.623656</td>\n",
       "      <td>76.526882</td>\n",
       "      <td>71.731183</td>\n",
       "      <td>57.795699</td>\n",
       "      <td>54.451613</td>\n",
       "      <td>62.000000</td>\n",
       "      <td>69.655914</td>\n",
       "      <td>139.866334</td>\n",
       "      <td>98.193265</td>\n",
       "      <td>54.391302</td>\n",
       "    </tr>\n",
       "    <tr>\n",
       "      <th>Fire</th>\n",
       "      <td>337.829787</td>\n",
       "      <td>68.595745</td>\n",
       "      <td>82.212766</td>\n",
       "      <td>64.893617</td>\n",
       "      <td>83.468085</td>\n",
       "      <td>69.468085</td>\n",
       "      <td>74.382979</td>\n",
       "      <td>113.832023</td>\n",
       "      <td>94.935124</td>\n",
       "      <td>61.445392</td>\n",
       "    </tr>\n",
       "    <tr>\n",
       "      <th>Flying</th>\n",
       "      <td>690.000000</td>\n",
       "      <td>68.000000</td>\n",
       "      <td>71.666667</td>\n",
       "      <td>61.666667</td>\n",
       "      <td>89.000000</td>\n",
       "      <td>66.666667</td>\n",
       "      <td>96.333333</td>\n",
       "      <td>76.943872</td>\n",
       "      <td>91.666667</td>\n",
       "      <td>62.875636</td>\n",
       "    </tr>\n",
       "    <tr>\n",
       "      <th>Electric</th>\n",
       "      <td>346.277778</td>\n",
       "      <td>59.500000</td>\n",
       "      <td>67.777778</td>\n",
       "      <td>59.083333</td>\n",
       "      <td>83.083333</td>\n",
       "      <td>67.722222</td>\n",
       "      <td>83.527778</td>\n",
       "      <td>86.073965</td>\n",
       "      <td>88.225307</td>\n",
       "      <td>58.348744</td>\n",
       "    </tr>\n",
       "    <tr>\n",
       "      <th>Fairy</th>\n",
       "      <td>449.529412</td>\n",
       "      <td>74.117647</td>\n",
       "      <td>61.529412</td>\n",
       "      <td>65.705882</td>\n",
       "      <td>78.529412</td>\n",
       "      <td>84.705882</td>\n",
       "      <td>48.588235</td>\n",
       "      <td>83.298157</td>\n",
       "      <td>83.030061</td>\n",
       "      <td>57.306029</td>\n",
       "    </tr>\n",
       "    <tr>\n",
       "      <th>Psychic</th>\n",
       "      <td>383.574468</td>\n",
       "      <td>70.617021</td>\n",
       "      <td>61.276596</td>\n",
       "      <td>65.042553</td>\n",
       "      <td>90.595745</td>\n",
       "      <td>82.382979</td>\n",
       "      <td>72.574468</td>\n",
       "      <td>70.189005</td>\n",
       "      <td>80.601990</td>\n",
       "      <td>61.371617</td>\n",
       "    </tr>\n",
       "  </tbody>\n",
       "</table>\n",
       "</div>"
      ],
      "text/plain": [
       "              Number         HP      Attack     Defense     Sp_Atk     Sp_Def  \\\n",
       "Type_1                                                                          \n",
       "Steel     458.318182  64.818182   83.545455  119.409091  63.545455  79.409091   \n",
       "Rock      394.414634  64.536585   88.463415   99.756098  60.048780  73.073171   \n",
       "Ground    345.766667  72.400000   91.300000   82.166667  51.733333  61.266667   \n",
       "Bug       344.222222  55.952381   65.222222   67.698413  54.031746  62.158730   \n",
       "Water     305.895238  70.866667   71.047619   70.485714  71.714286  68.076190   \n",
       "Ice       426.217391  71.652174   70.695652   71.043478  75.695652  76.130435   \n",
       "Poison    251.785714  67.250000   74.678571   68.821429  60.428571  64.392857   \n",
       "Fighting  362.720000  70.240000   94.720000   64.280000  48.560000  63.680000   \n",
       "Grass     347.454545  66.196970   70.909091   69.363636  74.333333  68.863636   \n",
       "Dragon    482.958333  78.041667  102.625000   79.125000  82.458333  83.041667   \n",
       "Dark      479.000000  67.178571   86.250000   67.928571  70.500000  67.500000   \n",
       "Ghost     450.869565  61.565217   67.521739   75.956522  81.304348  76.478261   \n",
       "Normal    317.623656  76.526882   71.731183   57.795699  54.451613  62.000000   \n",
       "Fire      337.829787  68.595745   82.212766   64.893617  83.468085  69.468085   \n",
       "Flying    690.000000  68.000000   71.666667   61.666667  89.000000  66.666667   \n",
       "Electric  346.277778  59.500000   67.777778   59.083333  83.083333  67.722222   \n",
       "Fairy     449.529412  74.117647   61.529412   65.705882  78.529412  84.705882   \n",
       "Psychic   383.574468  70.617021   61.276596   65.042553  90.595745  82.382979   \n",
       "\n",
       "              Speed     Offense     Def_Pow    Ovr_Pow  \n",
       "Type_1                                                  \n",
       "Steel     54.181818  142.185235  169.949914  64.481150  \n",
       "Rock      51.926829  178.328266  152.574646  60.721897  \n",
       "Ground    62.133333  191.375382  143.326017  58.391123  \n",
       "Bug       60.063492  133.441225  123.095915  50.641745  \n",
       "Water     65.009524  106.618767  116.398619  57.864078  \n",
       "Ice       61.869565  106.848375  110.011372  59.235362  \n",
       "Poison    63.571429  128.203379  109.843371  55.359620  \n",
       "Fighting  62.880000  219.901838  106.194692  56.083218  \n",
       "Grass     59.893939  100.224873  105.422629  56.804522  \n",
       "Dragon    76.666667  143.256461  105.207715  69.619741  \n",
       "Dark      75.392857  139.133541  102.817672  60.298197  \n",
       "Ghost     60.826087   92.941301   98.901729  58.758970  \n",
       "Normal    69.655914  139.866334   98.193265  54.391302  \n",
       "Fire      74.382979  113.832023   94.935124  61.445392  \n",
       "Flying    96.333333   76.943872   91.666667  62.875636  \n",
       "Electric  83.527778   86.073965   88.225307  58.348744  \n",
       "Fairy     48.588235   83.298157   83.030061  57.306029  \n",
       "Psychic   72.574468   70.189005   80.601990  61.371617  "
      ]
     },
     "execution_count": 23,
     "metadata": {},
     "output_type": "execute_result"
    }
   ],
   "source": [
    "df.groupby(['Type_1']).mean().sort_values('Def_Pow',ascending = False)"
   ]
  },
  {
   "cell_type": "markdown",
   "id": "d06f0060",
   "metadata": {},
   "source": [
    "# Data atribut terkuat dari elemen setiap Pokemon\n",
    "\n",
    "\n",
    "- 'Attack' tertinggi = 'Dragon', terendah = 'Psychic'\n",
    "\n",
    "\n",
    "- 'Defense' tertinggi = 'Steel', terendah = 'Normal'\n",
    "\n",
    "\n",
    "- 'Special Attack (Sp_Atk)' tertinggi = 'Psychic', terendah = 'Fighting'\n",
    "\n",
    "\n",
    "- 'Special Defense (Sp_Def)' tertinggi = 'Fairy', terendah = 'Ground'\n",
    "\n",
    "\n",
    "- 'Speed' tertinggi = 'Fighting', terendah = 'Fairy'\n",
    "\n",
    "\n",
    "- 'Offense' tertinggi = 'Fighting', terendah = 'Psychic'\n",
    "\n",
    "\n",
    "- 'Defensive Power(Def_Pow)' = 'Fighting', terendah = 'Psychic'\n",
    "\n",
    "\n",
    "- 'Overall Power(Ovr_Pow)' = 'Dragon', terendah = 'Bug'"
   ]
  },
  {
   "cell_type": "markdown",
   "id": "7a6125b5",
   "metadata": {},
   "source": [
    "# Charting  dan Grafik"
   ]
  },
  {
   "cell_type": "markdown",
   "id": "4934d645",
   "metadata": {},
   "source": [
    "- Menggunakan library matplotlib, untuk visualisasi dan grafik data yang lebih efisien."
   ]
  },
  {
   "cell_type": "code",
   "execution_count": 24,
   "id": "3f613b9d",
   "metadata": {
    "scrolled": true
   },
   "outputs": [
    {
     "data": {
      "text/plain": [
       "Text(0.5, 1.0, 'Merah = \"Attack\", Biru = \"Defense\"')"
      ]
     },
     "execution_count": 24,
     "metadata": {},
     "output_type": "execute_result"
    },
    {
     "data": {
      "image/png": "[encoded data removed]",
      "text/plain": [
       "<Figure size 432x288 with 1 Axes>"
      ]
     },
     "metadata": {
      "needs_background": "light"
     },
     "output_type": "display_data"
    }
   ],
   "source": [
    "plt.plot(df['Attack'],color='red')\n",
    "plt.plot(df['Defense'], color='blue')\n",
    "plt.title('Merah = \"Attack\", Biru = \"Defense\"')"
   ]
  },
  {
   "cell_type": "markdown",
   "id": "3aca5241",
   "metadata": {},
   "source": [
    "- Data di atas menunjukkan kalau status 'Defense' memiliki nilai(value) yang lebih tinggi dibanding dengan 'Attack' "
   ]
  },
  {
   "cell_type": "markdown",
   "id": "78b0a66b",
   "metadata": {},
   "source": [
    "- Dibandingkan lagi dengan bar chart, dan memang betul. Karena status 'Attack' mencapai maksimum di angka 160 sesuai dengan bar berikut, dan 'Defense' mencapai maksimum di angka 230"
   ]
  },
  {
   "cell_type": "code",
   "execution_count": 25,
   "id": "e7eb57ec",
   "metadata": {},
   "outputs": [
    {
     "data": {
      "text/plain": [
       "<BarContainer object of 721 artists>"
      ]
     },
     "execution_count": 25,
     "metadata": {},
     "output_type": "execute_result"
    },
    {
     "data": {
      "image/png": "[encoded data removed]",
      "text/plain": [
       "<Figure size 576x648 with 1 Axes>"
      ]
     },
     "metadata": {
      "needs_background": "light"
     },
     "output_type": "display_data"
    }
   ],
   "source": [
    "plt.figure(figsize=(8,9))\n",
    "plt.barh(df['Type_1'], df['Attack'])"
   ]
  },
  {
   "cell_type": "code",
   "execution_count": 26,
   "id": "876a072d",
   "metadata": {
    "scrolled": true
   },
   "outputs": [
    {
     "data": {
      "text/plain": [
       "<BarContainer object of 721 artists>"
      ]
     },
     "execution_count": 26,
     "metadata": {},
     "output_type": "execute_result"
    },
    {
     "data": {
      "image/png": "[encoded data removed]",
      "text/plain": [
       "<Figure size 576x648 with 1 Axes>"
      ]
     },
     "metadata": {
      "needs_background": "light"
     },
     "output_type": "display_data"
    }
   ],
   "source": [
    "plt.figure(figsize=(8,9))\n",
    "plt.barh(df['Type_1'], df['Defense'])"
   ]
  },
  {
   "cell_type": "markdown",
   "id": "def33298",
   "metadata": {},
   "source": [
    "# Kesimpulan :\n",
    "\n",
    "\n",
    "Kesimpulan pertama : \n",
    "\n",
    "- Pokemon dengan tipe elemen 'Dragon' merupakan Pokemon terkuat di banding dengan lainnya.\n",
    "- Pokemon dengan tipe elemen 'Bug' merupakan Pokemon terlemah di banding dengan lainnya.\n",
    "\n",
    "Kesimpulan kedua :\n",
    "\n",
    "- Pokemon dengan tipe elemen 'Fighting' merupakan Pokemon dengan serangan terkuat di banding dengan lainnya.\n",
    "- Pokemon dengan tipe elemen 'Psychic' merupakan Pokemon dengan serangan terlemah di banding dengan lainnya.\n",
    "\n",
    "Kesimpulan ketiga :\n",
    "\n",
    "- Pokemon dengan tipe elemen 'Steel' merupakan Pokemon dengan serangan terkuat di banding dengan lainnya.\n",
    "- Pokemon dengan tipe elemen 'Psychic' merupakan Pokemon dengan pertahanan terlemah di banding dengan lainnya."
   ]
  },
  {
   "cell_type": "markdown",
   "id": "1873b103",
   "metadata": {},
   "source": [
    "# Hasil Data / Data Akhir :"
   ]
  },
  {
   "cell_type": "code",
   "execution_count": 27,
   "id": "38399ec0",
   "metadata": {},
   "outputs": [],
   "source": [
    "data = df.rename({'Number':'Pokemon ID'}, axis=1, inplace=True)\n",
    "data = df.set_index('Pokemon ID')\n",
    "data = data.fillna(\"None\")\n",
    "data['Offense'] = (df['Attack'] / df['Sp_Atk']) * 100\n",
    "data['Def_Pow'] = (df['Defense'] / df['Sp_Def']) * 100\n",
    "data['Ovr_Pow'] = ((df['Attack'] + df['HP'] + df['Defense'] + df['Sp_Atk'] + df['Sp_Def'] + df['Speed']) / 721) * 100"
   ]
  },
  {
   "cell_type": "code",
   "execution_count": 28,
   "id": "fff67b71",
   "metadata": {},
   "outputs": [
    {
     "data": {
      "text/html": [
       "<div>\n",
       "<style scoped>\n",
       "    .dataframe tbody tr th:only-of-type {\n",
       "        vertical-align: middle;\n",
       "    }\n",
       "\n",
       "    .dataframe tbody tr th {\n",
       "        vertical-align: top;\n",
       "    }\n",
       "\n",
       "    .dataframe thead th {\n",
       "        text-align: right;\n",
       "    }\n",
       "</style>\n",
       "<table border=\"1\" class=\"dataframe\">\n",
       "  <thead>\n",
       "    <tr style=\"text-align: right;\">\n",
       "      <th></th>\n",
       "      <th>Name</th>\n",
       "      <th>Type_1</th>\n",
       "      <th>Type_2</th>\n",
       "      <th>HP</th>\n",
       "      <th>Attack</th>\n",
       "      <th>Defense</th>\n",
       "      <th>Sp_Atk</th>\n",
       "      <th>Sp_Def</th>\n",
       "      <th>Speed</th>\n",
       "      <th>Offense</th>\n",
       "      <th>Def_Pow</th>\n",
       "      <th>Ovr_Pow</th>\n",
       "    </tr>\n",
       "    <tr>\n",
       "      <th>Pokemon ID</th>\n",
       "      <th></th>\n",
       "      <th></th>\n",
       "      <th></th>\n",
       "      <th></th>\n",
       "      <th></th>\n",
       "      <th></th>\n",
       "      <th></th>\n",
       "      <th></th>\n",
       "      <th></th>\n",
       "      <th></th>\n",
       "      <th></th>\n",
       "      <th></th>\n",
       "    </tr>\n",
       "  </thead>\n",
       "  <tbody>\n",
       "    <tr>\n",
       "      <th>1</th>\n",
       "      <td>Bulbasaur</td>\n",
       "      <td>Grass</td>\n",
       "      <td>Poison</td>\n",
       "      <td>45</td>\n",
       "      <td>49</td>\n",
       "      <td>49</td>\n",
       "      <td>65</td>\n",
       "      <td>65</td>\n",
       "      <td>45</td>\n",
       "      <td>77.500000</td>\n",
       "      <td>78.750000</td>\n",
       "      <td>56.171983</td>\n",
       "    </tr>\n",
       "    <tr>\n",
       "      <th>2</th>\n",
       "      <td>Ivysaur</td>\n",
       "      <td>Grass</td>\n",
       "      <td>Poison</td>\n",
       "      <td>60</td>\n",
       "      <td>62</td>\n",
       "      <td>63</td>\n",
       "      <td>80</td>\n",
       "      <td>80</td>\n",
       "      <td>60</td>\n",
       "      <td>82.000000</td>\n",
       "      <td>83.000000</td>\n",
       "      <td>72.815534</td>\n",
       "    </tr>\n",
       "    <tr>\n",
       "      <th>3</th>\n",
       "      <td>Venusaur</td>\n",
       "      <td>Grass</td>\n",
       "      <td>Poison</td>\n",
       "      <td>80</td>\n",
       "      <td>82</td>\n",
       "      <td>83</td>\n",
       "      <td>100</td>\n",
       "      <td>100</td>\n",
       "      <td>80</td>\n",
       "      <td>86.666667</td>\n",
       "      <td>86.000000</td>\n",
       "      <td>42.857143</td>\n",
       "    </tr>\n",
       "    <tr>\n",
       "      <th>4</th>\n",
       "      <td>Charmander</td>\n",
       "      <td>Fire</td>\n",
       "      <td>None</td>\n",
       "      <td>39</td>\n",
       "      <td>52</td>\n",
       "      <td>43</td>\n",
       "      <td>60</td>\n",
       "      <td>50</td>\n",
       "      <td>65</td>\n",
       "      <td>80.000000</td>\n",
       "      <td>89.230769</td>\n",
       "      <td>56.171983</td>\n",
       "    </tr>\n",
       "    <tr>\n",
       "      <th>5</th>\n",
       "      <td>Charmeleon</td>\n",
       "      <td>Fire</td>\n",
       "      <td>None</td>\n",
       "      <td>58</td>\n",
       "      <td>64</td>\n",
       "      <td>58</td>\n",
       "      <td>80</td>\n",
       "      <td>65</td>\n",
       "      <td>80</td>\n",
       "      <td>77.064220</td>\n",
       "      <td>91.764706</td>\n",
       "      <td>74.063800</td>\n",
       "    </tr>\n",
       "    <tr>\n",
       "      <th>...</th>\n",
       "      <td>...</td>\n",
       "      <td>...</td>\n",
       "      <td>...</td>\n",
       "      <td>...</td>\n",
       "      <td>...</td>\n",
       "      <td>...</td>\n",
       "      <td>...</td>\n",
       "      <td>...</td>\n",
       "      <td>...</td>\n",
       "      <td>...</td>\n",
       "      <td>...</td>\n",
       "      <td>...</td>\n",
       "    </tr>\n",
       "    <tr>\n",
       "      <th>717</th>\n",
       "      <td>Yveltal</td>\n",
       "      <td>Dark</td>\n",
       "      <td>Flying</td>\n",
       "      <td>126</td>\n",
       "      <td>131</td>\n",
       "      <td>95</td>\n",
       "      <td>131</td>\n",
       "      <td>98</td>\n",
       "      <td>99</td>\n",
       "      <td>123.456790</td>\n",
       "      <td>127.368421</td>\n",
       "      <td>83.217753</td>\n",
       "    </tr>\n",
       "    <tr>\n",
       "      <th>718</th>\n",
       "      <td>Zygarde</td>\n",
       "      <td>Dragon</td>\n",
       "      <td>Ground</td>\n",
       "      <td>108</td>\n",
       "      <td>100</td>\n",
       "      <td>121</td>\n",
       "      <td>81</td>\n",
       "      <td>95</td>\n",
       "      <td>95</td>\n",
       "      <td>100.000000</td>\n",
       "      <td>100.000000</td>\n",
       "      <td>83.217753</td>\n",
       "    </tr>\n",
       "    <tr>\n",
       "      <th>719</th>\n",
       "      <td>Diancie</td>\n",
       "      <td>Rock</td>\n",
       "      <td>Fairy</td>\n",
       "      <td>50</td>\n",
       "      <td>100</td>\n",
       "      <td>150</td>\n",
       "      <td>100</td>\n",
       "      <td>150</td>\n",
       "      <td>50</td>\n",
       "      <td>73.333333</td>\n",
       "      <td>46.153846</td>\n",
       "      <td>83.217753</td>\n",
       "    </tr>\n",
       "    <tr>\n",
       "      <th>720</th>\n",
       "      <td>Hoopa</td>\n",
       "      <td>Psychic</td>\n",
       "      <td>Ghost</td>\n",
       "      <td>80</td>\n",
       "      <td>110</td>\n",
       "      <td>60</td>\n",
       "      <td>150</td>\n",
       "      <td>130</td>\n",
       "      <td>70</td>\n",
       "      <td>84.615385</td>\n",
       "      <td>133.333333</td>\n",
       "      <td>83.217753</td>\n",
       "    </tr>\n",
       "    <tr>\n",
       "      <th>721</th>\n",
       "      <td>Volcanion</td>\n",
       "      <td>Fire</td>\n",
       "      <td>Water</td>\n",
       "      <td>80</td>\n",
       "      <td>110</td>\n",
       "      <td>120</td>\n",
       "      <td>130</td>\n",
       "      <td>90</td>\n",
       "      <td>70</td>\n",
       "      <td>NaN</td>\n",
       "      <td>NaN</td>\n",
       "      <td>NaN</td>\n",
       "    </tr>\n",
       "  </tbody>\n",
       "</table>\n",
       "<p>721 rows × 12 columns</p>\n",
       "</div>"
      ],
      "text/plain": [
       "                  Name   Type_1  Type_2   HP  Attack  Defense  Sp_Atk  Sp_Def  \\\n",
       "Pokemon ID                                                                      \n",
       "1            Bulbasaur    Grass  Poison   45      49       49      65      65   \n",
       "2              Ivysaur    Grass  Poison   60      62       63      80      80   \n",
       "3             Venusaur    Grass  Poison   80      82       83     100     100   \n",
       "4           Charmander     Fire    None   39      52       43      60      50   \n",
       "5           Charmeleon     Fire    None   58      64       58      80      65   \n",
       "...                ...      ...     ...  ...     ...      ...     ...     ...   \n",
       "717            Yveltal     Dark  Flying  126     131       95     131      98   \n",
       "718            Zygarde   Dragon  Ground  108     100      121      81      95   \n",
       "719            Diancie     Rock   Fairy   50     100      150     100     150   \n",
       "720              Hoopa  Psychic   Ghost   80     110       60     150     130   \n",
       "721          Volcanion     Fire   Water   80     110      120     130      90   \n",
       "\n",
       "            Speed     Offense     Def_Pow    Ovr_Pow  \n",
       "Pokemon ID                                            \n",
       "1              45   77.500000   78.750000  56.171983  \n",
       "2              60   82.000000   83.000000  72.815534  \n",
       "3              80   86.666667   86.000000  42.857143  \n",
       "4              65   80.000000   89.230769  56.171983  \n",
       "5              80   77.064220   91.764706  74.063800  \n",
       "...           ...         ...         ...        ...  \n",
       "717            99  123.456790  127.368421  83.217753  \n",
       "718            95  100.000000  100.000000  83.217753  \n",
       "719            50   73.333333   46.153846  83.217753  \n",
       "720            70   84.615385  133.333333  83.217753  \n",
       "721            70         NaN         NaN        NaN  \n",
       "\n",
       "[721 rows x 12 columns]"
      ]
     },
     "execution_count": 28,
     "metadata": {},
     "output_type": "execute_result"
    }
   ],
   "source": [
    "data"
   ]
  },
  {
   "cell_type": "markdown",
   "id": "01dbe402",
   "metadata": {},
   "source": [
    "- Note : (Baris 721, terakhir) Saya masih terheran - heran kenapa 'Pokemon' bernama 'Volcanion' bisa mendapatkan nilai 'NaN' di 'Offense', 'Def_Pow', 'Ovr_Pow'."
   ]
  },
  {
   "cell_type": "markdown",
   "id": "66f0c964",
   "metadata": {},
   "source": [
    "# Skewness dan Kurtosis :"
   ]
  },
  {
   "cell_type": "markdown",
   "id": "8e0f0baf",
   "metadata": {},
   "source": [
    "Informasi di bawah menunjukkan bagaimana/sifat distribusi data tersebut.\n",
    "\n",
    "- Skewness menunjukkan bagaimana data tersebut di distribusikan berdasarkan rumus Standar Deviasi.\n",
    "\n",
    "\n",
    "- Skewness biasanya di tunjukkan/display secara grafik berbentuk lonceng, atau biasa nya di panggil 'Bell Curve'.\n",
    "\n",
    "\n",
    "- Kurtosis menunjukkan seberapa runcing atau tumpul suatu data."
   ]
  },
  {
   "cell_type": "code",
   "execution_count": 29,
   "id": "7d3608ca",
   "metadata": {},
   "outputs": [
    {
     "data": {
      "text/plain": [
       "HP         1.669209\n",
       "Attack     0.308423\n",
       "Defense    1.121471\n",
       "Sp_Atk     0.527097\n",
       "Sp_Def     1.027759\n",
       "Speed      0.278570\n",
       "Offense    2.745139\n",
       "Def_Pow    2.412759\n",
       "Ovr_Pow    0.058962\n",
       "dtype: float64"
      ]
     },
     "execution_count": 29,
     "metadata": {},
     "output_type": "execute_result"
    }
   ],
   "source": [
    "data.skew()"
   ]
  },
  {
   "cell_type": "code",
   "execution_count": 30,
   "id": "6cde0b25",
   "metadata": {},
   "outputs": [
    {
     "data": {
      "text/plain": [
       "HP          7.780696\n",
       "Attack     -0.267220\n",
       "Defense     2.485012\n",
       "Sp_Atk     -0.253279\n",
       "Sp_Def      2.391751\n",
       "Speed      -0.446175\n",
       "Offense    16.374590\n",
       "Def_Pow     8.177066\n",
       "Ovr_Pow    -0.641996\n",
       "dtype: float64"
      ]
     },
     "execution_count": 30,
     "metadata": {},
     "output_type": "execute_result"
    }
   ],
   "source": [
    "data.kurt()"
   ]
  },
  {
   "cell_type": "markdown",
   "id": "c8762e35",
   "metadata": {},
   "source": [
    "- Untuk Offense suatu Pokemon, di tunjukkan kalau kurtosis tersebut memiliki lembah gunung yang sangat tajam, mengartikan bahwa data tersebut bersifat 'Leptokurtic'.\n",
    "\n",
    "\n",
    "- Untuk skewness data tersebut, di tunjukkan kalau skewness Pokemon tersebut mencondong berarah ke kiri, mengartikan kalau data tersebut merupakan 'Positive Skewed'."
   ]
  },
  {
   "cell_type": "code",
   "execution_count": 31,
   "id": "f989855e",
   "metadata": {},
   "outputs": [
    {
     "data": {
      "text/plain": [
       "<AxesSubplot:ylabel='Density'>"
      ]
     },
     "execution_count": 31,
     "metadata": {},
     "output_type": "execute_result"
    },
    {
     "data": {
      "image/png": "[encoded data removed]",
      "text/plain": [
       "<Figure size 432x288 with 1 Axes>"
      ]
     },
     "metadata": {
      "needs_background": "light"
     },
     "output_type": "display_data"
    }
   ],
   "source": [
    "data['Offense'].plot.kde()"
   ]
  },
  {
   "cell_type": "markdown",
   "id": "1df8c1d8",
   "metadata": {},
   "source": [
    "- Distribusi data Defensive Power memiliki sifat yang mirip dengan Offense.\n",
    "\n",
    "\n",
    "- Untuk Defensive Power suatu Pokemon, di tunjukkan kalau kurtosis tersebut memiliki lembah gunung yang sangat tajam, mengartikan bahwa data tersebut bersifat 'Leptokurtic'.\n",
    "\n",
    "\n",
    "- Untuk skewness data tersebut, di tunjukkan kalau skewness Pokemon tersebut mencondong berarah ke kiri, mengartikan kalau data tersebut merupakan 'Positive Skewed'."
   ]
  },
  {
   "cell_type": "code",
   "execution_count": 32,
   "id": "50b4653c",
   "metadata": {
    "scrolled": true
   },
   "outputs": [
    {
     "data": {
      "text/plain": [
       "<AxesSubplot:ylabel='Density'>"
      ]
     },
     "execution_count": 32,
     "metadata": {},
     "output_type": "execute_result"
    },
    {
     "data": {
      "image/png": "[encoded data removed]",
      "text/plain": [
       "<Figure size 432x288 with 1 Axes>"
      ]
     },
     "metadata": {
      "needs_background": "light"
     },
     "output_type": "display_data"
    }
   ],
   "source": [
    "data['Def_Pow'].plot.kde()"
   ]
  },
  {
   "cell_type": "markdown",
   "id": "92c59b79",
   "metadata": {},
   "source": [
    "Untuk Overall Power suatu Pokemon, di tunjukkan kalau skew tersebut memiliki 2 lembah gunung secara grafik (-0,6 secara numerik), menunjukkan kalau data bersifat negative skewed."
   ]
  },
  {
   "cell_type": "code",
   "execution_count": 33,
   "id": "f35770a1",
   "metadata": {},
   "outputs": [
    {
     "data": {
      "text/plain": [
       "<AxesSubplot:ylabel='Density'>"
      ]
     },
     "execution_count": 33,
     "metadata": {},
     "output_type": "execute_result"
    },
    {
     "data": {
      "image/png": "[encoded data removed]",
      "text/plain": [
       "<Figure size 432x288 with 1 Axes>"
      ]
     },
     "metadata": {
      "needs_background": "light"
     },
     "output_type": "display_data"
    }
   ],
   "source": [
    "data['Ovr_Pow'].plot.kde()"
   ]
  }
 ],
 "metadata": {
  "kernelspec": {
   "display_name": "Python 3",
   "language": "python",
   "name": "python3"
  },
  "language_info": {
   "codemirror_mode": {
    "name": "ipython",
    "version": 3
   },
   "file_extension": ".py",
   "mimetype": "text/x-python",
   "name": "python",
   "nbconvert_exporter": "python",
   "pygments_lexer": "ipython3",
   "version": "3.8.8"
  }
 },
 "nbformat": 4,
 "nbformat_minor": 5
}
