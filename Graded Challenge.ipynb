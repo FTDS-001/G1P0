{
 "cells": [
  {
   "cell_type": "markdown",
   "metadata": {},
   "source": [
    "# Import Data"
   ]
  },
  {
   "cell_type": "code",
   "execution_count": 1,
   "metadata": {},
   "outputs": [
    {
     "data": {
      "text/html": [
       "<div>\n",
       "<style scoped>\n",
       "    .dataframe tbody tr th:only-of-type {\n",
       "        vertical-align: middle;\n",
       "    }\n",
       "\n",
       "    .dataframe tbody tr th {\n",
       "        vertical-align: top;\n",
       "    }\n",
       "\n",
       "    .dataframe thead th {\n",
       "        text-align: right;\n",
       "    }\n",
       "</style>\n",
       "<table border=\"1\" class=\"dataframe\">\n",
       "  <thead>\n",
       "    <tr style=\"text-align: right;\">\n",
       "      <th></th>\n",
       "      <th>#</th>\n",
       "      <th>Name</th>\n",
       "      <th>Type 1</th>\n",
       "      <th>Type 2</th>\n",
       "      <th>Total</th>\n",
       "      <th>HP</th>\n",
       "      <th>Attack</th>\n",
       "      <th>Defense</th>\n",
       "      <th>Sp. Atk</th>\n",
       "      <th>Sp. Def</th>\n",
       "      <th>Speed</th>\n",
       "    </tr>\n",
       "  </thead>\n",
       "  <tbody>\n",
       "    <tr>\n",
       "      <th>0</th>\n",
       "      <td>1</td>\n",
       "      <td>Bulbasaur</td>\n",
       "      <td>Grass</td>\n",
       "      <td>Poison</td>\n",
       "      <td>318</td>\n",
       "      <td>45</td>\n",
       "      <td>49</td>\n",
       "      <td>49</td>\n",
       "      <td>65</td>\n",
       "      <td>65</td>\n",
       "      <td>45</td>\n",
       "    </tr>\n",
       "    <tr>\n",
       "      <th>1</th>\n",
       "      <td>2</td>\n",
       "      <td>Ivysaur</td>\n",
       "      <td>Grass</td>\n",
       "      <td>Poison</td>\n",
       "      <td>405</td>\n",
       "      <td>60</td>\n",
       "      <td>62</td>\n",
       "      <td>63</td>\n",
       "      <td>80</td>\n",
       "      <td>80</td>\n",
       "      <td>60</td>\n",
       "    </tr>\n",
       "    <tr>\n",
       "      <th>2</th>\n",
       "      <td>3</td>\n",
       "      <td>Venusaur</td>\n",
       "      <td>Grass</td>\n",
       "      <td>Poison</td>\n",
       "      <td>525</td>\n",
       "      <td>80</td>\n",
       "      <td>82</td>\n",
       "      <td>83</td>\n",
       "      <td>100</td>\n",
       "      <td>100</td>\n",
       "      <td>80</td>\n",
       "    </tr>\n",
       "    <tr>\n",
       "      <th>3</th>\n",
       "      <td>3</td>\n",
       "      <td>VenusaurMega Venusaur</td>\n",
       "      <td>Grass</td>\n",
       "      <td>Poison</td>\n",
       "      <td>625</td>\n",
       "      <td>80</td>\n",
       "      <td>100</td>\n",
       "      <td>123</td>\n",
       "      <td>122</td>\n",
       "      <td>120</td>\n",
       "      <td>80</td>\n",
       "    </tr>\n",
       "    <tr>\n",
       "      <th>4</th>\n",
       "      <td>4</td>\n",
       "      <td>Charmander</td>\n",
       "      <td>Fire</td>\n",
       "      <td>NaN</td>\n",
       "      <td>309</td>\n",
       "      <td>39</td>\n",
       "      <td>52</td>\n",
       "      <td>43</td>\n",
       "      <td>60</td>\n",
       "      <td>50</td>\n",
       "      <td>65</td>\n",
       "    </tr>\n",
       "  </tbody>\n",
       "</table>\n",
       "</div>"
      ],
      "text/plain": [
       "   #                   Name Type 1  Type 2  Total  HP  Attack  Defense  \\\n",
       "0  1              Bulbasaur  Grass  Poison    318  45      49       49   \n",
       "1  2                Ivysaur  Grass  Poison    405  60      62       63   \n",
       "2  3               Venusaur  Grass  Poison    525  80      82       83   \n",
       "3  3  VenusaurMega Venusaur  Grass  Poison    625  80     100      123   \n",
       "4  4             Charmander   Fire     NaN    309  39      52       43   \n",
       "\n",
       "   Sp. Atk  Sp. Def  Speed  \n",
       "0       65       65     45  \n",
       "1       80       80     60  \n",
       "2      100      100     80  \n",
       "3      122      120     80  \n",
       "4       60       50     65  "
      ]
     },
     "execution_count": 1,
     "metadata": {},
     "output_type": "execute_result"
    }
   ],
   "source": [
    "import numpy as np\n",
    "import pandas as pd\n",
    "import random as random\n",
    "import matplotlib.pyplot as plt\n",
    "import seaborn as sns\n",
    "missing_values =  [\"NaN\"]\n",
    "review = pd.read_csv(\"pokemon.csv\", na_values = missing_values)\n",
    "reviews = review.drop(columns = ['Generation', 'Legendary'])\n",
    "reviews.head()"
   ]
  },
  {
   "cell_type": "markdown",
   "metadata": {},
   "source": [
    "In this section I'm import the Pokemon data, Deleted 2 columns (Generation & Legendary) & filled the missing values with \"NaN\""
   ]
  },
  {
   "cell_type": "code",
   "execution_count": 34,
   "metadata": {},
   "outputs": [
    {
     "name": "stdout",
     "output_type": "stream",
     "text": [
      "<class 'pandas.core.frame.DataFrame'>\n",
      "RangeIndex: 800 entries, 0 to 799\n",
      "Data columns (total 11 columns):\n",
      "#          800 non-null int64\n",
      "Name       800 non-null object\n",
      "Type 1     800 non-null object\n",
      "Type 2     414 non-null object\n",
      "Total      800 non-null int64\n",
      "HP         800 non-null int64\n",
      "Attack     800 non-null int64\n",
      "Defense    800 non-null int64\n",
      "Sp. Atk    800 non-null int64\n",
      "Sp. Def    800 non-null int64\n",
      "Speed      800 non-null int64\n",
      "dtypes: int64(8), object(3)\n",
      "memory usage: 68.8+ KB\n"
     ]
    }
   ],
   "source": [
    "reviews.info()"
   ]
  },
  {
   "cell_type": "markdown",
   "metadata": {},
   "source": [
    "Check the NaN values (in type 2) & type of data"
   ]
  },
  {
   "cell_type": "markdown",
   "metadata": {},
   "source": [
    "# Fill The Missing Values"
   ]
  },
  {
   "cell_type": "code",
   "execution_count": 4,
   "metadata": {},
   "outputs": [
    {
     "name": "stdout",
     "output_type": "stream",
     "text": [
      "       #                       Name    Type 1  Type 2  Total   HP  Attack  \\\n",
      "0      1                  Bulbasaur     Grass  Poison    318   45      49   \n",
      "1      2                    Ivysaur     Grass  Poison    405   60      62   \n",
      "2      3                   Venusaur     Grass  Poison    525   80      82   \n",
      "3      3      VenusaurMega Venusaur     Grass  Poison    625   80     100   \n",
      "4      4                 Charmander      Fire    None    309   39      52   \n",
      "5      5                 Charmeleon      Fire    None    405   58      64   \n",
      "6      6                  Charizard      Fire  Flying    534   78      84   \n",
      "7      6  CharizardMega Charizard X      Fire  Dragon    634   78     130   \n",
      "8      6  CharizardMega Charizard Y      Fire  Flying    634   78     104   \n",
      "9      7                   Squirtle     Water    None    314   44      48   \n",
      "10     8                  Wartortle     Water    None    405   59      63   \n",
      "11     9                  Blastoise     Water    None    530   79      83   \n",
      "12     9    BlastoiseMega Blastoise     Water    None    630   79     103   \n",
      "13    10                   Caterpie       Bug    None    195   45      30   \n",
      "14    11                    Metapod       Bug    None    205   50      20   \n",
      "15    12                 Butterfree       Bug  Flying    395   60      45   \n",
      "16    13                     Weedle       Bug  Poison    195   40      35   \n",
      "17    14                     Kakuna       Bug  Poison    205   45      25   \n",
      "18    15                   Beedrill       Bug  Poison    395   65      90   \n",
      "19    15      BeedrillMega Beedrill       Bug  Poison    495   65     150   \n",
      "20    16                     Pidgey    Normal  Flying    251   40      45   \n",
      "21    17                  Pidgeotto    Normal  Flying    349   63      60   \n",
      "22    18                    Pidgeot    Normal  Flying    479   83      80   \n",
      "23    18        PidgeotMega Pidgeot    Normal  Flying    579   83      80   \n",
      "24    19                    Rattata    Normal    None    253   30      56   \n",
      "25    20                   Raticate    Normal    None    413   55      81   \n",
      "26    21                    Spearow    Normal  Flying    262   40      60   \n",
      "27    22                     Fearow    Normal  Flying    442   65      90   \n",
      "28    23                      Ekans    Poison    None    288   35      60   \n",
      "29    24                      Arbok    Poison    None    438   60      85   \n",
      "..   ...                        ...       ...     ...    ...  ...     ...   \n",
      "770  700                    Sylveon     Fairy    None    525   95      65   \n",
      "771  701                   Hawlucha  Fighting  Flying    500   78      92   \n",
      "772  702                    Dedenne  Electric   Fairy    431   67      58   \n",
      "773  703                    Carbink      Rock   Fairy    500   50      50   \n",
      "774  704                      Goomy    Dragon    None    300   45      50   \n",
      "775  705                    Sliggoo    Dragon    None    452   68      75   \n",
      "776  706                     Goodra    Dragon    None    600   90     100   \n",
      "777  707                     Klefki     Steel   Fairy    470   57      80   \n",
      "778  708                   Phantump     Ghost   Grass    309   43      70   \n",
      "779  709                  Trevenant     Ghost   Grass    474   85     110   \n",
      "780  710      PumpkabooAverage Size     Ghost   Grass    335   49      66   \n",
      "781  710        PumpkabooSmall Size     Ghost   Grass    335   44      66   \n",
      "782  710        PumpkabooLarge Size     Ghost   Grass    335   54      66   \n",
      "783  710        PumpkabooSuper Size     Ghost   Grass    335   59      66   \n",
      "784  711      GourgeistAverage Size     Ghost   Grass    494   65      90   \n",
      "785  711        GourgeistSmall Size     Ghost   Grass    494   55      85   \n",
      "786  711        GourgeistLarge Size     Ghost   Grass    494   75      95   \n",
      "787  711        GourgeistSuper Size     Ghost   Grass    494   85     100   \n",
      "788  712                   Bergmite       Ice    None    304   55      69   \n",
      "789  713                    Avalugg       Ice    None    514   95     117   \n",
      "790  714                     Noibat    Flying  Dragon    245   40      30   \n",
      "791  715                    Noivern    Flying  Dragon    535   85      70   \n",
      "792  716                    Xerneas     Fairy    None    680  126     131   \n",
      "793  717                    Yveltal      Dark  Flying    680  126     131   \n",
      "794  718           Zygarde50% Forme    Dragon  Ground    600  108     100   \n",
      "795  719                    Diancie      Rock   Fairy    600   50     100   \n",
      "796  719        DiancieMega Diancie      Rock   Fairy    700   50     160   \n",
      "797  720        HoopaHoopa Confined   Psychic   Ghost    600   80     110   \n",
      "798  720         HoopaHoopa Unbound   Psychic    Dark    680   80     160   \n",
      "799  721                  Volcanion      Fire   Water    600   80     110   \n",
      "\n",
      "     Defense  Sp. Atk  Sp. Def  Speed  \n",
      "0         49       65       65     45  \n",
      "1         63       80       80     60  \n",
      "2         83      100      100     80  \n",
      "3        123      122      120     80  \n",
      "4         43       60       50     65  \n",
      "5         58       80       65     80  \n",
      "6         78      109       85    100  \n",
      "7        111      130       85    100  \n",
      "8         78      159      115    100  \n",
      "9         65       50       64     43  \n",
      "10        80       65       80     58  \n",
      "11       100       85      105     78  \n",
      "12       120      135      115     78  \n",
      "13        35       20       20     45  \n",
      "14        55       25       25     30  \n",
      "15        50       90       80     70  \n",
      "16        30       20       20     50  \n",
      "17        50       25       25     35  \n",
      "18        40       45       80     75  \n",
      "19        40       15       80    145  \n",
      "20        40       35       35     56  \n",
      "21        55       50       50     71  \n",
      "22        75       70       70    101  \n",
      "23        80      135       80    121  \n",
      "24        35       25       35     72  \n",
      "25        60       50       70     97  \n",
      "26        30       31       31     70  \n",
      "27        65       61       61    100  \n",
      "28        44       40       54     55  \n",
      "29        69       65       79     80  \n",
      "..       ...      ...      ...    ...  \n",
      "770       65      110      130     60  \n",
      "771       75       74       63    118  \n",
      "772       57       81       67    101  \n",
      "773      150       50      150     50  \n",
      "774       35       55       75     40  \n",
      "775       53       83      113     60  \n",
      "776       70      110      150     80  \n",
      "777       91       80       87     75  \n",
      "778       48       50       60     38  \n",
      "779       76       65       82     56  \n",
      "780       70       44       55     51  \n",
      "781       70       44       55     56  \n",
      "782       70       44       55     46  \n",
      "783       70       44       55     41  \n",
      "784      122       58       75     84  \n",
      "785      122       58       75     99  \n",
      "786      122       58       75     69  \n",
      "787      122       58       75     54  \n",
      "788       85       32       35     28  \n",
      "789      184       44       46     28  \n",
      "790       35       45       40     55  \n",
      "791       80       97       80    123  \n",
      "792       95      131       98     99  \n",
      "793       95      131       98     99  \n",
      "794      121       81       95     95  \n",
      "795      150      100      150     50  \n",
      "796      110      160      110    110  \n",
      "797       60      150      130     70  \n",
      "798       60      170      130     80  \n",
      "799      120      130       90     70  \n",
      "\n",
      "[800 rows x 11 columns]\n"
     ]
    },
    {
     "data": {
      "text/plain": [
       "#          0\n",
       "Name       0\n",
       "Type 1     0\n",
       "Type 2     0\n",
       "Total      0\n",
       "HP         0\n",
       "Attack     0\n",
       "Defense    0\n",
       "Sp. Atk    0\n",
       "Sp. Def    0\n",
       "Speed      0\n",
       "dtype: int64"
      ]
     },
     "execution_count": 4,
     "metadata": {},
     "output_type": "execute_result"
    }
   ],
   "source": [
    "#reviews_new=reviews.dropna()\n",
    "reviews_new = reviews.replace(np.nan, 'None', regex=True)\n",
    "print(reviews_new)\n",
    "reviews_new.isnull().sum()"
   ]
  },
  {
   "cell_type": "markdown",
   "metadata": {},
   "source": [
    "In this section, I'm filled the \"NaN\" values with the \"None\" & Checking still have the missing values or not."
   ]
  },
  {
   "cell_type": "markdown",
   "metadata": {},
   "source": [
    "# Change The Column Name"
   ]
  },
  {
   "cell_type": "code",
   "execution_count": 5,
   "metadata": {},
   "outputs": [
    {
     "data": {
      "text/html": [
       "<div>\n",
       "<style scoped>\n",
       "    .dataframe tbody tr th:only-of-type {\n",
       "        vertical-align: middle;\n",
       "    }\n",
       "\n",
       "    .dataframe tbody tr th {\n",
       "        vertical-align: top;\n",
       "    }\n",
       "\n",
       "    .dataframe thead th {\n",
       "        text-align: right;\n",
       "    }\n",
       "</style>\n",
       "<table border=\"1\" class=\"dataframe\">\n",
       "  <thead>\n",
       "    <tr style=\"text-align: right;\">\n",
       "      <th></th>\n",
       "      <th>#</th>\n",
       "      <th>Pokemon</th>\n",
       "      <th>Type 1</th>\n",
       "      <th>Type 2</th>\n",
       "      <th>Total</th>\n",
       "      <th>HP</th>\n",
       "      <th>Attack</th>\n",
       "      <th>Defense</th>\n",
       "      <th>Sp. Atk</th>\n",
       "      <th>Sp. Def</th>\n",
       "      <th>Speed</th>\n",
       "    </tr>\n",
       "  </thead>\n",
       "  <tbody>\n",
       "    <tr>\n",
       "      <th>0</th>\n",
       "      <td>1</td>\n",
       "      <td>Bulbasaur</td>\n",
       "      <td>Grass</td>\n",
       "      <td>Poison</td>\n",
       "      <td>318</td>\n",
       "      <td>45</td>\n",
       "      <td>49</td>\n",
       "      <td>49</td>\n",
       "      <td>65</td>\n",
       "      <td>65</td>\n",
       "      <td>45</td>\n",
       "    </tr>\n",
       "    <tr>\n",
       "      <th>1</th>\n",
       "      <td>2</td>\n",
       "      <td>Ivysaur</td>\n",
       "      <td>Grass</td>\n",
       "      <td>Poison</td>\n",
       "      <td>405</td>\n",
       "      <td>60</td>\n",
       "      <td>62</td>\n",
       "      <td>63</td>\n",
       "      <td>80</td>\n",
       "      <td>80</td>\n",
       "      <td>60</td>\n",
       "    </tr>\n",
       "    <tr>\n",
       "      <th>2</th>\n",
       "      <td>3</td>\n",
       "      <td>Venusaur</td>\n",
       "      <td>Grass</td>\n",
       "      <td>Poison</td>\n",
       "      <td>525</td>\n",
       "      <td>80</td>\n",
       "      <td>82</td>\n",
       "      <td>83</td>\n",
       "      <td>100</td>\n",
       "      <td>100</td>\n",
       "      <td>80</td>\n",
       "    </tr>\n",
       "    <tr>\n",
       "      <th>3</th>\n",
       "      <td>3</td>\n",
       "      <td>VenusaurMega Venusaur</td>\n",
       "      <td>Grass</td>\n",
       "      <td>Poison</td>\n",
       "      <td>625</td>\n",
       "      <td>80</td>\n",
       "      <td>100</td>\n",
       "      <td>123</td>\n",
       "      <td>122</td>\n",
       "      <td>120</td>\n",
       "      <td>80</td>\n",
       "    </tr>\n",
       "    <tr>\n",
       "      <th>4</th>\n",
       "      <td>4</td>\n",
       "      <td>Charmander</td>\n",
       "      <td>Fire</td>\n",
       "      <td>None</td>\n",
       "      <td>309</td>\n",
       "      <td>39</td>\n",
       "      <td>52</td>\n",
       "      <td>43</td>\n",
       "      <td>60</td>\n",
       "      <td>50</td>\n",
       "      <td>65</td>\n",
       "    </tr>\n",
       "  </tbody>\n",
       "</table>\n",
       "</div>"
      ],
      "text/plain": [
       "   #                Pokemon Type 1  Type 2  Total  HP  Attack  Defense  \\\n",
       "0  1              Bulbasaur  Grass  Poison    318  45      49       49   \n",
       "1  2                Ivysaur  Grass  Poison    405  60      62       63   \n",
       "2  3               Venusaur  Grass  Poison    525  80      82       83   \n",
       "3  3  VenusaurMega Venusaur  Grass  Poison    625  80     100      123   \n",
       "4  4             Charmander   Fire    None    309  39      52       43   \n",
       "\n",
       "   Sp. Atk  Sp. Def  Speed  \n",
       "0       65       65     45  \n",
       "1       80       80     60  \n",
       "2      100      100     80  \n",
       "3      122      120     80  \n",
       "4       60       50     65  "
      ]
     },
     "execution_count": 5,
     "metadata": {},
     "output_type": "execute_result"
    }
   ],
   "source": [
    "reviews_new1 = reviews_new.rename(columns = {'Name': 'Pokemon'}, inplace = False)\n",
    "reviews_new1.head()"
   ]
  },
  {
   "cell_type": "markdown",
   "metadata": {},
   "source": [
    "I'm changed the column \"name\"  to be \"pokemon\""
   ]
  },
  {
   "cell_type": "markdown",
   "metadata": {},
   "source": [
    "# Sort & Filter The Data"
   ]
  },
  {
   "cell_type": "code",
   "execution_count": 6,
   "metadata": {
    "scrolled": true
   },
   "outputs": [
    {
     "data": {
      "text/html": [
       "<div>\n",
       "<style scoped>\n",
       "    .dataframe tbody tr th:only-of-type {\n",
       "        vertical-align: middle;\n",
       "    }\n",
       "\n",
       "    .dataframe tbody tr th {\n",
       "        vertical-align: top;\n",
       "    }\n",
       "\n",
       "    .dataframe thead th {\n",
       "        text-align: right;\n",
       "    }\n",
       "</style>\n",
       "<table border=\"1\" class=\"dataframe\">\n",
       "  <thead>\n",
       "    <tr style=\"text-align: right;\">\n",
       "      <th></th>\n",
       "      <th>Pokemon</th>\n",
       "      <th>Type 1</th>\n",
       "      <th>Type 2</th>\n",
       "      <th>HP</th>\n",
       "    </tr>\n",
       "  </thead>\n",
       "  <tbody>\n",
       "    <tr>\n",
       "      <th>510</th>\n",
       "      <td>Abomasnow</td>\n",
       "      <td>Grass</td>\n",
       "      <td>Ice</td>\n",
       "      <td>90</td>\n",
       "    </tr>\n",
       "    <tr>\n",
       "      <th>511</th>\n",
       "      <td>AbomasnowMega Abomasnow</td>\n",
       "      <td>Grass</td>\n",
       "      <td>Ice</td>\n",
       "      <td>90</td>\n",
       "    </tr>\n",
       "    <tr>\n",
       "      <th>68</th>\n",
       "      <td>Abra</td>\n",
       "      <td>Psychic</td>\n",
       "      <td>None</td>\n",
       "      <td>25</td>\n",
       "    </tr>\n",
       "    <tr>\n",
       "      <th>392</th>\n",
       "      <td>Absol</td>\n",
       "      <td>Dark</td>\n",
       "      <td>None</td>\n",
       "      <td>65</td>\n",
       "    </tr>\n",
       "    <tr>\n",
       "      <th>393</th>\n",
       "      <td>AbsolMega Absol</td>\n",
       "      <td>Dark</td>\n",
       "      <td>None</td>\n",
       "      <td>65</td>\n",
       "    </tr>\n",
       "  </tbody>\n",
       "</table>\n",
       "</div>"
      ],
      "text/plain": [
       "                     Pokemon   Type 1 Type 2  HP\n",
       "510                Abomasnow    Grass    Ice  90\n",
       "511  AbomasnowMega Abomasnow    Grass    Ice  90\n",
       "68                      Abra  Psychic   None  25\n",
       "392                    Absol     Dark   None  65\n",
       "393          AbsolMega Absol     Dark   None  65"
      ]
     },
     "execution_count": 6,
     "metadata": {},
     "output_type": "execute_result"
    }
   ],
   "source": [
    "df_pokemon = reviews_new1.sort_values('Pokemon')\n",
    "df_filter = df_pokemon[['Pokemon','Type 1','Type 2','HP']]\n",
    "df_filter.head(5)"
   ]
  },
  {
   "cell_type": "markdown",
   "metadata": {},
   "source": [
    "I'm sorted the data only have 3 columns (\"Pokemon\", \"Type 1\" & \"Type 2\")"
   ]
  },
  {
   "cell_type": "code",
   "execution_count": 7,
   "metadata": {},
   "outputs": [
    {
     "data": {
      "text/html": [
       "<div>\n",
       "<style scoped>\n",
       "    .dataframe tbody tr th:only-of-type {\n",
       "        vertical-align: middle;\n",
       "    }\n",
       "\n",
       "    .dataframe tbody tr th {\n",
       "        vertical-align: top;\n",
       "    }\n",
       "\n",
       "    .dataframe thead th {\n",
       "        text-align: right;\n",
       "    }\n",
       "</style>\n",
       "<table border=\"1\" class=\"dataframe\">\n",
       "  <thead>\n",
       "    <tr style=\"text-align: right;\">\n",
       "      <th></th>\n",
       "      <th>Pokemon</th>\n",
       "      <th>Type 1</th>\n",
       "      <th>Type 2</th>\n",
       "      <th>HP</th>\n",
       "    </tr>\n",
       "  </thead>\n",
       "  <tbody>\n",
       "    <tr>\n",
       "      <th>510</th>\n",
       "      <td>Abomasnow</td>\n",
       "      <td>Grass</td>\n",
       "      <td>Ice</td>\n",
       "      <td>90</td>\n",
       "    </tr>\n",
       "    <tr>\n",
       "      <th>511</th>\n",
       "      <td>AbomasnowMega Abomasnow</td>\n",
       "      <td>Grass</td>\n",
       "      <td>Ice</td>\n",
       "      <td>90</td>\n",
       "    </tr>\n",
       "    <tr>\n",
       "      <th>652</th>\n",
       "      <td>Amoonguss</td>\n",
       "      <td>Grass</td>\n",
       "      <td>Poison</td>\n",
       "      <td>114</td>\n",
       "    </tr>\n",
       "    <tr>\n",
       "      <th>167</th>\n",
       "      <td>Bayleef</td>\n",
       "      <td>Grass</td>\n",
       "      <td>None</td>\n",
       "      <td>60</td>\n",
       "    </tr>\n",
       "    <tr>\n",
       "      <th>197</th>\n",
       "      <td>Bellossom</td>\n",
       "      <td>Grass</td>\n",
       "      <td>None</td>\n",
       "      <td>75</td>\n",
       "    </tr>\n",
       "  </tbody>\n",
       "</table>\n",
       "</div>"
      ],
      "text/plain": [
       "                     Pokemon Type 1  Type 2   HP\n",
       "510                Abomasnow  Grass     Ice   90\n",
       "511  AbomasnowMega Abomasnow  Grass     Ice   90\n",
       "652                Amoonguss  Grass  Poison  114\n",
       "167                  Bayleef  Grass    None   60\n",
       "197                Bellossom  Grass    None   75"
      ]
     },
     "execution_count": 7,
     "metadata": {},
     "output_type": "execute_result"
    }
   ],
   "source": [
    "grass = df_filter.loc[df_pokemon['Type 1'] == 'Grass']\n",
    "ghost = df_filter.loc[df_pokemon['Type 2'] == 'Ghost']\n",
    "rock = df_filter.loc[df_pokemon['Type 1'] == 'Rock']\n",
    "\n",
    "grass.head()"
   ]
  },
  {
   "cell_type": "markdown",
   "metadata": {},
   "source": [
    "In this section I'm filtered the grass pokemon"
   ]
  },
  {
   "cell_type": "code",
   "execution_count": 8,
   "metadata": {
    "scrolled": true
   },
   "outputs": [
    {
     "data": {
      "image/png": "[encoded data removed]",
      "text/plain": [
       "<Figure size 720x576 with 1 Axes>"
      ]
     },
     "metadata": {
      "needs_background": "light"
     },
     "output_type": "display_data"
    }
   ],
   "source": [
    "df = pd.DataFrame(grass)\n",
    "name = df['Pokemon'].head(5)\n",
    "total = df['HP'].head(5)\n",
    "#Figure Size\n",
    "plt.figure(figsize =(10,8))\n",
    "plt.bar(name, total, color = ['black', 'red', 'green', 'blue', 'cyan'], width = 0.4)\n",
    "plt.xlabel(\"Name of Pokemon\")\n",
    "plt.ylabel(\"Total HP\")\n",
    "plt.title(\"Total HP of Grass Pokemon\")\n",
    "#plt.bar(color=colors)\n",
    "plt.show()"
   ]
  },
  {
   "cell_type": "markdown",
   "metadata": {},
   "source": [
    "This is the HP chart of grass type pokemon (the graph only shows 5 pokemons). On the chart, Amoongus has the highest HP compared to 4 other pokemons."
   ]
  },
  {
   "cell_type": "code",
   "execution_count": 9,
   "metadata": {
    "scrolled": true
   },
   "outputs": [
    {
     "data": {
      "text/html": [
       "<div>\n",
       "<style scoped>\n",
       "    .dataframe tbody tr th:only-of-type {\n",
       "        vertical-align: middle;\n",
       "    }\n",
       "\n",
       "    .dataframe tbody tr th {\n",
       "        vertical-align: top;\n",
       "    }\n",
       "\n",
       "    .dataframe thead th {\n",
       "        text-align: right;\n",
       "    }\n",
       "</style>\n",
       "<table border=\"1\" class=\"dataframe\">\n",
       "  <thead>\n",
       "    <tr style=\"text-align: right;\">\n",
       "      <th></th>\n",
       "      <th>Pokemon</th>\n",
       "      <th>Type 1</th>\n",
       "      <th>Type 2</th>\n",
       "      <th>HP</th>\n",
       "    </tr>\n",
       "  </thead>\n",
       "  <tbody>\n",
       "    <tr>\n",
       "      <th>750</th>\n",
       "      <td>AegislashBlade Forme</td>\n",
       "      <td>Steel</td>\n",
       "      <td>Ghost</td>\n",
       "      <td>60</td>\n",
       "    </tr>\n",
       "    <tr>\n",
       "      <th>751</th>\n",
       "      <td>AegislashShield Forme</td>\n",
       "      <td>Steel</td>\n",
       "      <td>Ghost</td>\n",
       "      <td>60</td>\n",
       "    </tr>\n",
       "    <tr>\n",
       "      <th>749</th>\n",
       "      <td>Doublade</td>\n",
       "      <td>Steel</td>\n",
       "      <td>Ghost</td>\n",
       "      <td>59</td>\n",
       "    </tr>\n",
       "    <tr>\n",
       "      <th>653</th>\n",
       "      <td>Frillish</td>\n",
       "      <td>Water</td>\n",
       "      <td>Ghost</td>\n",
       "      <td>55</td>\n",
       "    </tr>\n",
       "    <tr>\n",
       "      <th>530</th>\n",
       "      <td>Froslass</td>\n",
       "      <td>Ice</td>\n",
       "      <td>Ghost</td>\n",
       "      <td>70</td>\n",
       "    </tr>\n",
       "  </tbody>\n",
       "</table>\n",
       "</div>"
      ],
      "text/plain": [
       "                   Pokemon Type 1 Type 2  HP\n",
       "750   AegislashBlade Forme  Steel  Ghost  60\n",
       "751  AegislashShield Forme  Steel  Ghost  60\n",
       "749               Doublade  Steel  Ghost  59\n",
       "653               Frillish  Water  Ghost  55\n",
       "530               Froslass    Ice  Ghost  70"
      ]
     },
     "execution_count": 9,
     "metadata": {},
     "output_type": "execute_result"
    }
   ],
   "source": [
    "ghost.head()"
   ]
  },
  {
   "cell_type": "markdown",
   "metadata": {},
   "source": [
    "In this section I'm filtered the ghost pokemon"
   ]
  },
  {
   "cell_type": "code",
   "execution_count": 10,
   "metadata": {
    "scrolled": false
   },
   "outputs": [
    {
     "data": {
      "image/png": "[encoded data removed]",
      "text/plain": [
       "<Figure size 720x576 with 1 Axes>"
      ]
     },
     "metadata": {
      "needs_background": "light"
     },
     "output_type": "display_data"
    }
   ],
   "source": [
    "ghost.head()\n",
    "df1 = pd.DataFrame(ghost)\n",
    "name = df1['Pokemon'].head(5)\n",
    "total = df1['HP'].head(5)\n",
    "#Figure Size\n",
    "plt.figure(figsize =(10,8))\n",
    "plt.bar(name, total, color = ['black', 'red', 'green', 'blue', 'cyan'], width = 0.4)\n",
    "plt.xlabel(\"Name of Pokemon\")\n",
    "plt.ylabel(\"Total HP\")\n",
    "plt.title(\"Total HP of Ghost Pokemon\")\n",
    "plt.show()"
   ]
  },
  {
   "cell_type": "markdown",
   "metadata": {},
   "source": [
    "This is the HP chart of ghost type pokemon (the graph only shows 5 pokemons). On the chart, Froslass has the highest HP compared to 4 other pokemons."
   ]
  },
  {
   "cell_type": "code",
   "execution_count": 11,
   "metadata": {
    "scrolled": false
   },
   "outputs": [
    {
     "data": {
      "text/html": [
       "<div>\n",
       "<style scoped>\n",
       "    .dataframe tbody tr th:only-of-type {\n",
       "        vertical-align: middle;\n",
       "    }\n",
       "\n",
       "    .dataframe tbody tr th {\n",
       "        vertical-align: top;\n",
       "    }\n",
       "\n",
       "    .dataframe thead th {\n",
       "        text-align: right;\n",
       "    }\n",
       "</style>\n",
       "<table border=\"1\" class=\"dataframe\">\n",
       "  <thead>\n",
       "    <tr style=\"text-align: right;\">\n",
       "      <th></th>\n",
       "      <th>Pokemon</th>\n",
       "      <th>Type 1</th>\n",
       "      <th>Type 2</th>\n",
       "      <th>HP</th>\n",
       "    </tr>\n",
       "  </thead>\n",
       "  <tbody>\n",
       "    <tr>\n",
       "      <th>153</th>\n",
       "      <td>Aerodactyl</td>\n",
       "      <td>Rock</td>\n",
       "      <td>Flying</td>\n",
       "      <td>80</td>\n",
       "    </tr>\n",
       "    <tr>\n",
       "      <th>154</th>\n",
       "      <td>AerodactylMega Aerodactyl</td>\n",
       "      <td>Rock</td>\n",
       "      <td>Flying</td>\n",
       "      <td>80</td>\n",
       "    </tr>\n",
       "    <tr>\n",
       "      <th>768</th>\n",
       "      <td>Amaura</td>\n",
       "      <td>Rock</td>\n",
       "      <td>Ice</td>\n",
       "      <td>77</td>\n",
       "    </tr>\n",
       "    <tr>\n",
       "      <th>379</th>\n",
       "      <td>Anorith</td>\n",
       "      <td>Rock</td>\n",
       "      <td>Bug</td>\n",
       "      <td>45</td>\n",
       "    </tr>\n",
       "    <tr>\n",
       "      <th>627</th>\n",
       "      <td>Archen</td>\n",
       "      <td>Rock</td>\n",
       "      <td>Flying</td>\n",
       "      <td>55</td>\n",
       "    </tr>\n",
       "  </tbody>\n",
       "</table>\n",
       "</div>"
      ],
      "text/plain": [
       "                       Pokemon Type 1  Type 2  HP\n",
       "153                 Aerodactyl   Rock  Flying  80\n",
       "154  AerodactylMega Aerodactyl   Rock  Flying  80\n",
       "768                     Amaura   Rock     Ice  77\n",
       "379                    Anorith   Rock     Bug  45\n",
       "627                     Archen   Rock  Flying  55"
      ]
     },
     "execution_count": 11,
     "metadata": {},
     "output_type": "execute_result"
    }
   ],
   "source": [
    "rock.head()"
   ]
  },
  {
   "cell_type": "markdown",
   "metadata": {},
   "source": [
    "In this section I'm filtered the rock pokemon"
   ]
  },
  {
   "cell_type": "code",
   "execution_count": 12,
   "metadata": {
    "scrolled": false
   },
   "outputs": [
    {
     "data": {
      "image/png": "[encoded data removed]",
      "text/plain": [
       "<Figure size 720x576 with 1 Axes>"
      ]
     },
     "metadata": {
      "needs_background": "light"
     },
     "output_type": "display_data"
    }
   ],
   "source": [
    "df1 = pd.DataFrame(rock)\n",
    "name = df1['Pokemon'].head(5)\n",
    "total = df1['HP'].head(5)\n",
    "#Figure Size\n",
    "plt.figure(figsize =(10,8))\n",
    "plt.bar(name, total, color = ['black', 'red', 'green', 'blue', 'cyan'], width = 0.4)\n",
    "plt.xlabel(\"Name of Pokemon\")\n",
    "plt.ylabel(\"Total HP\")\n",
    "plt.title(\"Total HP of Ghost Pokemon\")\n",
    "plt.show()"
   ]
  },
  {
   "cell_type": "markdown",
   "metadata": {},
   "source": [
    "This is the HP chart of rock type pokemon (the graph only shows 5 pokemons). On the chart, Aerodactyl & Aerodactyl Mega has the highest HP compared to 3 other pokemons."
   ]
  },
  {
   "cell_type": "markdown",
   "metadata": {},
   "source": [
    "# Query The Data 1"
   ]
  },
  {
   "cell_type": "code",
   "execution_count": 13,
   "metadata": {},
   "outputs": [
    {
     "data": {
      "text/html": [
       "<div>\n",
       "<style scoped>\n",
       "    .dataframe tbody tr th:only-of-type {\n",
       "        vertical-align: middle;\n",
       "    }\n",
       "\n",
       "    .dataframe tbody tr th {\n",
       "        vertical-align: top;\n",
       "    }\n",
       "\n",
       "    .dataframe thead th {\n",
       "        text-align: right;\n",
       "    }\n",
       "</style>\n",
       "<table border=\"1\" class=\"dataframe\">\n",
       "  <thead>\n",
       "    <tr style=\"text-align: right;\">\n",
       "      <th></th>\n",
       "      <th>Pokemon</th>\n",
       "      <th>Type 1</th>\n",
       "      <th>Type 2</th>\n",
       "      <th>HP</th>\n",
       "    </tr>\n",
       "  </thead>\n",
       "  <tbody>\n",
       "    <tr>\n",
       "      <th>510</th>\n",
       "      <td>Abomasnow</td>\n",
       "      <td>Grass</td>\n",
       "      <td>Ice</td>\n",
       "      <td>90</td>\n",
       "    </tr>\n",
       "    <tr>\n",
       "      <th>511</th>\n",
       "      <td>AbomasnowMega Abomasnow</td>\n",
       "      <td>Grass</td>\n",
       "      <td>Ice</td>\n",
       "      <td>90</td>\n",
       "    </tr>\n",
       "    <tr>\n",
       "      <th>652</th>\n",
       "      <td>Amoonguss</td>\n",
       "      <td>Grass</td>\n",
       "      <td>Poison</td>\n",
       "      <td>114</td>\n",
       "    </tr>\n",
       "    <tr>\n",
       "      <th>197</th>\n",
       "      <td>Bellossom</td>\n",
       "      <td>Grass</td>\n",
       "      <td>None</td>\n",
       "      <td>75</td>\n",
       "    </tr>\n",
       "    <tr>\n",
       "      <th>363</th>\n",
       "      <td>Cacturne</td>\n",
       "      <td>Grass</td>\n",
       "      <td>Dark</td>\n",
       "      <td>70</td>\n",
       "    </tr>\n",
       "  </tbody>\n",
       "</table>\n",
       "</div>"
      ],
      "text/plain": [
       "                     Pokemon Type 1  Type 2   HP\n",
       "510                Abomasnow  Grass     Ice   90\n",
       "511  AbomasnowMega Abomasnow  Grass     Ice   90\n",
       "652                Amoonguss  Grass  Poison  114\n",
       "197                Bellossom  Grass    None   75\n",
       "363                 Cacturne  Grass    Dark   70"
      ]
     },
     "execution_count": 13,
     "metadata": {},
     "output_type": "execute_result"
    }
   ],
   "source": [
    "current_HP_grass = grass[grass[\"HP\"] > 60]\n",
    "current_HP_grass.head()"
   ]
  },
  {
   "cell_type": "code",
   "execution_count": 14,
   "metadata": {},
   "outputs": [
    {
     "name": "stdout",
     "output_type": "stream",
     "text": [
      "HP    80.871795\n",
      "dtype: float64\n"
     ]
    }
   ],
   "source": [
    "a = current_HP_grass.mean()\n",
    "print(a)"
   ]
  },
  {
   "cell_type": "markdown",
   "metadata": {},
   "source": [
    "I'm filtered the grass pokemon have HP above 60 and find the mean of HP"
   ]
  },
  {
   "cell_type": "code",
   "execution_count": 15,
   "metadata": {},
   "outputs": [
    {
     "data": {
      "text/html": [
       "<div>\n",
       "<style scoped>\n",
       "    .dataframe tbody tr th:only-of-type {\n",
       "        vertical-align: middle;\n",
       "    }\n",
       "\n",
       "    .dataframe tbody tr th {\n",
       "        vertical-align: top;\n",
       "    }\n",
       "\n",
       "    .dataframe thead th {\n",
       "        text-align: right;\n",
       "    }\n",
       "</style>\n",
       "<table border=\"1\" class=\"dataframe\">\n",
       "  <thead>\n",
       "    <tr style=\"text-align: right;\">\n",
       "      <th></th>\n",
       "      <th>Pokemon</th>\n",
       "      <th>Type 1</th>\n",
       "      <th>Type 2</th>\n",
       "      <th>HP</th>\n",
       "    </tr>\n",
       "  </thead>\n",
       "  <tbody>\n",
       "    <tr>\n",
       "      <th>530</th>\n",
       "      <td>Froslass</td>\n",
       "      <td>Ice</td>\n",
       "      <td>Ghost</td>\n",
       "      <td>70</td>\n",
       "    </tr>\n",
       "    <tr>\n",
       "      <th>684</th>\n",
       "      <td>Golurk</td>\n",
       "      <td>Ground</td>\n",
       "      <td>Ghost</td>\n",
       "      <td>89</td>\n",
       "    </tr>\n",
       "    <tr>\n",
       "      <th>797</th>\n",
       "      <td>HoopaHoopa Confined</td>\n",
       "      <td>Psychic</td>\n",
       "      <td>Ghost</td>\n",
       "      <td>80</td>\n",
       "    </tr>\n",
       "    <tr>\n",
       "      <th>654</th>\n",
       "      <td>Jellicent</td>\n",
       "      <td>Water</td>\n",
       "      <td>Ghost</td>\n",
       "      <td>100</td>\n",
       "    </tr>\n",
       "  </tbody>\n",
       "</table>\n",
       "</div>"
      ],
      "text/plain": [
       "                 Pokemon   Type 1 Type 2   HP\n",
       "530             Froslass      Ice  Ghost   70\n",
       "684               Golurk   Ground  Ghost   89\n",
       "797  HoopaHoopa Confined  Psychic  Ghost   80\n",
       "654            Jellicent    Water  Ghost  100"
      ]
     },
     "execution_count": 15,
     "metadata": {},
     "output_type": "execute_result"
    }
   ],
   "source": [
    "current_HP_ghost = ghost[ghost[\"HP\"] > 60]\n",
    "current_HP_ghost.head()"
   ]
  },
  {
   "cell_type": "code",
   "execution_count": 16,
   "metadata": {},
   "outputs": [
    {
     "name": "stdout",
     "output_type": "stream",
     "text": [
      "HP    84.75\n",
      "dtype: float64\n"
     ]
    }
   ],
   "source": [
    "b = current_HP_ghost.mean()\n",
    "print(b)"
   ]
  },
  {
   "cell_type": "markdown",
   "metadata": {},
   "source": [
    "I'm filtered the ghost pokemon have HP above 60 and find the mean of HP"
   ]
  },
  {
   "cell_type": "code",
   "execution_count": 17,
   "metadata": {},
   "outputs": [
    {
     "data": {
      "text/html": [
       "<div>\n",
       "<style scoped>\n",
       "    .dataframe tbody tr th:only-of-type {\n",
       "        vertical-align: middle;\n",
       "    }\n",
       "\n",
       "    .dataframe tbody tr th {\n",
       "        vertical-align: top;\n",
       "    }\n",
       "\n",
       "    .dataframe thead th {\n",
       "        text-align: right;\n",
       "    }\n",
       "</style>\n",
       "<table border=\"1\" class=\"dataframe\">\n",
       "  <thead>\n",
       "    <tr style=\"text-align: right;\">\n",
       "      <th></th>\n",
       "      <th>Pokemon</th>\n",
       "      <th>Type 1</th>\n",
       "      <th>Type 2</th>\n",
       "      <th>HP</th>\n",
       "    </tr>\n",
       "  </thead>\n",
       "  <tbody>\n",
       "    <tr>\n",
       "      <th>153</th>\n",
       "      <td>Aerodactyl</td>\n",
       "      <td>Rock</td>\n",
       "      <td>Flying</td>\n",
       "      <td>80</td>\n",
       "    </tr>\n",
       "    <tr>\n",
       "      <th>154</th>\n",
       "      <td>AerodactylMega Aerodactyl</td>\n",
       "      <td>Rock</td>\n",
       "      <td>Flying</td>\n",
       "      <td>80</td>\n",
       "    </tr>\n",
       "    <tr>\n",
       "      <th>768</th>\n",
       "      <td>Amaura</td>\n",
       "      <td>Rock</td>\n",
       "      <td>Ice</td>\n",
       "      <td>77</td>\n",
       "    </tr>\n",
       "    <tr>\n",
       "      <th>628</th>\n",
       "      <td>Archeops</td>\n",
       "      <td>Rock</td>\n",
       "      <td>Flying</td>\n",
       "      <td>75</td>\n",
       "    </tr>\n",
       "    <tr>\n",
       "      <th>380</th>\n",
       "      <td>Armaldo</td>\n",
       "      <td>Rock</td>\n",
       "      <td>Bug</td>\n",
       "      <td>75</td>\n",
       "    </tr>\n",
       "  </tbody>\n",
       "</table>\n",
       "</div>"
      ],
      "text/plain": [
       "                       Pokemon Type 1  Type 2  HP\n",
       "153                 Aerodactyl   Rock  Flying  80\n",
       "154  AerodactylMega Aerodactyl   Rock  Flying  80\n",
       "768                     Amaura   Rock     Ice  77\n",
       "628                   Archeops   Rock  Flying  75\n",
       "380                    Armaldo   Rock     Bug  75"
      ]
     },
     "execution_count": 17,
     "metadata": {},
     "output_type": "execute_result"
    }
   ],
   "source": [
    "current_HP_rock = rock[rock[\"HP\"] > 60]\n",
    "current_HP_rock.head()"
   ]
  },
  {
   "cell_type": "code",
   "execution_count": 18,
   "metadata": {},
   "outputs": [
    {
     "name": "stdout",
     "output_type": "stream",
     "text": [
      "HP    80.666667\n",
      "dtype: float64\n"
     ]
    }
   ],
   "source": [
    "c = current_HP_rock.mean()\n",
    "print(c)"
   ]
  },
  {
   "cell_type": "markdown",
   "metadata": {},
   "source": [
    "I'm filtered the rock pokemon have HP above 60 and find the mean of HP"
   ]
  },
  {
   "cell_type": "markdown",
   "metadata": {},
   "source": [
    "From the query, I founded the ghost pokemons have higher mean of HP than others types of Pokemons."
   ]
  },
  {
   "cell_type": "markdown",
   "metadata": {},
   "source": [
    "# Query The Data 2"
   ]
  },
  {
   "cell_type": "markdown",
   "metadata": {},
   "source": [
    "Total Types of Pokemon"
   ]
  },
  {
   "cell_type": "code",
   "execution_count": 19,
   "metadata": {},
   "outputs": [
    {
     "data": {
      "text/plain": [
       "array(['Grass', 'Fire', 'Water', 'Bug', 'Normal', 'Poison', 'Electric',\n",
       "       'Ground', 'Fairy', 'Fighting', 'Psychic', 'Rock', 'Ghost', 'Ice',\n",
       "       'Dragon', 'Dark', 'Steel', 'Flying'], dtype=object)"
      ]
     },
     "execution_count": 19,
     "metadata": {},
     "output_type": "execute_result"
    }
   ],
   "source": [
    "reviews_new1['Type 1'].unique()"
   ]
  },
  {
   "cell_type": "code",
   "execution_count": 20,
   "metadata": {},
   "outputs": [
    {
     "data": {
      "text/plain": [
       "array(['Poison', 'None', 'Flying', 'Dragon', 'Ground', 'Fairy', 'Grass',\n",
       "       'Fighting', 'Psychic', 'Steel', 'Ice', 'Rock', 'Dark', 'Water',\n",
       "       'Electric', 'Fire', 'Ghost', 'Bug', 'Normal'], dtype=object)"
      ]
     },
     "execution_count": 20,
     "metadata": {},
     "output_type": "execute_result"
    }
   ],
   "source": [
    "reviews_new1['Type 2'].unique()"
   ]
  },
  {
   "cell_type": "code",
   "execution_count": 22,
   "metadata": {
    "scrolled": true
   },
   "outputs": [
    {
     "name": "stdout",
     "output_type": "stream",
     "text": [
      "            #  Pokemon  Type 2  Total   HP  Attack  Defense  Sp. Atk  Sp. Def  \\\n",
      "Type 1                                                                          \n",
      "Water     112      112     112    112  112     112      112      112      112   \n",
      "Normal     98       98      98     98   98      98       98       98       98   \n",
      "Grass      70       70      70     70   70      70       70       70       70   \n",
      "Bug        69       69      69     69   69      69       69       69       69   \n",
      "Psychic    57       57      57     57   57      57       57       57       57   \n",
      "Fire       52       52      52     52   52      52       52       52       52   \n",
      "Electric   44       44      44     44   44      44       44       44       44   \n",
      "Rock       44       44      44     44   44      44       44       44       44   \n",
      "Ghost      32       32      32     32   32      32       32       32       32   \n",
      "Ground     32       32      32     32   32      32       32       32       32   \n",
      "Dragon     32       32      32     32   32      32       32       32       32   \n",
      "Dark       31       31      31     31   31      31       31       31       31   \n",
      "Poison     28       28      28     28   28      28       28       28       28   \n",
      "Fighting   27       27      27     27   27      27       27       27       27   \n",
      "Steel      27       27      27     27   27      27       27       27       27   \n",
      "Ice        24       24      24     24   24      24       24       24       24   \n",
      "Fairy      17       17      17     17   17      17       17       17       17   \n",
      "Flying      4        4       4      4    4       4        4        4        4   \n",
      "\n",
      "          Speed  \n",
      "Type 1           \n",
      "Water       112  \n",
      "Normal       98  \n",
      "Grass        70  \n",
      "Bug          69  \n",
      "Psychic      57  \n",
      "Fire         52  \n",
      "Electric     44  \n",
      "Rock         44  \n",
      "Ghost        32  \n",
      "Ground       32  \n",
      "Dragon       32  \n",
      "Dark         31  \n",
      "Poison       28  \n",
      "Fighting     27  \n",
      "Steel        27  \n",
      "Ice          24  \n",
      "Fairy        17  \n",
      "Flying        4  \n"
     ]
    },
    {
     "data": {
      "text/plain": [
       "<matplotlib.axes._subplots.AxesSubplot at 0x1a6e0f71a90>"
      ]
     },
     "execution_count": 22,
     "metadata": {},
     "output_type": "execute_result"
    },
    {
     "data": {
      "image/png": "[encoded data removed]",
      "text/plain": [
       "<Figure size 432x288 with 1 Axes>"
      ]
     },
     "metadata": {
      "needs_background": "light"
     },
     "output_type": "display_data"
    }
   ],
   "source": [
    "new_pokemon = reviews_new1.groupby(['Type 1']).count()\n",
    "plot_pokemon = new_pokemon.sort_values(['Total'],ascending=False)\n",
    "print(plot_pokemon)\n",
    "sns.barplot(plot_pokemon['#'], plot_pokemon .index)"
   ]
  },
  {
   "cell_type": "markdown",
   "metadata": {},
   "source": [
    "Strongest Type 1 of Pokemons Water has the best Total"
   ]
  },
  {
   "cell_type": "code",
   "execution_count": 23,
   "metadata": {},
   "outputs": [
    {
     "name": "stdout",
     "output_type": "stream",
     "text": [
      "            #  Pokemon  Type 1  Total   HP  Attack  Defense  Sp. Atk  Sp. Def  \\\n",
      "Type 2                                                                          \n",
      "None      386      386     386    386  386     386      386      386      386   \n",
      "Flying     97       97      97     97   97      97       97       97       97   \n",
      "Ground     35       35      35     35   35      35       35       35       35   \n",
      "Poison     34       34      34     34   34      34       34       34       34   \n",
      "Psychic    33       33      33     33   33      33       33       33       33   \n",
      "Fighting   26       26      26     26   26      26       26       26       26   \n",
      "Grass      25       25      25     25   25      25       25       25       25   \n",
      "Fairy      23       23      23     23   23      23       23       23       23   \n",
      "Steel      22       22      22     22   22      22       22       22       22   \n",
      "Dark       20       20      20     20   20      20       20       20       20   \n",
      "Dragon     18       18      18     18   18      18       18       18       18   \n",
      "Rock       14       14      14     14   14      14       14       14       14   \n",
      "Water      14       14      14     14   14      14       14       14       14   \n",
      "Ice        14       14      14     14   14      14       14       14       14   \n",
      "Ghost      14       14      14     14   14      14       14       14       14   \n",
      "Fire       12       12      12     12   12      12       12       12       12   \n",
      "Electric    6        6       6      6    6       6        6        6        6   \n",
      "Normal      4        4       4      4    4       4        4        4        4   \n",
      "Bug         3        3       3      3    3       3        3        3        3   \n",
      "\n",
      "          Speed  \n",
      "Type 2           \n",
      "None        386  \n",
      "Flying       97  \n",
      "Ground       35  \n",
      "Poison       34  \n",
      "Psychic      33  \n",
      "Fighting     26  \n",
      "Grass        25  \n",
      "Fairy        23  \n",
      "Steel        22  \n",
      "Dark         20  \n",
      "Dragon       18  \n",
      "Rock         14  \n",
      "Water        14  \n",
      "Ice          14  \n",
      "Ghost        14  \n",
      "Fire         12  \n",
      "Electric      6  \n",
      "Normal        4  \n",
      "Bug           3  \n"
     ]
    },
    {
     "data": {
      "text/plain": [
       "<matplotlib.axes._subplots.AxesSubplot at 0x1a6e104a860>"
      ]
     },
     "execution_count": 23,
     "metadata": {},
     "output_type": "execute_result"
    },
    {
     "data": {
      "image/png": "[encoded data removed]",
      "text/plain": [
       "<Figure size 432x288 with 1 Axes>"
      ]
     },
     "metadata": {
      "needs_background": "light"
     },
     "output_type": "display_data"
    }
   ],
   "source": [
    "new_pokemon = reviews_new1.groupby(['Type 2']).count()\n",
    "plot_pokemon = new_pokemon.sort_values(['Total'],ascending=False)\n",
    "print(plot_pokemon)\n",
    "sns.barplot(plot_pokemon['#'], plot_pokemon .index)"
   ]
  },
  {
   "cell_type": "markdown",
   "metadata": {},
   "source": [
    "Strongest Type 2 of Pokemons flying has the best Total"
   ]
  },
  {
   "cell_type": "markdown",
   "metadata": {},
   "source": [
    "# Query The Data 3"
   ]
  },
  {
   "cell_type": "code",
   "execution_count": 29,
   "metadata": {},
   "outputs": [
    {
     "name": "stdout",
     "output_type": "stream",
     "text": [
      "            #  Pokemon  Type 2  Total   HP  Attack  Defense  Sp. Atk  Sp. Def  \\\n",
      "Type 1                                                                          \n",
      "Water     112      112     112    112  112     112      112      112      112   \n",
      "Normal     98       98      98     98   98      98       98       98       98   \n",
      "Grass      70       70      70     70   70      70       70       70       70   \n",
      "Bug        69       69      69     69   69      69       69       69       69   \n",
      "Psychic    57       57      57     57   57      57       57       57       57   \n",
      "Fire       52       52      52     52   52      52       52       52       52   \n",
      "Electric   44       44      44     44   44      44       44       44       44   \n",
      "Rock       44       44      44     44   44      44       44       44       44   \n",
      "Ghost      32       32      32     32   32      32       32       32       32   \n",
      "Ground     32       32      32     32   32      32       32       32       32   \n",
      "\n",
      "          Speed  \n",
      "Type 1           \n",
      "Water       112  \n",
      "Normal       98  \n",
      "Grass        70  \n",
      "Bug          69  \n",
      "Psychic      57  \n",
      "Fire         52  \n",
      "Electric     44  \n",
      "Rock         44  \n",
      "Ghost        32  \n",
      "Ground       32  \n"
     ]
    },
    {
     "data": {
      "text/plain": [
       "<matplotlib.axes._subplots.AxesSubplot at 0x1a6e330c278>"
      ]
     },
     "execution_count": 29,
     "metadata": {},
     "output_type": "execute_result"
    },
    {
     "data": {
      "image/png": "[encoded data removed]",
      "text/plain": [
       "<Figure size 432x288 with 1 Axes>"
      ]
     },
     "metadata": {
      "needs_background": "light"
     },
     "output_type": "display_data"
    }
   ],
   "source": [
    "new_pokemon = reviews_new1.groupby(['Type 1']).count()\n",
    "plot_pokemon = new_pokemon.sort_values(['Speed'],ascending=False).head(10)\n",
    "print(plot_pokemon)\n",
    "sns.barplot(plot_pokemon['#'], plot_pokemon .index)"
   ]
  },
  {
   "cell_type": "code",
   "execution_count": 32,
   "metadata": {},
   "outputs": [
    {
     "name": "stdout",
     "output_type": "stream",
     "text": [
      "            #  Pokemon  Type 1  Total   HP  Attack  Defense  Sp. Atk  Sp. Def  \\\n",
      "Type 2                                                                          \n",
      "None      386      386     386    386  386     386      386      386      386   \n",
      "Flying     97       97      97     97   97      97       97       97       97   \n",
      "Ground     35       35      35     35   35      35       35       35       35   \n",
      "Poison     34       34      34     34   34      34       34       34       34   \n",
      "Psychic    33       33      33     33   33      33       33       33       33   \n",
      "Fighting   26       26      26     26   26      26       26       26       26   \n",
      "Grass      25       25      25     25   25      25       25       25       25   \n",
      "Fairy      23       23      23     23   23      23       23       23       23   \n",
      "Steel      22       22      22     22   22      22       22       22       22   \n",
      "Dark       20       20      20     20   20      20       20       20       20   \n",
      "\n",
      "          Speed  \n",
      "Type 2           \n",
      "None        386  \n",
      "Flying       97  \n",
      "Ground       35  \n",
      "Poison       34  \n",
      "Psychic      33  \n",
      "Fighting     26  \n",
      "Grass        25  \n",
      "Fairy        23  \n",
      "Steel        22  \n",
      "Dark         20  \n"
     ]
    },
    {
     "data": {
      "text/plain": [
       "<matplotlib.axes._subplots.AxesSubplot at 0x1a6e3820f60>"
      ]
     },
     "execution_count": 32,
     "metadata": {},
     "output_type": "execute_result"
    },
    {
     "data": {
      "image/png": "[encoded data removed]",
      "text/plain": [
       "<Figure size 432x288 with 1 Axes>"
      ]
     },
     "metadata": {
      "needs_background": "light"
     },
     "output_type": "display_data"
    }
   ],
   "source": [
    "new_pokemon = reviews_new1.groupby(['Type 2']).count()\n",
    "plot_pokemon = new_pokemon.sort_values(['Speed'],ascending=False).head(10)\n",
    "print(plot_pokemon)\n",
    "sns.barplot(plot_pokemon['#'], plot_pokemon .index)"
   ]
  },
  {
   "cell_type": "markdown",
   "metadata": {},
   "source": [
    "# Summary"
   ]
  },
  {
   "cell_type": "markdown",
   "metadata": {},
   "source": [
    "1. From the query, I founded the ghost pokemons have higher mean of HP than others types of Pokemons.\n",
    "2. From the query data 2, I founded the in the water pokemon of type 1 has strongest total than others type of pokemon & in type 2, the flying pokemon has strongest total than other type of pokemon.\n",
    "3. From the query data 3, I founded the in the water pokemon of type 1 has best speed than others type of pokemon & in type 2, the flying pokemon has best speed than other type of pokemon."
   ]
  },
  {
   "cell_type": "code",
   "execution_count": null,
   "metadata": {},
   "outputs": [],
   "source": []
  }
 ],
 "metadata": {
  "kernelspec": {
   "display_name": "Python 3",
   "language": "python",
   "name": "python3"
  },
  "language_info": {
   "codemirror_mode": {
    "name": "ipython",
    "version": 3
   },
   "file_extension": ".py",
   "mimetype": "text/x-python",
   "name": "python",
   "nbconvert_exporter": "python",
   "pygments_lexer": "ipython3",
   "version": "3.6.8"
  }
 },
 "nbformat": 4,
 "nbformat_minor": 2
}
