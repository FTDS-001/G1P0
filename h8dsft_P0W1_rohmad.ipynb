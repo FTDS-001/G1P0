{
 "cells": [
  {
   "cell_type": "markdown",
   "id": "e68d0493",
   "metadata": {},
   "source": [
    "# 1. Perkenalan"
   ]
  },
  {
   "cell_type": "markdown",
   "id": "45eeb309",
   "metadata": {},
   "source": [
    "<b>Name: </b>Rohmad\n",
    "\n",
    "<b>Type: </b>Graded Challenge 1\n",
    "\n",
    "<b>Dataset: </b>This data set includes 721 Pokemon, including their number, name, first and second type, and basic stats: HP, Attack, Defense, Special Attack, Special Defence, and Speed.\n",
    "\n",
    "<b>Objective: </b>To find out the strongest and weakest Pokemon based on Total(HP+Attack+Defense+Special Attack+Sepcial Defense+Speed), Strongest Attack and Defense."
   ]
  },
  {
   "cell_type": "markdown",
   "id": "9f8be7da",
   "metadata": {},
   "source": [
    "# 2. Import pustaka yang dibutuhkan"
   ]
  },
  {
   "cell_type": "code",
   "execution_count": 1,
   "id": "c7e2d8f8",
   "metadata": {},
   "outputs": [
    {
     "name": "stdout",
     "output_type": "stream",
     "text": [
      "1.2.4\n"
     ]
    }
   ],
   "source": [
    "#import library\n",
    "import pandas as pd\n",
    "#mengecek versi library\n",
    "print(pd.__version__)"
   ]
  },
  {
   "cell_type": "markdown",
   "id": "f9025df4",
   "metadata": {},
   "source": [
    "# 3. Data Loading"
   ]
  },
  {
   "cell_type": "markdown",
   "id": "915d4b61",
   "metadata": {},
   "source": [
    "Bagian ini berisi proses data loading yang kemudian dilanjutkan dengan explorasi data secara sederhana."
   ]
  },
  {
   "cell_type": "markdown",
   "id": "6c031648",
   "metadata": {},
   "source": [
    "<b>Loading data with pandas</b>"
   ]
  },
  {
   "cell_type": "code",
   "execution_count": 4,
   "id": "6e3b43f9",
   "metadata": {},
   "outputs": [],
   "source": [
    "df = pd.read_csv('Pokemon.csv')"
   ]
  },
  {
   "cell_type": "markdown",
   "id": "c41f9458",
   "metadata": {},
   "source": [
    "<b>Showing data top 5 <b/>"
   ]
  },
  {
   "cell_type": "code",
   "execution_count": 3,
   "id": "ec79020a",
   "metadata": {},
   "outputs": [
    {
     "data": {
      "text/html": [
       "<div>\n",
       "<style scoped>\n",
       "    .dataframe tbody tr th:only-of-type {\n",
       "        vertical-align: middle;\n",
       "    }\n",
       "\n",
       "    .dataframe tbody tr th {\n",
       "        vertical-align: top;\n",
       "    }\n",
       "\n",
       "    .dataframe thead th {\n",
       "        text-align: right;\n",
       "    }\n",
       "</style>\n",
       "<table border=\"1\" class=\"dataframe\">\n",
       "  <thead>\n",
       "    <tr style=\"text-align: right;\">\n",
       "      <th></th>\n",
       "      <th>#</th>\n",
       "      <th>Name</th>\n",
       "      <th>Type 1</th>\n",
       "      <th>Type 2</th>\n",
       "      <th>Total</th>\n",
       "      <th>HP</th>\n",
       "      <th>Attack</th>\n",
       "      <th>Defense</th>\n",
       "      <th>Sp. Atk</th>\n",
       "      <th>Sp. Def</th>\n",
       "      <th>Speed</th>\n",
       "      <th>Generation</th>\n",
       "      <th>Legendary</th>\n",
       "    </tr>\n",
       "  </thead>\n",
       "  <tbody>\n",
       "    <tr>\n",
       "      <th>0</th>\n",
       "      <td>1</td>\n",
       "      <td>Bulbasaur</td>\n",
       "      <td>Grass</td>\n",
       "      <td>Poison</td>\n",
       "      <td>318</td>\n",
       "      <td>45</td>\n",
       "      <td>49</td>\n",
       "      <td>49</td>\n",
       "      <td>65</td>\n",
       "      <td>65</td>\n",
       "      <td>45</td>\n",
       "      <td>1</td>\n",
       "      <td>False</td>\n",
       "    </tr>\n",
       "    <tr>\n",
       "      <th>1</th>\n",
       "      <td>2</td>\n",
       "      <td>Ivysaur</td>\n",
       "      <td>Grass</td>\n",
       "      <td>Poison</td>\n",
       "      <td>405</td>\n",
       "      <td>60</td>\n",
       "      <td>62</td>\n",
       "      <td>63</td>\n",
       "      <td>80</td>\n",
       "      <td>80</td>\n",
       "      <td>60</td>\n",
       "      <td>1</td>\n",
       "      <td>False</td>\n",
       "    </tr>\n",
       "    <tr>\n",
       "      <th>2</th>\n",
       "      <td>3</td>\n",
       "      <td>Venusaur</td>\n",
       "      <td>Grass</td>\n",
       "      <td>Poison</td>\n",
       "      <td>525</td>\n",
       "      <td>80</td>\n",
       "      <td>82</td>\n",
       "      <td>83</td>\n",
       "      <td>100</td>\n",
       "      <td>100</td>\n",
       "      <td>80</td>\n",
       "      <td>1</td>\n",
       "      <td>False</td>\n",
       "    </tr>\n",
       "    <tr>\n",
       "      <th>3</th>\n",
       "      <td>3</td>\n",
       "      <td>VenusaurMega Venusaur</td>\n",
       "      <td>Grass</td>\n",
       "      <td>Poison</td>\n",
       "      <td>625</td>\n",
       "      <td>80</td>\n",
       "      <td>100</td>\n",
       "      <td>123</td>\n",
       "      <td>122</td>\n",
       "      <td>120</td>\n",
       "      <td>80</td>\n",
       "      <td>1</td>\n",
       "      <td>False</td>\n",
       "    </tr>\n",
       "    <tr>\n",
       "      <th>4</th>\n",
       "      <td>4</td>\n",
       "      <td>Charmander</td>\n",
       "      <td>Fire</td>\n",
       "      <td>NaN</td>\n",
       "      <td>309</td>\n",
       "      <td>39</td>\n",
       "      <td>52</td>\n",
       "      <td>43</td>\n",
       "      <td>60</td>\n",
       "      <td>50</td>\n",
       "      <td>65</td>\n",
       "      <td>1</td>\n",
       "      <td>False</td>\n",
       "    </tr>\n",
       "  </tbody>\n",
       "</table>\n",
       "</div>"
      ],
      "text/plain": [
       "   #                   Name Type 1  Type 2  Total  HP  Attack  Defense  \\\n",
       "0  1              Bulbasaur  Grass  Poison    318  45      49       49   \n",
       "1  2                Ivysaur  Grass  Poison    405  60      62       63   \n",
       "2  3               Venusaur  Grass  Poison    525  80      82       83   \n",
       "3  3  VenusaurMega Venusaur  Grass  Poison    625  80     100      123   \n",
       "4  4             Charmander   Fire     NaN    309  39      52       43   \n",
       "\n",
       "   Sp. Atk  Sp. Def  Speed  Generation  Legendary  \n",
       "0       65       65     45           1      False  \n",
       "1       80       80     60           1      False  \n",
       "2      100      100     80           1      False  \n",
       "3      122      120     80           1      False  \n",
       "4       60       50     65           1      False  "
      ]
     },
     "execution_count": 3,
     "metadata": {},
     "output_type": "execute_result"
    }
   ],
   "source": [
    "df.head(5)"
   ]
  },
  {
   "cell_type": "markdown",
   "id": "cfcc5b5f",
   "metadata": {},
   "source": [
    "<b>Showing data low 5</b>"
   ]
  },
  {
   "cell_type": "code",
   "execution_count": 5,
   "id": "0f64bf71",
   "metadata": {},
   "outputs": [
    {
     "data": {
      "text/html": [
       "<div>\n",
       "<style scoped>\n",
       "    .dataframe tbody tr th:only-of-type {\n",
       "        vertical-align: middle;\n",
       "    }\n",
       "\n",
       "    .dataframe tbody tr th {\n",
       "        vertical-align: top;\n",
       "    }\n",
       "\n",
       "    .dataframe thead th {\n",
       "        text-align: right;\n",
       "    }\n",
       "</style>\n",
       "<table border=\"1\" class=\"dataframe\">\n",
       "  <thead>\n",
       "    <tr style=\"text-align: right;\">\n",
       "      <th></th>\n",
       "      <th>#</th>\n",
       "      <th>Name</th>\n",
       "      <th>Type 1</th>\n",
       "      <th>Type 2</th>\n",
       "      <th>Total</th>\n",
       "      <th>HP</th>\n",
       "      <th>Attack</th>\n",
       "      <th>Defense</th>\n",
       "      <th>Sp. Atk</th>\n",
       "      <th>Sp. Def</th>\n",
       "      <th>Speed</th>\n",
       "      <th>Generation</th>\n",
       "      <th>Legendary</th>\n",
       "    </tr>\n",
       "  </thead>\n",
       "  <tbody>\n",
       "    <tr>\n",
       "      <th>795</th>\n",
       "      <td>719</td>\n",
       "      <td>Diancie</td>\n",
       "      <td>Rock</td>\n",
       "      <td>Fairy</td>\n",
       "      <td>600</td>\n",
       "      <td>50</td>\n",
       "      <td>100</td>\n",
       "      <td>150</td>\n",
       "      <td>100</td>\n",
       "      <td>150</td>\n",
       "      <td>50</td>\n",
       "      <td>6</td>\n",
       "      <td>True</td>\n",
       "    </tr>\n",
       "    <tr>\n",
       "      <th>796</th>\n",
       "      <td>719</td>\n",
       "      <td>DiancieMega Diancie</td>\n",
       "      <td>Rock</td>\n",
       "      <td>Fairy</td>\n",
       "      <td>700</td>\n",
       "      <td>50</td>\n",
       "      <td>160</td>\n",
       "      <td>110</td>\n",
       "      <td>160</td>\n",
       "      <td>110</td>\n",
       "      <td>110</td>\n",
       "      <td>6</td>\n",
       "      <td>True</td>\n",
       "    </tr>\n",
       "    <tr>\n",
       "      <th>797</th>\n",
       "      <td>720</td>\n",
       "      <td>HoopaHoopa Confined</td>\n",
       "      <td>Psychic</td>\n",
       "      <td>Ghost</td>\n",
       "      <td>600</td>\n",
       "      <td>80</td>\n",
       "      <td>110</td>\n",
       "      <td>60</td>\n",
       "      <td>150</td>\n",
       "      <td>130</td>\n",
       "      <td>70</td>\n",
       "      <td>6</td>\n",
       "      <td>True</td>\n",
       "    </tr>\n",
       "    <tr>\n",
       "      <th>798</th>\n",
       "      <td>720</td>\n",
       "      <td>HoopaHoopa Unbound</td>\n",
       "      <td>Psychic</td>\n",
       "      <td>Dark</td>\n",
       "      <td>680</td>\n",
       "      <td>80</td>\n",
       "      <td>160</td>\n",
       "      <td>60</td>\n",
       "      <td>170</td>\n",
       "      <td>130</td>\n",
       "      <td>80</td>\n",
       "      <td>6</td>\n",
       "      <td>True</td>\n",
       "    </tr>\n",
       "    <tr>\n",
       "      <th>799</th>\n",
       "      <td>721</td>\n",
       "      <td>Volcanion</td>\n",
       "      <td>Fire</td>\n",
       "      <td>Water</td>\n",
       "      <td>600</td>\n",
       "      <td>80</td>\n",
       "      <td>110</td>\n",
       "      <td>120</td>\n",
       "      <td>130</td>\n",
       "      <td>90</td>\n",
       "      <td>70</td>\n",
       "      <td>6</td>\n",
       "      <td>True</td>\n",
       "    </tr>\n",
       "  </tbody>\n",
       "</table>\n",
       "</div>"
      ],
      "text/plain": [
       "       #                 Name   Type 1 Type 2  Total  HP  Attack  Defense  \\\n",
       "795  719              Diancie     Rock  Fairy    600  50     100      150   \n",
       "796  719  DiancieMega Diancie     Rock  Fairy    700  50     160      110   \n",
       "797  720  HoopaHoopa Confined  Psychic  Ghost    600  80     110       60   \n",
       "798  720   HoopaHoopa Unbound  Psychic   Dark    680  80     160       60   \n",
       "799  721            Volcanion     Fire  Water    600  80     110      120   \n",
       "\n",
       "     Sp. Atk  Sp. Def  Speed  Generation  Legendary  \n",
       "795      100      150     50           6       True  \n",
       "796      160      110    110           6       True  \n",
       "797      150      130     70           6       True  \n",
       "798      170      130     80           6       True  \n",
       "799      130       90     70           6       True  "
      ]
     },
     "execution_count": 5,
     "metadata": {},
     "output_type": "execute_result"
    }
   ],
   "source": [
    "df.tail(5)"
   ]
  },
  {
   "cell_type": "markdown",
   "id": "0583ae3f",
   "metadata": {},
   "source": [
    "<b>Information data type</b>"
   ]
  },
  {
   "cell_type": "code",
   "execution_count": 6,
   "id": "0f47182d",
   "metadata": {},
   "outputs": [
    {
     "name": "stdout",
     "output_type": "stream",
     "text": [
      "<class 'pandas.core.frame.DataFrame'>\n",
      "RangeIndex: 800 entries, 0 to 799\n",
      "Data columns (total 13 columns):\n",
      " #   Column      Non-Null Count  Dtype \n",
      "---  ------      --------------  ----- \n",
      " 0   #           800 non-null    int64 \n",
      " 1   Name        800 non-null    object\n",
      " 2   Type 1      800 non-null    object\n",
      " 3   Type 2      414 non-null    object\n",
      " 4   Total       800 non-null    int64 \n",
      " 5   HP          800 non-null    int64 \n",
      " 6   Attack      800 non-null    int64 \n",
      " 7   Defense     800 non-null    int64 \n",
      " 8   Sp. Atk     800 non-null    int64 \n",
      " 9   Sp. Def     800 non-null    int64 \n",
      " 10  Speed       800 non-null    int64 \n",
      " 11  Generation  800 non-null    int64 \n",
      " 12  Legendary   800 non-null    bool  \n",
      "dtypes: bool(1), int64(9), object(3)\n",
      "memory usage: 75.9+ KB\n"
     ]
    }
   ],
   "source": [
    "df.info()"
   ]
  },
  {
   "cell_type": "markdown",
   "id": "d52322cc",
   "metadata": {},
   "source": [
    "<b>Showing data summery like max, min, mean etc. </b>"
   ]
  },
  {
   "cell_type": "code",
   "execution_count": 7,
   "id": "08f78469",
   "metadata": {},
   "outputs": [
    {
     "data": {
      "text/html": [
       "<div>\n",
       "<style scoped>\n",
       "    .dataframe tbody tr th:only-of-type {\n",
       "        vertical-align: middle;\n",
       "    }\n",
       "\n",
       "    .dataframe tbody tr th {\n",
       "        vertical-align: top;\n",
       "    }\n",
       "\n",
       "    .dataframe thead th {\n",
       "        text-align: right;\n",
       "    }\n",
       "</style>\n",
       "<table border=\"1\" class=\"dataframe\">\n",
       "  <thead>\n",
       "    <tr style=\"text-align: right;\">\n",
       "      <th></th>\n",
       "      <th>#</th>\n",
       "      <th>Total</th>\n",
       "      <th>HP</th>\n",
       "      <th>Attack</th>\n",
       "      <th>Defense</th>\n",
       "      <th>Sp. Atk</th>\n",
       "      <th>Sp. Def</th>\n",
       "      <th>Speed</th>\n",
       "      <th>Generation</th>\n",
       "    </tr>\n",
       "  </thead>\n",
       "  <tbody>\n",
       "    <tr>\n",
       "      <th>count</th>\n",
       "      <td>800.000000</td>\n",
       "      <td>800.00000</td>\n",
       "      <td>800.000000</td>\n",
       "      <td>800.000000</td>\n",
       "      <td>800.000000</td>\n",
       "      <td>800.000000</td>\n",
       "      <td>800.000000</td>\n",
       "      <td>800.000000</td>\n",
       "      <td>800.00000</td>\n",
       "    </tr>\n",
       "    <tr>\n",
       "      <th>mean</th>\n",
       "      <td>362.813750</td>\n",
       "      <td>435.10250</td>\n",
       "      <td>69.258750</td>\n",
       "      <td>79.001250</td>\n",
       "      <td>73.842500</td>\n",
       "      <td>72.820000</td>\n",
       "      <td>71.902500</td>\n",
       "      <td>68.277500</td>\n",
       "      <td>3.32375</td>\n",
       "    </tr>\n",
       "    <tr>\n",
       "      <th>std</th>\n",
       "      <td>208.343798</td>\n",
       "      <td>119.96304</td>\n",
       "      <td>25.534669</td>\n",
       "      <td>32.457366</td>\n",
       "      <td>31.183501</td>\n",
       "      <td>32.722294</td>\n",
       "      <td>27.828916</td>\n",
       "      <td>29.060474</td>\n",
       "      <td>1.66129</td>\n",
       "    </tr>\n",
       "    <tr>\n",
       "      <th>min</th>\n",
       "      <td>1.000000</td>\n",
       "      <td>180.00000</td>\n",
       "      <td>1.000000</td>\n",
       "      <td>5.000000</td>\n",
       "      <td>5.000000</td>\n",
       "      <td>10.000000</td>\n",
       "      <td>20.000000</td>\n",
       "      <td>5.000000</td>\n",
       "      <td>1.00000</td>\n",
       "    </tr>\n",
       "    <tr>\n",
       "      <th>25%</th>\n",
       "      <td>184.750000</td>\n",
       "      <td>330.00000</td>\n",
       "      <td>50.000000</td>\n",
       "      <td>55.000000</td>\n",
       "      <td>50.000000</td>\n",
       "      <td>49.750000</td>\n",
       "      <td>50.000000</td>\n",
       "      <td>45.000000</td>\n",
       "      <td>2.00000</td>\n",
       "    </tr>\n",
       "    <tr>\n",
       "      <th>50%</th>\n",
       "      <td>364.500000</td>\n",
       "      <td>450.00000</td>\n",
       "      <td>65.000000</td>\n",
       "      <td>75.000000</td>\n",
       "      <td>70.000000</td>\n",
       "      <td>65.000000</td>\n",
       "      <td>70.000000</td>\n",
       "      <td>65.000000</td>\n",
       "      <td>3.00000</td>\n",
       "    </tr>\n",
       "    <tr>\n",
       "      <th>75%</th>\n",
       "      <td>539.250000</td>\n",
       "      <td>515.00000</td>\n",
       "      <td>80.000000</td>\n",
       "      <td>100.000000</td>\n",
       "      <td>90.000000</td>\n",
       "      <td>95.000000</td>\n",
       "      <td>90.000000</td>\n",
       "      <td>90.000000</td>\n",
       "      <td>5.00000</td>\n",
       "    </tr>\n",
       "    <tr>\n",
       "      <th>max</th>\n",
       "      <td>721.000000</td>\n",
       "      <td>780.00000</td>\n",
       "      <td>255.000000</td>\n",
       "      <td>190.000000</td>\n",
       "      <td>230.000000</td>\n",
       "      <td>194.000000</td>\n",
       "      <td>230.000000</td>\n",
       "      <td>180.000000</td>\n",
       "      <td>6.00000</td>\n",
       "    </tr>\n",
       "  </tbody>\n",
       "</table>\n",
       "</div>"
      ],
      "text/plain": [
       "                #      Total          HP      Attack     Defense     Sp. Atk  \\\n",
       "count  800.000000  800.00000  800.000000  800.000000  800.000000  800.000000   \n",
       "mean   362.813750  435.10250   69.258750   79.001250   73.842500   72.820000   \n",
       "std    208.343798  119.96304   25.534669   32.457366   31.183501   32.722294   \n",
       "min      1.000000  180.00000    1.000000    5.000000    5.000000   10.000000   \n",
       "25%    184.750000  330.00000   50.000000   55.000000   50.000000   49.750000   \n",
       "50%    364.500000  450.00000   65.000000   75.000000   70.000000   65.000000   \n",
       "75%    539.250000  515.00000   80.000000  100.000000   90.000000   95.000000   \n",
       "max    721.000000  780.00000  255.000000  190.000000  230.000000  194.000000   \n",
       "\n",
       "          Sp. Def       Speed  Generation  \n",
       "count  800.000000  800.000000   800.00000  \n",
       "mean    71.902500   68.277500     3.32375  \n",
       "std     27.828916   29.060474     1.66129  \n",
       "min     20.000000    5.000000     1.00000  \n",
       "25%     50.000000   45.000000     2.00000  \n",
       "50%     70.000000   65.000000     3.00000  \n",
       "75%     90.000000   90.000000     5.00000  \n",
       "max    230.000000  180.000000     6.00000  "
      ]
     },
     "execution_count": 7,
     "metadata": {},
     "output_type": "execute_result"
    }
   ],
   "source": [
    "df.describe()"
   ]
  },
  {
   "cell_type": "markdown",
   "id": "15662c53",
   "metadata": {},
   "source": [
    "<b>Showing pokemon type 1</b>"
   ]
  },
  {
   "cell_type": "code",
   "execution_count": 9,
   "id": "01090309",
   "metadata": {},
   "outputs": [
    {
     "data": {
      "text/plain": [
       "Water       112\n",
       "Normal       98\n",
       "Grass        70\n",
       "Bug          69\n",
       "Psychic      57\n",
       "Fire         52\n",
       "Electric     44\n",
       "Rock         44\n",
       "Ghost        32\n",
       "Ground       32\n",
       "Dragon       32\n",
       "Dark         31\n",
       "Poison       28\n",
       "Steel        27\n",
       "Fighting     27\n",
       "Ice          24\n",
       "Fairy        17\n",
       "Flying        4\n",
       "Name: Type 1, dtype: int64"
      ]
     },
     "execution_count": 9,
     "metadata": {},
     "output_type": "execute_result"
    }
   ],
   "source": [
    "df[\"Type 1\"].value_counts()"
   ]
  },
  {
   "cell_type": "markdown",
   "id": "8b4a7a3a",
   "metadata": {},
   "source": [
    "<b>Showing pokemon type 2</b>"
   ]
  },
  {
   "cell_type": "code",
   "execution_count": 10,
   "id": "7479f6f8",
   "metadata": {},
   "outputs": [
    {
     "data": {
      "text/plain": [
       "Flying      97\n",
       "Ground      35\n",
       "Poison      34\n",
       "Psychic     33\n",
       "Fighting    26\n",
       "Grass       25\n",
       "Fairy       23\n",
       "Steel       22\n",
       "Dark        20\n",
       "Dragon      18\n",
       "Rock        14\n",
       "Ghost       14\n",
       "Water       14\n",
       "Ice         14\n",
       "Fire        12\n",
       "Electric     6\n",
       "Normal       4\n",
       "Bug          3\n",
       "Name: Type 2, dtype: int64"
      ]
     },
     "execution_count": 10,
     "metadata": {},
     "output_type": "execute_result"
    }
   ],
   "source": [
    "df[\"Type 2\"].value_counts()"
   ]
  },
  {
   "cell_type": "markdown",
   "id": "c13f37c2",
   "metadata": {},
   "source": [
    "<b>Showing sum pokemon in codition type water and generation</b>"
   ]
  },
  {
   "cell_type": "code",
   "execution_count": 12,
   "id": "7aaad88b",
   "metadata": {},
   "outputs": [
    {
     "data": {
      "text/plain": [
       "320"
      ]
     },
     "execution_count": 12,
     "metadata": {},
     "output_type": "execute_result"
    }
   ],
   "source": [
    "df.loc[df[\"Type 1\"] == \"Water\", \"Generation\"].sum()"
   ]
  },
  {
   "cell_type": "markdown",
   "id": "d749bade",
   "metadata": {},
   "source": [
    "# 4. Data Cleaning"
   ]
  },
  {
   "cell_type": "markdown",
   "id": "a9587d6b",
   "metadata": {},
   "source": [
    "Bagian ini berisi proses penyiapan data berupa data cleaning sebelum dilakukan explorasi data lebih lanjut. Proses cleaning dapat berupa memberi nama baru untuk setiap kolom, mengisi missing values, menghapus kolom yang tidak dipakai, dan lain sebagainya."
   ]
  },
  {
   "cell_type": "markdown",
   "id": "ba32f922",
   "metadata": {},
   "source": [
    "<b>Rename columns in datashets</b>"
   ]
  },
  {
   "cell_type": "code",
   "execution_count": 15,
   "id": "58dc97a9",
   "metadata": {},
   "outputs": [],
   "source": [
    "df.rename(\n",
    "    columns={\n",
    "        '#': 'No.',\n",
    "        'Name': 'Nama Pokemon',\n",
    "        'Type 1': 'Tipe 1',\n",
    "        'Type 2': 'Tipe 2',\n",
    "        'Total': 'Total',\n",
    "        'HP': 'Hit Point',\n",
    "        'Attack': 'Serangan',\n",
    "        'Defense': 'Pertahanan',\n",
    "        'Sp. Atk': 'Serangan Spesial',\n",
    "        'Sp. Def': 'Pertahanan Spesial',\n",
    "        'Speed': 'Kecepatan',\n",
    "        'Generation': 'Generasi',\n",
    "        'Legendary': 'Legenda'\n",
    "    }, inplace= True)"
   ]
  },
  {
   "cell_type": "markdown",
   "id": "87a3a1ae",
   "metadata": {},
   "source": [
    "<b>Deleting column don't needed in case 'Lgenda' columns</b>"
   ]
  },
  {
   "cell_type": "code",
   "execution_count": 16,
   "id": "7861572f",
   "metadata": {},
   "outputs": [],
   "source": [
    "del df[\"Legenda\"]"
   ]
  },
  {
   "cell_type": "code",
   "execution_count": 17,
   "id": "495ef55a",
   "metadata": {},
   "outputs": [
    {
     "data": {
      "text/html": [
       "<div>\n",
       "<style scoped>\n",
       "    .dataframe tbody tr th:only-of-type {\n",
       "        vertical-align: middle;\n",
       "    }\n",
       "\n",
       "    .dataframe tbody tr th {\n",
       "        vertical-align: top;\n",
       "    }\n",
       "\n",
       "    .dataframe thead th {\n",
       "        text-align: right;\n",
       "    }\n",
       "</style>\n",
       "<table border=\"1\" class=\"dataframe\">\n",
       "  <thead>\n",
       "    <tr style=\"text-align: right;\">\n",
       "      <th></th>\n",
       "      <th>No.</th>\n",
       "      <th>Nama Pokemon</th>\n",
       "      <th>Tipe 1</th>\n",
       "      <th>Tipe 2</th>\n",
       "      <th>Total</th>\n",
       "      <th>Hit Point</th>\n",
       "      <th>Serangan</th>\n",
       "      <th>Pertahanan</th>\n",
       "      <th>Serangan Spesial</th>\n",
       "      <th>Pertahanan Spesial</th>\n",
       "      <th>Kecepatan</th>\n",
       "      <th>Generasi</th>\n",
       "    </tr>\n",
       "  </thead>\n",
       "  <tbody>\n",
       "    <tr>\n",
       "      <th>0</th>\n",
       "      <td>1</td>\n",
       "      <td>Bulbasaur</td>\n",
       "      <td>Grass</td>\n",
       "      <td>Poison</td>\n",
       "      <td>318</td>\n",
       "      <td>45</td>\n",
       "      <td>49</td>\n",
       "      <td>49</td>\n",
       "      <td>65</td>\n",
       "      <td>65</td>\n",
       "      <td>45</td>\n",
       "      <td>1</td>\n",
       "    </tr>\n",
       "    <tr>\n",
       "      <th>1</th>\n",
       "      <td>2</td>\n",
       "      <td>Ivysaur</td>\n",
       "      <td>Grass</td>\n",
       "      <td>Poison</td>\n",
       "      <td>405</td>\n",
       "      <td>60</td>\n",
       "      <td>62</td>\n",
       "      <td>63</td>\n",
       "      <td>80</td>\n",
       "      <td>80</td>\n",
       "      <td>60</td>\n",
       "      <td>1</td>\n",
       "    </tr>\n",
       "    <tr>\n",
       "      <th>2</th>\n",
       "      <td>3</td>\n",
       "      <td>Venusaur</td>\n",
       "      <td>Grass</td>\n",
       "      <td>Poison</td>\n",
       "      <td>525</td>\n",
       "      <td>80</td>\n",
       "      <td>82</td>\n",
       "      <td>83</td>\n",
       "      <td>100</td>\n",
       "      <td>100</td>\n",
       "      <td>80</td>\n",
       "      <td>1</td>\n",
       "    </tr>\n",
       "    <tr>\n",
       "      <th>3</th>\n",
       "      <td>3</td>\n",
       "      <td>VenusaurMega Venusaur</td>\n",
       "      <td>Grass</td>\n",
       "      <td>Poison</td>\n",
       "      <td>625</td>\n",
       "      <td>80</td>\n",
       "      <td>100</td>\n",
       "      <td>123</td>\n",
       "      <td>122</td>\n",
       "      <td>120</td>\n",
       "      <td>80</td>\n",
       "      <td>1</td>\n",
       "    </tr>\n",
       "    <tr>\n",
       "      <th>4</th>\n",
       "      <td>4</td>\n",
       "      <td>Charmander</td>\n",
       "      <td>Fire</td>\n",
       "      <td>NaN</td>\n",
       "      <td>309</td>\n",
       "      <td>39</td>\n",
       "      <td>52</td>\n",
       "      <td>43</td>\n",
       "      <td>60</td>\n",
       "      <td>50</td>\n",
       "      <td>65</td>\n",
       "      <td>1</td>\n",
       "    </tr>\n",
       "  </tbody>\n",
       "</table>\n",
       "</div>"
      ],
      "text/plain": [
       "   No.           Nama Pokemon Tipe 1  Tipe 2  Total  Hit Point  Serangan  \\\n",
       "0    1              Bulbasaur  Grass  Poison    318         45        49   \n",
       "1    2                Ivysaur  Grass  Poison    405         60        62   \n",
       "2    3               Venusaur  Grass  Poison    525         80        82   \n",
       "3    3  VenusaurMega Venusaur  Grass  Poison    625         80       100   \n",
       "4    4             Charmander   Fire     NaN    309         39        52   \n",
       "\n",
       "   Pertahanan  Serangan Spesial  Pertahanan Spesial  Kecepatan  Generasi  \n",
       "0          49                65                  65         45         1  \n",
       "1          63                80                  80         60         1  \n",
       "2          83               100                 100         80         1  \n",
       "3         123               122                 120         80         1  \n",
       "4          43                60                  50         65         1  "
      ]
     },
     "execution_count": 17,
     "metadata": {},
     "output_type": "execute_result"
    }
   ],
   "source": [
    "df.head()"
   ]
  },
  {
   "cell_type": "markdown",
   "id": "866b4bd2",
   "metadata": {},
   "source": [
    "<b>Showing how much data isnull or missing values</b>"
   ]
  },
  {
   "cell_type": "code",
   "execution_count": 18,
   "id": "01a26dab",
   "metadata": {},
   "outputs": [
    {
     "data": {
      "text/plain": [
       "No.                     0\n",
       "Nama Pokemon            0\n",
       "Tipe 1                  0\n",
       "Tipe 2                386\n",
       "Total                   0\n",
       "Hit Point               0\n",
       "Serangan                0\n",
       "Pertahanan              0\n",
       "Serangan Spesial        0\n",
       "Pertahanan Spesial      0\n",
       "Kecepatan               0\n",
       "Generasi                0\n",
       "dtype: int64"
      ]
     },
     "execution_count": 18,
     "metadata": {},
     "output_type": "execute_result"
    }
   ],
   "source": [
    "df.isnull().sum()"
   ]
  },
  {
   "cell_type": "markdown",
   "id": "b1b8d228",
   "metadata": {},
   "source": [
    "<b>Replacing missing value with separator dash (-)</b>"
   ]
  },
  {
   "cell_type": "code",
   "execution_count": 19,
   "id": "9f932696",
   "metadata": {},
   "outputs": [
    {
     "data": {
      "text/plain": [
       "No.                   0\n",
       "Nama Pokemon          0\n",
       "Tipe 1                0\n",
       "Tipe 2                0\n",
       "Total                 0\n",
       "Hit Point             0\n",
       "Serangan              0\n",
       "Pertahanan            0\n",
       "Serangan Spesial      0\n",
       "Pertahanan Spesial    0\n",
       "Kecepatan             0\n",
       "Generasi              0\n",
       "dtype: int64"
      ]
     },
     "execution_count": 19,
     "metadata": {},
     "output_type": "execute_result"
    }
   ],
   "source": [
    "df[\"Tipe 2\"].fillna(\"-\", inplace=True)\n",
    "df.isnull().sum()"
   ]
  },
  {
   "cell_type": "markdown",
   "id": "7b78e234",
   "metadata": {},
   "source": [
    "# 5. Explorasi Data"
   ]
  },
  {
   "cell_type": "markdown",
   "id": "4fd08ce1",
   "metadata": {},
   "source": [
    "Bagian ini berisi explorasi data pada dataset diatas dengan menggunakan query, grouping, visualisasi sederhana, dan lain sebagainya."
   ]
  },
  {
   "cell_type": "markdown",
   "id": "2cfbe7f3",
   "metadata": {},
   "source": [
    "<b>Showing max values in total columns</b>"
   ]
  },
  {
   "cell_type": "code",
   "execution_count": 22,
   "id": "d4da917c",
   "metadata": {},
   "outputs": [
    {
     "data": {
      "text/plain": [
       "780"
      ]
     },
     "execution_count": 22,
     "metadata": {},
     "output_type": "execute_result"
    }
   ],
   "source": [
    "poke_max = df[\"Total\"].max() \n",
    "poke_max"
   ]
  },
  {
   "cell_type": "markdown",
   "id": "d9012ed5",
   "metadata": {},
   "source": [
    "<b>Showing pokemon with max value 780<b/>"
   ]
  },
  {
   "cell_type": "code",
   "execution_count": 21,
   "id": "66956319",
   "metadata": {},
   "outputs": [
    {
     "data": {
      "text/html": [
       "<div>\n",
       "<style scoped>\n",
       "    .dataframe tbody tr th:only-of-type {\n",
       "        vertical-align: middle;\n",
       "    }\n",
       "\n",
       "    .dataframe tbody tr th {\n",
       "        vertical-align: top;\n",
       "    }\n",
       "\n",
       "    .dataframe thead th {\n",
       "        text-align: right;\n",
       "    }\n",
       "</style>\n",
       "<table border=\"1\" class=\"dataframe\">\n",
       "  <thead>\n",
       "    <tr style=\"text-align: right;\">\n",
       "      <th></th>\n",
       "      <th>No.</th>\n",
       "      <th>Nama Pokemon</th>\n",
       "      <th>Tipe 1</th>\n",
       "      <th>Tipe 2</th>\n",
       "      <th>Total</th>\n",
       "      <th>Hit Point</th>\n",
       "      <th>Serangan</th>\n",
       "      <th>Pertahanan</th>\n",
       "      <th>Serangan Spesial</th>\n",
       "      <th>Pertahanan Spesial</th>\n",
       "      <th>Kecepatan</th>\n",
       "      <th>Generasi</th>\n",
       "    </tr>\n",
       "  </thead>\n",
       "  <tbody>\n",
       "    <tr>\n",
       "      <th>163</th>\n",
       "      <td>150</td>\n",
       "      <td>MewtwoMega Mewtwo X</td>\n",
       "      <td>Psychic</td>\n",
       "      <td>Fighting</td>\n",
       "      <td>780</td>\n",
       "      <td>106</td>\n",
       "      <td>190</td>\n",
       "      <td>100</td>\n",
       "      <td>154</td>\n",
       "      <td>100</td>\n",
       "      <td>130</td>\n",
       "      <td>1</td>\n",
       "    </tr>\n",
       "    <tr>\n",
       "      <th>164</th>\n",
       "      <td>150</td>\n",
       "      <td>MewtwoMega Mewtwo Y</td>\n",
       "      <td>Psychic</td>\n",
       "      <td>-</td>\n",
       "      <td>780</td>\n",
       "      <td>106</td>\n",
       "      <td>150</td>\n",
       "      <td>70</td>\n",
       "      <td>194</td>\n",
       "      <td>120</td>\n",
       "      <td>140</td>\n",
       "      <td>1</td>\n",
       "    </tr>\n",
       "    <tr>\n",
       "      <th>426</th>\n",
       "      <td>384</td>\n",
       "      <td>RayquazaMega Rayquaza</td>\n",
       "      <td>Dragon</td>\n",
       "      <td>Flying</td>\n",
       "      <td>780</td>\n",
       "      <td>105</td>\n",
       "      <td>180</td>\n",
       "      <td>100</td>\n",
       "      <td>180</td>\n",
       "      <td>100</td>\n",
       "      <td>115</td>\n",
       "      <td>3</td>\n",
       "    </tr>\n",
       "  </tbody>\n",
       "</table>\n",
       "</div>"
      ],
      "text/plain": [
       "     No.           Nama Pokemon   Tipe 1    Tipe 2  Total  Hit Point  \\\n",
       "163  150    MewtwoMega Mewtwo X  Psychic  Fighting    780        106   \n",
       "164  150    MewtwoMega Mewtwo Y  Psychic         -    780        106   \n",
       "426  384  RayquazaMega Rayquaza   Dragon    Flying    780        105   \n",
       "\n",
       "     Serangan  Pertahanan  Serangan Spesial  Pertahanan Spesial  Kecepatan  \\\n",
       "163       190         100               154                 100        130   \n",
       "164       150          70               194                 120        140   \n",
       "426       180         100               180                 100        115   \n",
       "\n",
       "     Generasi  \n",
       "163         1  \n",
       "164         1  \n",
       "426         3  "
      ]
     },
     "execution_count": 21,
     "metadata": {},
     "output_type": "execute_result"
    }
   ],
   "source": [
    "total_max = df[df['Total'] == 780] \n",
    "total_max"
   ]
  },
  {
   "cell_type": "markdown",
   "id": "0962b0ed",
   "metadata": {},
   "source": [
    "<b>Showing min values in total columns</b>"
   ]
  },
  {
   "cell_type": "code",
   "execution_count": 23,
   "id": "94064d11",
   "metadata": {},
   "outputs": [
    {
     "data": {
      "text/plain": [
       "180"
      ]
     },
     "execution_count": 23,
     "metadata": {},
     "output_type": "execute_result"
    }
   ],
   "source": [
    "poke_min = df[\"Total\"].min() \n",
    "poke_min"
   ]
  },
  {
   "cell_type": "markdown",
   "id": "9283f013",
   "metadata": {},
   "source": [
    "<b>Showing pokemon with min value 180</b>"
   ]
  },
  {
   "cell_type": "code",
   "execution_count": 25,
   "id": "10242d4d",
   "metadata": {},
   "outputs": [
    {
     "data": {
      "text/html": [
       "<div>\n",
       "<style scoped>\n",
       "    .dataframe tbody tr th:only-of-type {\n",
       "        vertical-align: middle;\n",
       "    }\n",
       "\n",
       "    .dataframe tbody tr th {\n",
       "        vertical-align: top;\n",
       "    }\n",
       "\n",
       "    .dataframe thead th {\n",
       "        text-align: right;\n",
       "    }\n",
       "</style>\n",
       "<table border=\"1\" class=\"dataframe\">\n",
       "  <thead>\n",
       "    <tr style=\"text-align: right;\">\n",
       "      <th></th>\n",
       "      <th>No.</th>\n",
       "      <th>Nama Pokemon</th>\n",
       "      <th>Tipe 1</th>\n",
       "      <th>Tipe 2</th>\n",
       "      <th>Total</th>\n",
       "      <th>Hit Point</th>\n",
       "      <th>Serangan</th>\n",
       "      <th>Pertahanan</th>\n",
       "      <th>Serangan Spesial</th>\n",
       "      <th>Pertahanan Spesial</th>\n",
       "      <th>Kecepatan</th>\n",
       "      <th>Generasi</th>\n",
       "    </tr>\n",
       "  </thead>\n",
       "  <tbody>\n",
       "    <tr>\n",
       "      <th>206</th>\n",
       "      <td>191</td>\n",
       "      <td>Sunkern</td>\n",
       "      <td>Grass</td>\n",
       "      <td>-</td>\n",
       "      <td>180</td>\n",
       "      <td>30</td>\n",
       "      <td>30</td>\n",
       "      <td>30</td>\n",
       "      <td>30</td>\n",
       "      <td>30</td>\n",
       "      <td>30</td>\n",
       "      <td>2</td>\n",
       "    </tr>\n",
       "  </tbody>\n",
       "</table>\n",
       "</div>"
      ],
      "text/plain": [
       "     No. Nama Pokemon Tipe 1 Tipe 2  Total  Hit Point  Serangan  Pertahanan  \\\n",
       "206  191      Sunkern  Grass      -    180         30        30          30   \n",
       "\n",
       "     Serangan Spesial  Pertahanan Spesial  Kecepatan  Generasi  \n",
       "206                30                  30         30         2  "
      ]
     },
     "execution_count": 25,
     "metadata": {},
     "output_type": "execute_result"
    }
   ],
   "source": [
    "total_min = df[df['Total'] == 180] \n",
    "total_min"
   ]
  },
  {
   "cell_type": "markdown",
   "id": "6e86c4e3",
   "metadata": {},
   "source": [
    "<b>Showing rate values in total columns, with purpose how much rate stronger other pokemon</b>"
   ]
  },
  {
   "cell_type": "code",
   "execution_count": 26,
   "id": "1d0ce82f",
   "metadata": {},
   "outputs": [
    {
     "data": {
      "text/plain": [
       "435.1025"
      ]
     },
     "execution_count": 26,
     "metadata": {},
     "output_type": "execute_result"
    }
   ],
   "source": [
    "poke_rate = df[\"Total\"].mean()\n",
    "poke_rate"
   ]
  },
  {
   "cell_type": "markdown",
   "id": "d512ea1e",
   "metadata": {},
   "source": [
    "<b>Showing pokemon with rate equal or greater than 430</b>"
   ]
  },
  {
   "cell_type": "code",
   "execution_count": 27,
   "id": "a0b84554",
   "metadata": {},
   "outputs": [
    {
     "data": {
      "text/html": [
       "<div>\n",
       "<style scoped>\n",
       "    .dataframe tbody tr th:only-of-type {\n",
       "        vertical-align: middle;\n",
       "    }\n",
       "\n",
       "    .dataframe tbody tr th {\n",
       "        vertical-align: top;\n",
       "    }\n",
       "\n",
       "    .dataframe thead th {\n",
       "        text-align: right;\n",
       "    }\n",
       "</style>\n",
       "<table border=\"1\" class=\"dataframe\">\n",
       "  <thead>\n",
       "    <tr style=\"text-align: right;\">\n",
       "      <th></th>\n",
       "      <th>No.</th>\n",
       "      <th>Nama Pokemon</th>\n",
       "      <th>Tipe 1</th>\n",
       "      <th>Tipe 2</th>\n",
       "      <th>Total</th>\n",
       "      <th>Hit Point</th>\n",
       "      <th>Serangan</th>\n",
       "      <th>Pertahanan</th>\n",
       "      <th>Serangan Spesial</th>\n",
       "      <th>Pertahanan Spesial</th>\n",
       "      <th>Kecepatan</th>\n",
       "      <th>Generasi</th>\n",
       "    </tr>\n",
       "  </thead>\n",
       "  <tbody>\n",
       "    <tr>\n",
       "      <th>163</th>\n",
       "      <td>150</td>\n",
       "      <td>MewtwoMega Mewtwo X</td>\n",
       "      <td>Psychic</td>\n",
       "      <td>Fighting</td>\n",
       "      <td>780</td>\n",
       "      <td>106</td>\n",
       "      <td>190</td>\n",
       "      <td>100</td>\n",
       "      <td>154</td>\n",
       "      <td>100</td>\n",
       "      <td>130</td>\n",
       "      <td>1</td>\n",
       "    </tr>\n",
       "    <tr>\n",
       "      <th>426</th>\n",
       "      <td>384</td>\n",
       "      <td>RayquazaMega Rayquaza</td>\n",
       "      <td>Dragon</td>\n",
       "      <td>Flying</td>\n",
       "      <td>780</td>\n",
       "      <td>105</td>\n",
       "      <td>180</td>\n",
       "      <td>100</td>\n",
       "      <td>180</td>\n",
       "      <td>100</td>\n",
       "      <td>115</td>\n",
       "      <td>3</td>\n",
       "    </tr>\n",
       "    <tr>\n",
       "      <th>164</th>\n",
       "      <td>150</td>\n",
       "      <td>MewtwoMega Mewtwo Y</td>\n",
       "      <td>Psychic</td>\n",
       "      <td>-</td>\n",
       "      <td>780</td>\n",
       "      <td>106</td>\n",
       "      <td>150</td>\n",
       "      <td>70</td>\n",
       "      <td>194</td>\n",
       "      <td>120</td>\n",
       "      <td>140</td>\n",
       "      <td>1</td>\n",
       "    </tr>\n",
       "    <tr>\n",
       "      <th>422</th>\n",
       "      <td>382</td>\n",
       "      <td>KyogrePrimal Kyogre</td>\n",
       "      <td>Water</td>\n",
       "      <td>-</td>\n",
       "      <td>770</td>\n",
       "      <td>100</td>\n",
       "      <td>150</td>\n",
       "      <td>90</td>\n",
       "      <td>180</td>\n",
       "      <td>160</td>\n",
       "      <td>90</td>\n",
       "      <td>3</td>\n",
       "    </tr>\n",
       "    <tr>\n",
       "      <th>424</th>\n",
       "      <td>383</td>\n",
       "      <td>GroudonPrimal Groudon</td>\n",
       "      <td>Ground</td>\n",
       "      <td>Fire</td>\n",
       "      <td>770</td>\n",
       "      <td>100</td>\n",
       "      <td>180</td>\n",
       "      <td>160</td>\n",
       "      <td>150</td>\n",
       "      <td>90</td>\n",
       "      <td>90</td>\n",
       "      <td>3</td>\n",
       "    </tr>\n",
       "    <tr>\n",
       "      <th>...</th>\n",
       "      <td>...</td>\n",
       "      <td>...</td>\n",
       "      <td>...</td>\n",
       "      <td>...</td>\n",
       "      <td>...</td>\n",
       "      <td>...</td>\n",
       "      <td>...</td>\n",
       "      <td>...</td>\n",
       "      <td>...</td>\n",
       "      <td>...</td>\n",
       "      <td>...</td>\n",
       "      <td>...</td>\n",
       "    </tr>\n",
       "    <tr>\n",
       "      <th>370</th>\n",
       "      <td>338</td>\n",
       "      <td>Solrock</td>\n",
       "      <td>Rock</td>\n",
       "      <td>Psychic</td>\n",
       "      <td>440</td>\n",
       "      <td>70</td>\n",
       "      <td>95</td>\n",
       "      <td>85</td>\n",
       "      <td>55</td>\n",
       "      <td>65</td>\n",
       "      <td>70</td>\n",
       "      <td>3</td>\n",
       "    </tr>\n",
       "    <tr>\n",
       "      <th>29</th>\n",
       "      <td>24</td>\n",
       "      <td>Arbok</td>\n",
       "      <td>Poison</td>\n",
       "      <td>-</td>\n",
       "      <td>438</td>\n",
       "      <td>60</td>\n",
       "      <td>85</td>\n",
       "      <td>69</td>\n",
       "      <td>65</td>\n",
       "      <td>79</td>\n",
       "      <td>80</td>\n",
       "      <td>1</td>\n",
       "    </tr>\n",
       "    <tr>\n",
       "      <th>215</th>\n",
       "      <td>200</td>\n",
       "      <td>Misdreavus</td>\n",
       "      <td>Ghost</td>\n",
       "      <td>-</td>\n",
       "      <td>435</td>\n",
       "      <td>60</td>\n",
       "      <td>60</td>\n",
       "      <td>60</td>\n",
       "      <td>85</td>\n",
       "      <td>85</td>\n",
       "      <td>85</td>\n",
       "      <td>2</td>\n",
       "    </tr>\n",
       "    <tr>\n",
       "      <th>45</th>\n",
       "      <td>40</td>\n",
       "      <td>Wigglytuff</td>\n",
       "      <td>Normal</td>\n",
       "      <td>Fairy</td>\n",
       "      <td>435</td>\n",
       "      <td>140</td>\n",
       "      <td>70</td>\n",
       "      <td>45</td>\n",
       "      <td>85</td>\n",
       "      <td>50</td>\n",
       "      <td>45</td>\n",
       "      <td>1</td>\n",
       "    </tr>\n",
       "    <tr>\n",
       "      <th>122</th>\n",
       "      <td>114</td>\n",
       "      <td>Tangela</td>\n",
       "      <td>Grass</td>\n",
       "      <td>-</td>\n",
       "      <td>435</td>\n",
       "      <td>65</td>\n",
       "      <td>55</td>\n",
       "      <td>115</td>\n",
       "      <td>100</td>\n",
       "      <td>40</td>\n",
       "      <td>60</td>\n",
       "      <td>1</td>\n",
       "    </tr>\n",
       "  </tbody>\n",
       "</table>\n",
       "<p>420 rows × 12 columns</p>\n",
       "</div>"
      ],
      "text/plain": [
       "     No.           Nama Pokemon   Tipe 1    Tipe 2  Total  Hit Point  \\\n",
       "163  150    MewtwoMega Mewtwo X  Psychic  Fighting    780        106   \n",
       "426  384  RayquazaMega Rayquaza   Dragon    Flying    780        105   \n",
       "164  150    MewtwoMega Mewtwo Y  Psychic         -    780        106   \n",
       "422  382    KyogrePrimal Kyogre    Water         -    770        100   \n",
       "424  383  GroudonPrimal Groudon   Ground      Fire    770        100   \n",
       "..   ...                    ...      ...       ...    ...        ...   \n",
       "370  338                Solrock     Rock   Psychic    440         70   \n",
       "29    24                  Arbok   Poison         -    438         60   \n",
       "215  200             Misdreavus    Ghost         -    435         60   \n",
       "45    40             Wigglytuff   Normal     Fairy    435        140   \n",
       "122  114                Tangela    Grass         -    435         65   \n",
       "\n",
       "     Serangan  Pertahanan  Serangan Spesial  Pertahanan Spesial  Kecepatan  \\\n",
       "163       190         100               154                 100        130   \n",
       "426       180         100               180                 100        115   \n",
       "164       150          70               194                 120        140   \n",
       "422       150          90               180                 160         90   \n",
       "424       180         160               150                  90         90   \n",
       "..        ...         ...               ...                 ...        ...   \n",
       "370        95          85                55                  65         70   \n",
       "29         85          69                65                  79         80   \n",
       "215        60          60                85                  85         85   \n",
       "45         70          45                85                  50         45   \n",
       "122        55         115               100                  40         60   \n",
       "\n",
       "     Generasi  \n",
       "163         1  \n",
       "426         3  \n",
       "164         1  \n",
       "422         3  \n",
       "424         3  \n",
       "..        ...  \n",
       "370         3  \n",
       "29          1  \n",
       "215         2  \n",
       "45          1  \n",
       "122         1  \n",
       "\n",
       "[420 rows x 12 columns]"
      ]
     },
     "execution_count": 27,
     "metadata": {},
     "output_type": "execute_result"
    }
   ],
   "source": [
    "df[df['Total'] >= 435].sort_values(by='Total',\n",
    "                                              ascending=False,\n",
    "                                              inplace=False)"
   ]
  },
  {
   "cell_type": "markdown",
   "id": "92bfc3f3",
   "metadata": {},
   "source": [
    "<b>Showing pokemon with rate less than 430</b>"
   ]
  },
  {
   "cell_type": "code",
   "execution_count": 28,
   "id": "3a05a683",
   "metadata": {},
   "outputs": [
    {
     "data": {
      "text/html": [
       "<div>\n",
       "<style scoped>\n",
       "    .dataframe tbody tr th:only-of-type {\n",
       "        vertical-align: middle;\n",
       "    }\n",
       "\n",
       "    .dataframe tbody tr th {\n",
       "        vertical-align: top;\n",
       "    }\n",
       "\n",
       "    .dataframe thead th {\n",
       "        text-align: right;\n",
       "    }\n",
       "</style>\n",
       "<table border=\"1\" class=\"dataframe\">\n",
       "  <thead>\n",
       "    <tr style=\"text-align: right;\">\n",
       "      <th></th>\n",
       "      <th>No.</th>\n",
       "      <th>Nama Pokemon</th>\n",
       "      <th>Tipe 1</th>\n",
       "      <th>Tipe 2</th>\n",
       "      <th>Total</th>\n",
       "      <th>Hit Point</th>\n",
       "      <th>Serangan</th>\n",
       "      <th>Pertahanan</th>\n",
       "      <th>Serangan Spesial</th>\n",
       "      <th>Pertahanan Spesial</th>\n",
       "      <th>Kecepatan</th>\n",
       "      <th>Generasi</th>\n",
       "    </tr>\n",
       "  </thead>\n",
       "  <tbody>\n",
       "    <tr>\n",
       "      <th>206</th>\n",
       "      <td>191</td>\n",
       "      <td>Sunkern</td>\n",
       "      <td>Grass</td>\n",
       "      <td>-</td>\n",
       "      <td>180</td>\n",
       "      <td>30</td>\n",
       "      <td>30</td>\n",
       "      <td>30</td>\n",
       "      <td>30</td>\n",
       "      <td>30</td>\n",
       "      <td>30</td>\n",
       "      <td>2</td>\n",
       "    </tr>\n",
       "    <tr>\n",
       "      <th>322</th>\n",
       "      <td>298</td>\n",
       "      <td>Azurill</td>\n",
       "      <td>Normal</td>\n",
       "      <td>Fairy</td>\n",
       "      <td>190</td>\n",
       "      <td>50</td>\n",
       "      <td>20</td>\n",
       "      <td>40</td>\n",
       "      <td>20</td>\n",
       "      <td>40</td>\n",
       "      <td>20</td>\n",
       "      <td>3</td>\n",
       "    </tr>\n",
       "    <tr>\n",
       "      <th>446</th>\n",
       "      <td>401</td>\n",
       "      <td>Kricketot</td>\n",
       "      <td>Bug</td>\n",
       "      <td>-</td>\n",
       "      <td>194</td>\n",
       "      <td>37</td>\n",
       "      <td>25</td>\n",
       "      <td>41</td>\n",
       "      <td>25</td>\n",
       "      <td>41</td>\n",
       "      <td>25</td>\n",
       "      <td>4</td>\n",
       "    </tr>\n",
       "    <tr>\n",
       "      <th>13</th>\n",
       "      <td>10</td>\n",
       "      <td>Caterpie</td>\n",
       "      <td>Bug</td>\n",
       "      <td>-</td>\n",
       "      <td>195</td>\n",
       "      <td>45</td>\n",
       "      <td>30</td>\n",
       "      <td>35</td>\n",
       "      <td>20</td>\n",
       "      <td>20</td>\n",
       "      <td>45</td>\n",
       "      <td>1</td>\n",
       "    </tr>\n",
       "    <tr>\n",
       "      <th>16</th>\n",
       "      <td>13</td>\n",
       "      <td>Weedle</td>\n",
       "      <td>Bug</td>\n",
       "      <td>Poison</td>\n",
       "      <td>195</td>\n",
       "      <td>40</td>\n",
       "      <td>35</td>\n",
       "      <td>30</td>\n",
       "      <td>20</td>\n",
       "      <td>20</td>\n",
       "      <td>50</td>\n",
       "      <td>1</td>\n",
       "    </tr>\n",
       "    <tr>\n",
       "      <th>...</th>\n",
       "      <td>...</td>\n",
       "      <td>...</td>\n",
       "      <td>...</td>\n",
       "      <td>...</td>\n",
       "      <td>...</td>\n",
       "      <td>...</td>\n",
       "      <td>...</td>\n",
       "      <td>...</td>\n",
       "      <td>...</td>\n",
       "      <td>...</td>\n",
       "      <td>...</td>\n",
       "      <td>...</td>\n",
       "    </tr>\n",
       "    <tr>\n",
       "      <th>302</th>\n",
       "      <td>279</td>\n",
       "      <td>Pelipper</td>\n",
       "      <td>Water</td>\n",
       "      <td>Flying</td>\n",
       "      <td>430</td>\n",
       "      <td>60</td>\n",
       "      <td>50</td>\n",
       "      <td>100</td>\n",
       "      <td>85</td>\n",
       "      <td>70</td>\n",
       "      <td>65</td>\n",
       "      <td>3</td>\n",
       "    </tr>\n",
       "    <tr>\n",
       "      <th>227</th>\n",
       "      <td>211</td>\n",
       "      <td>Qwilfish</td>\n",
       "      <td>Water</td>\n",
       "      <td>Poison</td>\n",
       "      <td>430</td>\n",
       "      <td>65</td>\n",
       "      <td>95</td>\n",
       "      <td>75</td>\n",
       "      <td>55</td>\n",
       "      <td>55</td>\n",
       "      <td>85</td>\n",
       "      <td>2</td>\n",
       "    </tr>\n",
       "    <tr>\n",
       "      <th>331</th>\n",
       "      <td>305</td>\n",
       "      <td>Lairon</td>\n",
       "      <td>Steel</td>\n",
       "      <td>Rock</td>\n",
       "      <td>430</td>\n",
       "      <td>60</td>\n",
       "      <td>90</td>\n",
       "      <td>140</td>\n",
       "      <td>50</td>\n",
       "      <td>50</td>\n",
       "      <td>40</td>\n",
       "      <td>3</td>\n",
       "    </tr>\n",
       "    <tr>\n",
       "      <th>233</th>\n",
       "      <td>215</td>\n",
       "      <td>Sneasel</td>\n",
       "      <td>Dark</td>\n",
       "      <td>Ice</td>\n",
       "      <td>430</td>\n",
       "      <td>55</td>\n",
       "      <td>95</td>\n",
       "      <td>55</td>\n",
       "      <td>35</td>\n",
       "      <td>75</td>\n",
       "      <td>115</td>\n",
       "      <td>2</td>\n",
       "    </tr>\n",
       "    <tr>\n",
       "      <th>772</th>\n",
       "      <td>702</td>\n",
       "      <td>Dedenne</td>\n",
       "      <td>Electric</td>\n",
       "      <td>Fairy</td>\n",
       "      <td>431</td>\n",
       "      <td>67</td>\n",
       "      <td>58</td>\n",
       "      <td>57</td>\n",
       "      <td>81</td>\n",
       "      <td>67</td>\n",
       "      <td>101</td>\n",
       "      <td>6</td>\n",
       "    </tr>\n",
       "  </tbody>\n",
       "</table>\n",
       "<p>380 rows × 12 columns</p>\n",
       "</div>"
      ],
      "text/plain": [
       "     No. Nama Pokemon    Tipe 1  Tipe 2  Total  Hit Point  Serangan  \\\n",
       "206  191      Sunkern     Grass       -    180         30        30   \n",
       "322  298      Azurill    Normal   Fairy    190         50        20   \n",
       "446  401    Kricketot       Bug       -    194         37        25   \n",
       "13    10     Caterpie       Bug       -    195         45        30   \n",
       "16    13       Weedle       Bug  Poison    195         40        35   \n",
       "..   ...          ...       ...     ...    ...        ...       ...   \n",
       "302  279     Pelipper     Water  Flying    430         60        50   \n",
       "227  211     Qwilfish     Water  Poison    430         65        95   \n",
       "331  305       Lairon     Steel    Rock    430         60        90   \n",
       "233  215      Sneasel      Dark     Ice    430         55        95   \n",
       "772  702      Dedenne  Electric   Fairy    431         67        58   \n",
       "\n",
       "     Pertahanan  Serangan Spesial  Pertahanan Spesial  Kecepatan  Generasi  \n",
       "206          30                30                  30         30         2  \n",
       "322          40                20                  40         20         3  \n",
       "446          41                25                  41         25         4  \n",
       "13           35                20                  20         45         1  \n",
       "16           30                20                  20         50         1  \n",
       "..          ...               ...                 ...        ...       ...  \n",
       "302         100                85                  70         65         3  \n",
       "227          75                55                  55         85         2  \n",
       "331         140                50                  50         40         3  \n",
       "233          55                35                  75        115         2  \n",
       "772          57                81                  67        101         6  \n",
       "\n",
       "[380 rows x 12 columns]"
      ]
     },
     "execution_count": 28,
     "metadata": {},
     "output_type": "execute_result"
    }
   ],
   "source": [
    "df[df['Total'] < 435].sort_values(by='Total',\n",
    "                                              ascending=True,\n",
    "                                              inplace=False)"
   ]
  },
  {
   "cell_type": "markdown",
   "id": "d5dc5e1b",
   "metadata": {},
   "source": [
    "<b>Showing max values in Serangan columns</b>"
   ]
  },
  {
   "cell_type": "code",
   "execution_count": 29,
   "id": "e038e9be",
   "metadata": {},
   "outputs": [
    {
     "data": {
      "text/plain": [
       "190"
      ]
     },
     "execution_count": 29,
     "metadata": {},
     "output_type": "execute_result"
    }
   ],
   "source": [
    "poke_str_max = df[\"Serangan\"].max() \n",
    "poke_str_max"
   ]
  },
  {
   "cell_type": "markdown",
   "id": "3e29d417",
   "metadata": {},
   "source": [
    "<b>Showing pokemon with strenght 190</b>"
   ]
  },
  {
   "cell_type": "code",
   "execution_count": 31,
   "id": "ff71a912",
   "metadata": {},
   "outputs": [
    {
     "data": {
      "text/html": [
       "<div>\n",
       "<style scoped>\n",
       "    .dataframe tbody tr th:only-of-type {\n",
       "        vertical-align: middle;\n",
       "    }\n",
       "\n",
       "    .dataframe tbody tr th {\n",
       "        vertical-align: top;\n",
       "    }\n",
       "\n",
       "    .dataframe thead th {\n",
       "        text-align: right;\n",
       "    }\n",
       "</style>\n",
       "<table border=\"1\" class=\"dataframe\">\n",
       "  <thead>\n",
       "    <tr style=\"text-align: right;\">\n",
       "      <th></th>\n",
       "      <th>No.</th>\n",
       "      <th>Nama Pokemon</th>\n",
       "      <th>Tipe 1</th>\n",
       "      <th>Tipe 2</th>\n",
       "      <th>Total</th>\n",
       "      <th>Hit Point</th>\n",
       "      <th>Serangan</th>\n",
       "      <th>Pertahanan</th>\n",
       "      <th>Serangan Spesial</th>\n",
       "      <th>Pertahanan Spesial</th>\n",
       "      <th>Kecepatan</th>\n",
       "      <th>Generasi</th>\n",
       "    </tr>\n",
       "  </thead>\n",
       "  <tbody>\n",
       "    <tr>\n",
       "      <th>163</th>\n",
       "      <td>150</td>\n",
       "      <td>MewtwoMega Mewtwo X</td>\n",
       "      <td>Psychic</td>\n",
       "      <td>Fighting</td>\n",
       "      <td>780</td>\n",
       "      <td>106</td>\n",
       "      <td>190</td>\n",
       "      <td>100</td>\n",
       "      <td>154</td>\n",
       "      <td>100</td>\n",
       "      <td>130</td>\n",
       "      <td>1</td>\n",
       "    </tr>\n",
       "  </tbody>\n",
       "</table>\n",
       "</div>"
      ],
      "text/plain": [
       "     No.         Nama Pokemon   Tipe 1    Tipe 2  Total  Hit Point  Serangan  \\\n",
       "163  150  MewtwoMega Mewtwo X  Psychic  Fighting    780        106       190   \n",
       "\n",
       "     Pertahanan  Serangan Spesial  Pertahanan Spesial  Kecepatan  Generasi  \n",
       "163         100               154                 100        130         1  "
      ]
     },
     "execution_count": 31,
     "metadata": {},
     "output_type": "execute_result"
    }
   ],
   "source": [
    "df[df['Serangan'] == 190]"
   ]
  },
  {
   "cell_type": "markdown",
   "id": "477451a0",
   "metadata": {},
   "source": [
    "<b>Showing max values in Pertahanan columns</b>"
   ]
  },
  {
   "cell_type": "code",
   "execution_count": 32,
   "id": "bdea648f",
   "metadata": {},
   "outputs": [
    {
     "data": {
      "text/plain": [
       "230"
      ]
     },
     "execution_count": 32,
     "metadata": {},
     "output_type": "execute_result"
    }
   ],
   "source": [
    "poke_def_max = df[\"Pertahanan\"].max() \n",
    "poke_def_max"
   ]
  },
  {
   "cell_type": "markdown",
   "id": "fa7d317d",
   "metadata": {},
   "source": [
    "<b>Showing pokemon with defense 230</b>"
   ]
  },
  {
   "cell_type": "code",
   "execution_count": 33,
   "id": "78df7092",
   "metadata": {},
   "outputs": [
    {
     "data": {
      "text/html": [
       "<div>\n",
       "<style scoped>\n",
       "    .dataframe tbody tr th:only-of-type {\n",
       "        vertical-align: middle;\n",
       "    }\n",
       "\n",
       "    .dataframe tbody tr th {\n",
       "        vertical-align: top;\n",
       "    }\n",
       "\n",
       "    .dataframe thead th {\n",
       "        text-align: right;\n",
       "    }\n",
       "</style>\n",
       "<table border=\"1\" class=\"dataframe\">\n",
       "  <thead>\n",
       "    <tr style=\"text-align: right;\">\n",
       "      <th></th>\n",
       "      <th>No.</th>\n",
       "      <th>Nama Pokemon</th>\n",
       "      <th>Tipe 1</th>\n",
       "      <th>Tipe 2</th>\n",
       "      <th>Total</th>\n",
       "      <th>Hit Point</th>\n",
       "      <th>Serangan</th>\n",
       "      <th>Pertahanan</th>\n",
       "      <th>Serangan Spesial</th>\n",
       "      <th>Pertahanan Spesial</th>\n",
       "      <th>Kecepatan</th>\n",
       "      <th>Generasi</th>\n",
       "    </tr>\n",
       "  </thead>\n",
       "  <tbody>\n",
       "    <tr>\n",
       "      <th>224</th>\n",
       "      <td>208</td>\n",
       "      <td>SteelixMega Steelix</td>\n",
       "      <td>Steel</td>\n",
       "      <td>Ground</td>\n",
       "      <td>610</td>\n",
       "      <td>75</td>\n",
       "      <td>125</td>\n",
       "      <td>230</td>\n",
       "      <td>55</td>\n",
       "      <td>95</td>\n",
       "      <td>30</td>\n",
       "      <td>2</td>\n",
       "    </tr>\n",
       "    <tr>\n",
       "      <th>230</th>\n",
       "      <td>213</td>\n",
       "      <td>Shuckle</td>\n",
       "      <td>Bug</td>\n",
       "      <td>Rock</td>\n",
       "      <td>505</td>\n",
       "      <td>20</td>\n",
       "      <td>10</td>\n",
       "      <td>230</td>\n",
       "      <td>10</td>\n",
       "      <td>230</td>\n",
       "      <td>5</td>\n",
       "      <td>2</td>\n",
       "    </tr>\n",
       "    <tr>\n",
       "      <th>333</th>\n",
       "      <td>306</td>\n",
       "      <td>AggronMega Aggron</td>\n",
       "      <td>Steel</td>\n",
       "      <td>-</td>\n",
       "      <td>630</td>\n",
       "      <td>70</td>\n",
       "      <td>140</td>\n",
       "      <td>230</td>\n",
       "      <td>60</td>\n",
       "      <td>80</td>\n",
       "      <td>50</td>\n",
       "      <td>3</td>\n",
       "    </tr>\n",
       "  </tbody>\n",
       "</table>\n",
       "</div>"
      ],
      "text/plain": [
       "     No.         Nama Pokemon Tipe 1  Tipe 2  Total  Hit Point  Serangan  \\\n",
       "224  208  SteelixMega Steelix  Steel  Ground    610         75       125   \n",
       "230  213              Shuckle    Bug    Rock    505         20        10   \n",
       "333  306    AggronMega Aggron  Steel       -    630         70       140   \n",
       "\n",
       "     Pertahanan  Serangan Spesial  Pertahanan Spesial  Kecepatan  Generasi  \n",
       "224         230                55                  95         30         2  \n",
       "230         230                10                 230          5         2  \n",
       "333         230                60                  80         50         3  "
      ]
     },
     "execution_count": 33,
     "metadata": {},
     "output_type": "execute_result"
    }
   ],
   "source": [
    "df[df['Pertahanan'] == 230]"
   ]
  },
  {
   "cell_type": "markdown",
   "id": "96a48cac",
   "metadata": {},
   "source": [
    "<b>Showing pokemon with type 1 'Water' and type 2 'Flying' and total equal or greater than mean 435</b>"
   ]
  },
  {
   "cell_type": "code",
   "execution_count": 34,
   "id": "ca5cd738",
   "metadata": {},
   "outputs": [
    {
     "data": {
      "text/html": [
       "<div>\n",
       "<style scoped>\n",
       "    .dataframe tbody tr th:only-of-type {\n",
       "        vertical-align: middle;\n",
       "    }\n",
       "\n",
       "    .dataframe tbody tr th {\n",
       "        vertical-align: top;\n",
       "    }\n",
       "\n",
       "    .dataframe thead th {\n",
       "        text-align: right;\n",
       "    }\n",
       "</style>\n",
       "<table border=\"1\" class=\"dataframe\">\n",
       "  <thead>\n",
       "    <tr style=\"text-align: right;\">\n",
       "      <th></th>\n",
       "      <th>No.</th>\n",
       "      <th>Nama Pokemon</th>\n",
       "      <th>Tipe 1</th>\n",
       "      <th>Tipe 2</th>\n",
       "      <th>Total</th>\n",
       "      <th>Hit Point</th>\n",
       "      <th>Serangan</th>\n",
       "      <th>Pertahanan</th>\n",
       "      <th>Serangan Spesial</th>\n",
       "      <th>Pertahanan Spesial</th>\n",
       "      <th>Kecepatan</th>\n",
       "      <th>Generasi</th>\n",
       "    </tr>\n",
       "  </thead>\n",
       "  <tbody>\n",
       "    <tr>\n",
       "      <th>140</th>\n",
       "      <td>130</td>\n",
       "      <td>Gyarados</td>\n",
       "      <td>Water</td>\n",
       "      <td>Flying</td>\n",
       "      <td>540</td>\n",
       "      <td>95</td>\n",
       "      <td>125</td>\n",
       "      <td>79</td>\n",
       "      <td>60</td>\n",
       "      <td>100</td>\n",
       "      <td>81</td>\n",
       "      <td>1</td>\n",
       "    </tr>\n",
       "    <tr>\n",
       "      <th>244</th>\n",
       "      <td>226</td>\n",
       "      <td>Mantine</td>\n",
       "      <td>Water</td>\n",
       "      <td>Flying</td>\n",
       "      <td>465</td>\n",
       "      <td>65</td>\n",
       "      <td>40</td>\n",
       "      <td>70</td>\n",
       "      <td>80</td>\n",
       "      <td>140</td>\n",
       "      <td>70</td>\n",
       "      <td>2</td>\n",
       "    </tr>\n",
       "    <tr>\n",
       "      <th>642</th>\n",
       "      <td>581</td>\n",
       "      <td>Swanna</td>\n",
       "      <td>Water</td>\n",
       "      <td>Flying</td>\n",
       "      <td>473</td>\n",
       "      <td>75</td>\n",
       "      <td>87</td>\n",
       "      <td>63</td>\n",
       "      <td>87</td>\n",
       "      <td>63</td>\n",
       "      <td>98</td>\n",
       "      <td>5</td>\n",
       "    </tr>\n",
       "  </tbody>\n",
       "</table>\n",
       "</div>"
      ],
      "text/plain": [
       "     No. Nama Pokemon Tipe 1  Tipe 2  Total  Hit Point  Serangan  Pertahanan  \\\n",
       "140  130     Gyarados  Water  Flying    540         95       125          79   \n",
       "244  226      Mantine  Water  Flying    465         65        40          70   \n",
       "642  581       Swanna  Water  Flying    473         75        87          63   \n",
       "\n",
       "     Serangan Spesial  Pertahanan Spesial  Kecepatan  Generasi  \n",
       "140                60                 100         81         1  \n",
       "244                80                 140         70         2  \n",
       "642                87                  63         98         5  "
      ]
     },
     "execution_count": 34,
     "metadata": {},
     "output_type": "execute_result"
    }
   ],
   "source": [
    "df[(df[\"Tipe 1\"] == \"Water\") & (df[\"Tipe 2\"] == \"Flying\") &\n",
    "   (df[\"Total\"] >= 435)]"
   ]
  },
  {
   "cell_type": "markdown",
   "id": "34e851d9",
   "metadata": {},
   "source": [
    "<b>Showing pokemon with type 1 'Water' and type 2 'Flying' and total equal or less than mean 435</b>"
   ]
  },
  {
   "cell_type": "code",
   "execution_count": 36,
   "id": "e61bee30",
   "metadata": {},
   "outputs": [
    {
     "data": {
      "text/html": [
       "<div>\n",
       "<style scoped>\n",
       "    .dataframe tbody tr th:only-of-type {\n",
       "        vertical-align: middle;\n",
       "    }\n",
       "\n",
       "    .dataframe tbody tr th {\n",
       "        vertical-align: top;\n",
       "    }\n",
       "\n",
       "    .dataframe thead th {\n",
       "        text-align: right;\n",
       "    }\n",
       "</style>\n",
       "<table border=\"1\" class=\"dataframe\">\n",
       "  <thead>\n",
       "    <tr style=\"text-align: right;\">\n",
       "      <th></th>\n",
       "      <th>No.</th>\n",
       "      <th>Nama Pokemon</th>\n",
       "      <th>Tipe 1</th>\n",
       "      <th>Tipe 2</th>\n",
       "      <th>Total</th>\n",
       "      <th>Hit Point</th>\n",
       "      <th>Serangan</th>\n",
       "      <th>Pertahanan</th>\n",
       "      <th>Serangan Spesial</th>\n",
       "      <th>Pertahanan Spesial</th>\n",
       "      <th>Kecepatan</th>\n",
       "      <th>Generasi</th>\n",
       "    </tr>\n",
       "  </thead>\n",
       "  <tbody>\n",
       "    <tr>\n",
       "      <th>301</th>\n",
       "      <td>278</td>\n",
       "      <td>Wingull</td>\n",
       "      <td>Water</td>\n",
       "      <td>Flying</td>\n",
       "      <td>270</td>\n",
       "      <td>40</td>\n",
       "      <td>30</td>\n",
       "      <td>30</td>\n",
       "      <td>55</td>\n",
       "      <td>30</td>\n",
       "      <td>85</td>\n",
       "      <td>3</td>\n",
       "    </tr>\n",
       "    <tr>\n",
       "      <th>302</th>\n",
       "      <td>279</td>\n",
       "      <td>Pelipper</td>\n",
       "      <td>Water</td>\n",
       "      <td>Flying</td>\n",
       "      <td>430</td>\n",
       "      <td>60</td>\n",
       "      <td>50</td>\n",
       "      <td>100</td>\n",
       "      <td>85</td>\n",
       "      <td>70</td>\n",
       "      <td>65</td>\n",
       "      <td>3</td>\n",
       "    </tr>\n",
       "    <tr>\n",
       "      <th>508</th>\n",
       "      <td>458</td>\n",
       "      <td>Mantyke</td>\n",
       "      <td>Water</td>\n",
       "      <td>Flying</td>\n",
       "      <td>345</td>\n",
       "      <td>45</td>\n",
       "      <td>20</td>\n",
       "      <td>50</td>\n",
       "      <td>60</td>\n",
       "      <td>120</td>\n",
       "      <td>50</td>\n",
       "      <td>4</td>\n",
       "    </tr>\n",
       "    <tr>\n",
       "      <th>641</th>\n",
       "      <td>580</td>\n",
       "      <td>Ducklett</td>\n",
       "      <td>Water</td>\n",
       "      <td>Flying</td>\n",
       "      <td>305</td>\n",
       "      <td>62</td>\n",
       "      <td>44</td>\n",
       "      <td>50</td>\n",
       "      <td>44</td>\n",
       "      <td>50</td>\n",
       "      <td>55</td>\n",
       "      <td>5</td>\n",
       "    </tr>\n",
       "  </tbody>\n",
       "</table>\n",
       "</div>"
      ],
      "text/plain": [
       "     No. Nama Pokemon Tipe 1  Tipe 2  Total  Hit Point  Serangan  Pertahanan  \\\n",
       "301  278      Wingull  Water  Flying    270         40        30          30   \n",
       "302  279     Pelipper  Water  Flying    430         60        50         100   \n",
       "508  458      Mantyke  Water  Flying    345         45        20          50   \n",
       "641  580     Ducklett  Water  Flying    305         62        44          50   \n",
       "\n",
       "     Serangan Spesial  Pertahanan Spesial  Kecepatan  Generasi  \n",
       "301                55                  30         85         3  \n",
       "302                85                  70         65         3  \n",
       "508                60                 120         50         4  \n",
       "641                44                  50         55         5  "
      ]
     },
     "execution_count": 36,
     "metadata": {},
     "output_type": "execute_result"
    }
   ],
   "source": [
    "df[(df[\"Tipe 1\"] == \"Water\") & (df[\"Tipe 2\"] == \"Flying\") &\n",
    "   (df[\"Total\"] <= 435)]"
   ]
  },
  {
   "cell_type": "markdown",
   "id": "cd988b68",
   "metadata": {},
   "source": [
    "<strong>GROUPING AND AGREGATING</strong>"
   ]
  },
  {
   "cell_type": "markdown",
   "id": "e63c12e1",
   "metadata": {},
   "source": [
    "<b>Pokemon grouping by type 1, type 2, generation and count type each generation</b>"
   ]
  },
  {
   "cell_type": "code",
   "execution_count": 37,
   "id": "df5bc7d4",
   "metadata": {},
   "outputs": [
    {
     "data": {
      "text/plain": [
       "Tipe 1  Tipe 2    Generasi\n",
       "Dark    Flying    4           1\n",
       "                  5           1\n",
       "                  6           1\n",
       "Dragon  Electric  5           1\n",
       "        Fire      5           1\n",
       "                             ..\n",
       "Water   Ground    3           3\n",
       "                  4           1\n",
       "                  5           1\n",
       "        Ice       1           1\n",
       "        Rock      3           1\n",
       "Name: Generasi, Length: 70, dtype: int64"
      ]
     },
     "execution_count": 37,
     "metadata": {},
     "output_type": "execute_result"
    }
   ],
   "source": [
    "df[(df[\"Total\"] >= 435) & (df[\"Hit Point\"] >= 100)].groupby(\n",
    "    [\"Tipe 1\", \"Tipe 2\", \"Generasi\"])[\"Generasi\"].count()"
   ]
  },
  {
   "cell_type": "markdown",
   "id": "a3154caf",
   "metadata": {},
   "source": [
    "<b>Pokemon grouping by type 1, type 2, pokemon name and generation name</b>"
   ]
  },
  {
   "cell_type": "code",
   "execution_count": 43,
   "id": "c1b890cc",
   "metadata": {},
   "outputs": [
    {
     "data": {
      "text/plain": [
       "Tipe 1  Tipe 2  Nama Pokemon         \n",
       "Water   Ground  Swampert                 1\n",
       "                SwampertMega Swampert    1\n",
       "                Whiscash                 1\n",
       "Name: Generasi, dtype: int64"
      ]
     },
     "execution_count": 43,
     "metadata": {},
     "output_type": "execute_result"
    }
   ],
   "source": [
    "df[(df[\"Tipe 1\"] == \"Water\") & (df[\"Tipe 2\"] == \"Ground\") &\n",
    "   (df[\"Hit Point\"] >= 100) & (df[\"Generasi\"] == 3)].groupby(\n",
    "       [\"Tipe 1\", \"Tipe 2\", \"Nama Pokemon\"])[\"Generasi\"].count()"
   ]
  },
  {
   "cell_type": "markdown",
   "id": "46fedd5b",
   "metadata": {},
   "source": [
    "<b>Pokemon grouping by attack, defense, HP and speed</b>"
   ]
  },
  {
   "cell_type": "code",
   "execution_count": 42,
   "id": "921566ea",
   "metadata": {},
   "outputs": [
    {
     "data": {
      "text/plain": [
       "Serangan  Pertahanan  Hit Point  Kecepatan\n",
       "100       100         100        100          6\n",
       "120       120         120        120          1\n",
       "125       100         105        100          1\n",
       "160       100         150        100          1\n",
       "          110         110        100          1\n",
       "180       100         105        115          1\n",
       "190       100         106        130          1\n",
       "Name: Nama Pokemon, dtype: int64"
      ]
     },
     "execution_count": 42,
     "metadata": {},
     "output_type": "execute_result"
    }
   ],
   "source": [
    "df[(df[\"Serangan\"] >= 100) & (df[\"Pertahanan\"] >= 100) &\n",
    "   (df[\"Hit Point\"] >= 100) & (df[\"Kecepatan\"] >= 100)].groupby(\n",
    "       [\"Serangan\", \"Pertahanan\", \"Hit Point\",\"Kecepatan\"])[\"Nama Pokemon\"].count()"
   ]
  },
  {
   "cell_type": "markdown",
   "id": "46f2650f",
   "metadata": {},
   "source": [
    "<strong>SIMPLE VISUALIZATION WITH PANDAS</strong>"
   ]
  },
  {
   "cell_type": "markdown",
   "id": "63186115",
   "metadata": {},
   "source": [
    "<b>Visualiztion strongest pokemon with Bar chart, in case with total strenght above 690</b>"
   ]
  },
  {
   "cell_type": "code",
   "execution_count": 44,
   "id": "ea01f9b3",
   "metadata": {},
   "outputs": [
    {
     "data": {
      "image/png": "[encoded data removed]",
      "text/plain": [
       "<Figure size 432x288 with 1 Axes>"
      ]
     },
     "metadata": {
      "needs_background": "light"
     },
     "output_type": "display_data"
    }
   ],
   "source": [
    "total_max_vis = df[df['Total'] > 690].groupby('Nama Pokemon')[\"Total\"].sum().tail(10).plot(kind='bar')"
   ]
  },
  {
   "cell_type": "markdown",
   "id": "11ca4dcb",
   "metadata": {},
   "source": [
    "<b>Visualiztion strongest pokemon with Bar chart, in case with total strenght below 250</b>"
   ]
  },
  {
   "cell_type": "code",
   "execution_count": 45,
   "id": "458ed244",
   "metadata": {},
   "outputs": [
    {
     "data": {
      "image/png": "[encoded data removed]",
      "text/plain": [
       "<Figure size 432x288 with 1 Axes>"
      ]
     },
     "metadata": {
      "needs_background": "light"
     },
     "output_type": "display_data"
    }
   ],
   "source": [
    "total_min_vis = df[df['Total'] < 250].groupby('Nama Pokemon')[\"Total\"].sum().tail(10).plot(kind='bar')"
   ]
  },
  {
   "cell_type": "markdown",
   "id": "aab3faad",
   "metadata": {},
   "source": [
    "<b>Visualiztion attack pokemon with Bar chart, in case with attack above 150 </b>"
   ]
  },
  {
   "cell_type": "code",
   "execution_count": 47,
   "id": "03893cc8",
   "metadata": {},
   "outputs": [
    {
     "data": {
      "image/png": "[encoded data removed]",
      "text/plain": [
       "<Figure size 432x288 with 1 Axes>"
      ]
     },
     "metadata": {
      "needs_background": "light"
     },
     "output_type": "display_data"
    }
   ],
   "source": [
    "attack_vis = df[df['Serangan'] > 150].groupby('Nama Pokemon')[\"Serangan\"].sum().tail(10).plot(kind='bar')"
   ]
  },
  {
   "cell_type": "markdown",
   "id": "59b70dc5",
   "metadata": {},
   "source": [
    "<b>Visualiztion defense pokemon with Bar chart, in case with defense above 150</b>"
   ]
  },
  {
   "cell_type": "code",
   "execution_count": 48,
   "id": "13c5283b",
   "metadata": {},
   "outputs": [
    {
     "data": {
      "image/png": "[encoded data removed]",
      "text/plain": [
       "<Figure size 432x288 with 1 Axes>"
      ]
     },
     "metadata": {
      "needs_background": "light"
     },
     "output_type": "display_data"
    }
   ],
   "source": [
    "defense_vis = df[df['Pertahanan'] > 150].groupby('Nama Pokemon')[\"Pertahanan\"].sum().tail(10).plot(kind='bar')"
   ]
  },
  {
   "cell_type": "markdown",
   "id": "64f3ea29",
   "metadata": {},
   "source": [
    "# 6. Pengambilan Kesimpulan"
   ]
  },
  {
   "cell_type": "markdown",
   "id": "ec8e9321",
   "metadata": {},
   "source": [
    "Pada bab terakhir ini, harus berisi kesimpulan yang mencerminkan hasil yang didapat dengan dibandingkan dengan objective yang sudah ditulis di bagian pengenalan."
   ]
  },
  {
   "cell_type": "markdown",
   "id": "011831ae",
   "metadata": {},
   "source": [
    "Dari hasil explorasi dan alanisis data yang telah kami lakukan terdapat beberapa kesimpulan sebagai berikut:\n",
    "1. Berdasarkan jumlah pokemon yang ada, kami mendapatkan 3 pokemon terkuat dengan Kekutan <b>780</b>, yaitu:<br/>\n",
    "    a. MewtwoMega Mewtwo X <br/>\n",
    "    b. MewtwoMega Mewtwo Y <br/>\n",
    "    c. RayquazaMega Rayquaza<br/>\n",
    "2. Berdasarkan jumlah pokemon yang ada, hanya ada 1 pokemon dengan kekuatan terlemah, dengan kekuatan <b>180</b>, yaitu:<br/>\n",
    "    a. Sunkern</br>\n",
    "3. Berdasarkan jumlah pokemon yang ada, kami mendapatkan 1 pokemon dengan Serangan terkuat yaitu <b>MewtwoMega Mewtwo X</b> dengan nilai sebesar <b>190</b> dan mendapatkan 3 pokemon dengan pertahanan terbaik, dengan nilai <b>230</b> yaitu:<br/>\n",
    "    a. SteelixMega Steelix <br/>\n",
    "    b. Shuckle <br/>\n",
    "    c. AggronMega Aggron <br/>"
   ]
  }
 ],
 "metadata": {
  "kernelspec": {
   "display_name": "Python 3",
   "language": "python",
   "name": "python3"
  },
  "language_info": {
   "codemirror_mode": {
    "name": "ipython",
    "version": 3
   },
   "file_extension": ".py",
   "mimetype": "text/x-python",
   "name": "python",
   "nbconvert_exporter": "python",
   "pygments_lexer": "ipython3",
   "version": "3.8.8"
  }
 },
 "nbformat": 4,
 "nbformat_minor": 5
}
