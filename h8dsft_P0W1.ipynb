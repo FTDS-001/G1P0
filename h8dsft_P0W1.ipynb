{
 "cells": [
  {
   "cell_type": "markdown",
   "id": "ab98ebaa",
   "metadata": {},
   "source": [
    "# 1. Perkenalan"
   ]
  },
  {
   "cell_type": "markdown",
   "id": "db5a4088",
   "metadata": {},
   "source": [
    "## Nama :  Stefanus Dody Kristianto Wicaksono\n",
    "\n",
    "#### 1.1 Gambaran Besar Dataset\n",
    "Dataset ini mencakup 721 karakter game pokemon, yaitu nomor, nama, tipe pertama dan kedua, dan statistik dasar: HP, Serangan, Pertahanan, Serangan Khusus, Pertahanan Khusus, dan Kecepatan.\n",
    "\n",
    "#### 1.2 Sumber Data\n",
    "Dataset asli berasal dari data kaggle: https://www.kaggle.com/abcsds/pokemon\n",
    "\n",
    "#### 1.3 Objective yang ingin dicapai\n",
    "Objective yang ingin dicapai dalam dataset ini adalah melakukan analisis berdasarkan nilai \"Hit Points\" atau \"Health\" terakhir dari Pokemon\n",
    "\n",
    "#### 1.4 Features\n",
    "* #: ID for each pokemon\n",
    "* Name: Name of each pokemon\n",
    "* Type 1: Each pokemon has a type, this determines weakness/resistance to attacks\n",
    "* Type 2: Some pokemon are dual type and have 2\n",
    "* Total: sum of all stats that come after this, a general guide to how strong a pokemon is\n",
    "* HP: hit points, or health, defines how much damage a pokemon can withstand before fainting\n",
    "* Attack: the base modifier for normal attacks (eg. Scratch, Punch)\n",
    "* Defense: the base damage resistance against normal attacks\n",
    "* SP Atk: special attack, the base modifier for special attacks (e.g. fire blast, bubble beam)\n",
    "* SP Def: the base damage resistance against special attacks\n",
    "* Speed: determines which pokemon attacks first each round\n"
   ]
  },
  {
   "cell_type": "markdown",
   "id": "de3fc84e",
   "metadata": {},
   "source": [
    "# 2. Import Library"
   ]
  },
  {
   "cell_type": "code",
   "execution_count": 1,
   "id": "b7b20c9b",
   "metadata": {},
   "outputs": [],
   "source": [
    "import numpy as np\n",
    "import pandas as pd\n",
    "import matplotlib.pyplot as plt\n",
    "\n",
    "%matplotlib inline"
   ]
  },
  {
   "cell_type": "markdown",
   "id": "cc014510",
   "metadata": {},
   "source": [
    "melakukan import pustaka yang dibutuhkan dalam proses pengolahan data"
   ]
  },
  {
   "cell_type": "markdown",
   "id": "a21ad523",
   "metadata": {},
   "source": [
    "# 3. Data Loading"
   ]
  },
  {
   "cell_type": "code",
   "execution_count": 2,
   "id": "0aab7d9a",
   "metadata": {},
   "outputs": [],
   "source": [
    "df = pd.read_csv('Pokemon.csv')"
   ]
  },
  {
   "cell_type": "markdown",
   "id": "6bd2f81f",
   "metadata": {},
   "source": [
    "Memuat dataset dari file \"Pokemon.csv\""
   ]
  },
  {
   "cell_type": "markdown",
   "id": "a4be1d69",
   "metadata": {},
   "source": [
    "#### 3.1 loading dataset"
   ]
  },
  {
   "cell_type": "code",
   "execution_count": 3,
   "id": "f894b2ff",
   "metadata": {},
   "outputs": [
    {
     "data": {
      "text/html": [
       "<div>\n",
       "<style scoped>\n",
       "    .dataframe tbody tr th:only-of-type {\n",
       "        vertical-align: middle;\n",
       "    }\n",
       "\n",
       "    .dataframe tbody tr th {\n",
       "        vertical-align: top;\n",
       "    }\n",
       "\n",
       "    .dataframe thead th {\n",
       "        text-align: right;\n",
       "    }\n",
       "</style>\n",
       "<table border=\"1\" class=\"dataframe\">\n",
       "  <thead>\n",
       "    <tr style=\"text-align: right;\">\n",
       "      <th></th>\n",
       "      <th>#</th>\n",
       "      <th>Name</th>\n",
       "      <th>Type 1</th>\n",
       "      <th>Type 2</th>\n",
       "      <th>Total</th>\n",
       "      <th>HP</th>\n",
       "      <th>Attack</th>\n",
       "      <th>Defense</th>\n",
       "      <th>Sp. Atk</th>\n",
       "      <th>Sp. Def</th>\n",
       "      <th>Speed</th>\n",
       "      <th>Generation</th>\n",
       "      <th>Legendary</th>\n",
       "    </tr>\n",
       "  </thead>\n",
       "  <tbody>\n",
       "    <tr>\n",
       "      <th>0</th>\n",
       "      <td>1</td>\n",
       "      <td>Bulbasaur</td>\n",
       "      <td>Grass</td>\n",
       "      <td>Poison</td>\n",
       "      <td>318</td>\n",
       "      <td>45</td>\n",
       "      <td>49</td>\n",
       "      <td>49</td>\n",
       "      <td>65</td>\n",
       "      <td>65</td>\n",
       "      <td>45</td>\n",
       "      <td>1</td>\n",
       "      <td>False</td>\n",
       "    </tr>\n",
       "    <tr>\n",
       "      <th>1</th>\n",
       "      <td>2</td>\n",
       "      <td>Ivysaur</td>\n",
       "      <td>Grass</td>\n",
       "      <td>Poison</td>\n",
       "      <td>405</td>\n",
       "      <td>60</td>\n",
       "      <td>62</td>\n",
       "      <td>63</td>\n",
       "      <td>80</td>\n",
       "      <td>80</td>\n",
       "      <td>60</td>\n",
       "      <td>1</td>\n",
       "      <td>False</td>\n",
       "    </tr>\n",
       "    <tr>\n",
       "      <th>2</th>\n",
       "      <td>3</td>\n",
       "      <td>Venusaur</td>\n",
       "      <td>Grass</td>\n",
       "      <td>Poison</td>\n",
       "      <td>525</td>\n",
       "      <td>80</td>\n",
       "      <td>82</td>\n",
       "      <td>83</td>\n",
       "      <td>100</td>\n",
       "      <td>100</td>\n",
       "      <td>80</td>\n",
       "      <td>1</td>\n",
       "      <td>False</td>\n",
       "    </tr>\n",
       "    <tr>\n",
       "      <th>3</th>\n",
       "      <td>3</td>\n",
       "      <td>VenusaurMega Venusaur</td>\n",
       "      <td>Grass</td>\n",
       "      <td>Poison</td>\n",
       "      <td>625</td>\n",
       "      <td>80</td>\n",
       "      <td>100</td>\n",
       "      <td>123</td>\n",
       "      <td>122</td>\n",
       "      <td>120</td>\n",
       "      <td>80</td>\n",
       "      <td>1</td>\n",
       "      <td>False</td>\n",
       "    </tr>\n",
       "    <tr>\n",
       "      <th>4</th>\n",
       "      <td>4</td>\n",
       "      <td>Charmander</td>\n",
       "      <td>Fire</td>\n",
       "      <td>NaN</td>\n",
       "      <td>309</td>\n",
       "      <td>39</td>\n",
       "      <td>52</td>\n",
       "      <td>43</td>\n",
       "      <td>60</td>\n",
       "      <td>50</td>\n",
       "      <td>65</td>\n",
       "      <td>1</td>\n",
       "      <td>False</td>\n",
       "    </tr>\n",
       "    <tr>\n",
       "      <th>5</th>\n",
       "      <td>5</td>\n",
       "      <td>Charmeleon</td>\n",
       "      <td>Fire</td>\n",
       "      <td>NaN</td>\n",
       "      <td>405</td>\n",
       "      <td>58</td>\n",
       "      <td>64</td>\n",
       "      <td>58</td>\n",
       "      <td>80</td>\n",
       "      <td>65</td>\n",
       "      <td>80</td>\n",
       "      <td>1</td>\n",
       "      <td>False</td>\n",
       "    </tr>\n",
       "    <tr>\n",
       "      <th>6</th>\n",
       "      <td>6</td>\n",
       "      <td>Charizard</td>\n",
       "      <td>Fire</td>\n",
       "      <td>Flying</td>\n",
       "      <td>534</td>\n",
       "      <td>78</td>\n",
       "      <td>84</td>\n",
       "      <td>78</td>\n",
       "      <td>109</td>\n",
       "      <td>85</td>\n",
       "      <td>100</td>\n",
       "      <td>1</td>\n",
       "      <td>False</td>\n",
       "    </tr>\n",
       "    <tr>\n",
       "      <th>7</th>\n",
       "      <td>6</td>\n",
       "      <td>CharizardMega Charizard X</td>\n",
       "      <td>Fire</td>\n",
       "      <td>Dragon</td>\n",
       "      <td>634</td>\n",
       "      <td>78</td>\n",
       "      <td>130</td>\n",
       "      <td>111</td>\n",
       "      <td>130</td>\n",
       "      <td>85</td>\n",
       "      <td>100</td>\n",
       "      <td>1</td>\n",
       "      <td>False</td>\n",
       "    </tr>\n",
       "    <tr>\n",
       "      <th>8</th>\n",
       "      <td>6</td>\n",
       "      <td>CharizardMega Charizard Y</td>\n",
       "      <td>Fire</td>\n",
       "      <td>Flying</td>\n",
       "      <td>634</td>\n",
       "      <td>78</td>\n",
       "      <td>104</td>\n",
       "      <td>78</td>\n",
       "      <td>159</td>\n",
       "      <td>115</td>\n",
       "      <td>100</td>\n",
       "      <td>1</td>\n",
       "      <td>False</td>\n",
       "    </tr>\n",
       "    <tr>\n",
       "      <th>9</th>\n",
       "      <td>7</td>\n",
       "      <td>Squirtle</td>\n",
       "      <td>Water</td>\n",
       "      <td>NaN</td>\n",
       "      <td>314</td>\n",
       "      <td>44</td>\n",
       "      <td>48</td>\n",
       "      <td>65</td>\n",
       "      <td>50</td>\n",
       "      <td>64</td>\n",
       "      <td>43</td>\n",
       "      <td>1</td>\n",
       "      <td>False</td>\n",
       "    </tr>\n",
       "  </tbody>\n",
       "</table>\n",
       "</div>"
      ],
      "text/plain": [
       "   #                       Name Type 1  Type 2  Total  HP  Attack  Defense  \\\n",
       "0  1                  Bulbasaur  Grass  Poison    318  45      49       49   \n",
       "1  2                    Ivysaur  Grass  Poison    405  60      62       63   \n",
       "2  3                   Venusaur  Grass  Poison    525  80      82       83   \n",
       "3  3      VenusaurMega Venusaur  Grass  Poison    625  80     100      123   \n",
       "4  4                 Charmander   Fire     NaN    309  39      52       43   \n",
       "5  5                 Charmeleon   Fire     NaN    405  58      64       58   \n",
       "6  6                  Charizard   Fire  Flying    534  78      84       78   \n",
       "7  6  CharizardMega Charizard X   Fire  Dragon    634  78     130      111   \n",
       "8  6  CharizardMega Charizard Y   Fire  Flying    634  78     104       78   \n",
       "9  7                   Squirtle  Water     NaN    314  44      48       65   \n",
       "\n",
       "   Sp. Atk  Sp. Def  Speed  Generation  Legendary  \n",
       "0       65       65     45           1      False  \n",
       "1       80       80     60           1      False  \n",
       "2      100      100     80           1      False  \n",
       "3      122      120     80           1      False  \n",
       "4       60       50     65           1      False  \n",
       "5       80       65     80           1      False  \n",
       "6      109       85    100           1      False  \n",
       "7      130       85    100           1      False  \n",
       "8      159      115    100           1      False  \n",
       "9       50       64     43           1      False  "
      ]
     },
     "execution_count": 3,
     "metadata": {},
     "output_type": "execute_result"
    }
   ],
   "source": [
    "df.head(10)"
   ]
  },
  {
   "cell_type": "markdown",
   "id": "a74f7314",
   "metadata": {},
   "source": [
    "Menampilkan 10 baris teratas dari dataset Pokemon"
   ]
  },
  {
   "cell_type": "code",
   "execution_count": 4,
   "id": "e9161569",
   "metadata": {},
   "outputs": [
    {
     "data": {
      "text/html": [
       "<div>\n",
       "<style scoped>\n",
       "    .dataframe tbody tr th:only-of-type {\n",
       "        vertical-align: middle;\n",
       "    }\n",
       "\n",
       "    .dataframe tbody tr th {\n",
       "        vertical-align: top;\n",
       "    }\n",
       "\n",
       "    .dataframe thead th {\n",
       "        text-align: right;\n",
       "    }\n",
       "</style>\n",
       "<table border=\"1\" class=\"dataframe\">\n",
       "  <thead>\n",
       "    <tr style=\"text-align: right;\">\n",
       "      <th></th>\n",
       "      <th>#</th>\n",
       "      <th>Name</th>\n",
       "      <th>Type 1</th>\n",
       "      <th>Type 2</th>\n",
       "      <th>Total</th>\n",
       "      <th>HP</th>\n",
       "      <th>Attack</th>\n",
       "      <th>Defense</th>\n",
       "      <th>Sp. Atk</th>\n",
       "      <th>Sp. Def</th>\n",
       "      <th>Speed</th>\n",
       "      <th>Generation</th>\n",
       "      <th>Legendary</th>\n",
       "    </tr>\n",
       "  </thead>\n",
       "  <tbody>\n",
       "    <tr>\n",
       "      <th>790</th>\n",
       "      <td>714</td>\n",
       "      <td>Noibat</td>\n",
       "      <td>Flying</td>\n",
       "      <td>Dragon</td>\n",
       "      <td>245</td>\n",
       "      <td>40</td>\n",
       "      <td>30</td>\n",
       "      <td>35</td>\n",
       "      <td>45</td>\n",
       "      <td>40</td>\n",
       "      <td>55</td>\n",
       "      <td>6</td>\n",
       "      <td>False</td>\n",
       "    </tr>\n",
       "    <tr>\n",
       "      <th>791</th>\n",
       "      <td>715</td>\n",
       "      <td>Noivern</td>\n",
       "      <td>Flying</td>\n",
       "      <td>Dragon</td>\n",
       "      <td>535</td>\n",
       "      <td>85</td>\n",
       "      <td>70</td>\n",
       "      <td>80</td>\n",
       "      <td>97</td>\n",
       "      <td>80</td>\n",
       "      <td>123</td>\n",
       "      <td>6</td>\n",
       "      <td>False</td>\n",
       "    </tr>\n",
       "    <tr>\n",
       "      <th>792</th>\n",
       "      <td>716</td>\n",
       "      <td>Xerneas</td>\n",
       "      <td>Fairy</td>\n",
       "      <td>NaN</td>\n",
       "      <td>680</td>\n",
       "      <td>126</td>\n",
       "      <td>131</td>\n",
       "      <td>95</td>\n",
       "      <td>131</td>\n",
       "      <td>98</td>\n",
       "      <td>99</td>\n",
       "      <td>6</td>\n",
       "      <td>True</td>\n",
       "    </tr>\n",
       "    <tr>\n",
       "      <th>793</th>\n",
       "      <td>717</td>\n",
       "      <td>Yveltal</td>\n",
       "      <td>Dark</td>\n",
       "      <td>Flying</td>\n",
       "      <td>680</td>\n",
       "      <td>126</td>\n",
       "      <td>131</td>\n",
       "      <td>95</td>\n",
       "      <td>131</td>\n",
       "      <td>98</td>\n",
       "      <td>99</td>\n",
       "      <td>6</td>\n",
       "      <td>True</td>\n",
       "    </tr>\n",
       "    <tr>\n",
       "      <th>794</th>\n",
       "      <td>718</td>\n",
       "      <td>Zygarde50% Forme</td>\n",
       "      <td>Dragon</td>\n",
       "      <td>Ground</td>\n",
       "      <td>600</td>\n",
       "      <td>108</td>\n",
       "      <td>100</td>\n",
       "      <td>121</td>\n",
       "      <td>81</td>\n",
       "      <td>95</td>\n",
       "      <td>95</td>\n",
       "      <td>6</td>\n",
       "      <td>True</td>\n",
       "    </tr>\n",
       "    <tr>\n",
       "      <th>795</th>\n",
       "      <td>719</td>\n",
       "      <td>Diancie</td>\n",
       "      <td>Rock</td>\n",
       "      <td>Fairy</td>\n",
       "      <td>600</td>\n",
       "      <td>50</td>\n",
       "      <td>100</td>\n",
       "      <td>150</td>\n",
       "      <td>100</td>\n",
       "      <td>150</td>\n",
       "      <td>50</td>\n",
       "      <td>6</td>\n",
       "      <td>True</td>\n",
       "    </tr>\n",
       "    <tr>\n",
       "      <th>796</th>\n",
       "      <td>719</td>\n",
       "      <td>DiancieMega Diancie</td>\n",
       "      <td>Rock</td>\n",
       "      <td>Fairy</td>\n",
       "      <td>700</td>\n",
       "      <td>50</td>\n",
       "      <td>160</td>\n",
       "      <td>110</td>\n",
       "      <td>160</td>\n",
       "      <td>110</td>\n",
       "      <td>110</td>\n",
       "      <td>6</td>\n",
       "      <td>True</td>\n",
       "    </tr>\n",
       "    <tr>\n",
       "      <th>797</th>\n",
       "      <td>720</td>\n",
       "      <td>HoopaHoopa Confined</td>\n",
       "      <td>Psychic</td>\n",
       "      <td>Ghost</td>\n",
       "      <td>600</td>\n",
       "      <td>80</td>\n",
       "      <td>110</td>\n",
       "      <td>60</td>\n",
       "      <td>150</td>\n",
       "      <td>130</td>\n",
       "      <td>70</td>\n",
       "      <td>6</td>\n",
       "      <td>True</td>\n",
       "    </tr>\n",
       "    <tr>\n",
       "      <th>798</th>\n",
       "      <td>720</td>\n",
       "      <td>HoopaHoopa Unbound</td>\n",
       "      <td>Psychic</td>\n",
       "      <td>Dark</td>\n",
       "      <td>680</td>\n",
       "      <td>80</td>\n",
       "      <td>160</td>\n",
       "      <td>60</td>\n",
       "      <td>170</td>\n",
       "      <td>130</td>\n",
       "      <td>80</td>\n",
       "      <td>6</td>\n",
       "      <td>True</td>\n",
       "    </tr>\n",
       "    <tr>\n",
       "      <th>799</th>\n",
       "      <td>721</td>\n",
       "      <td>Volcanion</td>\n",
       "      <td>Fire</td>\n",
       "      <td>Water</td>\n",
       "      <td>600</td>\n",
       "      <td>80</td>\n",
       "      <td>110</td>\n",
       "      <td>120</td>\n",
       "      <td>130</td>\n",
       "      <td>90</td>\n",
       "      <td>70</td>\n",
       "      <td>6</td>\n",
       "      <td>True</td>\n",
       "    </tr>\n",
       "  </tbody>\n",
       "</table>\n",
       "</div>"
      ],
      "text/plain": [
       "       #                 Name   Type 1  Type 2  Total   HP  Attack  Defense  \\\n",
       "790  714               Noibat   Flying  Dragon    245   40      30       35   \n",
       "791  715              Noivern   Flying  Dragon    535   85      70       80   \n",
       "792  716              Xerneas    Fairy     NaN    680  126     131       95   \n",
       "793  717              Yveltal     Dark  Flying    680  126     131       95   \n",
       "794  718     Zygarde50% Forme   Dragon  Ground    600  108     100      121   \n",
       "795  719              Diancie     Rock   Fairy    600   50     100      150   \n",
       "796  719  DiancieMega Diancie     Rock   Fairy    700   50     160      110   \n",
       "797  720  HoopaHoopa Confined  Psychic   Ghost    600   80     110       60   \n",
       "798  720   HoopaHoopa Unbound  Psychic    Dark    680   80     160       60   \n",
       "799  721            Volcanion     Fire   Water    600   80     110      120   \n",
       "\n",
       "     Sp. Atk  Sp. Def  Speed  Generation  Legendary  \n",
       "790       45       40     55           6      False  \n",
       "791       97       80    123           6      False  \n",
       "792      131       98     99           6       True  \n",
       "793      131       98     99           6       True  \n",
       "794       81       95     95           6       True  \n",
       "795      100      150     50           6       True  \n",
       "796      160      110    110           6       True  \n",
       "797      150      130     70           6       True  \n",
       "798      170      130     80           6       True  \n",
       "799      130       90     70           6       True  "
      ]
     },
     "execution_count": 4,
     "metadata": {},
     "output_type": "execute_result"
    }
   ],
   "source": [
    "df.tail(10)"
   ]
  },
  {
   "cell_type": "markdown",
   "id": "58f11c65",
   "metadata": {},
   "source": [
    "Menampilkan 10 baris dataset terbawah"
   ]
  },
  {
   "cell_type": "code",
   "execution_count": 5,
   "id": "a1a9ecbe",
   "metadata": {},
   "outputs": [
    {
     "data": {
      "text/plain": [
       "(800, 13)"
      ]
     },
     "execution_count": 5,
     "metadata": {},
     "output_type": "execute_result"
    }
   ],
   "source": [
    "df.shape"
   ]
  },
  {
   "cell_type": "markdown",
   "id": "7685e33b",
   "metadata": {},
   "source": [
    "Dataset terdiri atas 800 baris dan 13 kolom"
   ]
  },
  {
   "cell_type": "code",
   "execution_count": 6,
   "id": "5762f31d",
   "metadata": {},
   "outputs": [
    {
     "data": {
      "text/html": [
       "<div>\n",
       "<style scoped>\n",
       "    .dataframe tbody tr th:only-of-type {\n",
       "        vertical-align: middle;\n",
       "    }\n",
       "\n",
       "    .dataframe tbody tr th {\n",
       "        vertical-align: top;\n",
       "    }\n",
       "\n",
       "    .dataframe thead th {\n",
       "        text-align: right;\n",
       "    }\n",
       "</style>\n",
       "<table border=\"1\" class=\"dataframe\">\n",
       "  <thead>\n",
       "    <tr style=\"text-align: right;\">\n",
       "      <th></th>\n",
       "      <th>#</th>\n",
       "      <th>Total</th>\n",
       "      <th>HP</th>\n",
       "      <th>Attack</th>\n",
       "      <th>Defense</th>\n",
       "      <th>Sp. Atk</th>\n",
       "      <th>Sp. Def</th>\n",
       "      <th>Speed</th>\n",
       "      <th>Generation</th>\n",
       "    </tr>\n",
       "  </thead>\n",
       "  <tbody>\n",
       "    <tr>\n",
       "      <th>count</th>\n",
       "      <td>800.000000</td>\n",
       "      <td>800.00000</td>\n",
       "      <td>800.000000</td>\n",
       "      <td>800.000000</td>\n",
       "      <td>800.000000</td>\n",
       "      <td>800.000000</td>\n",
       "      <td>800.000000</td>\n",
       "      <td>800.000000</td>\n",
       "      <td>800.00000</td>\n",
       "    </tr>\n",
       "    <tr>\n",
       "      <th>mean</th>\n",
       "      <td>362.813750</td>\n",
       "      <td>435.10250</td>\n",
       "      <td>69.258750</td>\n",
       "      <td>79.001250</td>\n",
       "      <td>73.842500</td>\n",
       "      <td>72.820000</td>\n",
       "      <td>71.902500</td>\n",
       "      <td>68.277500</td>\n",
       "      <td>3.32375</td>\n",
       "    </tr>\n",
       "    <tr>\n",
       "      <th>std</th>\n",
       "      <td>208.343798</td>\n",
       "      <td>119.96304</td>\n",
       "      <td>25.534669</td>\n",
       "      <td>32.457366</td>\n",
       "      <td>31.183501</td>\n",
       "      <td>32.722294</td>\n",
       "      <td>27.828916</td>\n",
       "      <td>29.060474</td>\n",
       "      <td>1.66129</td>\n",
       "    </tr>\n",
       "    <tr>\n",
       "      <th>min</th>\n",
       "      <td>1.000000</td>\n",
       "      <td>180.00000</td>\n",
       "      <td>1.000000</td>\n",
       "      <td>5.000000</td>\n",
       "      <td>5.000000</td>\n",
       "      <td>10.000000</td>\n",
       "      <td>20.000000</td>\n",
       "      <td>5.000000</td>\n",
       "      <td>1.00000</td>\n",
       "    </tr>\n",
       "    <tr>\n",
       "      <th>25%</th>\n",
       "      <td>184.750000</td>\n",
       "      <td>330.00000</td>\n",
       "      <td>50.000000</td>\n",
       "      <td>55.000000</td>\n",
       "      <td>50.000000</td>\n",
       "      <td>49.750000</td>\n",
       "      <td>50.000000</td>\n",
       "      <td>45.000000</td>\n",
       "      <td>2.00000</td>\n",
       "    </tr>\n",
       "    <tr>\n",
       "      <th>50%</th>\n",
       "      <td>364.500000</td>\n",
       "      <td>450.00000</td>\n",
       "      <td>65.000000</td>\n",
       "      <td>75.000000</td>\n",
       "      <td>70.000000</td>\n",
       "      <td>65.000000</td>\n",
       "      <td>70.000000</td>\n",
       "      <td>65.000000</td>\n",
       "      <td>3.00000</td>\n",
       "    </tr>\n",
       "    <tr>\n",
       "      <th>75%</th>\n",
       "      <td>539.250000</td>\n",
       "      <td>515.00000</td>\n",
       "      <td>80.000000</td>\n",
       "      <td>100.000000</td>\n",
       "      <td>90.000000</td>\n",
       "      <td>95.000000</td>\n",
       "      <td>90.000000</td>\n",
       "      <td>90.000000</td>\n",
       "      <td>5.00000</td>\n",
       "    </tr>\n",
       "    <tr>\n",
       "      <th>max</th>\n",
       "      <td>721.000000</td>\n",
       "      <td>780.00000</td>\n",
       "      <td>255.000000</td>\n",
       "      <td>190.000000</td>\n",
       "      <td>230.000000</td>\n",
       "      <td>194.000000</td>\n",
       "      <td>230.000000</td>\n",
       "      <td>180.000000</td>\n",
       "      <td>6.00000</td>\n",
       "    </tr>\n",
       "  </tbody>\n",
       "</table>\n",
       "</div>"
      ],
      "text/plain": [
       "                #      Total          HP      Attack     Defense     Sp. Atk  \\\n",
       "count  800.000000  800.00000  800.000000  800.000000  800.000000  800.000000   \n",
       "mean   362.813750  435.10250   69.258750   79.001250   73.842500   72.820000   \n",
       "std    208.343798  119.96304   25.534669   32.457366   31.183501   32.722294   \n",
       "min      1.000000  180.00000    1.000000    5.000000    5.000000   10.000000   \n",
       "25%    184.750000  330.00000   50.000000   55.000000   50.000000   49.750000   \n",
       "50%    364.500000  450.00000   65.000000   75.000000   70.000000   65.000000   \n",
       "75%    539.250000  515.00000   80.000000  100.000000   90.000000   95.000000   \n",
       "max    721.000000  780.00000  255.000000  190.000000  230.000000  194.000000   \n",
       "\n",
       "          Sp. Def       Speed  Generation  \n",
       "count  800.000000  800.000000   800.00000  \n",
       "mean    71.902500   68.277500     3.32375  \n",
       "std     27.828916   29.060474     1.66129  \n",
       "min     20.000000    5.000000     1.00000  \n",
       "25%     50.000000   45.000000     2.00000  \n",
       "50%     70.000000   65.000000     3.00000  \n",
       "75%     90.000000   90.000000     5.00000  \n",
       "max    230.000000  180.000000     6.00000  "
      ]
     },
     "execution_count": 6,
     "metadata": {},
     "output_type": "execute_result"
    }
   ],
   "source": [
    "df.describe()"
   ]
  },
  {
   "cell_type": "markdown",
   "id": "2c343312",
   "metadata": {},
   "source": [
    "melihat deskripsi statistik dari dataset"
   ]
  },
  {
   "cell_type": "code",
   "execution_count": 7,
   "id": "ed5da8f4",
   "metadata": {},
   "outputs": [
    {
     "name": "stdout",
     "output_type": "stream",
     "text": [
      "<class 'pandas.core.frame.DataFrame'>\n",
      "RangeIndex: 800 entries, 0 to 799\n",
      "Data columns (total 13 columns):\n",
      " #   Column      Non-Null Count  Dtype \n",
      "---  ------      --------------  ----- \n",
      " 0   #           800 non-null    int64 \n",
      " 1   Name        800 non-null    object\n",
      " 2   Type 1      800 non-null    object\n",
      " 3   Type 2      414 non-null    object\n",
      " 4   Total       800 non-null    int64 \n",
      " 5   HP          800 non-null    int64 \n",
      " 6   Attack      800 non-null    int64 \n",
      " 7   Defense     800 non-null    int64 \n",
      " 8   Sp. Atk     800 non-null    int64 \n",
      " 9   Sp. Def     800 non-null    int64 \n",
      " 10  Speed       800 non-null    int64 \n",
      " 11  Generation  800 non-null    int64 \n",
      " 12  Legendary   800 non-null    bool  \n",
      "dtypes: bool(1), int64(9), object(3)\n",
      "memory usage: 75.9+ KB\n"
     ]
    }
   ],
   "source": [
    "df.info()"
   ]
  },
  {
   "cell_type": "markdown",
   "id": "b0856d7e",
   "metadata": {},
   "source": [
    "melihat informasi mengenai type data dari dataset dan dari info dapat terlihat bahwa Column **\"Type 2\"** memiliki data yang hilang"
   ]
  },
  {
   "cell_type": "markdown",
   "id": "dde07374",
   "metadata": {},
   "source": [
    "#### 3.2 Exploring Dataset"
   ]
  },
  {
   "cell_type": "code",
   "execution_count": 8,
   "id": "cf55b778",
   "metadata": {},
   "outputs": [
    {
     "data": {
      "text/html": [
       "<div>\n",
       "<style scoped>\n",
       "    .dataframe tbody tr th:only-of-type {\n",
       "        vertical-align: middle;\n",
       "    }\n",
       "\n",
       "    .dataframe tbody tr th {\n",
       "        vertical-align: top;\n",
       "    }\n",
       "\n",
       "    .dataframe thead th {\n",
       "        text-align: right;\n",
       "    }\n",
       "</style>\n",
       "<table border=\"1\" class=\"dataframe\">\n",
       "  <thead>\n",
       "    <tr style=\"text-align: right;\">\n",
       "      <th></th>\n",
       "      <th>#</th>\n",
       "      <th>Name</th>\n",
       "      <th>Type 1</th>\n",
       "      <th>Type 2</th>\n",
       "      <th>Total</th>\n",
       "      <th>HP</th>\n",
       "      <th>Attack</th>\n",
       "      <th>Defense</th>\n",
       "      <th>Sp. Atk</th>\n",
       "      <th>Sp. Def</th>\n",
       "      <th>Speed</th>\n",
       "      <th>Generation</th>\n",
       "      <th>Legendary</th>\n",
       "    </tr>\n",
       "  </thead>\n",
       "  <tbody>\n",
       "    <tr>\n",
       "      <th>0</th>\n",
       "      <td>1</td>\n",
       "      <td>Bulbasaur</td>\n",
       "      <td>Grass</td>\n",
       "      <td>Poison</td>\n",
       "      <td>318</td>\n",
       "      <td>45</td>\n",
       "      <td>49</td>\n",
       "      <td>49</td>\n",
       "      <td>65</td>\n",
       "      <td>65</td>\n",
       "      <td>45</td>\n",
       "      <td>1</td>\n",
       "      <td>False</td>\n",
       "    </tr>\n",
       "    <tr>\n",
       "      <th>1</th>\n",
       "      <td>2</td>\n",
       "      <td>Ivysaur</td>\n",
       "      <td>Grass</td>\n",
       "      <td>Poison</td>\n",
       "      <td>405</td>\n",
       "      <td>60</td>\n",
       "      <td>62</td>\n",
       "      <td>63</td>\n",
       "      <td>80</td>\n",
       "      <td>80</td>\n",
       "      <td>60</td>\n",
       "      <td>1</td>\n",
       "      <td>False</td>\n",
       "    </tr>\n",
       "    <tr>\n",
       "      <th>2</th>\n",
       "      <td>3</td>\n",
       "      <td>Venusaur</td>\n",
       "      <td>Grass</td>\n",
       "      <td>Poison</td>\n",
       "      <td>525</td>\n",
       "      <td>80</td>\n",
       "      <td>82</td>\n",
       "      <td>83</td>\n",
       "      <td>100</td>\n",
       "      <td>100</td>\n",
       "      <td>80</td>\n",
       "      <td>1</td>\n",
       "      <td>False</td>\n",
       "    </tr>\n",
       "    <tr>\n",
       "      <th>3</th>\n",
       "      <td>3</td>\n",
       "      <td>VenusaurMega Venusaur</td>\n",
       "      <td>Grass</td>\n",
       "      <td>Poison</td>\n",
       "      <td>625</td>\n",
       "      <td>80</td>\n",
       "      <td>100</td>\n",
       "      <td>123</td>\n",
       "      <td>122</td>\n",
       "      <td>120</td>\n",
       "      <td>80</td>\n",
       "      <td>1</td>\n",
       "      <td>False</td>\n",
       "    </tr>\n",
       "    <tr>\n",
       "      <th>4</th>\n",
       "      <td>4</td>\n",
       "      <td>Charmander</td>\n",
       "      <td>Fire</td>\n",
       "      <td>NaN</td>\n",
       "      <td>309</td>\n",
       "      <td>39</td>\n",
       "      <td>52</td>\n",
       "      <td>43</td>\n",
       "      <td>60</td>\n",
       "      <td>50</td>\n",
       "      <td>65</td>\n",
       "      <td>1</td>\n",
       "      <td>False</td>\n",
       "    </tr>\n",
       "  </tbody>\n",
       "</table>\n",
       "</div>"
      ],
      "text/plain": [
       "   #                   Name Type 1  Type 2  Total  HP  Attack  Defense  \\\n",
       "0  1              Bulbasaur  Grass  Poison    318  45      49       49   \n",
       "1  2                Ivysaur  Grass  Poison    405  60      62       63   \n",
       "2  3               Venusaur  Grass  Poison    525  80      82       83   \n",
       "3  3  VenusaurMega Venusaur  Grass  Poison    625  80     100      123   \n",
       "4  4             Charmander   Fire     NaN    309  39      52       43   \n",
       "\n",
       "   Sp. Atk  Sp. Def  Speed  Generation  Legendary  \n",
       "0       65       65     45           1      False  \n",
       "1       80       80     60           1      False  \n",
       "2      100      100     80           1      False  \n",
       "3      122      120     80           1      False  \n",
       "4       60       50     65           1      False  "
      ]
     },
     "execution_count": 8,
     "metadata": {},
     "output_type": "execute_result"
    }
   ],
   "source": [
    "df.head()"
   ]
  },
  {
   "cell_type": "markdown",
   "id": "c07d402a",
   "metadata": {},
   "source": [
    "melihat 5 baris awal dari dataset"
   ]
  },
  {
   "cell_type": "code",
   "execution_count": 9,
   "id": "ee2b25e0",
   "metadata": {},
   "outputs": [
    {
     "data": {
      "text/plain": [
       "780"
      ]
     },
     "execution_count": 9,
     "metadata": {},
     "output_type": "execute_result"
    }
   ],
   "source": [
    "df['Total'].max()"
   ]
  },
  {
   "cell_type": "markdown",
   "id": "292df752",
   "metadata": {},
   "source": [
    "melihat nilai tertinggi dari **total power** adalah **780**"
   ]
  },
  {
   "cell_type": "code",
   "execution_count": 10,
   "id": "75b0c493",
   "metadata": {},
   "outputs": [
    {
     "data": {
      "text/plain": [
       "163      MewtwoMega Mewtwo X\n",
       "164      MewtwoMega Mewtwo Y\n",
       "426    RayquazaMega Rayquaza\n",
       "Name: Name, dtype: object"
      ]
     },
     "execution_count": 10,
     "metadata": {},
     "output_type": "execute_result"
    }
   ],
   "source": [
    "df.loc[df['Total'] == df['Total'].max(),'Name']"
   ]
  },
  {
   "cell_type": "markdown",
   "id": "ad56bfc4",
   "metadata": {},
   "source": [
    "Dari dataset terlihat bahwa pokemon **total power terbesar** adalah **MewtwoMega Mewtwo X, MewtwoMega Mewtwo Y, dan RayquazaMega Rayquaza** dengan Total kekuatan **780**"
   ]
  },
  {
   "cell_type": "code",
   "execution_count": 11,
   "id": "85afb634",
   "metadata": {},
   "outputs": [
    {
     "data": {
      "text/plain": [
       "180"
      ]
     },
     "execution_count": 11,
     "metadata": {},
     "output_type": "execute_result"
    }
   ],
   "source": [
    "df['Total'].min()"
   ]
  },
  {
   "cell_type": "markdown",
   "id": "22933b53",
   "metadata": {},
   "source": [
    "melihat nilai terendah dari **total power** adalah **180**"
   ]
  },
  {
   "cell_type": "code",
   "execution_count": 12,
   "id": "1225e19e",
   "metadata": {},
   "outputs": [
    {
     "data": {
      "text/plain": [
       "206    Sunkern\n",
       "Name: Name, dtype: object"
      ]
     },
     "execution_count": 12,
     "metadata": {},
     "output_type": "execute_result"
    }
   ],
   "source": [
    "df.loc[df['Total'] == df['Total'].min(),'Name']"
   ]
  },
  {
   "cell_type": "markdown",
   "id": "a8f385c8",
   "metadata": {},
   "source": [
    "Dari dataset terlihat bahwa pokemon dengan **total power terkecil** adalah **Sunkern** dengan Total kekuatan **180**"
   ]
  },
  {
   "cell_type": "code",
   "execution_count": 13,
   "id": "b8ed38d1",
   "metadata": {},
   "outputs": [
    {
     "data": {
      "text/plain": [
       "255"
      ]
     },
     "execution_count": 13,
     "metadata": {},
     "output_type": "execute_result"
    }
   ],
   "source": [
    "df['HP'].max()"
   ]
  },
  {
   "cell_type": "markdown",
   "id": "c5573734",
   "metadata": {},
   "source": [
    "melihat **Hit points atau posisi Health** tertinggi adalah 255"
   ]
  },
  {
   "cell_type": "code",
   "execution_count": 14,
   "id": "5de03152",
   "metadata": {},
   "outputs": [
    {
     "data": {
      "text/plain": [
       "261    Blissey\n",
       "Name: Name, dtype: object"
      ]
     },
     "execution_count": 14,
     "metadata": {},
     "output_type": "execute_result"
    }
   ],
   "source": [
    "df.loc[df['HP'] == df['HP'].max(),'Name']"
   ]
  },
  {
   "cell_type": "markdown",
   "id": "3e8d4995",
   "metadata": {},
   "source": [
    "Dari dataset terlihat bahwa Pokemon **Blissey** merupakan pokemon dengan **Hit Point tertinggi**"
   ]
  },
  {
   "cell_type": "code",
   "execution_count": 15,
   "id": "157210b0",
   "metadata": {},
   "outputs": [
    {
     "data": {
      "text/plain": [
       "1"
      ]
     },
     "execution_count": 15,
     "metadata": {},
     "output_type": "execute_result"
    }
   ],
   "source": [
    "df['HP'].min()"
   ]
  },
  {
   "cell_type": "markdown",
   "id": "cbb0a19c",
   "metadata": {},
   "source": [
    "melihat **Hit points atau posisi Health** terendah adalah **1**"
   ]
  },
  {
   "cell_type": "code",
   "execution_count": 16,
   "id": "d1847f5a",
   "metadata": {},
   "outputs": [
    {
     "data": {
      "text/plain": [
       "316    Shedinja\n",
       "Name: Name, dtype: object"
      ]
     },
     "execution_count": 16,
     "metadata": {},
     "output_type": "execute_result"
    }
   ],
   "source": [
    "df.loc[df['HP'] == df['HP'].min(),'Name']"
   ]
  },
  {
   "cell_type": "markdown",
   "id": "c46af9ec",
   "metadata": {},
   "source": [
    "Dari dataset terlihat bahwa Pokemon **Shedinja** merupakan pokemon dengan **Hit Point terendah**"
   ]
  },
  {
   "cell_type": "code",
   "execution_count": 17,
   "id": "25792a00",
   "metadata": {},
   "outputs": [
    {
     "data": {
      "text/plain": [
       "230"
      ]
     },
     "execution_count": 17,
     "metadata": {},
     "output_type": "execute_result"
    }
   ],
   "source": [
    "df['Defense'].max()"
   ]
  },
  {
   "cell_type": "markdown",
   "id": "91092f4e",
   "metadata": {},
   "source": [
    "melihat nilai **defense tertinggi** adalah **230**"
   ]
  },
  {
   "cell_type": "code",
   "execution_count": 18,
   "id": "8e72817d",
   "metadata": {},
   "outputs": [
    {
     "data": {
      "text/plain": [
       "224    Steel\n",
       "230      Bug\n",
       "333    Steel\n",
       "Name: Type 1, dtype: object"
      ]
     },
     "execution_count": 18,
     "metadata": {},
     "output_type": "execute_result"
    }
   ],
   "source": [
    "df.loc[df['Defense'] == df['Defense'].max(),'Type 1']"
   ]
  },
  {
   "cell_type": "markdown",
   "id": "9da43343",
   "metadata": {},
   "source": [
    "Dari Dataset terlihat bahwa Pokemon yang memiliki Type **Steel dan Bug** memiliki **Pertahanan terbaik**"
   ]
  },
  {
   "cell_type": "code",
   "execution_count": 19,
   "id": "48b70633",
   "metadata": {},
   "outputs": [
    {
     "data": {
      "text/plain": [
       "190"
      ]
     },
     "execution_count": 19,
     "metadata": {},
     "output_type": "execute_result"
    }
   ],
   "source": [
    "df['Attack'].max()"
   ]
  },
  {
   "cell_type": "markdown",
   "id": "91650525",
   "metadata": {},
   "source": [
    "melihat nilai **Attack tertinggi** adalah **190**"
   ]
  },
  {
   "cell_type": "code",
   "execution_count": 20,
   "id": "e7b37940",
   "metadata": {},
   "outputs": [
    {
     "data": {
      "text/plain": [
       "163    Psychic\n",
       "Name: Type 1, dtype: object"
      ]
     },
     "execution_count": 20,
     "metadata": {},
     "output_type": "execute_result"
    }
   ],
   "source": [
    "df.loc[df['Attack'] == df['Attack'].max(),'Type 1']"
   ]
  },
  {
   "cell_type": "markdown",
   "id": "869ff817",
   "metadata": {},
   "source": [
    "Dari Dataset terlihat bahwa Pokemon yang memiliki Type **Psychic** memiliki **Penyerangan terbaik**"
   ]
  },
  {
   "cell_type": "code",
   "execution_count": 21,
   "id": "b5790460",
   "metadata": {},
   "outputs": [
    {
     "data": {
      "text/plain": [
       "194"
      ]
     },
     "execution_count": 21,
     "metadata": {},
     "output_type": "execute_result"
    }
   ],
   "source": [
    "df['Sp. Atk'].max()"
   ]
  },
  {
   "cell_type": "markdown",
   "id": "b49b5cf9",
   "metadata": {},
   "source": [
    "melihat nilai **Spesial Attack** tertinggi adalah **194**"
   ]
  },
  {
   "cell_type": "code",
   "execution_count": 22,
   "id": "110208b5",
   "metadata": {},
   "outputs": [
    {
     "data": {
      "text/plain": [
       "164    Psychic\n",
       "Name: Type 1, dtype: object"
      ]
     },
     "execution_count": 22,
     "metadata": {},
     "output_type": "execute_result"
    }
   ],
   "source": [
    "df.loc[df['Sp. Atk'] == df['Sp. Atk'].max(),'Type 1']"
   ]
  },
  {
   "cell_type": "markdown",
   "id": "363a7605",
   "metadata": {},
   "source": [
    "Dari Dataset terlihat bahwa Pokemon yang memiliki Type **Psychic** memiliki **Special Attack terbaik**"
   ]
  },
  {
   "cell_type": "code",
   "execution_count": 23,
   "id": "af41a182",
   "metadata": {},
   "outputs": [
    {
     "data": {
      "text/plain": [
       "230"
      ]
     },
     "execution_count": 23,
     "metadata": {},
     "output_type": "execute_result"
    }
   ],
   "source": [
    "df['Sp. Def'].max()"
   ]
  },
  {
   "cell_type": "markdown",
   "id": "a32fa603",
   "metadata": {},
   "source": [
    "melihat nilai **special defence** terbaik adalah **230**"
   ]
  },
  {
   "cell_type": "code",
   "execution_count": 24,
   "id": "b1dd87e4",
   "metadata": {},
   "outputs": [
    {
     "data": {
      "text/plain": [
       "230    Bug\n",
       "Name: Type 1, dtype: object"
      ]
     },
     "execution_count": 24,
     "metadata": {},
     "output_type": "execute_result"
    }
   ],
   "source": [
    "df.loc[df['Sp. Def'] == df['Sp. Def'].max(),'Type 1']"
   ]
  },
  {
   "cell_type": "markdown",
   "id": "40394d30",
   "metadata": {},
   "source": [
    "Dari Dataset terlihat bahwa Pokemon yang memiliki Type **Bug** memiliki  **spesial defence** terbaik dalam menghadapi serangan spesial lawan"
   ]
  },
  {
   "cell_type": "code",
   "execution_count": 25,
   "id": "22dae4d7",
   "metadata": {},
   "outputs": [
    {
     "data": {
      "text/plain": [
       "180"
      ]
     },
     "execution_count": 25,
     "metadata": {},
     "output_type": "execute_result"
    }
   ],
   "source": [
    "df['Speed'].max()"
   ]
  },
  {
   "cell_type": "markdown",
   "id": "97c9005e",
   "metadata": {},
   "source": [
    "melihat nilai **Speed** terbaik adalah **180**"
   ]
  },
  {
   "cell_type": "code",
   "execution_count": 26,
   "id": "8301aa2a",
   "metadata": {},
   "outputs": [
    {
     "data": {
      "text/plain": [
       "431    Psychic\n",
       "Name: Type 1, dtype: object"
      ]
     },
     "execution_count": 26,
     "metadata": {},
     "output_type": "execute_result"
    }
   ],
   "source": [
    "df.loc[df['Speed'] == df['Speed'].max(),'Type 1']"
   ]
  },
  {
   "cell_type": "markdown",
   "id": "06d87d3a",
   "metadata": {},
   "source": [
    "Dari Dataset terlihat bahwa Pokemon yang memiliki Type **Psychic** merupakan jenis Pokemon yang akan menyerang lebih dulu setiap putaran"
   ]
  },
  {
   "cell_type": "code",
   "execution_count": 27,
   "id": "dc186848",
   "metadata": {},
   "outputs": [
    {
     "data": {
      "text/plain": [
       "5"
      ]
     },
     "execution_count": 27,
     "metadata": {},
     "output_type": "execute_result"
    }
   ],
   "source": [
    "df['Speed'].min()"
   ]
  },
  {
   "cell_type": "markdown",
   "id": "b41eae29",
   "metadata": {},
   "source": [
    "melihat nilai **Speed** terendah adalah **5**"
   ]
  },
  {
   "cell_type": "code",
   "execution_count": 28,
   "id": "ee8c8f4c",
   "metadata": {},
   "outputs": [
    {
     "data": {
      "text/plain": [
       "230       Bug\n",
       "495    Normal\n",
       "Name: Type 1, dtype: object"
      ]
     },
     "execution_count": 28,
     "metadata": {},
     "output_type": "execute_result"
    }
   ],
   "source": [
    "df.loc[df['Speed'] == df['Speed'].min(),'Type 1']"
   ]
  },
  {
   "cell_type": "markdown",
   "id": "f3fa3c88",
   "metadata": {},
   "source": [
    "Dari Dataset terlihat bahwa Pokemon yang memiliki Type **Bug dan Normal** merupakan jenis Pokemon yang akan menyerang paling akhir dalam setiap putaran"
   ]
  },
  {
   "cell_type": "markdown",
   "id": "a5a8cf68",
   "metadata": {},
   "source": [
    "## 4. Data Cleaning"
   ]
  },
  {
   "cell_type": "markdown",
   "id": "2e1ab917",
   "metadata": {},
   "source": [
    "#### 4.1 Memberi nama baru untuk kolom"
   ]
  },
  {
   "cell_type": "code",
   "execution_count": 29,
   "id": "d8b486fa",
   "metadata": {},
   "outputs": [
    {
     "data": {
      "text/plain": [
       "Index(['#', 'Name', 'Type 1', 'Type 2', 'Total', 'HP', 'Attack', 'Defense',\n",
       "       'Sp. Atk', 'Sp. Def', 'Speed', 'Generation', 'Legendary'],\n",
       "      dtype='object')"
      ]
     },
     "execution_count": 29,
     "metadata": {},
     "output_type": "execute_result"
    }
   ],
   "source": [
    "df.columns"
   ]
  },
  {
   "cell_type": "markdown",
   "id": "790d1a09",
   "metadata": {},
   "source": [
    "melakukan pengecekan untuk seluruh nama columns"
   ]
  },
  {
   "cell_type": "code",
   "execution_count": 30,
   "id": "c55339e8",
   "metadata": {},
   "outputs": [],
   "source": [
    "df = df.rename(\n",
    "  columns={'#': \"ID\", \"Name\": \"Pokemon\", \"Type 1\": \"Main Type\", 'Type 2': \"Second Type\", 'Total': \"Full Power\", \"HP\": \"Hit Points\", \"Sp. Atk\": \"Special Attack\", \"Sp. Def\": \"Special Defense\"}\n",
    ")"
   ]
  },
  {
   "cell_type": "markdown",
   "id": "38094d5f",
   "metadata": {},
   "source": [
    "melakukan perubahan nama kolom: \n",
    "* '#' menjadi \"ID\", \n",
    "* \"Name\" menjadi \"Pokemon\", \n",
    "* \"Type 1\" menjadi \"Main Type\",\n",
    "* 'Type 2' menjadi \"Second Type\", \n",
    "* 'Total' menjadi \"Full Power\", \n",
    "* \"HP\" menjadi \"Hit Points\", \n",
    "* \"Sp. Atk\" menjadi \"Special Attack\", \n",
    "* \"Sp. Def\" menjadi \"Special Defense\""
   ]
  },
  {
   "cell_type": "code",
   "execution_count": 31,
   "id": "cbc81abc",
   "metadata": {},
   "outputs": [
    {
     "data": {
      "text/html": [
       "<div>\n",
       "<style scoped>\n",
       "    .dataframe tbody tr th:only-of-type {\n",
       "        vertical-align: middle;\n",
       "    }\n",
       "\n",
       "    .dataframe tbody tr th {\n",
       "        vertical-align: top;\n",
       "    }\n",
       "\n",
       "    .dataframe thead th {\n",
       "        text-align: right;\n",
       "    }\n",
       "</style>\n",
       "<table border=\"1\" class=\"dataframe\">\n",
       "  <thead>\n",
       "    <tr style=\"text-align: right;\">\n",
       "      <th></th>\n",
       "      <th>ID</th>\n",
       "      <th>Pokemon</th>\n",
       "      <th>Main Type</th>\n",
       "      <th>Second Type</th>\n",
       "      <th>Full Power</th>\n",
       "      <th>Hit Points</th>\n",
       "      <th>Attack</th>\n",
       "      <th>Defense</th>\n",
       "      <th>Special Attack</th>\n",
       "      <th>Special Defense</th>\n",
       "      <th>Speed</th>\n",
       "      <th>Generation</th>\n",
       "      <th>Legendary</th>\n",
       "    </tr>\n",
       "  </thead>\n",
       "  <tbody>\n",
       "    <tr>\n",
       "      <th>0</th>\n",
       "      <td>1</td>\n",
       "      <td>Bulbasaur</td>\n",
       "      <td>Grass</td>\n",
       "      <td>Poison</td>\n",
       "      <td>318</td>\n",
       "      <td>45</td>\n",
       "      <td>49</td>\n",
       "      <td>49</td>\n",
       "      <td>65</td>\n",
       "      <td>65</td>\n",
       "      <td>45</td>\n",
       "      <td>1</td>\n",
       "      <td>False</td>\n",
       "    </tr>\n",
       "    <tr>\n",
       "      <th>1</th>\n",
       "      <td>2</td>\n",
       "      <td>Ivysaur</td>\n",
       "      <td>Grass</td>\n",
       "      <td>Poison</td>\n",
       "      <td>405</td>\n",
       "      <td>60</td>\n",
       "      <td>62</td>\n",
       "      <td>63</td>\n",
       "      <td>80</td>\n",
       "      <td>80</td>\n",
       "      <td>60</td>\n",
       "      <td>1</td>\n",
       "      <td>False</td>\n",
       "    </tr>\n",
       "    <tr>\n",
       "      <th>2</th>\n",
       "      <td>3</td>\n",
       "      <td>Venusaur</td>\n",
       "      <td>Grass</td>\n",
       "      <td>Poison</td>\n",
       "      <td>525</td>\n",
       "      <td>80</td>\n",
       "      <td>82</td>\n",
       "      <td>83</td>\n",
       "      <td>100</td>\n",
       "      <td>100</td>\n",
       "      <td>80</td>\n",
       "      <td>1</td>\n",
       "      <td>False</td>\n",
       "    </tr>\n",
       "    <tr>\n",
       "      <th>3</th>\n",
       "      <td>3</td>\n",
       "      <td>VenusaurMega Venusaur</td>\n",
       "      <td>Grass</td>\n",
       "      <td>Poison</td>\n",
       "      <td>625</td>\n",
       "      <td>80</td>\n",
       "      <td>100</td>\n",
       "      <td>123</td>\n",
       "      <td>122</td>\n",
       "      <td>120</td>\n",
       "      <td>80</td>\n",
       "      <td>1</td>\n",
       "      <td>False</td>\n",
       "    </tr>\n",
       "    <tr>\n",
       "      <th>4</th>\n",
       "      <td>4</td>\n",
       "      <td>Charmander</td>\n",
       "      <td>Fire</td>\n",
       "      <td>NaN</td>\n",
       "      <td>309</td>\n",
       "      <td>39</td>\n",
       "      <td>52</td>\n",
       "      <td>43</td>\n",
       "      <td>60</td>\n",
       "      <td>50</td>\n",
       "      <td>65</td>\n",
       "      <td>1</td>\n",
       "      <td>False</td>\n",
       "    </tr>\n",
       "  </tbody>\n",
       "</table>\n",
       "</div>"
      ],
      "text/plain": [
       "   ID                Pokemon Main Type Second Type  Full Power  Hit Points  \\\n",
       "0   1              Bulbasaur     Grass      Poison         318          45   \n",
       "1   2                Ivysaur     Grass      Poison         405          60   \n",
       "2   3               Venusaur     Grass      Poison         525          80   \n",
       "3   3  VenusaurMega Venusaur     Grass      Poison         625          80   \n",
       "4   4             Charmander      Fire         NaN         309          39   \n",
       "\n",
       "   Attack  Defense  Special Attack  Special Defense  Speed  Generation  \\\n",
       "0      49       49              65               65     45           1   \n",
       "1      62       63              80               80     60           1   \n",
       "2      82       83             100              100     80           1   \n",
       "3     100      123             122              120     80           1   \n",
       "4      52       43              60               50     65           1   \n",
       "\n",
       "   Legendary  \n",
       "0      False  \n",
       "1      False  \n",
       "2      False  \n",
       "3      False  \n",
       "4      False  "
      ]
     },
     "execution_count": 31,
     "metadata": {},
     "output_type": "execute_result"
    }
   ],
   "source": [
    "df.head()"
   ]
  },
  {
   "cell_type": "markdown",
   "id": "795dfa06",
   "metadata": {},
   "source": [
    "melakukan pengecekan 5 baris awal dari dataset setelah dilakukan proses perubahan nama kolom"
   ]
  },
  {
   "cell_type": "markdown",
   "id": "ad456c54",
   "metadata": {},
   "source": [
    "#### 4.2 Missing Values"
   ]
  },
  {
   "cell_type": "code",
   "execution_count": 32,
   "id": "9174d6ee",
   "metadata": {},
   "outputs": [
    {
     "data": {
      "text/plain": [
       "ID                   0\n",
       "Pokemon              0\n",
       "Main Type            0\n",
       "Second Type        386\n",
       "Full Power           0\n",
       "Hit Points           0\n",
       "Attack               0\n",
       "Defense              0\n",
       "Special Attack       0\n",
       "Special Defense      0\n",
       "Speed                0\n",
       "Generation           0\n",
       "Legendary            0\n",
       "dtype: int64"
      ]
     },
     "execution_count": 32,
     "metadata": {},
     "output_type": "execute_result"
    }
   ],
   "source": [
    "df.isna().sum()"
   ]
  },
  {
   "cell_type": "markdown",
   "id": "f18a2843",
   "metadata": {},
   "source": [
    "terdapat sejumlah **386** data hilang pada kolom **\"Second Type\"** dalam dataset"
   ]
  },
  {
   "cell_type": "code",
   "execution_count": 33,
   "id": "5450fb91",
   "metadata": {},
   "outputs": [
    {
     "data": {
      "text/plain": [
       "ID                 0.0000\n",
       "Pokemon            0.0000\n",
       "Main Type          0.0000\n",
       "Second Type        0.4825\n",
       "Full Power         0.0000\n",
       "Hit Points         0.0000\n",
       "Attack             0.0000\n",
       "Defense            0.0000\n",
       "Special Attack     0.0000\n",
       "Special Defense    0.0000\n",
       "Speed              0.0000\n",
       "Generation         0.0000\n",
       "Legendary          0.0000\n",
       "dtype: float64"
      ]
     },
     "execution_count": 33,
     "metadata": {},
     "output_type": "execute_result"
    }
   ],
   "source": [
    "df.isnull().mean()"
   ]
  },
  {
   "cell_type": "markdown",
   "id": "c4638b1a",
   "metadata": {},
   "source": [
    "Persentase data hilang untuk column **\"Second Type\"** adalah sebesar **48,25%**"
   ]
  },
  {
   "cell_type": "code",
   "execution_count": 34,
   "id": "31c5006a",
   "metadata": {},
   "outputs": [
    {
     "data": {
      "text/plain": [
       "array(['Poison', nan, 'Flying', 'Dragon', 'Ground', 'Fairy', 'Grass',\n",
       "       'Fighting', 'Psychic', 'Steel', 'Ice', 'Rock', 'Dark', 'Water',\n",
       "       'Electric', 'Fire', 'Ghost', 'Bug', 'Normal'], dtype=object)"
      ]
     },
     "execution_count": 34,
     "metadata": {},
     "output_type": "execute_result"
    }
   ],
   "source": [
    "df['Second Type'].unique()"
   ]
  },
  {
   "cell_type": "markdown",
   "id": "eba5242b",
   "metadata": {},
   "source": [
    "Data hilang untuk column **\"Second Type\"** termasuk **Standar Missing Values** karena nilai yang hilang ditandai dengan **\"nan\"**"
   ]
  },
  {
   "cell_type": "code",
   "execution_count": 35,
   "id": "51a624c5",
   "metadata": {},
   "outputs": [],
   "source": [
    "df['Second Type'].fillna('Missing', inplace=True)"
   ]
  },
  {
   "cell_type": "markdown",
   "id": "3dd97451",
   "metadata": {},
   "source": [
    "Dalam pengisian data hilang untuk column **\"Second Type\"**, digunakan **\"Missing\"** karena persentase nilai yang hilang cukup signifikan yaitu sebesar **48,25%** "
   ]
  },
  {
   "cell_type": "code",
   "execution_count": 36,
   "id": "d9bc4126",
   "metadata": {},
   "outputs": [
    {
     "data": {
      "text/plain": [
       "ID                 0\n",
       "Pokemon            0\n",
       "Main Type          0\n",
       "Second Type        0\n",
       "Full Power         0\n",
       "Hit Points         0\n",
       "Attack             0\n",
       "Defense            0\n",
       "Special Attack     0\n",
       "Special Defense    0\n",
       "Speed              0\n",
       "Generation         0\n",
       "Legendary          0\n",
       "dtype: int64"
      ]
     },
     "execution_count": 36,
     "metadata": {},
     "output_type": "execute_result"
    }
   ],
   "source": [
    "df.isna().sum()"
   ]
  },
  {
   "cell_type": "markdown",
   "id": "78e13f4c",
   "metadata": {},
   "source": [
    "melakukan pengecekan kembali jumlah data hilang dalam dataset setelah dilakukan proses pengisian untuk data yang hilang"
   ]
  },
  {
   "cell_type": "markdown",
   "id": "af82d169",
   "metadata": {},
   "source": [
    "#### 4.3 Menghapus kolom yang tidak dipakai"
   ]
  },
  {
   "cell_type": "code",
   "execution_count": 37,
   "id": "8ccc9e96",
   "metadata": {},
   "outputs": [],
   "source": [
    "# membuat variabel data columns yang akan dihapus\n",
    "del_columns = ['Generation', 'Legendary']\n",
    "\n",
    "# menghapus columns yang tidak dipakai\n",
    "df.drop(del_columns, inplace=True, axis=1)"
   ]
  },
  {
   "cell_type": "markdown",
   "id": "1db0770a",
   "metadata": {},
   "source": [
    "untuk Feature yang dihilangkan adalah Feature **\"Generation\"** dan **\"Legendary\"**"
   ]
  },
  {
   "cell_type": "code",
   "execution_count": 38,
   "id": "b8038b12",
   "metadata": {},
   "outputs": [
    {
     "data": {
      "text/html": [
       "<div>\n",
       "<style scoped>\n",
       "    .dataframe tbody tr th:only-of-type {\n",
       "        vertical-align: middle;\n",
       "    }\n",
       "\n",
       "    .dataframe tbody tr th {\n",
       "        vertical-align: top;\n",
       "    }\n",
       "\n",
       "    .dataframe thead th {\n",
       "        text-align: right;\n",
       "    }\n",
       "</style>\n",
       "<table border=\"1\" class=\"dataframe\">\n",
       "  <thead>\n",
       "    <tr style=\"text-align: right;\">\n",
       "      <th></th>\n",
       "      <th>ID</th>\n",
       "      <th>Pokemon</th>\n",
       "      <th>Main Type</th>\n",
       "      <th>Second Type</th>\n",
       "      <th>Full Power</th>\n",
       "      <th>Hit Points</th>\n",
       "      <th>Attack</th>\n",
       "      <th>Defense</th>\n",
       "      <th>Special Attack</th>\n",
       "      <th>Special Defense</th>\n",
       "      <th>Speed</th>\n",
       "    </tr>\n",
       "  </thead>\n",
       "  <tbody>\n",
       "    <tr>\n",
       "      <th>0</th>\n",
       "      <td>1</td>\n",
       "      <td>Bulbasaur</td>\n",
       "      <td>Grass</td>\n",
       "      <td>Poison</td>\n",
       "      <td>318</td>\n",
       "      <td>45</td>\n",
       "      <td>49</td>\n",
       "      <td>49</td>\n",
       "      <td>65</td>\n",
       "      <td>65</td>\n",
       "      <td>45</td>\n",
       "    </tr>\n",
       "    <tr>\n",
       "      <th>1</th>\n",
       "      <td>2</td>\n",
       "      <td>Ivysaur</td>\n",
       "      <td>Grass</td>\n",
       "      <td>Poison</td>\n",
       "      <td>405</td>\n",
       "      <td>60</td>\n",
       "      <td>62</td>\n",
       "      <td>63</td>\n",
       "      <td>80</td>\n",
       "      <td>80</td>\n",
       "      <td>60</td>\n",
       "    </tr>\n",
       "    <tr>\n",
       "      <th>2</th>\n",
       "      <td>3</td>\n",
       "      <td>Venusaur</td>\n",
       "      <td>Grass</td>\n",
       "      <td>Poison</td>\n",
       "      <td>525</td>\n",
       "      <td>80</td>\n",
       "      <td>82</td>\n",
       "      <td>83</td>\n",
       "      <td>100</td>\n",
       "      <td>100</td>\n",
       "      <td>80</td>\n",
       "    </tr>\n",
       "    <tr>\n",
       "      <th>3</th>\n",
       "      <td>3</td>\n",
       "      <td>VenusaurMega Venusaur</td>\n",
       "      <td>Grass</td>\n",
       "      <td>Poison</td>\n",
       "      <td>625</td>\n",
       "      <td>80</td>\n",
       "      <td>100</td>\n",
       "      <td>123</td>\n",
       "      <td>122</td>\n",
       "      <td>120</td>\n",
       "      <td>80</td>\n",
       "    </tr>\n",
       "    <tr>\n",
       "      <th>4</th>\n",
       "      <td>4</td>\n",
       "      <td>Charmander</td>\n",
       "      <td>Fire</td>\n",
       "      <td>Missing</td>\n",
       "      <td>309</td>\n",
       "      <td>39</td>\n",
       "      <td>52</td>\n",
       "      <td>43</td>\n",
       "      <td>60</td>\n",
       "      <td>50</td>\n",
       "      <td>65</td>\n",
       "    </tr>\n",
       "    <tr>\n",
       "      <th>...</th>\n",
       "      <td>...</td>\n",
       "      <td>...</td>\n",
       "      <td>...</td>\n",
       "      <td>...</td>\n",
       "      <td>...</td>\n",
       "      <td>...</td>\n",
       "      <td>...</td>\n",
       "      <td>...</td>\n",
       "      <td>...</td>\n",
       "      <td>...</td>\n",
       "      <td>...</td>\n",
       "    </tr>\n",
       "    <tr>\n",
       "      <th>795</th>\n",
       "      <td>719</td>\n",
       "      <td>Diancie</td>\n",
       "      <td>Rock</td>\n",
       "      <td>Fairy</td>\n",
       "      <td>600</td>\n",
       "      <td>50</td>\n",
       "      <td>100</td>\n",
       "      <td>150</td>\n",
       "      <td>100</td>\n",
       "      <td>150</td>\n",
       "      <td>50</td>\n",
       "    </tr>\n",
       "    <tr>\n",
       "      <th>796</th>\n",
       "      <td>719</td>\n",
       "      <td>DiancieMega Diancie</td>\n",
       "      <td>Rock</td>\n",
       "      <td>Fairy</td>\n",
       "      <td>700</td>\n",
       "      <td>50</td>\n",
       "      <td>160</td>\n",
       "      <td>110</td>\n",
       "      <td>160</td>\n",
       "      <td>110</td>\n",
       "      <td>110</td>\n",
       "    </tr>\n",
       "    <tr>\n",
       "      <th>797</th>\n",
       "      <td>720</td>\n",
       "      <td>HoopaHoopa Confined</td>\n",
       "      <td>Psychic</td>\n",
       "      <td>Ghost</td>\n",
       "      <td>600</td>\n",
       "      <td>80</td>\n",
       "      <td>110</td>\n",
       "      <td>60</td>\n",
       "      <td>150</td>\n",
       "      <td>130</td>\n",
       "      <td>70</td>\n",
       "    </tr>\n",
       "    <tr>\n",
       "      <th>798</th>\n",
       "      <td>720</td>\n",
       "      <td>HoopaHoopa Unbound</td>\n",
       "      <td>Psychic</td>\n",
       "      <td>Dark</td>\n",
       "      <td>680</td>\n",
       "      <td>80</td>\n",
       "      <td>160</td>\n",
       "      <td>60</td>\n",
       "      <td>170</td>\n",
       "      <td>130</td>\n",
       "      <td>80</td>\n",
       "    </tr>\n",
       "    <tr>\n",
       "      <th>799</th>\n",
       "      <td>721</td>\n",
       "      <td>Volcanion</td>\n",
       "      <td>Fire</td>\n",
       "      <td>Water</td>\n",
       "      <td>600</td>\n",
       "      <td>80</td>\n",
       "      <td>110</td>\n",
       "      <td>120</td>\n",
       "      <td>130</td>\n",
       "      <td>90</td>\n",
       "      <td>70</td>\n",
       "    </tr>\n",
       "  </tbody>\n",
       "</table>\n",
       "<p>800 rows × 11 columns</p>\n",
       "</div>"
      ],
      "text/plain": [
       "      ID                Pokemon Main Type Second Type  Full Power  Hit Points  \\\n",
       "0      1              Bulbasaur     Grass      Poison         318          45   \n",
       "1      2                Ivysaur     Grass      Poison         405          60   \n",
       "2      3               Venusaur     Grass      Poison         525          80   \n",
       "3      3  VenusaurMega Venusaur     Grass      Poison         625          80   \n",
       "4      4             Charmander      Fire     Missing         309          39   \n",
       "..   ...                    ...       ...         ...         ...         ...   \n",
       "795  719                Diancie      Rock       Fairy         600          50   \n",
       "796  719    DiancieMega Diancie      Rock       Fairy         700          50   \n",
       "797  720    HoopaHoopa Confined   Psychic       Ghost         600          80   \n",
       "798  720     HoopaHoopa Unbound   Psychic        Dark         680          80   \n",
       "799  721              Volcanion      Fire       Water         600          80   \n",
       "\n",
       "     Attack  Defense  Special Attack  Special Defense  Speed  \n",
       "0        49       49              65               65     45  \n",
       "1        62       63              80               80     60  \n",
       "2        82       83             100              100     80  \n",
       "3       100      123             122              120     80  \n",
       "4        52       43              60               50     65  \n",
       "..      ...      ...             ...              ...    ...  \n",
       "795     100      150             100              150     50  \n",
       "796     160      110             160              110    110  \n",
       "797     110       60             150              130     70  \n",
       "798     160       60             170              130     80  \n",
       "799     110      120             130               90     70  \n",
       "\n",
       "[800 rows x 11 columns]"
      ]
     },
     "execution_count": 38,
     "metadata": {},
     "output_type": "execute_result"
    }
   ],
   "source": [
    "df"
   ]
  },
  {
   "cell_type": "markdown",
   "id": "4a0e99c0",
   "metadata": {},
   "source": [
    "melihat dataset setelah menghapus columns yang tidak terpakai, terlihat bahwa jumlah kolom berkurang dari 13 kolom menjadi 11 kolom"
   ]
  },
  {
   "cell_type": "markdown",
   "id": "00b27c34",
   "metadata": {},
   "source": [
    "## 5. Explorasi Data\n",
    "\n",
    "Dalam melakukan Explorasi data ini akan dilakukan pembagian untuk feature **\"Hit Points\"** menjadi 3 yaitu **\"High\"** , **Medium**, dan **\"Low\"** berdasarkan nilai quantile dari Features tersebut. \n",
    "\n",
    "Pembagian kategori tersebut untuk melihat **\"Hit Points\"** atau health terakhir dari setiap pokemon"
   ]
  },
  {
   "cell_type": "code",
   "execution_count": 39,
   "id": "351ca2ca",
   "metadata": {},
   "outputs": [
    {
     "data": {
      "text/plain": [
       "0.75    80.0\n",
       "Name: Hit Points, dtype: float64"
      ]
     },
     "execution_count": 39,
     "metadata": {},
     "output_type": "execute_result"
    }
   ],
   "source": [
    "# nilai 'High' feature \"Hit Points\"\n",
    "df['Hit Points'].quantile([0.75])"
   ]
  },
  {
   "cell_type": "code",
   "execution_count": 40,
   "id": "b23e5d54",
   "metadata": {},
   "outputs": [
    {
     "data": {
      "text/plain": [
       "0.25    50.0\n",
       "Name: Hit Points, dtype: float64"
      ]
     },
     "execution_count": 40,
     "metadata": {},
     "output_type": "execute_result"
    }
   ],
   "source": [
    "# nilai 'Low' feature \"Hit Points\"\n",
    "df['Hit Points'].quantile([0.25])"
   ]
  },
  {
   "cell_type": "markdown",
   "id": "07c4fd79",
   "metadata": {},
   "source": [
    "Dari nilai quantile diatas maka pembagian kategori untuk feature \"Hit Points\" adalah sebagai berikut:\n",
    "* untuk kategori **high_hit** adalah nilai \"Hit Points\" diatas **80**\n",
    "* untuk kategori **medium_hit** adalah nilai \"Hit Points\" antara nilai **51 s/d 79**\n",
    "* untuk kategori **low_hit** adalah nilai \"Hit Points\" antara nilai **dibawah 50**"
   ]
  },
  {
   "cell_type": "markdown",
   "id": "4e2b4b38",
   "metadata": {},
   "source": [
    "#### 5.1 Query"
   ]
  },
  {
   "cell_type": "code",
   "execution_count": 41,
   "id": "c1c734e5",
   "metadata": {},
   "outputs": [
    {
     "data": {
      "text/html": [
       "<div>\n",
       "<style scoped>\n",
       "    .dataframe tbody tr th:only-of-type {\n",
       "        vertical-align: middle;\n",
       "    }\n",
       "\n",
       "    .dataframe tbody tr th {\n",
       "        vertical-align: top;\n",
       "    }\n",
       "\n",
       "    .dataframe thead th {\n",
       "        text-align: right;\n",
       "    }\n",
       "</style>\n",
       "<table border=\"1\" class=\"dataframe\">\n",
       "  <thead>\n",
       "    <tr style=\"text-align: right;\">\n",
       "      <th></th>\n",
       "      <th>ID</th>\n",
       "      <th>Pokemon</th>\n",
       "      <th>Main Type</th>\n",
       "      <th>Second Type</th>\n",
       "      <th>Full Power</th>\n",
       "      <th>Hit Points</th>\n",
       "      <th>Attack</th>\n",
       "      <th>Defense</th>\n",
       "      <th>Special Attack</th>\n",
       "      <th>Special Defense</th>\n",
       "      <th>Speed</th>\n",
       "    </tr>\n",
       "  </thead>\n",
       "  <tbody>\n",
       "    <tr>\n",
       "      <th>0</th>\n",
       "      <td>1</td>\n",
       "      <td>Bulbasaur</td>\n",
       "      <td>Grass</td>\n",
       "      <td>Poison</td>\n",
       "      <td>318</td>\n",
       "      <td>45</td>\n",
       "      <td>49</td>\n",
       "      <td>49</td>\n",
       "      <td>65</td>\n",
       "      <td>65</td>\n",
       "      <td>45</td>\n",
       "    </tr>\n",
       "    <tr>\n",
       "      <th>1</th>\n",
       "      <td>2</td>\n",
       "      <td>Ivysaur</td>\n",
       "      <td>Grass</td>\n",
       "      <td>Poison</td>\n",
       "      <td>405</td>\n",
       "      <td>60</td>\n",
       "      <td>62</td>\n",
       "      <td>63</td>\n",
       "      <td>80</td>\n",
       "      <td>80</td>\n",
       "      <td>60</td>\n",
       "    </tr>\n",
       "    <tr>\n",
       "      <th>2</th>\n",
       "      <td>3</td>\n",
       "      <td>Venusaur</td>\n",
       "      <td>Grass</td>\n",
       "      <td>Poison</td>\n",
       "      <td>525</td>\n",
       "      <td>80</td>\n",
       "      <td>82</td>\n",
       "      <td>83</td>\n",
       "      <td>100</td>\n",
       "      <td>100</td>\n",
       "      <td>80</td>\n",
       "    </tr>\n",
       "    <tr>\n",
       "      <th>3</th>\n",
       "      <td>3</td>\n",
       "      <td>VenusaurMega Venusaur</td>\n",
       "      <td>Grass</td>\n",
       "      <td>Poison</td>\n",
       "      <td>625</td>\n",
       "      <td>80</td>\n",
       "      <td>100</td>\n",
       "      <td>123</td>\n",
       "      <td>122</td>\n",
       "      <td>120</td>\n",
       "      <td>80</td>\n",
       "    </tr>\n",
       "    <tr>\n",
       "      <th>4</th>\n",
       "      <td>4</td>\n",
       "      <td>Charmander</td>\n",
       "      <td>Fire</td>\n",
       "      <td>Missing</td>\n",
       "      <td>309</td>\n",
       "      <td>39</td>\n",
       "      <td>52</td>\n",
       "      <td>43</td>\n",
       "      <td>60</td>\n",
       "      <td>50</td>\n",
       "      <td>65</td>\n",
       "    </tr>\n",
       "    <tr>\n",
       "      <th>...</th>\n",
       "      <td>...</td>\n",
       "      <td>...</td>\n",
       "      <td>...</td>\n",
       "      <td>...</td>\n",
       "      <td>...</td>\n",
       "      <td>...</td>\n",
       "      <td>...</td>\n",
       "      <td>...</td>\n",
       "      <td>...</td>\n",
       "      <td>...</td>\n",
       "      <td>...</td>\n",
       "    </tr>\n",
       "    <tr>\n",
       "      <th>795</th>\n",
       "      <td>719</td>\n",
       "      <td>Diancie</td>\n",
       "      <td>Rock</td>\n",
       "      <td>Fairy</td>\n",
       "      <td>600</td>\n",
       "      <td>50</td>\n",
       "      <td>100</td>\n",
       "      <td>150</td>\n",
       "      <td>100</td>\n",
       "      <td>150</td>\n",
       "      <td>50</td>\n",
       "    </tr>\n",
       "    <tr>\n",
       "      <th>796</th>\n",
       "      <td>719</td>\n",
       "      <td>DiancieMega Diancie</td>\n",
       "      <td>Rock</td>\n",
       "      <td>Fairy</td>\n",
       "      <td>700</td>\n",
       "      <td>50</td>\n",
       "      <td>160</td>\n",
       "      <td>110</td>\n",
       "      <td>160</td>\n",
       "      <td>110</td>\n",
       "      <td>110</td>\n",
       "    </tr>\n",
       "    <tr>\n",
       "      <th>797</th>\n",
       "      <td>720</td>\n",
       "      <td>HoopaHoopa Confined</td>\n",
       "      <td>Psychic</td>\n",
       "      <td>Ghost</td>\n",
       "      <td>600</td>\n",
       "      <td>80</td>\n",
       "      <td>110</td>\n",
       "      <td>60</td>\n",
       "      <td>150</td>\n",
       "      <td>130</td>\n",
       "      <td>70</td>\n",
       "    </tr>\n",
       "    <tr>\n",
       "      <th>798</th>\n",
       "      <td>720</td>\n",
       "      <td>HoopaHoopa Unbound</td>\n",
       "      <td>Psychic</td>\n",
       "      <td>Dark</td>\n",
       "      <td>680</td>\n",
       "      <td>80</td>\n",
       "      <td>160</td>\n",
       "      <td>60</td>\n",
       "      <td>170</td>\n",
       "      <td>130</td>\n",
       "      <td>80</td>\n",
       "    </tr>\n",
       "    <tr>\n",
       "      <th>799</th>\n",
       "      <td>721</td>\n",
       "      <td>Volcanion</td>\n",
       "      <td>Fire</td>\n",
       "      <td>Water</td>\n",
       "      <td>600</td>\n",
       "      <td>80</td>\n",
       "      <td>110</td>\n",
       "      <td>120</td>\n",
       "      <td>130</td>\n",
       "      <td>90</td>\n",
       "      <td>70</td>\n",
       "    </tr>\n",
       "  </tbody>\n",
       "</table>\n",
       "<p>800 rows × 11 columns</p>\n",
       "</div>"
      ],
      "text/plain": [
       "      ID                Pokemon Main Type Second Type  Full Power  Hit Points  \\\n",
       "0      1              Bulbasaur     Grass      Poison         318          45   \n",
       "1      2                Ivysaur     Grass      Poison         405          60   \n",
       "2      3               Venusaur     Grass      Poison         525          80   \n",
       "3      3  VenusaurMega Venusaur     Grass      Poison         625          80   \n",
       "4      4             Charmander      Fire     Missing         309          39   \n",
       "..   ...                    ...       ...         ...         ...         ...   \n",
       "795  719                Diancie      Rock       Fairy         600          50   \n",
       "796  719    DiancieMega Diancie      Rock       Fairy         700          50   \n",
       "797  720    HoopaHoopa Confined   Psychic       Ghost         600          80   \n",
       "798  720     HoopaHoopa Unbound   Psychic        Dark         680          80   \n",
       "799  721              Volcanion      Fire       Water         600          80   \n",
       "\n",
       "     Attack  Defense  Special Attack  Special Defense  Speed  \n",
       "0        49       49              65               65     45  \n",
       "1        62       63              80               80     60  \n",
       "2        82       83             100              100     80  \n",
       "3       100      123             122              120     80  \n",
       "4        52       43              60               50     65  \n",
       "..      ...      ...             ...              ...    ...  \n",
       "795     100      150             100              150     50  \n",
       "796     160      110             160              110    110  \n",
       "797     110       60             150              130     70  \n",
       "798     160       60             170              130     80  \n",
       "799     110      120             130               90     70  \n",
       "\n",
       "[800 rows x 11 columns]"
      ]
     },
     "execution_count": 41,
     "metadata": {},
     "output_type": "execute_result"
    }
   ],
   "source": [
    "df"
   ]
  },
  {
   "cell_type": "code",
   "execution_count": 42,
   "id": "c77ae556",
   "metadata": {},
   "outputs": [
    {
     "data": {
      "text/html": [
       "<div>\n",
       "<style scoped>\n",
       "    .dataframe tbody tr th:only-of-type {\n",
       "        vertical-align: middle;\n",
       "    }\n",
       "\n",
       "    .dataframe tbody tr th {\n",
       "        vertical-align: top;\n",
       "    }\n",
       "\n",
       "    .dataframe thead th {\n",
       "        text-align: right;\n",
       "    }\n",
       "</style>\n",
       "<table border=\"1\" class=\"dataframe\">\n",
       "  <thead>\n",
       "    <tr style=\"text-align: right;\">\n",
       "      <th></th>\n",
       "      <th>ID</th>\n",
       "      <th>Pokemon</th>\n",
       "      <th>Main Type</th>\n",
       "      <th>Second Type</th>\n",
       "      <th>Full Power</th>\n",
       "      <th>Hit Points</th>\n",
       "      <th>Attack</th>\n",
       "      <th>Defense</th>\n",
       "      <th>Special Attack</th>\n",
       "      <th>Special Defense</th>\n",
       "      <th>Speed</th>\n",
       "    </tr>\n",
       "  </thead>\n",
       "  <tbody>\n",
       "    <tr>\n",
       "      <th>2</th>\n",
       "      <td>3</td>\n",
       "      <td>Venusaur</td>\n",
       "      <td>Grass</td>\n",
       "      <td>Poison</td>\n",
       "      <td>525</td>\n",
       "      <td>80</td>\n",
       "      <td>82</td>\n",
       "      <td>83</td>\n",
       "      <td>100</td>\n",
       "      <td>100</td>\n",
       "      <td>80</td>\n",
       "    </tr>\n",
       "    <tr>\n",
       "      <th>3</th>\n",
       "      <td>3</td>\n",
       "      <td>VenusaurMega Venusaur</td>\n",
       "      <td>Grass</td>\n",
       "      <td>Poison</td>\n",
       "      <td>625</td>\n",
       "      <td>80</td>\n",
       "      <td>100</td>\n",
       "      <td>123</td>\n",
       "      <td>122</td>\n",
       "      <td>120</td>\n",
       "      <td>80</td>\n",
       "    </tr>\n",
       "    <tr>\n",
       "      <th>22</th>\n",
       "      <td>18</td>\n",
       "      <td>Pidgeot</td>\n",
       "      <td>Normal</td>\n",
       "      <td>Flying</td>\n",
       "      <td>479</td>\n",
       "      <td>83</td>\n",
       "      <td>80</td>\n",
       "      <td>75</td>\n",
       "      <td>70</td>\n",
       "      <td>70</td>\n",
       "      <td>101</td>\n",
       "    </tr>\n",
       "    <tr>\n",
       "      <th>23</th>\n",
       "      <td>18</td>\n",
       "      <td>PidgeotMega Pidgeot</td>\n",
       "      <td>Normal</td>\n",
       "      <td>Flying</td>\n",
       "      <td>579</td>\n",
       "      <td>83</td>\n",
       "      <td>80</td>\n",
       "      <td>80</td>\n",
       "      <td>135</td>\n",
       "      <td>80</td>\n",
       "      <td>121</td>\n",
       "    </tr>\n",
       "    <tr>\n",
       "      <th>36</th>\n",
       "      <td>31</td>\n",
       "      <td>Nidoqueen</td>\n",
       "      <td>Poison</td>\n",
       "      <td>Ground</td>\n",
       "      <td>505</td>\n",
       "      <td>90</td>\n",
       "      <td>92</td>\n",
       "      <td>87</td>\n",
       "      <td>75</td>\n",
       "      <td>85</td>\n",
       "      <td>76</td>\n",
       "    </tr>\n",
       "    <tr>\n",
       "      <th>...</th>\n",
       "      <td>...</td>\n",
       "      <td>...</td>\n",
       "      <td>...</td>\n",
       "      <td>...</td>\n",
       "      <td>...</td>\n",
       "      <td>...</td>\n",
       "      <td>...</td>\n",
       "      <td>...</td>\n",
       "      <td>...</td>\n",
       "      <td>...</td>\n",
       "      <td>...</td>\n",
       "    </tr>\n",
       "    <tr>\n",
       "      <th>793</th>\n",
       "      <td>717</td>\n",
       "      <td>Yveltal</td>\n",
       "      <td>Dark</td>\n",
       "      <td>Flying</td>\n",
       "      <td>680</td>\n",
       "      <td>126</td>\n",
       "      <td>131</td>\n",
       "      <td>95</td>\n",
       "      <td>131</td>\n",
       "      <td>98</td>\n",
       "      <td>99</td>\n",
       "    </tr>\n",
       "    <tr>\n",
       "      <th>794</th>\n",
       "      <td>718</td>\n",
       "      <td>Zygarde50% Forme</td>\n",
       "      <td>Dragon</td>\n",
       "      <td>Ground</td>\n",
       "      <td>600</td>\n",
       "      <td>108</td>\n",
       "      <td>100</td>\n",
       "      <td>121</td>\n",
       "      <td>81</td>\n",
       "      <td>95</td>\n",
       "      <td>95</td>\n",
       "    </tr>\n",
       "    <tr>\n",
       "      <th>797</th>\n",
       "      <td>720</td>\n",
       "      <td>HoopaHoopa Confined</td>\n",
       "      <td>Psychic</td>\n",
       "      <td>Ghost</td>\n",
       "      <td>600</td>\n",
       "      <td>80</td>\n",
       "      <td>110</td>\n",
       "      <td>60</td>\n",
       "      <td>150</td>\n",
       "      <td>130</td>\n",
       "      <td>70</td>\n",
       "    </tr>\n",
       "    <tr>\n",
       "      <th>798</th>\n",
       "      <td>720</td>\n",
       "      <td>HoopaHoopa Unbound</td>\n",
       "      <td>Psychic</td>\n",
       "      <td>Dark</td>\n",
       "      <td>680</td>\n",
       "      <td>80</td>\n",
       "      <td>160</td>\n",
       "      <td>60</td>\n",
       "      <td>170</td>\n",
       "      <td>130</td>\n",
       "      <td>80</td>\n",
       "    </tr>\n",
       "    <tr>\n",
       "      <th>799</th>\n",
       "      <td>721</td>\n",
       "      <td>Volcanion</td>\n",
       "      <td>Fire</td>\n",
       "      <td>Water</td>\n",
       "      <td>600</td>\n",
       "      <td>80</td>\n",
       "      <td>110</td>\n",
       "      <td>120</td>\n",
       "      <td>130</td>\n",
       "      <td>90</td>\n",
       "      <td>70</td>\n",
       "    </tr>\n",
       "  </tbody>\n",
       "</table>\n",
       "<p>236 rows × 11 columns</p>\n",
       "</div>"
      ],
      "text/plain": [
       "      ID                Pokemon Main Type Second Type  Full Power  Hit Points  \\\n",
       "2      3               Venusaur     Grass      Poison         525          80   \n",
       "3      3  VenusaurMega Venusaur     Grass      Poison         625          80   \n",
       "22    18                Pidgeot    Normal      Flying         479          83   \n",
       "23    18    PidgeotMega Pidgeot    Normal      Flying         579          83   \n",
       "36    31              Nidoqueen    Poison      Ground         505          90   \n",
       "..   ...                    ...       ...         ...         ...         ...   \n",
       "793  717                Yveltal      Dark      Flying         680         126   \n",
       "794  718       Zygarde50% Forme    Dragon      Ground         600         108   \n",
       "797  720    HoopaHoopa Confined   Psychic       Ghost         600          80   \n",
       "798  720     HoopaHoopa Unbound   Psychic        Dark         680          80   \n",
       "799  721              Volcanion      Fire       Water         600          80   \n",
       "\n",
       "     Attack  Defense  Special Attack  Special Defense  Speed  \n",
       "2        82       83             100              100     80  \n",
       "3       100      123             122              120     80  \n",
       "22       80       75              70               70    101  \n",
       "23       80       80             135               80    121  \n",
       "36       92       87              75               85     76  \n",
       "..      ...      ...             ...              ...    ...  \n",
       "793     131       95             131               98     99  \n",
       "794     100      121              81               95     95  \n",
       "797     110       60             150              130     70  \n",
       "798     160       60             170              130     80  \n",
       "799     110      120             130               90     70  \n",
       "\n",
       "[236 rows x 11 columns]"
      ]
     },
     "execution_count": 42,
     "metadata": {},
     "output_type": "execute_result"
    }
   ],
   "source": [
    "# melakukan query data kategori high_hit untuk nilai feature \"Hit Points\" dengan nilai diatas 80 \n",
    "high_hit = df.loc[df['Hit Points'] >= 80]\n",
    "high_hit"
   ]
  },
  {
   "cell_type": "markdown",
   "id": "da639fae",
   "metadata": {},
   "source": [
    "terdapat **236** pokemon yang masuk dalam kategori **\"High Hit\"**"
   ]
  },
  {
   "cell_type": "code",
   "execution_count": 43,
   "id": "b0cae084",
   "metadata": {},
   "outputs": [
    {
     "data": {
      "text/html": [
       "<div>\n",
       "<style scoped>\n",
       "    .dataframe tbody tr th:only-of-type {\n",
       "        vertical-align: middle;\n",
       "    }\n",
       "\n",
       "    .dataframe tbody tr th {\n",
       "        vertical-align: top;\n",
       "    }\n",
       "\n",
       "    .dataframe thead th {\n",
       "        text-align: right;\n",
       "    }\n",
       "</style>\n",
       "<table border=\"1\" class=\"dataframe\">\n",
       "  <thead>\n",
       "    <tr style=\"text-align: right;\">\n",
       "      <th></th>\n",
       "      <th>ID</th>\n",
       "      <th>Pokemon</th>\n",
       "      <th>Main Type</th>\n",
       "      <th>Second Type</th>\n",
       "      <th>Full Power</th>\n",
       "      <th>Hit Points</th>\n",
       "      <th>Attack</th>\n",
       "      <th>Defense</th>\n",
       "      <th>Special Attack</th>\n",
       "      <th>Special Defense</th>\n",
       "      <th>Speed</th>\n",
       "    </tr>\n",
       "  </thead>\n",
       "  <tbody>\n",
       "    <tr>\n",
       "      <th>1</th>\n",
       "      <td>2</td>\n",
       "      <td>Ivysaur</td>\n",
       "      <td>Grass</td>\n",
       "      <td>Poison</td>\n",
       "      <td>405</td>\n",
       "      <td>60</td>\n",
       "      <td>62</td>\n",
       "      <td>63</td>\n",
       "      <td>80</td>\n",
       "      <td>80</td>\n",
       "      <td>60</td>\n",
       "    </tr>\n",
       "    <tr>\n",
       "      <th>5</th>\n",
       "      <td>5</td>\n",
       "      <td>Charmeleon</td>\n",
       "      <td>Fire</td>\n",
       "      <td>Missing</td>\n",
       "      <td>405</td>\n",
       "      <td>58</td>\n",
       "      <td>64</td>\n",
       "      <td>58</td>\n",
       "      <td>80</td>\n",
       "      <td>65</td>\n",
       "      <td>80</td>\n",
       "    </tr>\n",
       "    <tr>\n",
       "      <th>6</th>\n",
       "      <td>6</td>\n",
       "      <td>Charizard</td>\n",
       "      <td>Fire</td>\n",
       "      <td>Flying</td>\n",
       "      <td>534</td>\n",
       "      <td>78</td>\n",
       "      <td>84</td>\n",
       "      <td>78</td>\n",
       "      <td>109</td>\n",
       "      <td>85</td>\n",
       "      <td>100</td>\n",
       "    </tr>\n",
       "    <tr>\n",
       "      <th>7</th>\n",
       "      <td>6</td>\n",
       "      <td>CharizardMega Charizard X</td>\n",
       "      <td>Fire</td>\n",
       "      <td>Dragon</td>\n",
       "      <td>634</td>\n",
       "      <td>78</td>\n",
       "      <td>130</td>\n",
       "      <td>111</td>\n",
       "      <td>130</td>\n",
       "      <td>85</td>\n",
       "      <td>100</td>\n",
       "    </tr>\n",
       "    <tr>\n",
       "      <th>8</th>\n",
       "      <td>6</td>\n",
       "      <td>CharizardMega Charizard Y</td>\n",
       "      <td>Fire</td>\n",
       "      <td>Flying</td>\n",
       "      <td>634</td>\n",
       "      <td>78</td>\n",
       "      <td>104</td>\n",
       "      <td>78</td>\n",
       "      <td>159</td>\n",
       "      <td>115</td>\n",
       "      <td>100</td>\n",
       "    </tr>\n",
       "    <tr>\n",
       "      <th>...</th>\n",
       "      <td>...</td>\n",
       "      <td>...</td>\n",
       "      <td>...</td>\n",
       "      <td>...</td>\n",
       "      <td>...</td>\n",
       "      <td>...</td>\n",
       "      <td>...</td>\n",
       "      <td>...</td>\n",
       "      <td>...</td>\n",
       "      <td>...</td>\n",
       "      <td>...</td>\n",
       "    </tr>\n",
       "    <tr>\n",
       "      <th>783</th>\n",
       "      <td>710</td>\n",
       "      <td>PumpkabooSuper Size</td>\n",
       "      <td>Ghost</td>\n",
       "      <td>Grass</td>\n",
       "      <td>335</td>\n",
       "      <td>59</td>\n",
       "      <td>66</td>\n",
       "      <td>70</td>\n",
       "      <td>44</td>\n",
       "      <td>55</td>\n",
       "      <td>41</td>\n",
       "    </tr>\n",
       "    <tr>\n",
       "      <th>784</th>\n",
       "      <td>711</td>\n",
       "      <td>GourgeistAverage Size</td>\n",
       "      <td>Ghost</td>\n",
       "      <td>Grass</td>\n",
       "      <td>494</td>\n",
       "      <td>65</td>\n",
       "      <td>90</td>\n",
       "      <td>122</td>\n",
       "      <td>58</td>\n",
       "      <td>75</td>\n",
       "      <td>84</td>\n",
       "    </tr>\n",
       "    <tr>\n",
       "      <th>785</th>\n",
       "      <td>711</td>\n",
       "      <td>GourgeistSmall Size</td>\n",
       "      <td>Ghost</td>\n",
       "      <td>Grass</td>\n",
       "      <td>494</td>\n",
       "      <td>55</td>\n",
       "      <td>85</td>\n",
       "      <td>122</td>\n",
       "      <td>58</td>\n",
       "      <td>75</td>\n",
       "      <td>99</td>\n",
       "    </tr>\n",
       "    <tr>\n",
       "      <th>786</th>\n",
       "      <td>711</td>\n",
       "      <td>GourgeistLarge Size</td>\n",
       "      <td>Ghost</td>\n",
       "      <td>Grass</td>\n",
       "      <td>494</td>\n",
       "      <td>75</td>\n",
       "      <td>95</td>\n",
       "      <td>122</td>\n",
       "      <td>58</td>\n",
       "      <td>75</td>\n",
       "      <td>69</td>\n",
       "    </tr>\n",
       "    <tr>\n",
       "      <th>788</th>\n",
       "      <td>712</td>\n",
       "      <td>Bergmite</td>\n",
       "      <td>Ice</td>\n",
       "      <td>Missing</td>\n",
       "      <td>304</td>\n",
       "      <td>55</td>\n",
       "      <td>69</td>\n",
       "      <td>85</td>\n",
       "      <td>32</td>\n",
       "      <td>35</td>\n",
       "      <td>28</td>\n",
       "    </tr>\n",
       "  </tbody>\n",
       "</table>\n",
       "<p>353 rows × 11 columns</p>\n",
       "</div>"
      ],
      "text/plain": [
       "      ID                    Pokemon Main Type Second Type  Full Power  \\\n",
       "1      2                    Ivysaur     Grass      Poison         405   \n",
       "5      5                 Charmeleon      Fire     Missing         405   \n",
       "6      6                  Charizard      Fire      Flying         534   \n",
       "7      6  CharizardMega Charizard X      Fire      Dragon         634   \n",
       "8      6  CharizardMega Charizard Y      Fire      Flying         634   \n",
       "..   ...                        ...       ...         ...         ...   \n",
       "783  710        PumpkabooSuper Size     Ghost       Grass         335   \n",
       "784  711      GourgeistAverage Size     Ghost       Grass         494   \n",
       "785  711        GourgeistSmall Size     Ghost       Grass         494   \n",
       "786  711        GourgeistLarge Size     Ghost       Grass         494   \n",
       "788  712                   Bergmite       Ice     Missing         304   \n",
       "\n",
       "     Hit Points  Attack  Defense  Special Attack  Special Defense  Speed  \n",
       "1            60      62       63              80               80     60  \n",
       "5            58      64       58              80               65     80  \n",
       "6            78      84       78             109               85    100  \n",
       "7            78     130      111             130               85    100  \n",
       "8            78     104       78             159              115    100  \n",
       "..          ...     ...      ...             ...              ...    ...  \n",
       "783          59      66       70              44               55     41  \n",
       "784          65      90      122              58               75     84  \n",
       "785          55      85      122              58               75     99  \n",
       "786          75      95      122              58               75     69  \n",
       "788          55      69       85              32               35     28  \n",
       "\n",
       "[353 rows x 11 columns]"
      ]
     },
     "execution_count": 43,
     "metadata": {},
     "output_type": "execute_result"
    }
   ],
   "source": [
    "# melakukan query data kategori medium_hit untuk nilai feature \"Hit Points\" dengan nilai antara 51 s/d 79\n",
    "medium_hit = df.loc[(df['Hit Points'] > 50) & (df['Hit Points'] < 80)]\n",
    "medium_hit"
   ]
  },
  {
   "cell_type": "markdown",
   "id": "050cb57d",
   "metadata": {},
   "source": [
    "terdapat **353** pokemon yang masuk dalam kategori **\"Medium Hit\"**"
   ]
  },
  {
   "cell_type": "code",
   "execution_count": 44,
   "id": "bd145642",
   "metadata": {},
   "outputs": [
    {
     "data": {
      "text/html": [
       "<div>\n",
       "<style scoped>\n",
       "    .dataframe tbody tr th:only-of-type {\n",
       "        vertical-align: middle;\n",
       "    }\n",
       "\n",
       "    .dataframe tbody tr th {\n",
       "        vertical-align: top;\n",
       "    }\n",
       "\n",
       "    .dataframe thead th {\n",
       "        text-align: right;\n",
       "    }\n",
       "</style>\n",
       "<table border=\"1\" class=\"dataframe\">\n",
       "  <thead>\n",
       "    <tr style=\"text-align: right;\">\n",
       "      <th></th>\n",
       "      <th>ID</th>\n",
       "      <th>Pokemon</th>\n",
       "      <th>Main Type</th>\n",
       "      <th>Second Type</th>\n",
       "      <th>Full Power</th>\n",
       "      <th>Hit Points</th>\n",
       "      <th>Attack</th>\n",
       "      <th>Defense</th>\n",
       "      <th>Special Attack</th>\n",
       "      <th>Special Defense</th>\n",
       "      <th>Speed</th>\n",
       "    </tr>\n",
       "  </thead>\n",
       "  <tbody>\n",
       "    <tr>\n",
       "      <th>0</th>\n",
       "      <td>1</td>\n",
       "      <td>Bulbasaur</td>\n",
       "      <td>Grass</td>\n",
       "      <td>Poison</td>\n",
       "      <td>318</td>\n",
       "      <td>45</td>\n",
       "      <td>49</td>\n",
       "      <td>49</td>\n",
       "      <td>65</td>\n",
       "      <td>65</td>\n",
       "      <td>45</td>\n",
       "    </tr>\n",
       "    <tr>\n",
       "      <th>4</th>\n",
       "      <td>4</td>\n",
       "      <td>Charmander</td>\n",
       "      <td>Fire</td>\n",
       "      <td>Missing</td>\n",
       "      <td>309</td>\n",
       "      <td>39</td>\n",
       "      <td>52</td>\n",
       "      <td>43</td>\n",
       "      <td>60</td>\n",
       "      <td>50</td>\n",
       "      <td>65</td>\n",
       "    </tr>\n",
       "    <tr>\n",
       "      <th>9</th>\n",
       "      <td>7</td>\n",
       "      <td>Squirtle</td>\n",
       "      <td>Water</td>\n",
       "      <td>Missing</td>\n",
       "      <td>314</td>\n",
       "      <td>44</td>\n",
       "      <td>48</td>\n",
       "      <td>65</td>\n",
       "      <td>50</td>\n",
       "      <td>64</td>\n",
       "      <td>43</td>\n",
       "    </tr>\n",
       "    <tr>\n",
       "      <th>13</th>\n",
       "      <td>10</td>\n",
       "      <td>Caterpie</td>\n",
       "      <td>Bug</td>\n",
       "      <td>Missing</td>\n",
       "      <td>195</td>\n",
       "      <td>45</td>\n",
       "      <td>30</td>\n",
       "      <td>35</td>\n",
       "      <td>20</td>\n",
       "      <td>20</td>\n",
       "      <td>45</td>\n",
       "    </tr>\n",
       "    <tr>\n",
       "      <th>14</th>\n",
       "      <td>11</td>\n",
       "      <td>Metapod</td>\n",
       "      <td>Bug</td>\n",
       "      <td>Missing</td>\n",
       "      <td>205</td>\n",
       "      <td>50</td>\n",
       "      <td>20</td>\n",
       "      <td>55</td>\n",
       "      <td>25</td>\n",
       "      <td>25</td>\n",
       "      <td>30</td>\n",
       "    </tr>\n",
       "    <tr>\n",
       "      <th>...</th>\n",
       "      <td>...</td>\n",
       "      <td>...</td>\n",
       "      <td>...</td>\n",
       "      <td>...</td>\n",
       "      <td>...</td>\n",
       "      <td>...</td>\n",
       "      <td>...</td>\n",
       "      <td>...</td>\n",
       "      <td>...</td>\n",
       "      <td>...</td>\n",
       "      <td>...</td>\n",
       "    </tr>\n",
       "    <tr>\n",
       "      <th>780</th>\n",
       "      <td>710</td>\n",
       "      <td>PumpkabooAverage Size</td>\n",
       "      <td>Ghost</td>\n",
       "      <td>Grass</td>\n",
       "      <td>335</td>\n",
       "      <td>49</td>\n",
       "      <td>66</td>\n",
       "      <td>70</td>\n",
       "      <td>44</td>\n",
       "      <td>55</td>\n",
       "      <td>51</td>\n",
       "    </tr>\n",
       "    <tr>\n",
       "      <th>781</th>\n",
       "      <td>710</td>\n",
       "      <td>PumpkabooSmall Size</td>\n",
       "      <td>Ghost</td>\n",
       "      <td>Grass</td>\n",
       "      <td>335</td>\n",
       "      <td>44</td>\n",
       "      <td>66</td>\n",
       "      <td>70</td>\n",
       "      <td>44</td>\n",
       "      <td>55</td>\n",
       "      <td>56</td>\n",
       "    </tr>\n",
       "    <tr>\n",
       "      <th>790</th>\n",
       "      <td>714</td>\n",
       "      <td>Noibat</td>\n",
       "      <td>Flying</td>\n",
       "      <td>Dragon</td>\n",
       "      <td>245</td>\n",
       "      <td>40</td>\n",
       "      <td>30</td>\n",
       "      <td>35</td>\n",
       "      <td>45</td>\n",
       "      <td>40</td>\n",
       "      <td>55</td>\n",
       "    </tr>\n",
       "    <tr>\n",
       "      <th>795</th>\n",
       "      <td>719</td>\n",
       "      <td>Diancie</td>\n",
       "      <td>Rock</td>\n",
       "      <td>Fairy</td>\n",
       "      <td>600</td>\n",
       "      <td>50</td>\n",
       "      <td>100</td>\n",
       "      <td>150</td>\n",
       "      <td>100</td>\n",
       "      <td>150</td>\n",
       "      <td>50</td>\n",
       "    </tr>\n",
       "    <tr>\n",
       "      <th>796</th>\n",
       "      <td>719</td>\n",
       "      <td>DiancieMega Diancie</td>\n",
       "      <td>Rock</td>\n",
       "      <td>Fairy</td>\n",
       "      <td>700</td>\n",
       "      <td>50</td>\n",
       "      <td>160</td>\n",
       "      <td>110</td>\n",
       "      <td>160</td>\n",
       "      <td>110</td>\n",
       "      <td>110</td>\n",
       "    </tr>\n",
       "  </tbody>\n",
       "</table>\n",
       "<p>211 rows × 11 columns</p>\n",
       "</div>"
      ],
      "text/plain": [
       "      ID                Pokemon Main Type Second Type  Full Power  Hit Points  \\\n",
       "0      1              Bulbasaur     Grass      Poison         318          45   \n",
       "4      4             Charmander      Fire     Missing         309          39   \n",
       "9      7               Squirtle     Water     Missing         314          44   \n",
       "13    10               Caterpie       Bug     Missing         195          45   \n",
       "14    11                Metapod       Bug     Missing         205          50   \n",
       "..   ...                    ...       ...         ...         ...         ...   \n",
       "780  710  PumpkabooAverage Size     Ghost       Grass         335          49   \n",
       "781  710    PumpkabooSmall Size     Ghost       Grass         335          44   \n",
       "790  714                 Noibat    Flying      Dragon         245          40   \n",
       "795  719                Diancie      Rock       Fairy         600          50   \n",
       "796  719    DiancieMega Diancie      Rock       Fairy         700          50   \n",
       "\n",
       "     Attack  Defense  Special Attack  Special Defense  Speed  \n",
       "0        49       49              65               65     45  \n",
       "4        52       43              60               50     65  \n",
       "9        48       65              50               64     43  \n",
       "13       30       35              20               20     45  \n",
       "14       20       55              25               25     30  \n",
       "..      ...      ...             ...              ...    ...  \n",
       "780      66       70              44               55     51  \n",
       "781      66       70              44               55     56  \n",
       "790      30       35              45               40     55  \n",
       "795     100      150             100              150     50  \n",
       "796     160      110             160              110    110  \n",
       "\n",
       "[211 rows x 11 columns]"
      ]
     },
     "execution_count": 44,
     "metadata": {},
     "output_type": "execute_result"
    }
   ],
   "source": [
    "# melakukan query data kategori low_hit untuk nilai feature \"Hit Points\" dengan nilai dibawah 50 \n",
    "low_hit = df.loc[df['Hit Points'] <= 50 ]\n",
    "low_hit"
   ]
  },
  {
   "cell_type": "markdown",
   "id": "ec933252",
   "metadata": {},
   "source": [
    "terdapat **211** pokemon yang masuk dalam kategori **\"Low Hit\"**"
   ]
  },
  {
   "cell_type": "markdown",
   "id": "daa6c60c",
   "metadata": {},
   "source": [
    "#### 5.2 Grouping"
   ]
  },
  {
   "cell_type": "code",
   "execution_count": 45,
   "id": "5af3e629",
   "metadata": {},
   "outputs": [
    {
     "data": {
      "text/plain": [
       "Main Type\n",
       "Grass       17\n",
       "Normal      38\n",
       "Poison       9\n",
       "Fairy        7\n",
       "Water       41\n",
       "Fire        14\n",
       "Fighting     7\n",
       "Rock        12\n",
       "Psychic     17\n",
       "Ground      15\n",
       "Ice         10\n",
       "Electric     6\n",
       "Dragon      18\n",
       "Dark         6\n",
       "Bug          6\n",
       "Steel        6\n",
       "Ghost        6\n",
       "Flying       1\n",
       "Name: Hit Points, dtype: int64"
      ]
     },
     "execution_count": 45,
     "metadata": {},
     "output_type": "execute_result"
    }
   ],
   "source": [
    "# membuat grouping High hit points untuk melihat jumlah \"Main Type\" pokemon dengan nilai diatas 80 \n",
    "high_hit.groupby(\"Main Type\", sort=False)[\"Hit Points\"].count()"
   ]
  },
  {
   "cell_type": "markdown",
   "id": "d498f931",
   "metadata": {},
   "source": [
    "Dari pengelompokan data, Pokemon dengan kategori High Hit Point dengan jumlah terbanyak adalah jenis pokemon **Water** dengan jumlah sebanyak **41**"
   ]
  },
  {
   "cell_type": "code",
   "execution_count": 46,
   "id": "cb579677",
   "metadata": {},
   "outputs": [
    {
     "data": {
      "text/plain": [
       "Main Type\n",
       "Grass       35\n",
       "Fire        27\n",
       "Water       43\n",
       "Bug         36\n",
       "Normal      41\n",
       "Poison      11\n",
       "Electric    21\n",
       "Ground       9\n",
       "Fairy        7\n",
       "Fighting    12\n",
       "Psychic     25\n",
       "Rock        19\n",
       "Ghost       14\n",
       "Ice          9\n",
       "Dragon      10\n",
       "Dark        17\n",
       "Steel       15\n",
       "Flying       2\n",
       "Name: Hit Points, dtype: int64"
      ]
     },
     "execution_count": 46,
     "metadata": {},
     "output_type": "execute_result"
    }
   ],
   "source": [
    "# membuat grouping Medium hit points untuk melihat jumlah \"Main Type\" pokemon dengan nilai antara 51 s/d 79\n",
    "medium_hit.groupby(\"Main Type\", sort=False)[\"Hit Points\"].count()"
   ]
  },
  {
   "cell_type": "markdown",
   "id": "664f7732",
   "metadata": {},
   "source": [
    "Dari pengelompokan data, Pokemon dengan kategori Medium Hit Point dengan jumlah terbanyak adalah jenis pokemon **Water** dengan jumlah sebanyak **43**"
   ]
  },
  {
   "cell_type": "code",
   "execution_count": 47,
   "id": "6836e8a4",
   "metadata": {},
   "outputs": [
    {
     "data": {
      "text/plain": [
       "Main Type\n",
       "Grass       18\n",
       "Fire        11\n",
       "Water       28\n",
       "Bug         27\n",
       "Normal      19\n",
       "Poison       8\n",
       "Electric    17\n",
       "Ground       8\n",
       "Fighting     8\n",
       "Psychic     15\n",
       "Rock        13\n",
       "Ghost       12\n",
       "Dragon       4\n",
       "Fairy        3\n",
       "Ice          5\n",
       "Dark         8\n",
       "Steel        6\n",
       "Flying       1\n",
       "Name: Hit Points, dtype: int64"
      ]
     },
     "execution_count": 47,
     "metadata": {},
     "output_type": "execute_result"
    }
   ],
   "source": [
    "# membuat grouping Low hit points untuk melihat jumlah \"Main Type\" pokemon dengan nilai dibawah 50 \n",
    "low_hit.groupby(\"Main Type\", sort=False)[\"Hit Points\"].count()"
   ]
  },
  {
   "cell_type": "markdown",
   "id": "433ad93d",
   "metadata": {},
   "source": [
    "Dari pengelompokan data, Pokemon dengan kategori Medium Hit Point dengan jumlah terbanyak adalah jenis pokemon **Water** dengan jumlah sebanyak **28**"
   ]
  },
  {
   "cell_type": "markdown",
   "id": "d6d2a423",
   "metadata": {},
   "source": [
    "#### 5.3 Visualisasi "
   ]
  },
  {
   "cell_type": "code",
   "execution_count": 48,
   "id": "08d8837f",
   "metadata": {},
   "outputs": [
    {
     "data": {
      "image/png": "[encoded data removed]",
      "text/plain": [
       "<Figure size 1080x576 with 1 Axes>"
      ]
     },
     "metadata": {
      "needs_background": "light"
     },
     "output_type": "display_data"
    }
   ],
   "source": [
    "# membuat hit_points dataframe yang menjelaskan mengenai nilai rata-rata(mean) keseluruhan\n",
    "hit_points = pd.DataFrame({\"df\": df.mean(),\n",
    "                     \"high_hit\": high_hit.mean(),\n",
    "                     \"medium_hit\": medium_hit.mean(),\n",
    "                     \"low_hit\": low_hit.mean()\n",
    "                    })\n",
    "\n",
    "# visualisasi data frame\n",
    "hit_points.plot(kind='bar', figsize=(15,8));"
   ]
  },
  {
   "cell_type": "code",
   "execution_count": 49,
   "id": "9c9588f3",
   "metadata": {},
   "outputs": [
    {
     "data": {
      "image/png": "[encoded data removed]",
      "text/plain": [
       "<Figure size 1080x576 with 1 Axes>"
      ]
     },
     "metadata": {
      "needs_background": "light"
     },
     "output_type": "display_data"
    }
   ],
   "source": [
    "# membuat hit_points_type dataframe yang menjelaskan \"Main Type\" Pokemon dari tiap kategori\n",
    "hit_points_type = pd.DataFrame({\n",
    "                     \"high_hit\": high_hit.groupby(\"Main Type\", sort=False)[\"Hit Points\"].count(),\n",
    "                     \"medium_hit\": medium_hit.groupby(\"Main Type\", sort=False)[\"Hit Points\"].count(),\n",
    "                     \"low_hit\": low_hit.groupby(\"Main Type\", sort=False)[\"Hit Points\"].count()\n",
    "                    })\n",
    "\n",
    "# melakukan visualisasi dataframe\n",
    "hit_points_type.plot(kind='bar', figsize=(15,8));"
   ]
  },
  {
   "cell_type": "markdown",
   "id": "d7e4b2b2",
   "metadata": {},
   "source": [
    "Dari hasil visualisasi terlihat bahwa Pokemon dengan **\"Main Type\": Water** adalah jenis yang paling banyak terdapat didalam kategori **high_hit, medium_hit dan low_hit**"
   ]
  },
  {
   "cell_type": "markdown",
   "id": "236ce6f6",
   "metadata": {},
   "source": [
    "## 6. Pengambilan Keputusan"
   ]
  },
  {
   "cell_type": "code",
   "execution_count": 50,
   "id": "bc42c3e8",
   "metadata": {},
   "outputs": [
    {
     "data": {
      "text/html": [
       "<div>\n",
       "<style scoped>\n",
       "    .dataframe tbody tr th:only-of-type {\n",
       "        vertical-align: middle;\n",
       "    }\n",
       "\n",
       "    .dataframe tbody tr th {\n",
       "        vertical-align: top;\n",
       "    }\n",
       "\n",
       "    .dataframe thead th {\n",
       "        text-align: right;\n",
       "    }\n",
       "</style>\n",
       "<table border=\"1\" class=\"dataframe\">\n",
       "  <thead>\n",
       "    <tr style=\"text-align: right;\">\n",
       "      <th></th>\n",
       "      <th>df</th>\n",
       "      <th>high_hit</th>\n",
       "      <th>medium_hit</th>\n",
       "      <th>low_hit</th>\n",
       "    </tr>\n",
       "  </thead>\n",
       "  <tbody>\n",
       "    <tr>\n",
       "      <th>ID</th>\n",
       "      <td>362.81375</td>\n",
       "      <td>378.029661</td>\n",
       "      <td>373.257790</td>\n",
       "      <td>328.322275</td>\n",
       "    </tr>\n",
       "    <tr>\n",
       "      <th>Full Power</th>\n",
       "      <td>435.10250</td>\n",
       "      <td>534.224576</td>\n",
       "      <td>436.702550</td>\n",
       "      <td>321.559242</td>\n",
       "    </tr>\n",
       "    <tr>\n",
       "      <th>Hit Points</th>\n",
       "      <td>69.25875</td>\n",
       "      <td>98.851695</td>\n",
       "      <td>65.662890</td>\n",
       "      <td>42.175355</td>\n",
       "    </tr>\n",
       "    <tr>\n",
       "      <th>Attack</th>\n",
       "      <td>79.00125</td>\n",
       "      <td>98.665254</td>\n",
       "      <td>79.804533</td>\n",
       "      <td>55.663507</td>\n",
       "    </tr>\n",
       "    <tr>\n",
       "      <th>Defense</th>\n",
       "      <td>73.84250</td>\n",
       "      <td>86.368644</td>\n",
       "      <td>74.107649</td>\n",
       "      <td>59.388626</td>\n",
       "    </tr>\n",
       "    <tr>\n",
       "      <th>Special Attack</th>\n",
       "      <td>72.82000</td>\n",
       "      <td>89.122881</td>\n",
       "      <td>73.685552</td>\n",
       "      <td>53.137441</td>\n",
       "    </tr>\n",
       "    <tr>\n",
       "      <th>Special Defense</th>\n",
       "      <td>71.90250</td>\n",
       "      <td>86.817797</td>\n",
       "      <td>71.569405</td>\n",
       "      <td>55.777251</td>\n",
       "    </tr>\n",
       "    <tr>\n",
       "      <th>Speed</th>\n",
       "      <td>68.27750</td>\n",
       "      <td>74.398305</td>\n",
       "      <td>71.872521</td>\n",
       "      <td>55.417062</td>\n",
       "    </tr>\n",
       "  </tbody>\n",
       "</table>\n",
       "</div>"
      ],
      "text/plain": [
       "                        df    high_hit  medium_hit     low_hit\n",
       "ID               362.81375  378.029661  373.257790  328.322275\n",
       "Full Power       435.10250  534.224576  436.702550  321.559242\n",
       "Hit Points        69.25875   98.851695   65.662890   42.175355\n",
       "Attack            79.00125   98.665254   79.804533   55.663507\n",
       "Defense           73.84250   86.368644   74.107649   59.388626\n",
       "Special Attack    72.82000   89.122881   73.685552   53.137441\n",
       "Special Defense   71.90250   86.817797   71.569405   55.777251\n",
       "Speed             68.27750   74.398305   71.872521   55.417062"
      ]
     },
     "execution_count": 50,
     "metadata": {},
     "output_type": "execute_result"
    }
   ],
   "source": [
    "# menampilkan hit_points \n",
    "hit_points"
   ]
  },
  {
   "cell_type": "markdown",
   "id": "13d31b5e",
   "metadata": {},
   "source": [
    "Data diatas menjelaskan mengenai:\n",
    "\n",
    "* df = nilai rata-rata(mean) dari tiap features\n",
    "* high_hit = nilai rata-rata(mean) dari kategori \"Hit Points\" dengan nilai diatas 80\n",
    "* medium_hit = nilai rata-rata(mean) dari kategori \"Hit Points\" dengan nilai antara 51 s/d 79\n",
    "* low_hit = nilai rata-rata(mean) dari kategori \"Hit Points\" dengan nilai dibawah 50 "
   ]
  },
  {
   "cell_type": "markdown",
   "id": "aa10986e",
   "metadata": {},
   "source": [
    "## Analysis Keseluruhan"
   ]
  },
  {
   "cell_type": "markdown",
   "id": "573fa3f0",
   "metadata": {},
   "source": [
    "## 1. Analisis Kategori high_hit:\n",
    "\n",
    "   - Kategori ini adalah analisis dengan mengkategorikan nilai akhir **\"Hit Points\" atau  Health** dari Pokemon dengan nilai diatas **80**\n",
    "   - Dari analisis data ditemukan bahwa kategori **\"high_hit\"** akan memulai serangan pertama dalam setiap pertarungan, hal tersebut dapat terlihat dari nilai **\"Speed\"** sebesar **74.40** diatas nilai rata-rata keseluruhan **\"Speed\"** sebesar **\"68.28\"**\n",
    "   - Dari analisis data, Pokemon dengan kategori **high_hit\"** akan melakukan serangan pertama dalam setiap pertarungan **(\"Speed\")** disebabkan karena:\n",
    "       * Pokemon dengan kategori **high_hit** memiliki Kekuatan yang besar, hal tersebut data terlihat dari nilai rata-rata **\"Full Power\"** sebesar **534.22** diatas nilai rata-rata keseluruhan **\"Full Power\"** sebesar **435.10**\n",
    "       * Pokemon dengan kategori **high_hit\"** memiliki senjata penyerangan yang diatas rata-rata, hal tersebut dapat terlihat dari nilai rata-rata \"Attack\" sebesar **98.66** diatas nilai rata-rata keseluruhan \"Attack\" sebesar **79.00**, dan juga memiliki nilai rata-rata **\"Special Attack\"** sebesar **89.12** diatas nilai rata-rata **Special Attack** sebesar **72.82**\n",
    "       * Pokemon dengan kategori **high_hit** memiliki senjata pertahanan yang diatas rata-rata, hal tersebut dapat terlihat dari nilai rata-rata **\"Defense\"** sebesar **86.37** diatas nilai rata-rata keseluruhan **\"Defense\"** sebesar **73.84** dan juga memiliki nilai rata **\"Special Defense\"** sebesar **86.82** diatas nilai rata-rata **Special Defense** sebesar **71.90**\n"
   ]
  },
  {
   "cell_type": "markdown",
   "id": "0c2e6e9e",
   "metadata": {},
   "source": [
    "## 2. Analisis Kategori medium_hit:\n",
    "\n",
    "   - Analysis kategori ini adalah analisis dengan mengkategorikan nilai akhir **\"Hit Points\" atau nilai Health** dari Pokemon dengan nilai antara **51 sampai dengan 79**\n",
    "   - Dari analisis data ditemukan bahwa kategori **\"medium_hit\"** tidak selalu memulai serangan pertama dalam setiap pertarungan, hal tersebut dapat terlihat dari nilai **\"Speed\"** sebesar **71.87** hampir sama dengan nilai rata-rata keseluruhan **\"Speed\"** sebesar **\"68.28\"**\n",
    "   - Dari analisis data, Pokemon dengan kategori **medium_hit\"** tidak selalu memulai serangan pertama dalam setiap pertarungan **(\"Speed\")** disebabkan karena:\n",
    "       * Pokemon dengan kategori **medium_hit** memiliki Kekuatan yang hampir sama dengan Kekuatan rata-rata pokemon, hal tersebut data terlihat dari nilai rata-rata **\"Full Power\"** sebesar **436.70** hampir sama dengan nilai rata-rata keseluruhan **\"Full Power\"** sebesar **435.10**\n",
    "       * Pokemon dengan kategori **medium_hit\"** memiliki senjata penyerangan yang hampir sama dengan nilai rata-rata senjata penyerangan, hal tersebut dapat terlihat dari nilai rata-rata \"Attack\" sebesar **79.80** hampir sama dengan nilai rata-rata keseluruhan \"Attack\" sebesar **79.00**, dan juga memiliki nilai rata-rata **\"Special Attack\"** sebesar **73.68** hampir sama dengan nilai rata-rata **Special Attack** sebesar **72.82**\n",
    "       * Pokemon dengan kategori **medium_hit** memiliki senjata pertahanan hampir sama dengan nilai rata-rata senjata pertahanan, hal tersebut dapat terlihat dari nilai rata-rata **\"Defense\"** sebesar **74.11** hampir sama dengan nilai rata-rata keseluruhan **\"Defense\"** sebesar **73.84** dan juga memiliki nilai rata **\"Special Defense\"** sebesar **71.56** hampir sama dengan nilai rata-rata **Special Defense** sebesar **71.90**"
   ]
  },
  {
   "cell_type": "markdown",
   "id": "cf37e43c",
   "metadata": {},
   "source": [
    "### 3. Analysis Kategori low_hit:\n",
    "   \n",
    "   - Analysis kategori low_hit ini adalah analisis dengan mengkategorikan nilai akhir **\"Hit Points\" atau nilai Health** dari Pokemon dengan nilai **dibawah 50**\n",
    "   - Dari analisis data ditemukan bahwa kategori **\"low_hit\"** akan cenderung bertahan atau tidak memulai serangan pertama dalam setiap pertarungan, hal tersebut dapat terlihat dari nilai **\"Speed\"** sebesar **42.17** dibawah nilai rata-rata keseluruhan **\"Speed\"** sebesar **\"68.28\"**\n",
    "   - Dari analisis data, Pokemon dengan kategori **low_hit\"** akan cenderung bertahan atau tidak memulai memulai serangan pertama dalam setiap pertarungan **(\"Speed\")** disebabkan karena:\n",
    "       * Pokemon dengan kategori **low_hit** memiliki Kekuatan dibawah nilai Kekuatan rata-rata pokemon, hal tersebut data terlihat dari nilai rata-rata **\"Full Power\"** sebesar **321.55** dibawah nilai rata-rata keseluruhan **\"Full Power\"** sebesar **435.10**\n",
    "       * Pokemon dengan kategori **low_hit\"** memiliki senjata penyerangan dibawah nilai rata-rata senjata penyerangan, hal tersebut dapat terlihat dari nilai rata-rata \"Attack\" sebesar **55.66** dibawah nilai rata-rata keseluruhan \"Attack\" sebesar **79.00**, dan juga memiliki nilai rata-rata **\"Special Attack\"** sebesar **53.14** dibawah nilai rata-rata **Special Attack** sebesar **72.82**\n",
    "       * Pokemon dengan kategori **low_hit** memiliki senjata pertahanan dibawah nilai rata-rata senjata pertahanan, hal tersebut dapat terlihat dari nilai rata-rata **\"Defense\"** sebesar **59.39** dibawah nilai rata-rata keseluruhan **\"Defense\"** sebesar **73.84** dan juga memiliki nilai rata **\"Special Defense\"** sebesar **55.78** dibawah nilai rata-rata **Special Defense** sebesar **71.90**"
   ]
  },
  {
   "cell_type": "markdown",
   "id": "b5d4891e",
   "metadata": {},
   "source": [
    "## Pengambilan keputusan :\n",
    "\n",
    "- Apabila memiliki Pokemon dengan nilai features **\"Full Power\"** diatas **534.22** sebaiknya menerapkan strategi untuk mengambil inisiatif menyerang terlebih dahulu karena dari data terlihat bahwa Pokemon dengan nilai features **\"Full Power\"** tersebut memiliki nilai features **\"Hit Points\" atau  Health** akhir diatas rata-rata\n",
    "\n",
    "- Apabila memiliki Pokemon dengan nilai features **\"Full Power\"** diantara **534.22** sampai dengan **321.55** sebaiknya menerapkan strategi untuk melihat situasi dengan mempertimbangkan kekuatan dari Pokemon lawan, hal terlihat bahwa Pokemon dengan nilai features **\"Full Power\"** tersebut memiliki **\"Hit Points\" atau  Health** akhir hampir sama dengan nilai rata-rata\n",
    "\n",
    "- Apabila memiliki Pokemon dengan nilai features **\"Full Power\"** dibawah **321.55** sebaiknya menerapkan strategi bertahan dan tidak melakukan penyerangan terlebih dahulu, hal terlihat bahwa Pokemon dengan nilai features **\"Full Power\"** tersebut memiliki **\"Hit Points\" atau  Health** akhir dibawah nilai rata-rata"
   ]
  }
 ],
 "metadata": {
  "kernelspec": {
   "display_name": "Python 3",
   "language": "python",
   "name": "python3"
  },
  "language_info": {
   "codemirror_mode": {
    "name": "ipython",
    "version": 3
   },
   "file_extension": ".py",
   "mimetype": "text/x-python",
   "name": "python",
   "nbconvert_exporter": "python",
   "pygments_lexer": "ipython3",
   "version": "3.8.5"
  }
 },
 "nbformat": 4,
 "nbformat_minor": 5
}
