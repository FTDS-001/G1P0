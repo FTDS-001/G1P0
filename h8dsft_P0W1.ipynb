{
 "cells": [
  {
   "cell_type": "markdown",
   "metadata": {
    "toc": true
   },
   "source": [
    "<h1>Table of Contents<span class=\"tocSkip\"></span></h1>\n",
    "<div class=\"toc\"><ul class=\"toc-item\"><li><span><a href=\"#Introduction\" data-toc-modified-id=\"Introduction-1\"><span class=\"toc-item-num\">1&nbsp;&nbsp;</span>Introduction</a></span><ul class=\"toc-item\"><li><span><a href=\"#Dataset-Description\" data-toc-modified-id=\"Dataset-Description-1.1\"><span class=\"toc-item-num\">1.1&nbsp;&nbsp;</span>Dataset Description</a></span></li><li><span><a href=\"#Objective\" data-toc-modified-id=\"Objective-1.2\"><span class=\"toc-item-num\">1.2&nbsp;&nbsp;</span>Objective</a></span></li></ul></li><li><span><a href=\"#Import-Library\" data-toc-modified-id=\"Import-Library-2\"><span class=\"toc-item-num\">2&nbsp;&nbsp;</span>Import Library</a></span></li><li><span><a href=\"#Data-Loading\" data-toc-modified-id=\"Data-Loading-3\"><span class=\"toc-item-num\">3&nbsp;&nbsp;</span>Data Loading</a></span><ul class=\"toc-item\"><li><span><a href=\"#Dataset-Exploration\" data-toc-modified-id=\"Dataset-Exploration-3.1\"><span class=\"toc-item-num\">3.1&nbsp;&nbsp;</span>Dataset Exploration</a></span></li></ul></li><li><span><a href=\"#Data-Cleaning\" data-toc-modified-id=\"Data-Cleaning-4\"><span class=\"toc-item-num\">4&nbsp;&nbsp;</span>Data Cleaning</a></span><ul class=\"toc-item\"><li><span><a href=\"#Rename-Columns\" data-toc-modified-id=\"Rename-Columns-4.1\"><span class=\"toc-item-num\">4.1&nbsp;&nbsp;</span>Rename Columns</a></span></li><li><span><a href=\"#Missing-Values-Handling\" data-toc-modified-id=\"Missing-Values-Handling-4.2\"><span class=\"toc-item-num\">4.2&nbsp;&nbsp;</span>Missing Values Handling</a></span></li><li><span><a href=\"#Drop-Column\" data-toc-modified-id=\"Drop-Column-4.3\"><span class=\"toc-item-num\">4.3&nbsp;&nbsp;</span>Drop Column</a></span></li></ul></li><li><span><a href=\"#Data-Exploration\" data-toc-modified-id=\"Data-Exploration-5\"><span class=\"toc-item-num\">5&nbsp;&nbsp;</span>Data Exploration</a></span><ul class=\"toc-item\"><li><span><a href=\"#Visualization\" data-toc-modified-id=\"Visualization-5.1\"><span class=\"toc-item-num\">5.1&nbsp;&nbsp;</span>Visualization</a></span></li></ul></li><li><span><a href=\"#Conclusion\" data-toc-modified-id=\"Conclusion-6\"><span class=\"toc-item-num\">6&nbsp;&nbsp;</span>Conclusion</a></span></li></ul></div>"
   ]
  },
  {
   "cell_type": "markdown",
   "metadata": {},
   "source": [
    "# Introduction"
   ]
  },
  {
   "cell_type": "markdown",
   "metadata": {},
   "source": [
    "Graded Challenge 1 Assignment by **[Fadilah Nur Imani](https://github.com/imfdlh)**"
   ]
  },
  {
   "cell_type": "markdown",
   "metadata": {},
   "source": [
    "## Dataset Description"
   ]
  },
  {
   "cell_type": "markdown",
   "metadata": {},
   "source": [
    "This data set includes 721 Pokemon, including their number, name, first and second type, and basic stats: HP, Attack, Defense, Special Attack, Special Defense, and Speed."
   ]
  },
  {
   "cell_type": "markdown",
   "metadata": {},
   "source": [
    "Header | Definition\n",
    "--- | ---\n",
    "`#` | ID for each pokemon\n",
    "`Name` | Name of each pokemon\n",
    "`Type 1` | Each pokemon has a type, this determines weakness/resistance to attacks\n",
    "`Type 2` | Some pokemon are dual type and have 2\n",
    "`Total` | sum of all stats that come after this, a general guide to how strong a pokemon is\n",
    "`HP` | hit points, or health, defines how much damage a pokemon can withstand before fainting\n",
    "`Attack` | the base modifier for normal attacks (eg. Scratch, Punch)\n",
    "`Defense` | the base damage resistance against normal attacks\n",
    "`SP Atk` | special attack, the base modifier for special attacks (e.g. fire blast, bubble beam)\n",
    "`SP Def` | the base damage resistance against special attacks\n",
    "`Speed` | determines which pokemon attacks first each round"
   ]
  },
  {
   "cell_type": "markdown",
   "metadata": {
    "ExecuteTime": {
     "end_time": "2021-07-04T11:26:21.466995Z",
     "start_time": "2021-07-04T11:26:21.462006Z"
    }
   },
   "source": [
    "Source: [Kaggle > pokemon](https://www.kaggle.com/abcsds/pokemon)"
   ]
  },
  {
   "cell_type": "markdown",
   "metadata": {},
   "source": [
    "## Objective"
   ]
  },
  {
   "cell_type": "markdown",
   "metadata": {},
   "source": [
    "Find out which Pokemons are **most resistant** against attacks between **the strongest** of each overrepresented (**most frequent type**) and underrepresented (**least frequent** type) Pokemon **Type**.\n",
    "\n",
    "- Resistance indicator can be seen by the sum of HP, Defense, and SP Def columns.\n",
    "- The total strength of Pokemon can be most represented by the Total column."
   ]
  },
  {
   "cell_type": "markdown",
   "metadata": {},
   "source": [
    "# Import Library"
   ]
  },
  {
   "cell_type": "markdown",
   "metadata": {},
   "source": [
    "Import all libraries that will be used during data processing and analysis."
   ]
  },
  {
   "cell_type": "code",
   "execution_count": 1,
   "metadata": {
    "ExecuteTime": {
     "end_time": "2021-07-08T12:18:38.427596Z",
     "start_time": "2021-07-08T12:18:37.791066Z"
    }
   },
   "outputs": [],
   "source": [
    "import pandas as pd\n",
    "import numpy as np"
   ]
  },
  {
   "cell_type": "code",
   "execution_count": 2,
   "metadata": {
    "ExecuteTime": {
     "end_time": "2021-07-08T12:18:38.997590Z",
     "start_time": "2021-07-08T12:18:38.430453Z"
    }
   },
   "outputs": [],
   "source": [
    "# change plot style\n",
    "import matplotlib.pyplot as plt\n",
    "plt.style.use('fivethirtyeight')"
   ]
  },
  {
   "cell_type": "markdown",
   "metadata": {},
   "source": [
    "# Data Loading"
   ]
  },
  {
   "cell_type": "markdown",
   "metadata": {},
   "source": [
    "Loading dataset with csv format into the notebook."
   ]
  },
  {
   "cell_type": "code",
   "execution_count": 3,
   "metadata": {
    "ExecuteTime": {
     "end_time": "2021-07-08T12:18:39.014545Z",
     "start_time": "2021-07-08T12:18:39.001579Z"
    }
   },
   "outputs": [],
   "source": [
    "data = pd.read_csv('data/Pokemon.csv')"
   ]
  },
  {
   "cell_type": "code",
   "execution_count": 4,
   "metadata": {
    "ExecuteTime": {
     "end_time": "2021-07-08T12:18:39.051446Z",
     "start_time": "2021-07-08T12:18:39.020531Z"
    }
   },
   "outputs": [
    {
     "name": "stdout",
     "output_type": "stream",
     "text": [
      "(800, 13)\n"
     ]
    },
    {
     "data": {
      "text/html": [
       "<div>\n",
       "<style scoped>\n",
       "    .dataframe tbody tr th:only-of-type {\n",
       "        vertical-align: middle;\n",
       "    }\n",
       "\n",
       "    .dataframe tbody tr th {\n",
       "        vertical-align: top;\n",
       "    }\n",
       "\n",
       "    .dataframe thead th {\n",
       "        text-align: right;\n",
       "    }\n",
       "</style>\n",
       "<table border=\"1\" class=\"dataframe\">\n",
       "  <thead>\n",
       "    <tr style=\"text-align: right;\">\n",
       "      <th></th>\n",
       "      <th>#</th>\n",
       "      <th>Name</th>\n",
       "      <th>Type 1</th>\n",
       "      <th>Type 2</th>\n",
       "      <th>Total</th>\n",
       "      <th>HP</th>\n",
       "      <th>Attack</th>\n",
       "      <th>Defense</th>\n",
       "      <th>Sp. Atk</th>\n",
       "      <th>Sp. Def</th>\n",
       "      <th>Speed</th>\n",
       "      <th>Generation</th>\n",
       "      <th>Legendary</th>\n",
       "    </tr>\n",
       "  </thead>\n",
       "  <tbody>\n",
       "    <tr>\n",
       "      <th>0</th>\n",
       "      <td>1</td>\n",
       "      <td>Bulbasaur</td>\n",
       "      <td>Grass</td>\n",
       "      <td>Poison</td>\n",
       "      <td>318</td>\n",
       "      <td>45</td>\n",
       "      <td>49</td>\n",
       "      <td>49</td>\n",
       "      <td>65</td>\n",
       "      <td>65</td>\n",
       "      <td>45</td>\n",
       "      <td>1</td>\n",
       "      <td>False</td>\n",
       "    </tr>\n",
       "    <tr>\n",
       "      <th>1</th>\n",
       "      <td>2</td>\n",
       "      <td>Ivysaur</td>\n",
       "      <td>Grass</td>\n",
       "      <td>Poison</td>\n",
       "      <td>405</td>\n",
       "      <td>60</td>\n",
       "      <td>62</td>\n",
       "      <td>63</td>\n",
       "      <td>80</td>\n",
       "      <td>80</td>\n",
       "      <td>60</td>\n",
       "      <td>1</td>\n",
       "      <td>False</td>\n",
       "    </tr>\n",
       "    <tr>\n",
       "      <th>2</th>\n",
       "      <td>3</td>\n",
       "      <td>Venusaur</td>\n",
       "      <td>Grass</td>\n",
       "      <td>Poison</td>\n",
       "      <td>525</td>\n",
       "      <td>80</td>\n",
       "      <td>82</td>\n",
       "      <td>83</td>\n",
       "      <td>100</td>\n",
       "      <td>100</td>\n",
       "      <td>80</td>\n",
       "      <td>1</td>\n",
       "      <td>False</td>\n",
       "    </tr>\n",
       "    <tr>\n",
       "      <th>3</th>\n",
       "      <td>3</td>\n",
       "      <td>VenusaurMega Venusaur</td>\n",
       "      <td>Grass</td>\n",
       "      <td>Poison</td>\n",
       "      <td>625</td>\n",
       "      <td>80</td>\n",
       "      <td>100</td>\n",
       "      <td>123</td>\n",
       "      <td>122</td>\n",
       "      <td>120</td>\n",
       "      <td>80</td>\n",
       "      <td>1</td>\n",
       "      <td>False</td>\n",
       "    </tr>\n",
       "    <tr>\n",
       "      <th>4</th>\n",
       "      <td>4</td>\n",
       "      <td>Charmander</td>\n",
       "      <td>Fire</td>\n",
       "      <td>NaN</td>\n",
       "      <td>309</td>\n",
       "      <td>39</td>\n",
       "      <td>52</td>\n",
       "      <td>43</td>\n",
       "      <td>60</td>\n",
       "      <td>50</td>\n",
       "      <td>65</td>\n",
       "      <td>1</td>\n",
       "      <td>False</td>\n",
       "    </tr>\n",
       "  </tbody>\n",
       "</table>\n",
       "</div>"
      ],
      "text/plain": [
       "   #                   Name Type 1  Type 2  Total  HP  Attack  Defense  \\\n",
       "0  1              Bulbasaur  Grass  Poison    318  45      49       49   \n",
       "1  2                Ivysaur  Grass  Poison    405  60      62       63   \n",
       "2  3               Venusaur  Grass  Poison    525  80      82       83   \n",
       "3  3  VenusaurMega Venusaur  Grass  Poison    625  80     100      123   \n",
       "4  4             Charmander   Fire     NaN    309  39      52       43   \n",
       "\n",
       "   Sp. Atk  Sp. Def  Speed  Generation  Legendary  \n",
       "0       65       65     45           1      False  \n",
       "1       80       80     60           1      False  \n",
       "2      100      100     80           1      False  \n",
       "3      122      120     80           1      False  \n",
       "4       60       50     65           1      False  "
      ]
     },
     "execution_count": 4,
     "metadata": {},
     "output_type": "execute_result"
    }
   ],
   "source": [
    "print(data.shape)\n",
    "data.head()"
   ]
  },
  {
   "cell_type": "markdown",
   "metadata": {},
   "source": [
    "## Dataset Exploration"
   ]
  },
  {
   "cell_type": "code",
   "execution_count": 5,
   "metadata": {
    "ExecuteTime": {
     "end_time": "2021-07-08T12:18:39.059456Z",
     "start_time": "2021-07-08T12:18:39.054438Z"
    }
   },
   "outputs": [
    {
     "name": "stdout",
     "output_type": "stream",
     "text": [
      "#of row: 800 \n",
      "#of column: 13\n"
     ]
    }
   ],
   "source": [
    "print('#of row:', data.shape[0], '\\n#of column:', data.shape[1])"
   ]
  },
  {
   "cell_type": "code",
   "execution_count": 6,
   "metadata": {
    "ExecuteTime": {
     "end_time": "2021-07-08T12:18:39.082394Z",
     "start_time": "2021-07-08T12:18:39.063445Z"
    }
   },
   "outputs": [
    {
     "name": "stdout",
     "output_type": "stream",
     "text": [
      "<class 'pandas.core.frame.DataFrame'>\n",
      "RangeIndex: 800 entries, 0 to 799\n",
      "Data columns (total 13 columns):\n",
      " #   Column      Non-Null Count  Dtype \n",
      "---  ------      --------------  ----- \n",
      " 0   #           800 non-null    int64 \n",
      " 1   Name        800 non-null    object\n",
      " 2   Type 1      800 non-null    object\n",
      " 3   Type 2      414 non-null    object\n",
      " 4   Total       800 non-null    int64 \n",
      " 5   HP          800 non-null    int64 \n",
      " 6   Attack      800 non-null    int64 \n",
      " 7   Defense     800 non-null    int64 \n",
      " 8   Sp. Atk     800 non-null    int64 \n",
      " 9   Sp. Def     800 non-null    int64 \n",
      " 10  Speed       800 non-null    int64 \n",
      " 11  Generation  800 non-null    int64 \n",
      " 12  Legendary   800 non-null    bool  \n",
      "dtypes: bool(1), int64(9), object(3)\n",
      "memory usage: 75.9+ KB\n"
     ]
    }
   ],
   "source": [
    "data.info()"
   ]
  },
  {
   "cell_type": "markdown",
   "metadata": {},
   "source": [
    "Dataset consists of 3 different data types: integer, object/string, boolean."
   ]
  },
  {
   "cell_type": "markdown",
   "metadata": {},
   "source": [
    "---"
   ]
  },
  {
   "cell_type": "code",
   "execution_count": 7,
   "metadata": {
    "ExecuteTime": {
     "end_time": "2021-07-08T12:18:39.095384Z",
     "start_time": "2021-07-08T12:18:39.085387Z"
    }
   },
   "outputs": [
    {
     "data": {
      "text/plain": [
       "#               0\n",
       "Name            0\n",
       "Type 1          0\n",
       "Type 2        386\n",
       "Total           0\n",
       "HP              0\n",
       "Attack          0\n",
       "Defense         0\n",
       "Sp. Atk         0\n",
       "Sp. Def         0\n",
       "Speed           0\n",
       "Generation      0\n",
       "Legendary       0\n",
       "dtype: int64"
      ]
     },
     "execution_count": 7,
     "metadata": {},
     "output_type": "execute_result"
    }
   ],
   "source": [
    "data.isnull().sum()"
   ]
  },
  {
   "cell_type": "markdown",
   "metadata": {},
   "source": [
    "This dataset has one column that contains a null value."
   ]
  },
  {
   "cell_type": "markdown",
   "metadata": {},
   "source": [
    "---"
   ]
  },
  {
   "cell_type": "code",
   "execution_count": 8,
   "metadata": {
    "ExecuteTime": {
     "end_time": "2021-07-08T12:18:39.145303Z",
     "start_time": "2021-07-08T12:18:39.100371Z"
    }
   },
   "outputs": [
    {
     "data": {
      "text/html": [
       "<div>\n",
       "<style scoped>\n",
       "    .dataframe tbody tr th:only-of-type {\n",
       "        vertical-align: middle;\n",
       "    }\n",
       "\n",
       "    .dataframe tbody tr th {\n",
       "        vertical-align: top;\n",
       "    }\n",
       "\n",
       "    .dataframe thead th {\n",
       "        text-align: right;\n",
       "    }\n",
       "</style>\n",
       "<table border=\"1\" class=\"dataframe\">\n",
       "  <thead>\n",
       "    <tr style=\"text-align: right;\">\n",
       "      <th></th>\n",
       "      <th>count</th>\n",
       "      <th>mean</th>\n",
       "      <th>std</th>\n",
       "      <th>min</th>\n",
       "      <th>25%</th>\n",
       "      <th>50%</th>\n",
       "      <th>75%</th>\n",
       "      <th>max</th>\n",
       "    </tr>\n",
       "  </thead>\n",
       "  <tbody>\n",
       "    <tr>\n",
       "      <th>#</th>\n",
       "      <td>800.0</td>\n",
       "      <td>362.81375</td>\n",
       "      <td>208.343798</td>\n",
       "      <td>1.0</td>\n",
       "      <td>184.75</td>\n",
       "      <td>364.5</td>\n",
       "      <td>539.25</td>\n",
       "      <td>721.0</td>\n",
       "    </tr>\n",
       "    <tr>\n",
       "      <th>Total</th>\n",
       "      <td>800.0</td>\n",
       "      <td>435.10250</td>\n",
       "      <td>119.963040</td>\n",
       "      <td>180.0</td>\n",
       "      <td>330.00</td>\n",
       "      <td>450.0</td>\n",
       "      <td>515.00</td>\n",
       "      <td>780.0</td>\n",
       "    </tr>\n",
       "    <tr>\n",
       "      <th>HP</th>\n",
       "      <td>800.0</td>\n",
       "      <td>69.25875</td>\n",
       "      <td>25.534669</td>\n",
       "      <td>1.0</td>\n",
       "      <td>50.00</td>\n",
       "      <td>65.0</td>\n",
       "      <td>80.00</td>\n",
       "      <td>255.0</td>\n",
       "    </tr>\n",
       "    <tr>\n",
       "      <th>Attack</th>\n",
       "      <td>800.0</td>\n",
       "      <td>79.00125</td>\n",
       "      <td>32.457366</td>\n",
       "      <td>5.0</td>\n",
       "      <td>55.00</td>\n",
       "      <td>75.0</td>\n",
       "      <td>100.00</td>\n",
       "      <td>190.0</td>\n",
       "    </tr>\n",
       "    <tr>\n",
       "      <th>Defense</th>\n",
       "      <td>800.0</td>\n",
       "      <td>73.84250</td>\n",
       "      <td>31.183501</td>\n",
       "      <td>5.0</td>\n",
       "      <td>50.00</td>\n",
       "      <td>70.0</td>\n",
       "      <td>90.00</td>\n",
       "      <td>230.0</td>\n",
       "    </tr>\n",
       "    <tr>\n",
       "      <th>Sp. Atk</th>\n",
       "      <td>800.0</td>\n",
       "      <td>72.82000</td>\n",
       "      <td>32.722294</td>\n",
       "      <td>10.0</td>\n",
       "      <td>49.75</td>\n",
       "      <td>65.0</td>\n",
       "      <td>95.00</td>\n",
       "      <td>194.0</td>\n",
       "    </tr>\n",
       "    <tr>\n",
       "      <th>Sp. Def</th>\n",
       "      <td>800.0</td>\n",
       "      <td>71.90250</td>\n",
       "      <td>27.828916</td>\n",
       "      <td>20.0</td>\n",
       "      <td>50.00</td>\n",
       "      <td>70.0</td>\n",
       "      <td>90.00</td>\n",
       "      <td>230.0</td>\n",
       "    </tr>\n",
       "    <tr>\n",
       "      <th>Speed</th>\n",
       "      <td>800.0</td>\n",
       "      <td>68.27750</td>\n",
       "      <td>29.060474</td>\n",
       "      <td>5.0</td>\n",
       "      <td>45.00</td>\n",
       "      <td>65.0</td>\n",
       "      <td>90.00</td>\n",
       "      <td>180.0</td>\n",
       "    </tr>\n",
       "    <tr>\n",
       "      <th>Generation</th>\n",
       "      <td>800.0</td>\n",
       "      <td>3.32375</td>\n",
       "      <td>1.661290</td>\n",
       "      <td>1.0</td>\n",
       "      <td>2.00</td>\n",
       "      <td>3.0</td>\n",
       "      <td>5.00</td>\n",
       "      <td>6.0</td>\n",
       "    </tr>\n",
       "  </tbody>\n",
       "</table>\n",
       "</div>"
      ],
      "text/plain": [
       "            count       mean         std    min     25%    50%     75%    max\n",
       "#           800.0  362.81375  208.343798    1.0  184.75  364.5  539.25  721.0\n",
       "Total       800.0  435.10250  119.963040  180.0  330.00  450.0  515.00  780.0\n",
       "HP          800.0   69.25875   25.534669    1.0   50.00   65.0   80.00  255.0\n",
       "Attack      800.0   79.00125   32.457366    5.0   55.00   75.0  100.00  190.0\n",
       "Defense     800.0   73.84250   31.183501    5.0   50.00   70.0   90.00  230.0\n",
       "Sp. Atk     800.0   72.82000   32.722294   10.0   49.75   65.0   95.00  194.0\n",
       "Sp. Def     800.0   71.90250   27.828916   20.0   50.00   70.0   90.00  230.0\n",
       "Speed       800.0   68.27750   29.060474    5.0   45.00   65.0   90.00  180.0\n",
       "Generation  800.0    3.32375    1.661290    1.0    2.00    3.0    5.00    6.0"
      ]
     },
     "execution_count": 8,
     "metadata": {},
     "output_type": "execute_result"
    }
   ],
   "source": [
    "data.select_dtypes(include = np.number).describe().T"
   ]
  },
  {
   "cell_type": "markdown",
   "metadata": {},
   "source": [
    "The statistic above shows the summarization of columns that has numerical data type."
   ]
  },
  {
   "cell_type": "code",
   "execution_count": 9,
   "metadata": {
    "ExecuteTime": {
     "end_time": "2021-07-08T12:18:39.180759Z",
     "start_time": "2021-07-08T12:18:39.147318Z"
    }
   },
   "outputs": [
    {
     "data": {
      "text/html": [
       "<div>\n",
       "<style scoped>\n",
       "    .dataframe tbody tr th:only-of-type {\n",
       "        vertical-align: middle;\n",
       "    }\n",
       "\n",
       "    .dataframe tbody tr th {\n",
       "        vertical-align: top;\n",
       "    }\n",
       "\n",
       "    .dataframe thead th {\n",
       "        text-align: right;\n",
       "    }\n",
       "</style>\n",
       "<table border=\"1\" class=\"dataframe\">\n",
       "  <thead>\n",
       "    <tr style=\"text-align: right;\">\n",
       "      <th></th>\n",
       "      <th>count</th>\n",
       "      <th>unique</th>\n",
       "      <th>top</th>\n",
       "      <th>freq</th>\n",
       "    </tr>\n",
       "  </thead>\n",
       "  <tbody>\n",
       "    <tr>\n",
       "      <th>Name</th>\n",
       "      <td>800</td>\n",
       "      <td>800</td>\n",
       "      <td>Shroomish</td>\n",
       "      <td>1</td>\n",
       "    </tr>\n",
       "    <tr>\n",
       "      <th>Type 1</th>\n",
       "      <td>800</td>\n",
       "      <td>18</td>\n",
       "      <td>Water</td>\n",
       "      <td>112</td>\n",
       "    </tr>\n",
       "    <tr>\n",
       "      <th>Type 2</th>\n",
       "      <td>414</td>\n",
       "      <td>18</td>\n",
       "      <td>Flying</td>\n",
       "      <td>97</td>\n",
       "    </tr>\n",
       "    <tr>\n",
       "      <th>Legendary</th>\n",
       "      <td>800</td>\n",
       "      <td>2</td>\n",
       "      <td>False</td>\n",
       "      <td>735</td>\n",
       "    </tr>\n",
       "  </tbody>\n",
       "</table>\n",
       "</div>"
      ],
      "text/plain": [
       "          count unique        top freq\n",
       "Name        800    800  Shroomish    1\n",
       "Type 1      800     18      Water  112\n",
       "Type 2      414     18     Flying   97\n",
       "Legendary   800      2      False  735"
      ]
     },
     "execution_count": 9,
     "metadata": {},
     "output_type": "execute_result"
    }
   ],
   "source": [
    "data.select_dtypes(include = [object, bool]).describe().T"
   ]
  },
  {
   "cell_type": "markdown",
   "metadata": {},
   "source": [
    "The statistic above shows the summarization of columns that has object and boolean data type."
   ]
  },
  {
   "cell_type": "markdown",
   "metadata": {},
   "source": [
    "# Data Cleaning"
   ]
  },
  {
   "cell_type": "markdown",
   "metadata": {},
   "source": [
    "## Rename Columns"
   ]
  },
  {
   "cell_type": "markdown",
   "metadata": {},
   "source": [
    "Rename column name into more readable format.\n",
    "\n",
    "Steps:\n",
    "- Rename column that contains special character,\n",
    "- replace whitespace with underscore,\n",
    "- and lastly set the name into uppercase form."
   ]
  },
  {
   "cell_type": "code",
   "execution_count": 10,
   "metadata": {
    "ExecuteTime": {
     "end_time": "2021-07-08T12:18:39.188737Z",
     "start_time": "2021-07-08T12:18:39.182752Z"
    }
   },
   "outputs": [],
   "source": [
    "data.rename(columns = {'#': 'ID'}, inplace = True)"
   ]
  },
  {
   "cell_type": "code",
   "execution_count": 11,
   "metadata": {
    "ExecuteTime": {
     "end_time": "2021-07-08T12:18:39.195891Z",
     "start_time": "2021-07-08T12:18:39.191729Z"
    }
   },
   "outputs": [
    {
     "name": "stdout",
     "output_type": "stream",
     "text": [
      "['ID', 'Name', 'Type 1', 'Type 2', 'Total', 'HP', 'Attack', 'Defense', 'Sp. Atk', 'Sp. Def', 'Speed', 'Generation', 'Legendary']\n"
     ]
    }
   ],
   "source": [
    "print(list(data.columns))"
   ]
  },
  {
   "cell_type": "code",
   "execution_count": 12,
   "metadata": {
    "ExecuteTime": {
     "end_time": "2021-07-08T12:18:39.203857Z",
     "start_time": "2021-07-08T12:18:39.197873Z"
    }
   },
   "outputs": [],
   "source": [
    "data.columns = data.columns.str.replace(' ', '_')\n",
    "data.columns = data.columns.str.replace('.', '')"
   ]
  },
  {
   "cell_type": "code",
   "execution_count": 13,
   "metadata": {
    "ExecuteTime": {
     "end_time": "2021-07-08T12:18:39.211836Z",
     "start_time": "2021-07-08T12:18:39.206849Z"
    }
   },
   "outputs": [],
   "source": [
    "data.columns = data.columns.str.upper()"
   ]
  },
  {
   "cell_type": "code",
   "execution_count": 14,
   "metadata": {
    "ExecuteTime": {
     "end_time": "2021-07-08T12:18:39.218820Z",
     "start_time": "2021-07-08T12:18:39.213830Z"
    }
   },
   "outputs": [
    {
     "name": "stdout",
     "output_type": "stream",
     "text": [
      "['ID', 'NAME', 'TYPE_1', 'TYPE_2', 'TOTAL', 'HP', 'ATTACK', 'DEFENSE', 'SP_ATK', 'SP_DEF', 'SPEED', 'GENERATION', 'LEGENDARY']\n"
     ]
    }
   ],
   "source": [
    "print(list(data.columns))"
   ]
  },
  {
   "cell_type": "markdown",
   "metadata": {
    "ExecuteTime": {
     "end_time": "2021-07-07T07:25:51.595266Z",
     "start_time": "2021-07-07T07:25:51.591277Z"
    }
   },
   "source": [
    "## Missing Values Handling"
   ]
  },
  {
   "cell_type": "markdown",
   "metadata": {},
   "source": [
    "Fill in missing values or drop if the column is unnecessary."
   ]
  },
  {
   "cell_type": "code",
   "execution_count": 15,
   "metadata": {
    "ExecuteTime": {
     "end_time": "2021-07-08T12:18:39.231782Z",
     "start_time": "2021-07-08T12:18:39.221809Z"
    }
   },
   "outputs": [
    {
     "data": {
      "text/plain": [
       "ID              0\n",
       "NAME            0\n",
       "TYPE_1          0\n",
       "TYPE_2        386\n",
       "TOTAL           0\n",
       "HP              0\n",
       "ATTACK          0\n",
       "DEFENSE         0\n",
       "SP_ATK          0\n",
       "SP_DEF          0\n",
       "SPEED           0\n",
       "GENERATION      0\n",
       "LEGENDARY       0\n",
       "dtype: int64"
      ]
     },
     "execution_count": 15,
     "metadata": {},
     "output_type": "execute_result"
    }
   ],
   "source": [
    "data.isnull().sum()"
   ]
  },
  {
   "cell_type": "code",
   "execution_count": 16,
   "metadata": {
    "ExecuteTime": {
     "end_time": "2021-07-08T12:18:39.244748Z",
     "start_time": "2021-07-08T12:18:39.238764Z"
    }
   },
   "outputs": [
    {
     "name": "stdout",
     "output_type": "stream",
     "text": [
      "48.25% of TYPE_2 values are NaN.\n"
     ]
    }
   ],
   "source": [
    "print(f\"{data.isnull().sum()['TYPE_2'] * 100/ len(data)}% of TYPE_2 values are NaN.\")"
   ]
  },
  {
   "cell_type": "markdown",
   "metadata": {},
   "source": [
    "---"
   ]
  },
  {
   "cell_type": "markdown",
   "metadata": {},
   "source": [
    "Check for most frequent value (mode) of TYPE_2"
   ]
  },
  {
   "cell_type": "code",
   "execution_count": 17,
   "metadata": {
    "ExecuteTime": {
     "end_time": "2021-07-08T12:18:39.329808Z",
     "start_time": "2021-07-08T12:18:39.311858Z"
    }
   },
   "outputs": [
    {
     "data": {
      "text/html": [
       "<div>\n",
       "<style scoped>\n",
       "    .dataframe tbody tr th:only-of-type {\n",
       "        vertical-align: middle;\n",
       "    }\n",
       "\n",
       "    .dataframe tbody tr th {\n",
       "        vertical-align: top;\n",
       "    }\n",
       "\n",
       "    .dataframe thead th {\n",
       "        text-align: right;\n",
       "    }\n",
       "</style>\n",
       "<table border=\"1\" class=\"dataframe\">\n",
       "  <thead>\n",
       "    <tr style=\"text-align: right;\">\n",
       "      <th></th>\n",
       "      <th>count</th>\n",
       "      <th>unique</th>\n",
       "      <th>top</th>\n",
       "      <th>freq</th>\n",
       "    </tr>\n",
       "  </thead>\n",
       "  <tbody>\n",
       "    <tr>\n",
       "      <th>TYPE_2</th>\n",
       "      <td>414</td>\n",
       "      <td>18</td>\n",
       "      <td>Flying</td>\n",
       "      <td>97</td>\n",
       "    </tr>\n",
       "  </tbody>\n",
       "</table>\n",
       "</div>"
      ],
      "text/plain": [
       "       count unique     top freq\n",
       "TYPE_2   414     18  Flying   97"
      ]
     },
     "execution_count": 17,
     "metadata": {},
     "output_type": "execute_result"
    }
   ],
   "source": [
    "data[['TYPE_2']].describe().T"
   ]
  },
  {
   "cell_type": "code",
   "execution_count": 18,
   "metadata": {
    "ExecuteTime": {
     "end_time": "2021-07-08T12:18:39.363616Z",
     "start_time": "2021-07-08T12:18:39.354641Z"
    }
   },
   "outputs": [
    {
     "data": {
      "text/plain": [
       "Flying      97\n",
       "Ground      35\n",
       "Poison      34\n",
       "Psychic     33\n",
       "Fighting    26\n",
       "Grass       25\n",
       "Fairy       23\n",
       "Steel       22\n",
       "Dark        20\n",
       "Dragon      18\n",
       "Rock        14\n",
       "Water       14\n",
       "Ice         14\n",
       "Ghost       14\n",
       "Fire        12\n",
       "Electric     6\n",
       "Normal       4\n",
       "Bug          3\n",
       "Name: TYPE_2, dtype: int64"
      ]
     },
     "execution_count": 18,
     "metadata": {},
     "output_type": "execute_result"
    }
   ],
   "source": [
    "data['TYPE_2'].value_counts()"
   ]
  },
  {
   "cell_type": "markdown",
   "metadata": {},
   "source": [
    "There are several methods to handle missing value. For categorical value, there are some methods that are common, such as: fill in with mode, create new categorical value, or even predict the value.\n",
    "\n",
    "Based on an [article](https://towardsdatascience.com/7-ways-to-handle-missing-values-in-machine-learning-1a6326adf79e) posted on towardsdatascience, fill in with mode applies for a small amount of missing value, as for the greater amount of missing value, we can create a new category to replace them.\n",
    "\n"
   ]
  },
  {
   "cell_type": "markdown",
   "metadata": {},
   "source": [
    "**Solution**: Replace with new category to avoid incorrect conclusion. As for this case, we will replace the missing value with 'unknown'."
   ]
  },
  {
   "cell_type": "code",
   "execution_count": 19,
   "metadata": {
    "ExecuteTime": {
     "end_time": "2021-07-08T12:18:39.428974Z",
     "start_time": "2021-07-08T12:18:39.424985Z"
    }
   },
   "outputs": [],
   "source": [
    "data['TYPE_2'].fillna('Unknown', inplace = True)"
   ]
  },
  {
   "cell_type": "code",
   "execution_count": 20,
   "metadata": {
    "ExecuteTime": {
     "end_time": "2021-07-08T12:18:39.464770Z",
     "start_time": "2021-07-08T12:18:39.456792Z"
    }
   },
   "outputs": [
    {
     "data": {
      "text/plain": [
       "Unknown     386\n",
       "Flying       97\n",
       "Ground       35\n",
       "Poison       34\n",
       "Psychic      33\n",
       "Fighting     26\n",
       "Grass        25\n",
       "Fairy        23\n",
       "Steel        22\n",
       "Dark         20\n",
       "Dragon       18\n",
       "Rock         14\n",
       "Water        14\n",
       "Ice          14\n",
       "Ghost        14\n",
       "Fire         12\n",
       "Electric      6\n",
       "Normal        4\n",
       "Bug           3\n",
       "Name: TYPE_2, dtype: int64"
      ]
     },
     "execution_count": 20,
     "metadata": {},
     "output_type": "execute_result"
    }
   ],
   "source": [
    "data['TYPE_2'].value_counts()"
   ]
  },
  {
   "cell_type": "markdown",
   "metadata": {},
   "source": [
    "Check the result:"
   ]
  },
  {
   "cell_type": "code",
   "execution_count": 21,
   "metadata": {
    "ExecuteTime": {
     "end_time": "2021-07-08T12:18:39.516501Z",
     "start_time": "2021-07-08T12:18:39.510533Z"
    }
   },
   "outputs": [
    {
     "data": {
      "text/plain": [
       "False"
      ]
     },
     "execution_count": 21,
     "metadata": {},
     "output_type": "execute_result"
    }
   ],
   "source": [
    "data['TYPE_2'].isnull().any()"
   ]
  },
  {
   "cell_type": "markdown",
   "metadata": {},
   "source": [
    "## Drop Column"
   ]
  },
  {
   "cell_type": "markdown",
   "metadata": {},
   "source": [
    "Drop some unnecessary column."
   ]
  },
  {
   "cell_type": "code",
   "execution_count": 22,
   "metadata": {
    "ExecuteTime": {
     "end_time": "2021-07-08T12:18:39.593877Z",
     "start_time": "2021-07-08T12:18:39.580912Z"
    }
   },
   "outputs": [
    {
     "data": {
      "text/html": [
       "<div>\n",
       "<style scoped>\n",
       "    .dataframe tbody tr th:only-of-type {\n",
       "        vertical-align: middle;\n",
       "    }\n",
       "\n",
       "    .dataframe tbody tr th {\n",
       "        vertical-align: top;\n",
       "    }\n",
       "\n",
       "    .dataframe thead th {\n",
       "        text-align: right;\n",
       "    }\n",
       "</style>\n",
       "<table border=\"1\" class=\"dataframe\">\n",
       "  <thead>\n",
       "    <tr style=\"text-align: right;\">\n",
       "      <th></th>\n",
       "      <th>ID</th>\n",
       "      <th>NAME</th>\n",
       "      <th>TYPE_1</th>\n",
       "      <th>TYPE_2</th>\n",
       "      <th>TOTAL</th>\n",
       "      <th>HP</th>\n",
       "      <th>ATTACK</th>\n",
       "      <th>DEFENSE</th>\n",
       "      <th>SP_ATK</th>\n",
       "      <th>SP_DEF</th>\n",
       "      <th>SPEED</th>\n",
       "      <th>GENERATION</th>\n",
       "      <th>LEGENDARY</th>\n",
       "    </tr>\n",
       "  </thead>\n",
       "  <tbody>\n",
       "    <tr>\n",
       "      <th>0</th>\n",
       "      <td>1</td>\n",
       "      <td>Bulbasaur</td>\n",
       "      <td>Grass</td>\n",
       "      <td>Poison</td>\n",
       "      <td>318</td>\n",
       "      <td>45</td>\n",
       "      <td>49</td>\n",
       "      <td>49</td>\n",
       "      <td>65</td>\n",
       "      <td>65</td>\n",
       "      <td>45</td>\n",
       "      <td>1</td>\n",
       "      <td>False</td>\n",
       "    </tr>\n",
       "  </tbody>\n",
       "</table>\n",
       "</div>"
      ],
      "text/plain": [
       "   ID       NAME TYPE_1  TYPE_2  TOTAL  HP  ATTACK  DEFENSE  SP_ATK  SP_DEF  \\\n",
       "0   1  Bulbasaur  Grass  Poison    318  45      49       49      65      65   \n",
       "\n",
       "   SPEED  GENERATION  LEGENDARY  \n",
       "0     45           1      False  "
      ]
     },
     "execution_count": 22,
     "metadata": {},
     "output_type": "execute_result"
    }
   ],
   "source": [
    "data.head(1)"
   ]
  },
  {
   "cell_type": "markdown",
   "metadata": {},
   "source": [
    "We will drop GENERATION & LEGENDARY columns because currently, we don't have any information on its definition. We also will drop TYPE_2 column since it has a great amount of Unknown value which is not helping the analysis process."
   ]
  },
  {
   "cell_type": "code",
   "execution_count": 23,
   "metadata": {
    "ExecuteTime": {
     "end_time": "2021-07-08T12:18:39.646611Z",
     "start_time": "2021-07-08T12:18:39.641624Z"
    }
   },
   "outputs": [],
   "source": [
    "data.drop(columns = ['GENERATION', 'LEGENDARY', 'TYPE_2'], inplace = True)"
   ]
  },
  {
   "cell_type": "code",
   "execution_count": 24,
   "metadata": {
    "ExecuteTime": {
     "end_time": "2021-07-08T12:18:39.689503Z",
     "start_time": "2021-07-08T12:18:39.678535Z"
    }
   },
   "outputs": [
    {
     "data": {
      "text/html": [
       "<div>\n",
       "<style scoped>\n",
       "    .dataframe tbody tr th:only-of-type {\n",
       "        vertical-align: middle;\n",
       "    }\n",
       "\n",
       "    .dataframe tbody tr th {\n",
       "        vertical-align: top;\n",
       "    }\n",
       "\n",
       "    .dataframe thead th {\n",
       "        text-align: right;\n",
       "    }\n",
       "</style>\n",
       "<table border=\"1\" class=\"dataframe\">\n",
       "  <thead>\n",
       "    <tr style=\"text-align: right;\">\n",
       "      <th></th>\n",
       "      <th>ID</th>\n",
       "      <th>NAME</th>\n",
       "      <th>TYPE_1</th>\n",
       "      <th>TOTAL</th>\n",
       "      <th>HP</th>\n",
       "      <th>ATTACK</th>\n",
       "      <th>DEFENSE</th>\n",
       "      <th>SP_ATK</th>\n",
       "      <th>SP_DEF</th>\n",
       "      <th>SPEED</th>\n",
       "    </tr>\n",
       "  </thead>\n",
       "  <tbody>\n",
       "    <tr>\n",
       "      <th>0</th>\n",
       "      <td>1</td>\n",
       "      <td>Bulbasaur</td>\n",
       "      <td>Grass</td>\n",
       "      <td>318</td>\n",
       "      <td>45</td>\n",
       "      <td>49</td>\n",
       "      <td>49</td>\n",
       "      <td>65</td>\n",
       "      <td>65</td>\n",
       "      <td>45</td>\n",
       "    </tr>\n",
       "  </tbody>\n",
       "</table>\n",
       "</div>"
      ],
      "text/plain": [
       "   ID       NAME TYPE_1  TOTAL  HP  ATTACK  DEFENSE  SP_ATK  SP_DEF  SPEED\n",
       "0   1  Bulbasaur  Grass    318  45      49       49      65      65     45"
      ]
     },
     "execution_count": 24,
     "metadata": {},
     "output_type": "execute_result"
    }
   ],
   "source": [
    "data.head(1)"
   ]
  },
  {
   "cell_type": "markdown",
   "metadata": {},
   "source": [
    "# Data Exploration"
   ]
  },
  {
   "cell_type": "markdown",
   "metadata": {},
   "source": [
    "Find out which types are overrepresented."
   ]
  },
  {
   "cell_type": "code",
   "execution_count": 25,
   "metadata": {
    "ExecuteTime": {
     "end_time": "2021-07-08T12:18:39.783179Z",
     "start_time": "2021-07-08T12:18:39.765214Z"
    }
   },
   "outputs": [
    {
     "data": {
      "text/html": [
       "<div>\n",
       "<style scoped>\n",
       "    .dataframe tbody tr th:only-of-type {\n",
       "        vertical-align: middle;\n",
       "    }\n",
       "\n",
       "    .dataframe tbody tr th {\n",
       "        vertical-align: top;\n",
       "    }\n",
       "\n",
       "    .dataframe thead th {\n",
       "        text-align: right;\n",
       "    }\n",
       "</style>\n",
       "<table border=\"1\" class=\"dataframe\">\n",
       "  <thead>\n",
       "    <tr style=\"text-align: right;\">\n",
       "      <th></th>\n",
       "      <th>COUNT</th>\n",
       "    </tr>\n",
       "    <tr>\n",
       "      <th>TYPE_1</th>\n",
       "      <th></th>\n",
       "    </tr>\n",
       "  </thead>\n",
       "  <tbody>\n",
       "    <tr>\n",
       "      <th>Water</th>\n",
       "      <td>112</td>\n",
       "    </tr>\n",
       "    <tr>\n",
       "      <th>Normal</th>\n",
       "      <td>98</td>\n",
       "    </tr>\n",
       "    <tr>\n",
       "      <th>Grass</th>\n",
       "      <td>70</td>\n",
       "    </tr>\n",
       "  </tbody>\n",
       "</table>\n",
       "</div>"
      ],
      "text/plain": [
       "        COUNT\n",
       "TYPE_1       \n",
       "Water     112\n",
       "Normal     98\n",
       "Grass      70"
      ]
     },
     "execution_count": 25,
     "metadata": {},
     "output_type": "execute_result"
    }
   ],
   "source": [
    "# searching for overrepresented using grouping\n",
    "# 1st grouping\n",
    "overrepresented = data.groupby(['TYPE_1']).count()[['NAME']].sort_values(\n",
    "    'NAME', ascending = False\n",
    ")[:3].rename(columns = {'NAME' : 'COUNT'})\n",
    "overrepresented"
   ]
  },
  {
   "cell_type": "markdown",
   "metadata": {},
   "source": [
    "We found the top 3 frequent TYPE_1 of Pokemon, these 3 types will be called overrepresented types."
   ]
  },
  {
   "cell_type": "markdown",
   "metadata": {
    "ExecuteTime": {
     "end_time": "2021-07-07T15:47:12.969275Z",
     "start_time": "2021-07-07T15:47:12.952628Z"
    }
   },
   "source": [
    "Find out which types are underrepresented."
   ]
  },
  {
   "cell_type": "code",
   "execution_count": 26,
   "metadata": {
    "ExecuteTime": {
     "end_time": "2021-07-08T12:18:39.878738Z",
     "start_time": "2021-07-08T12:18:39.860089Z"
    }
   },
   "outputs": [
    {
     "data": {
      "text/html": [
       "<div>\n",
       "<style scoped>\n",
       "    .dataframe tbody tr th:only-of-type {\n",
       "        vertical-align: middle;\n",
       "    }\n",
       "\n",
       "    .dataframe tbody tr th {\n",
       "        vertical-align: top;\n",
       "    }\n",
       "\n",
       "    .dataframe thead th {\n",
       "        text-align: right;\n",
       "    }\n",
       "</style>\n",
       "<table border=\"1\" class=\"dataframe\">\n",
       "  <thead>\n",
       "    <tr style=\"text-align: right;\">\n",
       "      <th></th>\n",
       "      <th>COUNT</th>\n",
       "    </tr>\n",
       "    <tr>\n",
       "      <th>TYPE_1</th>\n",
       "      <th></th>\n",
       "    </tr>\n",
       "  </thead>\n",
       "  <tbody>\n",
       "    <tr>\n",
       "      <th>Flying</th>\n",
       "      <td>4</td>\n",
       "    </tr>\n",
       "    <tr>\n",
       "      <th>Fairy</th>\n",
       "      <td>17</td>\n",
       "    </tr>\n",
       "    <tr>\n",
       "      <th>Ice</th>\n",
       "      <td>24</td>\n",
       "    </tr>\n",
       "  </tbody>\n",
       "</table>\n",
       "</div>"
      ],
      "text/plain": [
       "        COUNT\n",
       "TYPE_1       \n",
       "Flying      4\n",
       "Fairy      17\n",
       "Ice        24"
      ]
     },
     "execution_count": 26,
     "metadata": {},
     "output_type": "execute_result"
    }
   ],
   "source": [
    "# searching for underrepresented using grouping\n",
    "# 2nd grouping\n",
    "underrepresented = data.groupby(['TYPE_1']).count()[['NAME']].sort_values(\n",
    "    'NAME', ascending = True\n",
    ")[:3].rename(columns = {'NAME' : 'COUNT'})\n",
    "underrepresented"
   ]
  },
  {
   "cell_type": "markdown",
   "metadata": {},
   "source": [
    "We found the top 3 infrequent TYPE_1 of Pokemon, these 3 types will be called overrepresented types."
   ]
  },
  {
   "cell_type": "markdown",
   "metadata": {},
   "source": [
    "---"
   ]
  },
  {
   "cell_type": "markdown",
   "metadata": {},
   "source": [
    "Check out the 'TOTAL' column stats of those overrepresented and underrepresented types."
   ]
  },
  {
   "cell_type": "code",
   "execution_count": 27,
   "metadata": {
    "ExecuteTime": {
     "end_time": "2021-07-08T12:18:39.992988Z",
     "start_time": "2021-07-08T12:18:39.966061Z"
    }
   },
   "outputs": [
    {
     "data": {
      "text/html": [
       "<div>\n",
       "<style scoped>\n",
       "    .dataframe tbody tr th:only-of-type {\n",
       "        vertical-align: middle;\n",
       "    }\n",
       "\n",
       "    .dataframe tbody tr th {\n",
       "        vertical-align: top;\n",
       "    }\n",
       "\n",
       "    .dataframe thead tr th {\n",
       "        text-align: left;\n",
       "    }\n",
       "\n",
       "    .dataframe thead tr:last-of-type th {\n",
       "        text-align: right;\n",
       "    }\n",
       "</style>\n",
       "<table border=\"1\" class=\"dataframe\">\n",
       "  <thead>\n",
       "    <tr>\n",
       "      <th></th>\n",
       "      <th colspan=\"4\" halign=\"left\">TOTAL</th>\n",
       "      <th>NAME</th>\n",
       "    </tr>\n",
       "    <tr>\n",
       "      <th></th>\n",
       "      <th>mean</th>\n",
       "      <th>median</th>\n",
       "      <th>max</th>\n",
       "      <th>min</th>\n",
       "      <th>count</th>\n",
       "    </tr>\n",
       "    <tr>\n",
       "      <th>TYPE_1</th>\n",
       "      <th></th>\n",
       "      <th></th>\n",
       "      <th></th>\n",
       "      <th></th>\n",
       "      <th></th>\n",
       "    </tr>\n",
       "  </thead>\n",
       "  <tbody>\n",
       "    <tr>\n",
       "      <th>Water</th>\n",
       "      <td>430.455357</td>\n",
       "      <td>455</td>\n",
       "      <td>770</td>\n",
       "      <td>200</td>\n",
       "      <td>112</td>\n",
       "    </tr>\n",
       "    <tr>\n",
       "      <th>Normal</th>\n",
       "      <td>401.683673</td>\n",
       "      <td>415</td>\n",
       "      <td>720</td>\n",
       "      <td>190</td>\n",
       "      <td>98</td>\n",
       "    </tr>\n",
       "    <tr>\n",
       "      <th>Grass</th>\n",
       "      <td>421.142857</td>\n",
       "      <td>430</td>\n",
       "      <td>630</td>\n",
       "      <td>180</td>\n",
       "      <td>70</td>\n",
       "    </tr>\n",
       "  </tbody>\n",
       "</table>\n",
       "</div>"
      ],
      "text/plain": [
       "             TOTAL                   NAME\n",
       "              mean median  max  min count\n",
       "TYPE_1                                   \n",
       "Water   430.455357    455  770  200   112\n",
       "Normal  401.683673    415  720  190    98\n",
       "Grass   421.142857    430  630  180    70"
      ]
     },
     "execution_count": 27,
     "metadata": {},
     "output_type": "execute_result"
    }
   ],
   "source": [
    "# checking out on stats of overrepresented using query and grouping\n",
    "# 3rd grouping & 1st query\n",
    "overrepresented_stats = data[data['TYPE_1'].isin(list(overrepresented.index))].groupby(\n",
    "    ['TYPE_1']\n",
    ").agg({\n",
    "    'TOTAL' : ['mean', 'median', 'max', 'min'], 'NAME' : 'count'\n",
    "}).sort_values([('TOTAL', 'max'), ('NAME', 'count')], ascending = False)\n",
    "overrepresented_stats"
   ]
  },
  {
   "cell_type": "code",
   "execution_count": 28,
   "metadata": {
    "ExecuteTime": {
     "end_time": "2021-07-08T12:18:40.041785Z",
     "start_time": "2021-07-08T12:18:40.013861Z"
    }
   },
   "outputs": [
    {
     "data": {
      "text/html": [
       "<div>\n",
       "<style scoped>\n",
       "    .dataframe tbody tr th:only-of-type {\n",
       "        vertical-align: middle;\n",
       "    }\n",
       "\n",
       "    .dataframe tbody tr th {\n",
       "        vertical-align: top;\n",
       "    }\n",
       "\n",
       "    .dataframe thead tr th {\n",
       "        text-align: left;\n",
       "    }\n",
       "\n",
       "    .dataframe thead tr:last-of-type th {\n",
       "        text-align: right;\n",
       "    }\n",
       "</style>\n",
       "<table border=\"1\" class=\"dataframe\">\n",
       "  <thead>\n",
       "    <tr>\n",
       "      <th></th>\n",
       "      <th colspan=\"4\" halign=\"left\">TOTAL</th>\n",
       "      <th>NAME</th>\n",
       "    </tr>\n",
       "    <tr>\n",
       "      <th></th>\n",
       "      <th>mean</th>\n",
       "      <th>median</th>\n",
       "      <th>max</th>\n",
       "      <th>min</th>\n",
       "      <th>count</th>\n",
       "    </tr>\n",
       "    <tr>\n",
       "      <th>TYPE_1</th>\n",
       "      <th></th>\n",
       "      <th></th>\n",
       "      <th></th>\n",
       "      <th></th>\n",
       "      <th></th>\n",
       "    </tr>\n",
       "  </thead>\n",
       "  <tbody>\n",
       "    <tr>\n",
       "      <th>Fairy</th>\n",
       "      <td>413.176471</td>\n",
       "      <td>405.0</td>\n",
       "      <td>680</td>\n",
       "      <td>218</td>\n",
       "      <td>17</td>\n",
       "    </tr>\n",
       "    <tr>\n",
       "      <th>Ice</th>\n",
       "      <td>433.458333</td>\n",
       "      <td>467.5</td>\n",
       "      <td>580</td>\n",
       "      <td>250</td>\n",
       "      <td>24</td>\n",
       "    </tr>\n",
       "    <tr>\n",
       "      <th>Flying</th>\n",
       "      <td>485.000000</td>\n",
       "      <td>557.5</td>\n",
       "      <td>580</td>\n",
       "      <td>245</td>\n",
       "      <td>4</td>\n",
       "    </tr>\n",
       "  </tbody>\n",
       "</table>\n",
       "</div>"
      ],
      "text/plain": [
       "             TOTAL                   NAME\n",
       "              mean median  max  min count\n",
       "TYPE_1                                   \n",
       "Fairy   413.176471  405.0  680  218    17\n",
       "Ice     433.458333  467.5  580  250    24\n",
       "Flying  485.000000  557.5  580  245     4"
      ]
     },
     "execution_count": 28,
     "metadata": {},
     "output_type": "execute_result"
    }
   ],
   "source": [
    "# checking out on stats of overrepresented using query and grouping\n",
    "# 4th grouping & 2nd query\n",
    "underrepresented_stats = data[data['TYPE_1'].isin(list(underrepresented.index))].groupby(\n",
    "    ['TYPE_1']\n",
    ").agg({\n",
    "    'TOTAL' : ['mean', 'median', 'max', 'min'], 'NAME' : 'count'\n",
    "}).sort_values([('TOTAL', 'max'), ('NAME', 'count')], ascending = False)\n",
    "underrepresented_stats"
   ]
  },
  {
   "cell_type": "markdown",
   "metadata": {},
   "source": [
    "---"
   ]
  },
  {
   "cell_type": "markdown",
   "metadata": {},
   "source": [
    "Find the strongest Pokemon of each overrepresented type."
   ]
  },
  {
   "cell_type": "code",
   "execution_count": 29,
   "metadata": {
    "ExecuteTime": {
     "end_time": "2021-07-08T12:18:40.112920Z",
     "start_time": "2021-07-08T12:18:40.094968Z"
    }
   },
   "outputs": [
    {
     "data": {
      "text/html": [
       "<div>\n",
       "<style scoped>\n",
       "    .dataframe tbody tr th:only-of-type {\n",
       "        vertical-align: middle;\n",
       "    }\n",
       "\n",
       "    .dataframe tbody tr th {\n",
       "        vertical-align: top;\n",
       "    }\n",
       "\n",
       "    .dataframe thead th {\n",
       "        text-align: right;\n",
       "    }\n",
       "</style>\n",
       "<table border=\"1\" class=\"dataframe\">\n",
       "  <thead>\n",
       "    <tr style=\"text-align: right;\">\n",
       "      <th></th>\n",
       "      <th>ID</th>\n",
       "      <th>NAME</th>\n",
       "      <th>TYPE_1</th>\n",
       "      <th>TOTAL</th>\n",
       "      <th>HP</th>\n",
       "      <th>ATTACK</th>\n",
       "      <th>DEFENSE</th>\n",
       "      <th>SP_ATK</th>\n",
       "      <th>SP_DEF</th>\n",
       "      <th>SPEED</th>\n",
       "    </tr>\n",
       "  </thead>\n",
       "  <tbody>\n",
       "    <tr>\n",
       "      <th>275</th>\n",
       "      <td>254</td>\n",
       "      <td>SceptileMega Sceptile</td>\n",
       "      <td>Grass</td>\n",
       "      <td>630</td>\n",
       "      <td>70</td>\n",
       "      <td>110</td>\n",
       "      <td>75</td>\n",
       "      <td>145</td>\n",
       "      <td>85</td>\n",
       "      <td>145</td>\n",
       "    </tr>\n",
       "    <tr>\n",
       "      <th>422</th>\n",
       "      <td>382</td>\n",
       "      <td>KyogrePrimal Kyogre</td>\n",
       "      <td>Water</td>\n",
       "      <td>770</td>\n",
       "      <td>100</td>\n",
       "      <td>150</td>\n",
       "      <td>90</td>\n",
       "      <td>180</td>\n",
       "      <td>160</td>\n",
       "      <td>90</td>\n",
       "    </tr>\n",
       "    <tr>\n",
       "      <th>552</th>\n",
       "      <td>493</td>\n",
       "      <td>Arceus</td>\n",
       "      <td>Normal</td>\n",
       "      <td>720</td>\n",
       "      <td>120</td>\n",
       "      <td>120</td>\n",
       "      <td>120</td>\n",
       "      <td>120</td>\n",
       "      <td>120</td>\n",
       "      <td>120</td>\n",
       "    </tr>\n",
       "  </tbody>\n",
       "</table>\n",
       "</div>"
      ],
      "text/plain": [
       "      ID                   NAME  TYPE_1  TOTAL   HP  ATTACK  DEFENSE  SP_ATK  \\\n",
       "275  254  SceptileMega Sceptile   Grass    630   70     110       75     145   \n",
       "422  382    KyogrePrimal Kyogre   Water    770  100     150       90     180   \n",
       "552  493                 Arceus  Normal    720  120     120      120     120   \n",
       "\n",
       "     SP_DEF  SPEED  \n",
       "275      85    145  \n",
       "422     160     90  \n",
       "552     120    120  "
      ]
     },
     "execution_count": 29,
     "metadata": {},
     "output_type": "execute_result"
    }
   ],
   "source": [
    "# find the strongest overrepresented type using query and groupby inside a subquery\n",
    "# 5th grouping & 3rd query\n",
    "overrepresented_strongest = data[\n",
    "    (data['TYPE_1'].isin(list(overrepresented.index)))\n",
    "    & (data['TOTAL'] == data.groupby('TYPE_1')['TOTAL'].transform('max'))\n",
    "    # filter2: group by type_1 and find the max value, then insert max value of the group for each row\n",
    "]\n",
    "overrepresented_strongest"
   ]
  },
  {
   "cell_type": "markdown",
   "metadata": {},
   "source": [
    "Find the strongest Pokemon of each underrepresented type."
   ]
  },
  {
   "cell_type": "code",
   "execution_count": 30,
   "metadata": {
    "ExecuteTime": {
     "end_time": "2021-07-08T12:18:40.181238Z",
     "start_time": "2021-07-08T12:18:40.159296Z"
    }
   },
   "outputs": [
    {
     "data": {
      "text/html": [
       "<div>\n",
       "<style scoped>\n",
       "    .dataframe tbody tr th:only-of-type {\n",
       "        vertical-align: middle;\n",
       "    }\n",
       "\n",
       "    .dataframe tbody tr th {\n",
       "        vertical-align: top;\n",
       "    }\n",
       "\n",
       "    .dataframe thead th {\n",
       "        text-align: right;\n",
       "    }\n",
       "</style>\n",
       "<table border=\"1\" class=\"dataframe\">\n",
       "  <thead>\n",
       "    <tr style=\"text-align: right;\">\n",
       "      <th></th>\n",
       "      <th>ID</th>\n",
       "      <th>NAME</th>\n",
       "      <th>TYPE_1</th>\n",
       "      <th>TOTAL</th>\n",
       "      <th>HP</th>\n",
       "      <th>ATTACK</th>\n",
       "      <th>DEFENSE</th>\n",
       "      <th>SP_ATK</th>\n",
       "      <th>SP_DEF</th>\n",
       "      <th>SPEED</th>\n",
       "    </tr>\n",
       "  </thead>\n",
       "  <tbody>\n",
       "    <tr>\n",
       "      <th>156</th>\n",
       "      <td>144</td>\n",
       "      <td>Articuno</td>\n",
       "      <td>Ice</td>\n",
       "      <td>580</td>\n",
       "      <td>90</td>\n",
       "      <td>85</td>\n",
       "      <td>100</td>\n",
       "      <td>95</td>\n",
       "      <td>125</td>\n",
       "      <td>85</td>\n",
       "    </tr>\n",
       "    <tr>\n",
       "      <th>397</th>\n",
       "      <td>362</td>\n",
       "      <td>GlalieMega Glalie</td>\n",
       "      <td>Ice</td>\n",
       "      <td>580</td>\n",
       "      <td>80</td>\n",
       "      <td>120</td>\n",
       "      <td>80</td>\n",
       "      <td>120</td>\n",
       "      <td>80</td>\n",
       "      <td>100</td>\n",
       "    </tr>\n",
       "    <tr>\n",
       "      <th>415</th>\n",
       "      <td>378</td>\n",
       "      <td>Regice</td>\n",
       "      <td>Ice</td>\n",
       "      <td>580</td>\n",
       "      <td>80</td>\n",
       "      <td>50</td>\n",
       "      <td>100</td>\n",
       "      <td>100</td>\n",
       "      <td>200</td>\n",
       "      <td>50</td>\n",
       "    </tr>\n",
       "    <tr>\n",
       "      <th>702</th>\n",
       "      <td>641</td>\n",
       "      <td>TornadusIncarnate Forme</td>\n",
       "      <td>Flying</td>\n",
       "      <td>580</td>\n",
       "      <td>79</td>\n",
       "      <td>115</td>\n",
       "      <td>70</td>\n",
       "      <td>125</td>\n",
       "      <td>80</td>\n",
       "      <td>111</td>\n",
       "    </tr>\n",
       "    <tr>\n",
       "      <th>703</th>\n",
       "      <td>641</td>\n",
       "      <td>TornadusTherian Forme</td>\n",
       "      <td>Flying</td>\n",
       "      <td>580</td>\n",
       "      <td>79</td>\n",
       "      <td>100</td>\n",
       "      <td>80</td>\n",
       "      <td>110</td>\n",
       "      <td>90</td>\n",
       "      <td>121</td>\n",
       "    </tr>\n",
       "    <tr>\n",
       "      <th>792</th>\n",
       "      <td>716</td>\n",
       "      <td>Xerneas</td>\n",
       "      <td>Fairy</td>\n",
       "      <td>680</td>\n",
       "      <td>126</td>\n",
       "      <td>131</td>\n",
       "      <td>95</td>\n",
       "      <td>131</td>\n",
       "      <td>98</td>\n",
       "      <td>99</td>\n",
       "    </tr>\n",
       "  </tbody>\n",
       "</table>\n",
       "</div>"
      ],
      "text/plain": [
       "      ID                     NAME  TYPE_1  TOTAL   HP  ATTACK  DEFENSE  \\\n",
       "156  144                 Articuno     Ice    580   90      85      100   \n",
       "397  362        GlalieMega Glalie     Ice    580   80     120       80   \n",
       "415  378                   Regice     Ice    580   80      50      100   \n",
       "702  641  TornadusIncarnate Forme  Flying    580   79     115       70   \n",
       "703  641    TornadusTherian Forme  Flying    580   79     100       80   \n",
       "792  716                  Xerneas   Fairy    680  126     131       95   \n",
       "\n",
       "     SP_ATK  SP_DEF  SPEED  \n",
       "156      95     125     85  \n",
       "397     120      80    100  \n",
       "415     100     200     50  \n",
       "702     125      80    111  \n",
       "703     110      90    121  \n",
       "792     131      98     99  "
      ]
     },
     "execution_count": 30,
     "metadata": {},
     "output_type": "execute_result"
    }
   ],
   "source": [
    "# find the strongest underrepresented type using query and groupby inside a subquery\n",
    "# 6th grouping & 4th query\n",
    "underrepresented_strongest = data[\n",
    "    (data['TYPE_1'].isin(list(underrepresented.index)))\n",
    "    & (data['TOTAL'] == data.groupby('TYPE_1')['TOTAL'].transform('max'))\n",
    "]\n",
    "underrepresented_strongest"
   ]
  },
  {
   "cell_type": "markdown",
   "metadata": {},
   "source": [
    "---"
   ]
  },
  {
   "cell_type": "code",
   "execution_count": 31,
   "metadata": {
    "ExecuteTime": {
     "end_time": "2021-07-08T12:18:40.233916Z",
     "start_time": "2021-07-08T12:18:40.229927Z"
    }
   },
   "outputs": [],
   "source": [
    "# list of resistance factor\n",
    "resistance_indicator = ['HP', 'DEFENSE', 'SP_DEF']"
   ]
  },
  {
   "cell_type": "markdown",
   "metadata": {},
   "source": [
    "Find the most resistant Pokemon amongst the strongest of each overrepresented type:"
   ]
  },
  {
   "cell_type": "code",
   "execution_count": 32,
   "metadata": {
    "ExecuteTime": {
     "end_time": "2021-07-08T12:18:40.286331Z",
     "start_time": "2021-07-08T12:18:40.282169Z"
    }
   },
   "outputs": [],
   "source": [
    "resistant_over = overrepresented_strongest.copy()"
   ]
  },
  {
   "cell_type": "code",
   "execution_count": 33,
   "metadata": {
    "ExecuteTime": {
     "end_time": "2021-07-08T12:18:40.326899Z",
     "start_time": "2021-07-08T12:18:40.320916Z"
    }
   },
   "outputs": [],
   "source": [
    "resistant_over['RESISTANT_SCORE'] = resistant_over[resistance_indicator].sum(axis=1)"
   ]
  },
  {
   "cell_type": "code",
   "execution_count": 34,
   "metadata": {
    "ExecuteTime": {
     "end_time": "2021-07-08T12:18:40.378718Z",
     "start_time": "2021-07-08T12:18:40.362217Z"
    }
   },
   "outputs": [
    {
     "data": {
      "text/html": [
       "<div>\n",
       "<style scoped>\n",
       "    .dataframe tbody tr th:only-of-type {\n",
       "        vertical-align: middle;\n",
       "    }\n",
       "\n",
       "    .dataframe tbody tr th {\n",
       "        vertical-align: top;\n",
       "    }\n",
       "\n",
       "    .dataframe thead th {\n",
       "        text-align: right;\n",
       "    }\n",
       "</style>\n",
       "<table border=\"1\" class=\"dataframe\">\n",
       "  <thead>\n",
       "    <tr style=\"text-align: right;\">\n",
       "      <th></th>\n",
       "      <th>ID</th>\n",
       "      <th>NAME</th>\n",
       "      <th>TYPE_1</th>\n",
       "      <th>TOTAL</th>\n",
       "      <th>HP</th>\n",
       "      <th>DEFENSE</th>\n",
       "      <th>SP_DEF</th>\n",
       "      <th>RESISTANT_SCORE</th>\n",
       "    </tr>\n",
       "  </thead>\n",
       "  <tbody>\n",
       "    <tr>\n",
       "      <th>275</th>\n",
       "      <td>254</td>\n",
       "      <td>SceptileMega Sceptile</td>\n",
       "      <td>Grass</td>\n",
       "      <td>630</td>\n",
       "      <td>70</td>\n",
       "      <td>75</td>\n",
       "      <td>85</td>\n",
       "      <td>230</td>\n",
       "    </tr>\n",
       "    <tr>\n",
       "      <th>422</th>\n",
       "      <td>382</td>\n",
       "      <td>KyogrePrimal Kyogre</td>\n",
       "      <td>Water</td>\n",
       "      <td>770</td>\n",
       "      <td>100</td>\n",
       "      <td>90</td>\n",
       "      <td>160</td>\n",
       "      <td>350</td>\n",
       "    </tr>\n",
       "    <tr>\n",
       "      <th>552</th>\n",
       "      <td>493</td>\n",
       "      <td>Arceus</td>\n",
       "      <td>Normal</td>\n",
       "      <td>720</td>\n",
       "      <td>120</td>\n",
       "      <td>120</td>\n",
       "      <td>120</td>\n",
       "      <td>360</td>\n",
       "    </tr>\n",
       "  </tbody>\n",
       "</table>\n",
       "</div>"
      ],
      "text/plain": [
       "      ID                   NAME  TYPE_1  TOTAL   HP  DEFENSE  SP_DEF  \\\n",
       "275  254  SceptileMega Sceptile   Grass    630   70       75      85   \n",
       "422  382    KyogrePrimal Kyogre   Water    770  100       90     160   \n",
       "552  493                 Arceus  Normal    720  120      120     120   \n",
       "\n",
       "     RESISTANT_SCORE  \n",
       "275              230  \n",
       "422              350  \n",
       "552              360  "
      ]
     },
     "execution_count": 34,
     "metadata": {},
     "output_type": "execute_result"
    }
   ],
   "source": [
    "resistant_over.drop(columns = ['ATTACK', 'SP_ATK', 'SPEED'])"
   ]
  },
  {
   "cell_type": "code",
   "execution_count": 35,
   "metadata": {
    "ExecuteTime": {
     "end_time": "2021-07-08T12:18:40.449532Z",
     "start_time": "2021-07-08T12:18:40.433576Z"
    },
    "scrolled": true
   },
   "outputs": [
    {
     "data": {
      "text/html": [
       "<div>\n",
       "<style scoped>\n",
       "    .dataframe tbody tr th:only-of-type {\n",
       "        vertical-align: middle;\n",
       "    }\n",
       "\n",
       "    .dataframe tbody tr th {\n",
       "        vertical-align: top;\n",
       "    }\n",
       "\n",
       "    .dataframe thead th {\n",
       "        text-align: right;\n",
       "    }\n",
       "</style>\n",
       "<table border=\"1\" class=\"dataframe\">\n",
       "  <thead>\n",
       "    <tr style=\"text-align: right;\">\n",
       "      <th></th>\n",
       "      <th>ID</th>\n",
       "      <th>NAME</th>\n",
       "      <th>TYPE_1</th>\n",
       "      <th>RESISTANT_SCORE</th>\n",
       "      <th>TOTAL</th>\n",
       "    </tr>\n",
       "  </thead>\n",
       "  <tbody>\n",
       "    <tr>\n",
       "      <th>552</th>\n",
       "      <td>493</td>\n",
       "      <td>Arceus</td>\n",
       "      <td>Normal</td>\n",
       "      <td>360</td>\n",
       "      <td>720</td>\n",
       "    </tr>\n",
       "  </tbody>\n",
       "</table>\n",
       "</div>"
      ],
      "text/plain": [
       "      ID    NAME  TYPE_1  RESISTANT_SCORE  TOTAL\n",
       "552  493  Arceus  Normal              360    720"
      ]
     },
     "execution_count": 35,
     "metadata": {},
     "output_type": "execute_result"
    }
   ],
   "source": [
    "r_over_result = resistant_over.sort_values(['RESISTANT_SCORE', 'TOTAL'], ascending = False)[['ID', 'NAME', 'TYPE_1', 'RESISTANT_SCORE', 'TOTAL']][:1]\n",
    "r_over_result"
   ]
  },
  {
   "cell_type": "code",
   "execution_count": 36,
   "metadata": {
    "ExecuteTime": {
     "end_time": "2021-07-08T12:18:40.495741Z",
     "start_time": "2021-07-08T12:18:40.490905Z"
    }
   },
   "outputs": [
    {
     "name": "stdout",
     "output_type": "stream",
     "text": [
      "Arceus is the most resistant of overrepresented category.\n"
     ]
    }
   ],
   "source": [
    "print(f\"{r_over_result.iloc[0]['NAME']} is the most resistant of overrepresented category.\")"
   ]
  },
  {
   "cell_type": "markdown",
   "metadata": {},
   "source": [
    "Find the most resistant Pokemon amongst the strongest of each underrepresented type:"
   ]
  },
  {
   "cell_type": "code",
   "execution_count": 37,
   "metadata": {
    "ExecuteTime": {
     "end_time": "2021-07-08T12:18:40.576852Z",
     "start_time": "2021-07-08T12:18:40.572863Z"
    }
   },
   "outputs": [],
   "source": [
    "resistant_under = underrepresented_strongest.copy()"
   ]
  },
  {
   "cell_type": "code",
   "execution_count": 38,
   "metadata": {
    "ExecuteTime": {
     "end_time": "2021-07-08T12:18:40.620603Z",
     "start_time": "2021-07-08T12:18:40.613669Z"
    }
   },
   "outputs": [],
   "source": [
    "resistant_under['RESISTANT_SCORE'] = resistant_under[resistance_indicator].sum(axis=1)"
   ]
  },
  {
   "cell_type": "code",
   "execution_count": 39,
   "metadata": {
    "ExecuteTime": {
     "end_time": "2021-07-08T12:18:40.675301Z",
     "start_time": "2021-07-08T12:18:40.658344Z"
    }
   },
   "outputs": [
    {
     "data": {
      "text/html": [
       "<div>\n",
       "<style scoped>\n",
       "    .dataframe tbody tr th:only-of-type {\n",
       "        vertical-align: middle;\n",
       "    }\n",
       "\n",
       "    .dataframe tbody tr th {\n",
       "        vertical-align: top;\n",
       "    }\n",
       "\n",
       "    .dataframe thead th {\n",
       "        text-align: right;\n",
       "    }\n",
       "</style>\n",
       "<table border=\"1\" class=\"dataframe\">\n",
       "  <thead>\n",
       "    <tr style=\"text-align: right;\">\n",
       "      <th></th>\n",
       "      <th>ID</th>\n",
       "      <th>NAME</th>\n",
       "      <th>TYPE_1</th>\n",
       "      <th>TOTAL</th>\n",
       "      <th>HP</th>\n",
       "      <th>DEFENSE</th>\n",
       "      <th>SP_DEF</th>\n",
       "      <th>RESISTANT_SCORE</th>\n",
       "    </tr>\n",
       "  </thead>\n",
       "  <tbody>\n",
       "    <tr>\n",
       "      <th>156</th>\n",
       "      <td>144</td>\n",
       "      <td>Articuno</td>\n",
       "      <td>Ice</td>\n",
       "      <td>580</td>\n",
       "      <td>90</td>\n",
       "      <td>100</td>\n",
       "      <td>125</td>\n",
       "      <td>315</td>\n",
       "    </tr>\n",
       "    <tr>\n",
       "      <th>397</th>\n",
       "      <td>362</td>\n",
       "      <td>GlalieMega Glalie</td>\n",
       "      <td>Ice</td>\n",
       "      <td>580</td>\n",
       "      <td>80</td>\n",
       "      <td>80</td>\n",
       "      <td>80</td>\n",
       "      <td>240</td>\n",
       "    </tr>\n",
       "    <tr>\n",
       "      <th>415</th>\n",
       "      <td>378</td>\n",
       "      <td>Regice</td>\n",
       "      <td>Ice</td>\n",
       "      <td>580</td>\n",
       "      <td>80</td>\n",
       "      <td>100</td>\n",
       "      <td>200</td>\n",
       "      <td>380</td>\n",
       "    </tr>\n",
       "    <tr>\n",
       "      <th>702</th>\n",
       "      <td>641</td>\n",
       "      <td>TornadusIncarnate Forme</td>\n",
       "      <td>Flying</td>\n",
       "      <td>580</td>\n",
       "      <td>79</td>\n",
       "      <td>70</td>\n",
       "      <td>80</td>\n",
       "      <td>229</td>\n",
       "    </tr>\n",
       "    <tr>\n",
       "      <th>703</th>\n",
       "      <td>641</td>\n",
       "      <td>TornadusTherian Forme</td>\n",
       "      <td>Flying</td>\n",
       "      <td>580</td>\n",
       "      <td>79</td>\n",
       "      <td>80</td>\n",
       "      <td>90</td>\n",
       "      <td>249</td>\n",
       "    </tr>\n",
       "    <tr>\n",
       "      <th>792</th>\n",
       "      <td>716</td>\n",
       "      <td>Xerneas</td>\n",
       "      <td>Fairy</td>\n",
       "      <td>680</td>\n",
       "      <td>126</td>\n",
       "      <td>95</td>\n",
       "      <td>98</td>\n",
       "      <td>319</td>\n",
       "    </tr>\n",
       "  </tbody>\n",
       "</table>\n",
       "</div>"
      ],
      "text/plain": [
       "      ID                     NAME  TYPE_1  TOTAL   HP  DEFENSE  SP_DEF  \\\n",
       "156  144                 Articuno     Ice    580   90      100     125   \n",
       "397  362        GlalieMega Glalie     Ice    580   80       80      80   \n",
       "415  378                   Regice     Ice    580   80      100     200   \n",
       "702  641  TornadusIncarnate Forme  Flying    580   79       70      80   \n",
       "703  641    TornadusTherian Forme  Flying    580   79       80      90   \n",
       "792  716                  Xerneas   Fairy    680  126       95      98   \n",
       "\n",
       "     RESISTANT_SCORE  \n",
       "156              315  \n",
       "397              240  \n",
       "415              380  \n",
       "702              229  \n",
       "703              249  \n",
       "792              319  "
      ]
     },
     "execution_count": 39,
     "metadata": {},
     "output_type": "execute_result"
    }
   ],
   "source": [
    "resistant_under.drop(columns = ['ATTACK', 'SP_ATK', 'SPEED'])"
   ]
  },
  {
   "cell_type": "code",
   "execution_count": 40,
   "metadata": {
    "ExecuteTime": {
     "end_time": "2021-07-08T12:18:40.721838Z",
     "start_time": "2021-07-08T12:18:40.704740Z"
    }
   },
   "outputs": [
    {
     "data": {
      "text/html": [
       "<div>\n",
       "<style scoped>\n",
       "    .dataframe tbody tr th:only-of-type {\n",
       "        vertical-align: middle;\n",
       "    }\n",
       "\n",
       "    .dataframe tbody tr th {\n",
       "        vertical-align: top;\n",
       "    }\n",
       "\n",
       "    .dataframe thead th {\n",
       "        text-align: right;\n",
       "    }\n",
       "</style>\n",
       "<table border=\"1\" class=\"dataframe\">\n",
       "  <thead>\n",
       "    <tr style=\"text-align: right;\">\n",
       "      <th></th>\n",
       "      <th>ID</th>\n",
       "      <th>NAME</th>\n",
       "      <th>TYPE_1</th>\n",
       "      <th>RESISTANT_SCORE</th>\n",
       "      <th>TOTAL</th>\n",
       "    </tr>\n",
       "  </thead>\n",
       "  <tbody>\n",
       "    <tr>\n",
       "      <th>415</th>\n",
       "      <td>378</td>\n",
       "      <td>Regice</td>\n",
       "      <td>Ice</td>\n",
       "      <td>380</td>\n",
       "      <td>580</td>\n",
       "    </tr>\n",
       "  </tbody>\n",
       "</table>\n",
       "</div>"
      ],
      "text/plain": [
       "      ID    NAME TYPE_1  RESISTANT_SCORE  TOTAL\n",
       "415  378  Regice    Ice              380    580"
      ]
     },
     "execution_count": 40,
     "metadata": {},
     "output_type": "execute_result"
    }
   ],
   "source": [
    "r_under_result = resistant_under.sort_values(['RESISTANT_SCORE', 'TOTAL'], ascending = False)[['ID', 'NAME', 'TYPE_1', 'RESISTANT_SCORE', 'TOTAL']][:1]\n",
    "r_under_result"
   ]
  },
  {
   "cell_type": "code",
   "execution_count": 41,
   "metadata": {
    "ExecuteTime": {
     "end_time": "2021-07-08T12:18:40.758753Z",
     "start_time": "2021-07-08T12:18:40.753766Z"
    }
   },
   "outputs": [
    {
     "name": "stdout",
     "output_type": "stream",
     "text": [
      "Regice is the most resistant of underrepresented category.\n"
     ]
    }
   ],
   "source": [
    "print(f\"{r_under_result.iloc[0]['NAME']} is the most resistant of underrepresented category.\")"
   ]
  },
  {
   "cell_type": "markdown",
   "metadata": {
    "ExecuteTime": {
     "end_time": "2021-07-07T07:30:16.114984Z",
     "start_time": "2021-07-07T07:30:16.111993Z"
    }
   },
   "source": [
    "## Visualization"
   ]
  },
  {
   "cell_type": "markdown",
   "metadata": {},
   "source": [
    "Visualize TOTAL and RESISTANT SCORE to get clear picture of Pokemon."
   ]
  },
  {
   "cell_type": "code",
   "execution_count": 42,
   "metadata": {
    "ExecuteTime": {
     "end_time": "2021-07-08T12:18:40.833801Z",
     "start_time": "2021-07-08T12:18:40.829811Z"
    }
   },
   "outputs": [],
   "source": [
    "to_plot = ['TOTAL', 'RESISTANT_SCORE']"
   ]
  },
  {
   "cell_type": "markdown",
   "metadata": {},
   "source": [
    "Plot for overrepresented type using Pandas Plot:"
   ]
  },
  {
   "cell_type": "code",
   "execution_count": 43,
   "metadata": {
    "ExecuteTime": {
     "end_time": "2021-07-08T12:18:41.517920Z",
     "start_time": "2021-07-08T12:18:40.876927Z"
    }
   },
   "outputs": [
    {
     "data": {
      "image/png": "[encoded data removed]",
      "text/plain": [
       "<Figure size 504x360 with 1 Axes>"
      ]
     },
     "metadata": {},
     "output_type": "display_data"
    },
    {
     "data": {
      "image/png": "[encoded data removed]",
      "text/plain": [
       "<Figure size 504x360 with 1 Axes>"
      ]
     },
     "metadata": {},
     "output_type": "display_data"
    }
   ],
   "source": [
    "for i in range(len(to_plot)):\n",
    "    resistant_over.plot(\n",
    "        x = 'NAME', y = to_plot[i],\n",
    "        kind = 'barh', figsize = (7, 5), fontsize = 14,\n",
    "        title = to_plot[i] + ' PLOT', colormap = 'coolwarm'\n",
    "    );"
   ]
  },
  {
   "cell_type": "markdown",
   "metadata": {},
   "source": [
    "Based on the TOTAL column, KyogrePrimal Kyogre is the strongest, but if we take a look at RESISTANT_SCORE, Arceus is more resistant."
   ]
  },
  {
   "cell_type": "markdown",
   "metadata": {
    "ExecuteTime": {
     "end_time": "2021-07-07T18:48:21.313179Z",
     "start_time": "2021-07-07T18:48:21.308143Z"
    }
   },
   "source": [
    "Plot for underrepresented type using Pandas Plot:"
   ]
  },
  {
   "cell_type": "code",
   "execution_count": 44,
   "metadata": {
    "ExecuteTime": {
     "end_time": "2021-07-08T12:18:42.135564Z",
     "start_time": "2021-07-08T12:18:41.519914Z"
    }
   },
   "outputs": [
    {
     "data": {
      "image/png": "[encoded data removed]",
      "text/plain": [
       "<Figure size 504x360 with 1 Axes>"
      ]
     },
     "metadata": {},
     "output_type": "display_data"
    },
    {
     "data": {
      "image/png": "[encoded data removed]",
      "text/plain": [
       "<Figure size 504x360 with 1 Axes>"
      ]
     },
     "metadata": {},
     "output_type": "display_data"
    }
   ],
   "source": [
    "for i in range(len(to_plot)):\n",
    "    resistant_under.plot(\n",
    "        x = 'NAME', y = to_plot[i],\n",
    "        kind = 'barh', figsize = (7, 5), fontsize = 14,\n",
    "        title = to_plot[i] + ' PLOT', colormap = 'PuBu_r'\n",
    "    );"
   ]
  },
  {
   "cell_type": "markdown",
   "metadata": {},
   "source": [
    "Based on the TOTAL column, Xerneas is the strongest, but if we take a look at RESISTANT_SCORE, Regice is more resistant."
   ]
  },
  {
   "cell_type": "markdown",
   "metadata": {},
   "source": [
    "# Conclusion"
   ]
  },
  {
   "cell_type": "markdown",
   "metadata": {
    "ExecuteTime": {
     "end_time": "2021-07-05T00:55:25.421908Z",
     "start_time": "2021-07-05T00:55:25.413909Z"
    }
   },
   "source": [
    "We will compare analysis results and objective statements to make sure it's achieved."
   ]
  },
  {
   "cell_type": "markdown",
   "metadata": {},
   "source": [
    "\n",
    "***Objective***: Find out which Pokemons are **most resistant** against attacks between **the strongest** of each overrepresented (**most frequent type**) and underrepresented (**least frequent** type) Pokemon **Type**.\n",
    "\n",
    "- Resistance indicator can be seen by the sum of HP, Defense, and SP Def columns (new column called RESISTANT_SCORE).\n",
    "- The total strength of Pokemon can be most represented by the Total column."
   ]
  },
  {
   "cell_type": "markdown",
   "metadata": {},
   "source": [
    "Based on the analysis, the most resistant Pokemon for each overrepresented and underrepresented type are:"
   ]
  },
  {
   "cell_type": "code",
   "execution_count": 45,
   "metadata": {
    "ExecuteTime": {
     "end_time": "2021-07-08T12:18:42.144563Z",
     "start_time": "2021-07-08T12:18:42.138549Z"
    }
   },
   "outputs": [
    {
     "name": "stdout",
     "output_type": "stream",
     "text": [
      "Overrepresented: \u001b[1mArceus\u001b[0;0m\n",
      "Underrepresented: \u001b[1mRegice\u001b[0;0m\n"
     ]
    }
   ],
   "source": [
    "print(f\"Overrepresented: \\033[1m{r_over_result.iloc[0]['NAME']}\\033[0;0m\\nUnderrepresented: \\033[1m{r_under_result.iloc[0]['NAME']}\\033[0;0m\")"
   ]
  }
 ],
 "metadata": {
  "kernelspec": {
   "display_name": "Python 3",
   "language": "python",
   "name": "python3"
  },
  "language_info": {
   "codemirror_mode": {
    "name": "ipython",
    "version": 3
   },
   "file_extension": ".py",
   "mimetype": "text/x-python",
   "name": "python",
   "nbconvert_exporter": "python",
   "pygments_lexer": "ipython3",
   "version": "3.8.5"
  },
  "nbTranslate": {
   "displayLangs": [
    "en"
   ],
   "hotkey": "alt-t",
   "langInMainMenu": true,
   "sourceLang": "en",
   "targetLang": "fr",
   "useGoogleTranslate": true
  },
  "toc": {
   "base_numbering": 1,
   "nav_menu": {},
   "number_sections": true,
   "sideBar": true,
   "skip_h1_title": false,
   "title_cell": "Table of Contents",
   "title_sidebar": "Contents",
   "toc_cell": true,
   "toc_position": {},
   "toc_section_display": true,
   "toc_window_display": true
  }
 },
 "nbformat": 4,
 "nbformat_minor": 4
}
