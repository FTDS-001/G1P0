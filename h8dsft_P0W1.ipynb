{
 "cells": [
  {
   "cell_type": "markdown",
   "metadata": {},
   "source": [
    "# Perkenalan dan Summary"
   ]
  },
  {
   "cell_type": "markdown",
   "metadata": {},
   "source": [
    "\r\n",
    "## Tujuan dari analisis ini adalah untuk  :\r\n",
    "* Mengetahui Pokemon terkuat dari masing masing elemen dan mengetahui apakah pokemon terkuat dimasing masing elemen adalah legendary pokemon atau Mega Evolution\r\n",
    "* Membuat fungsi \r\n",
    "* Import Modul\r\n",
    "* and also extras for pokemon junkies and those who like to overhtinking like me\r\n",
    "\r\n",
    "## Summary Hipotesis\r\n",
    "1. Seluruh pokemon terkuat didalam setiap tipe adalah Mega Evolutin dan/atau Legendary Pokemon "
   ]
  },
  {
   "cell_type": "markdown",
   "metadata": {},
   "source": [
    "# Import Library"
   ]
  },
  {
   "cell_type": "code",
   "execution_count": 26,
   "metadata": {},
   "outputs": [],
   "source": [
    "#import Library\r\n",
    "\r\n",
    "import pandas as pd\r\n",
    "import numpy as py\r\n",
    "import seaborn as sns\r\n",
    "import matplotlib.pyplot as plt"
   ]
  },
  {
   "cell_type": "markdown",
   "metadata": {},
   "source": [
    "Penjelasan kegunaan setiap Library yang digunakan :\r\n",
    "1. pandas digunakan untuk melakukan manipulasi terhadap dataframe pokemon.csv\r\n",
    "2. numpy digunakan untuk melakukan manipulasi terhadap dataset yang diolah\r\n",
    "3. seaborn digunakan untuk memberikan visualisasi sederhana\r\n",
    "4. matplotlib memberikan visualisasi sederhana"
   ]
  },
  {
   "cell_type": "markdown",
   "metadata": {},
   "source": [
    "# Data Loading"
   ]
  },
  {
   "cell_type": "code",
   "execution_count": 27,
   "metadata": {},
   "outputs": [],
   "source": [
    "#Loading dataset\r\n",
    "df = pd.read_csv('Pokemon.csv')"
   ]
  },
  {
   "cell_type": "markdown",
   "metadata": {},
   "source": [
    "Loading dataset Pokemon.csv sebagai primary dataset"
   ]
  },
  {
   "cell_type": "markdown",
   "metadata": {},
   "source": [
    "# Data Cleaning"
   ]
  },
  {
   "cell_type": "code",
   "execution_count": 28,
   "metadata": {},
   "outputs": [],
   "source": [
    "#Data Cleansing & Drop Column '#'\r\n",
    "df['Type 2'] = df['Type 2'].fillna(0)  # Mengubah NaN menjadi 0\r\n",
    "df = df.drop(columns=['#'])            # Menghilangkan kolom '#'\r\n",
    "\r\n",
    "#General Function yang akan digunakan"
   ]
  },
  {
   "cell_type": "markdown",
   "metadata": {},
   "source": [
    "* Proses data cleansing yang dilakukan adalah mengubah 0 menjadi NaN\r\n",
    "* identifikasi numbering tambahan pada kolom '#' tidak dibutuhkan karena pokemon dengan Mega Evolution di perlakukan sebagai Pokemon yang berbeda  "
   ]
  },
  {
   "cell_type": "markdown",
   "metadata": {},
   "source": [
    "# Data Exploration"
   ]
  },
  {
   "cell_type": "markdown",
   "metadata": {},
   "source": [
    "Pengelompokan data, per elemen yang ada didalam Type 1 dan Type 2, sesuai dengan masing masing type yang ada didalam Type 1 dan Type 2, untuk Pokemon yang memiliki 2 tipe data, maka akan masuk ke dalam 2 kategori."
   ]
  },
  {
   "cell_type": "markdown",
   "metadata": {},
   "source": [
    "## Pokemon Grass Type"
   ]
  },
  {
   "cell_type": "markdown",
   "metadata": {},
   "source": [
    "### Filter Grass Type"
   ]
  },
  {
   "cell_type": "code",
   "execution_count": 29,
   "metadata": {},
   "outputs": [],
   "source": [
    "dfGrass = df.loc[(df[\"Type 1\"] == \"Grass\") | (df[\"Type 2\"] == \"Grass\")]         #filter data Pokemon berdasarkan Type Grass pada kolom Type 1 atau Type 2 "
   ]
  },
  {
   "cell_type": "markdown",
   "metadata": {},
   "source": [
    "proses filter menggunakan propery DataFrame.loc dengan tambahan argument | yang memiliki makna 'atau' sebagai syarat tambahan pada argument tersebut untuk mendapatkan hasil seluruh Pokemon type Grass pada Type 1 dan Type 2\r\n",
    "\r\n",
    "selanjutnya dilakukan proses sort atas data dfGrass pada kolom \"Total\" dengan property DataFrame.sort_values untuk mengetahui pokemon terkuat dalam type Grass"
   ]
  },
  {
   "cell_type": "code",
   "execution_count": 30,
   "metadata": {},
   "outputs": [
    {
     "data": {
      "text/html": [
       "<div>\n",
       "<style scoped>\n",
       "    .dataframe tbody tr th:only-of-type {\n",
       "        vertical-align: middle;\n",
       "    }\n",
       "\n",
       "    .dataframe tbody tr th {\n",
       "        vertical-align: top;\n",
       "    }\n",
       "\n",
       "    .dataframe thead th {\n",
       "        text-align: right;\n",
       "    }\n",
       "</style>\n",
       "<table border=\"1\" class=\"dataframe\">\n",
       "  <thead>\n",
       "    <tr style=\"text-align: right;\">\n",
       "      <th></th>\n",
       "      <th>Name</th>\n",
       "      <th>Type 1</th>\n",
       "      <th>Type 2</th>\n",
       "      <th>Total</th>\n",
       "      <th>HP</th>\n",
       "      <th>Attack</th>\n",
       "      <th>Defense</th>\n",
       "      <th>Sp. Atk</th>\n",
       "      <th>Sp. Def</th>\n",
       "      <th>Speed</th>\n",
       "      <th>Generation</th>\n",
       "      <th>Legendary</th>\n",
       "    </tr>\n",
       "  </thead>\n",
       "  <tbody>\n",
       "    <tr>\n",
       "      <th>275</th>\n",
       "      <td>SceptileMega Sceptile</td>\n",
       "      <td>Grass</td>\n",
       "      <td>Dragon</td>\n",
       "      <td>630</td>\n",
       "      <td>70</td>\n",
       "      <td>110</td>\n",
       "      <td>75</td>\n",
       "      <td>145</td>\n",
       "      <td>85</td>\n",
       "      <td>145</td>\n",
       "      <td>3</td>\n",
       "      <td>False</td>\n",
       "    </tr>\n",
       "    <tr>\n",
       "      <th>3</th>\n",
       "      <td>VenusaurMega Venusaur</td>\n",
       "      <td>Grass</td>\n",
       "      <td>Poison</td>\n",
       "      <td>625</td>\n",
       "      <td>80</td>\n",
       "      <td>100</td>\n",
       "      <td>123</td>\n",
       "      <td>122</td>\n",
       "      <td>120</td>\n",
       "      <td>80</td>\n",
       "      <td>1</td>\n",
       "      <td>False</td>\n",
       "    </tr>\n",
       "    <tr>\n",
       "      <th>271</th>\n",
       "      <td>Celebi</td>\n",
       "      <td>Psychic</td>\n",
       "      <td>Grass</td>\n",
       "      <td>600</td>\n",
       "      <td>100</td>\n",
       "      <td>100</td>\n",
       "      <td>100</td>\n",
       "      <td>100</td>\n",
       "      <td>100</td>\n",
       "      <td>100</td>\n",
       "      <td>2</td>\n",
       "      <td>False</td>\n",
       "    </tr>\n",
       "    <tr>\n",
       "      <th>551</th>\n",
       "      <td>ShayminSky Forme</td>\n",
       "      <td>Grass</td>\n",
       "      <td>Flying</td>\n",
       "      <td>600</td>\n",
       "      <td>100</td>\n",
       "      <td>103</td>\n",
       "      <td>75</td>\n",
       "      <td>120</td>\n",
       "      <td>75</td>\n",
       "      <td>127</td>\n",
       "      <td>4</td>\n",
       "      <td>True</td>\n",
       "    </tr>\n",
       "    <tr>\n",
       "      <th>550</th>\n",
       "      <td>ShayminLand Forme</td>\n",
       "      <td>Grass</td>\n",
       "      <td>0</td>\n",
       "      <td>600</td>\n",
       "      <td>100</td>\n",
       "      <td>100</td>\n",
       "      <td>100</td>\n",
       "      <td>100</td>\n",
       "      <td>100</td>\n",
       "      <td>100</td>\n",
       "      <td>4</td>\n",
       "      <td>True</td>\n",
       "    </tr>\n",
       "  </tbody>\n",
       "</table>\n",
       "</div>"
      ],
      "text/plain": [
       "                      Name   Type 1  Type 2  Total   HP  Attack  Defense  \\\n",
       "275  SceptileMega Sceptile    Grass  Dragon    630   70     110       75   \n",
       "3    VenusaurMega Venusaur    Grass  Poison    625   80     100      123   \n",
       "271                 Celebi  Psychic   Grass    600  100     100      100   \n",
       "551       ShayminSky Forme    Grass  Flying    600  100     103       75   \n",
       "550      ShayminLand Forme    Grass       0    600  100     100      100   \n",
       "\n",
       "     Sp. Atk  Sp. Def  Speed  Generation  Legendary  \n",
       "275      145       85    145           3      False  \n",
       "3        122      120     80           1      False  \n",
       "271      100      100    100           2      False  \n",
       "551      120       75    127           4       True  \n",
       "550      100      100    100           4       True  "
      ]
     },
     "execution_count": 30,
     "metadata": {},
     "output_type": "execute_result"
    }
   ],
   "source": [
    "dfGrass.sort_values([(\"Total\")], ascending=False) .head()           #sort values pada kolom total"
   ]
  },
  {
   "cell_type": "markdown",
   "metadata": {},
   "source": [
    "berikut 5 pokemon terkuat pada tipe Grass, **2 diantaranya adalah Mega evolution**, dan **3 diantaranya adalah Legendary Pokemon** (celebi is a damn time traveler bug, its a legendary pokemon! )"
   ]
  },
  {
   "cell_type": "markdown",
   "metadata": {},
   "source": [
    "### Visualisasi sebaran Power"
   ]
  },
  {
   "cell_type": "code",
   "execution_count": 31,
   "metadata": {},
   "outputs": [
    {
     "data": {
      "text/plain": [
       "<AxesSubplot:ylabel='Total'>"
      ]
     },
     "execution_count": 31,
     "metadata": {},
     "output_type": "execute_result"
    },
    {
     "data": {
      "image/png": "[encoded data removed]",
      "text/plain": [
       "<Figure size 1008x288 with 1 Axes>"
      ]
     },
     "metadata": {
      "needs_background": "light"
     },
     "output_type": "display_data"
    }
   ],
   "source": [
    "plt.figure(figsize=(14,4)) #visualisasi plot berdasarkan totals untuk melihat persebaran power\r\n",
    "sns.scatterplot(x=dfGrass.index, y=dfGrass[\"Total\"])"
   ]
  },
  {
   "cell_type": "markdown",
   "metadata": {},
   "source": [
    "bisa dilihat didalam data sebaran scatterplot, 5 pokemon dengan Total teratas memiliki jarak yang lumayan signifikan dengan sebaran data lainnya"
   ]
  },
  {
   "cell_type": "code",
   "execution_count": 32,
   "metadata": {},
   "outputs": [],
   "source": [
    "#Pokemon Tipe Normal\r\n",
    "dfNormal = df.loc[(df[\"Type 1\"] == \"Normal\") | (df[\"Type 2\"] == \"Normal\")]\r\n"
   ]
  },
  {
   "cell_type": "code",
   "execution_count": 33,
   "metadata": {},
   "outputs": [],
   "source": [
    "#Pokemon Tipe Fire\r\n",
    "dfFire = df.loc[(df[\"Type 1\"] == \"Fire\") | (df[\"Type 2\"] == \"Fire\")]\r\n"
   ]
  },
  {
   "cell_type": "code",
   "execution_count": 34,
   "metadata": {},
   "outputs": [],
   "source": [
    "#Pokemon Tipe Water\r\n",
    "dfWater = df.loc[(df[\"Type 1\"] == \"Water\") | (df[\"Type 2\"] == \"Water\")]\r\n"
   ]
  },
  {
   "cell_type": "code",
   "execution_count": 35,
   "metadata": {},
   "outputs": [],
   "source": [
    "#Pokemon Tipe Electric\r\n",
    "dfElectric = df.loc[(df[\"Type 1\"] == \"Electric\") | (df[\"Type 2\"] == \"Electric\")]\r\n"
   ]
  },
  {
   "cell_type": "code",
   "execution_count": 36,
   "metadata": {},
   "outputs": [],
   "source": [
    "#Pokemon Tipe Ice\r\n",
    "dfIce = df.loc[(df[\"Type 1\"] == \"Ice\") | (df[\"Type 2\"] == \"Ice\")]\r\n"
   ]
  },
  {
   "cell_type": "code",
   "execution_count": 37,
   "metadata": {},
   "outputs": [],
   "source": [
    "#Pokemon Tipe Fighting\r\n",
    "dfFighting = df.loc[(df[\"Type 1\"] == \"Fighting\") | (df[\"Type 2\"] == \"Fighting\")]\r\n"
   ]
  },
  {
   "cell_type": "code",
   "execution_count": 38,
   "metadata": {},
   "outputs": [],
   "source": [
    "#Pokemon Tipe Poison\r\n",
    "dfPoison = df.loc[(df[\"Type 1\"] == \"Poison\") | (df[\"Type 2\"] == \"Poison\")]\r\n"
   ]
  },
  {
   "cell_type": "code",
   "execution_count": 39,
   "metadata": {},
   "outputs": [],
   "source": [
    "#Pokemon Tipe Ground\r\n",
    "dfGround = df.loc[(df[\"Type 1\"] == \"Ground\") | (df[\"Type 2\"] == \"Ground\")]\r\n"
   ]
  },
  {
   "cell_type": "code",
   "execution_count": 40,
   "metadata": {},
   "outputs": [],
   "source": [
    "#Pokemon Tipe Flying\r\n",
    "dfFlying = df.loc[(df[\"Type 1\"] == \"Flying\") | (df[\"Type 2\"] == \"Flying\")]\r\n"
   ]
  },
  {
   "cell_type": "code",
   "execution_count": 41,
   "metadata": {},
   "outputs": [],
   "source": [
    "#Pokemon Tipe Psychic\r\n",
    "dfPsychic = df.loc[(df[\"Type 1\"] == \"Psychic\") | (df[\"Type 2\"] == \"Psychic\")]\r\n"
   ]
  },
  {
   "cell_type": "code",
   "execution_count": 42,
   "metadata": {},
   "outputs": [],
   "source": [
    "#Pokemon Tipe Bug\r\n",
    "dfBug = df.loc[(df[\"Type 1\"] == \"Bug\") | (df[\"Type 2\"] == \"Bug\")]\r\n"
   ]
  },
  {
   "cell_type": "code",
   "execution_count": 43,
   "metadata": {},
   "outputs": [],
   "source": [
    "#Pokemon Tipe Rock\r\n",
    "dfRock = df.loc[(df[\"Type 1\"] == \"Rock\") | (df[\"Type 2\"] == \"Rock\")]\r\n"
   ]
  },
  {
   "cell_type": "code",
   "execution_count": 44,
   "metadata": {},
   "outputs": [],
   "source": [
    "#Pokemon Tipe Ghost\r\n",
    "dfGhost = df.loc[(df[\"Type 1\"] == \"Ghost\") | (df[\"Type 2\"] == \"Ghost\")]\r\n"
   ]
  },
  {
   "cell_type": "code",
   "execution_count": 45,
   "metadata": {},
   "outputs": [],
   "source": [
    "#Pokemon Tipe Dark\r\n",
    "dfDark = df.loc[(df[\"Type 1\"] == \"Dark\") | (df[\"Type 2\"] == \"Dark\")]\r\n"
   ]
  },
  {
   "cell_type": "code",
   "execution_count": 46,
   "metadata": {},
   "outputs": [],
   "source": [
    "#Pokemon Tipe Dragon\r\n",
    "dfDragon = df.loc[(df[\"Type 1\"] == \"Dragon\") | (df[\"Type 2\"] == \"Dragon\")]"
   ]
  },
  {
   "cell_type": "code",
   "execution_count": 47,
   "metadata": {},
   "outputs": [],
   "source": [
    "#Pokemon Tipe Steel\r\n",
    "dfSteel = df.loc[(df[\"Type 1\"] == \"Steel\") | (df[\"Type 2\"] == \"Steel\")]"
   ]
  },
  {
   "cell_type": "code",
   "execution_count": 48,
   "metadata": {},
   "outputs": [],
   "source": [
    "#Pokemon Tipe Fairy\r\n",
    "dfFairy = df.loc[(df[\"Type 1\"] == \"Fairy\") | (df[\"Type 2\"] == \"Fairy\")]"
   ]
  }
 ],
 "metadata": {
  "interpreter": {
   "hash": "7b0a3cb1454f5aad3a6e8cec18c0f641c26330b09d7141075d1534be40c6ccf5"
  },
  "kernelspec": {
   "display_name": "Python 3.8.8 64-bit ('base': conda)",
   "name": "python3"
  },
  "language_info": {
   "name": "python",
   "version": ""
  }
 },
 "nbformat": 4,
 "nbformat_minor": 5
}