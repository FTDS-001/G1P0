{
  "nbformat": 4,
  "nbformat_minor": 0,
  "metadata": {
    "colab": {
      "name": "h8dsft_P0W1.ipynb",
      "provenance": [],
      "collapsed_sections": [],
      "authorship_tag": "ABX9TyO7Z16+ePBMX4QX3aR9UXA6",
      "include_colab_link": true
    },
    "kernelspec": {
      "name": "python3",
      "display_name": "Python 3"
    },
    "language_info": {
      "name": "python"
    }
  },
  "cells": [
    {
      "cell_type": "markdown",
      "metadata": {
        "id": "view-in-github",
        "colab_type": "text"
      },
      "source": [
        "<a href=\"https://colab.research.google.com/github/FTDS-001/G1P0/blob/LiaRainingsih/h8dsft_P0W1.ipynb\" target=\"_parent\"><img src=\"https://colab.research.google.com/assets/colab-badge.svg\" alt=\"Open In Colab\"/></a>"
      ]
    },
    {
      "cell_type": "code",
      "metadata": {
        "colab": {
          "base_uri": "https://localhost:8080/",
          "height": 223
        },
        "id": "3D_C0uf7Kpp2",
        "outputId": "2a01b2fc-1347-4a6c-9e84-61a47329ab5d"
      },
      "source": [
        "import numpy as np\n",
        "import pandas as pd\n",
        "from google.colab import drive\n",
        "drive.mount('/content/drive')\n",
        "\n",
        "#data loading\n",
        "df = pd.read_csv('/content/drive/My Drive/Colab Notebooks/Pokemon.csv')\n",
        "df.head()"
      ],
      "execution_count": 6,
      "outputs": [
        {
          "output_type": "stream",
          "text": [
            "Drive already mounted at /content/drive; to attempt to forcibly remount, call drive.mount(\"/content/drive\", force_remount=True).\n"
          ],
          "name": "stdout"
        },
        {
          "output_type": "execute_result",
          "data": {
            "text/html": [
              "<div>\n",
              "<style scoped>\n",
              "    .dataframe tbody tr th:only-of-type {\n",
              "        vertical-align: middle;\n",
              "    }\n",
              "\n",
              "    .dataframe tbody tr th {\n",
              "        vertical-align: top;\n",
              "    }\n",
              "\n",
              "    .dataframe thead th {\n",
              "        text-align: right;\n",
              "    }\n",
              "</style>\n",
              "<table border=\"1\" class=\"dataframe\">\n",
              "  <thead>\n",
              "    <tr style=\"text-align: right;\">\n",
              "      <th></th>\n",
              "      <th>#</th>\n",
              "      <th>Name</th>\n",
              "      <th>Type 1</th>\n",
              "      <th>Type 2</th>\n",
              "      <th>Total</th>\n",
              "      <th>HP</th>\n",
              "      <th>Attack</th>\n",
              "      <th>Defense</th>\n",
              "      <th>Sp. Atk</th>\n",
              "      <th>Sp. Def</th>\n",
              "      <th>Speed</th>\n",
              "      <th>Generation</th>\n",
              "      <th>Legendary</th>\n",
              "    </tr>\n",
              "  </thead>\n",
              "  <tbody>\n",
              "    <tr>\n",
              "      <th>0</th>\n",
              "      <td>1</td>\n",
              "      <td>Bulbasaur</td>\n",
              "      <td>Grass</td>\n",
              "      <td>Poison</td>\n",
              "      <td>318</td>\n",
              "      <td>45</td>\n",
              "      <td>49</td>\n",
              "      <td>49</td>\n",
              "      <td>65</td>\n",
              "      <td>65</td>\n",
              "      <td>45</td>\n",
              "      <td>1</td>\n",
              "      <td>False</td>\n",
              "    </tr>\n",
              "    <tr>\n",
              "      <th>1</th>\n",
              "      <td>2</td>\n",
              "      <td>Ivysaur</td>\n",
              "      <td>Grass</td>\n",
              "      <td>Poison</td>\n",
              "      <td>405</td>\n",
              "      <td>60</td>\n",
              "      <td>62</td>\n",
              "      <td>63</td>\n",
              "      <td>80</td>\n",
              "      <td>80</td>\n",
              "      <td>60</td>\n",
              "      <td>1</td>\n",
              "      <td>False</td>\n",
              "    </tr>\n",
              "    <tr>\n",
              "      <th>2</th>\n",
              "      <td>3</td>\n",
              "      <td>Venusaur</td>\n",
              "      <td>Grass</td>\n",
              "      <td>Poison</td>\n",
              "      <td>525</td>\n",
              "      <td>80</td>\n",
              "      <td>82</td>\n",
              "      <td>83</td>\n",
              "      <td>100</td>\n",
              "      <td>100</td>\n",
              "      <td>80</td>\n",
              "      <td>1</td>\n",
              "      <td>False</td>\n",
              "    </tr>\n",
              "    <tr>\n",
              "      <th>3</th>\n",
              "      <td>3</td>\n",
              "      <td>VenusaurMega Venusaur</td>\n",
              "      <td>Grass</td>\n",
              "      <td>Poison</td>\n",
              "      <td>625</td>\n",
              "      <td>80</td>\n",
              "      <td>100</td>\n",
              "      <td>123</td>\n",
              "      <td>122</td>\n",
              "      <td>120</td>\n",
              "      <td>80</td>\n",
              "      <td>1</td>\n",
              "      <td>False</td>\n",
              "    </tr>\n",
              "    <tr>\n",
              "      <th>4</th>\n",
              "      <td>4</td>\n",
              "      <td>Charmander</td>\n",
              "      <td>Fire</td>\n",
              "      <td>NaN</td>\n",
              "      <td>309</td>\n",
              "      <td>39</td>\n",
              "      <td>52</td>\n",
              "      <td>43</td>\n",
              "      <td>60</td>\n",
              "      <td>50</td>\n",
              "      <td>65</td>\n",
              "      <td>1</td>\n",
              "      <td>False</td>\n",
              "    </tr>\n",
              "  </tbody>\n",
              "</table>\n",
              "</div>"
            ],
            "text/plain": [
              "   #                   Name Type 1  ... Speed  Generation  Legendary\n",
              "0  1              Bulbasaur  Grass  ...    45           1      False\n",
              "1  2                Ivysaur  Grass  ...    60           1      False\n",
              "2  3               Venusaur  Grass  ...    80           1      False\n",
              "3  3  VenusaurMega Venusaur  Grass  ...    80           1      False\n",
              "4  4             Charmander   Fire  ...    65           1      False\n",
              "\n",
              "[5 rows x 13 columns]"
            ]
          },
          "metadata": {
            "tags": []
          },
          "execution_count": 6
        }
      ]
    },
    {
      "cell_type": "code",
      "metadata": {
        "colab": {
          "base_uri": "https://localhost:8080/"
        },
        "id": "wUZNvY5szoEF",
        "outputId": "06f749e6-81c9-41d6-b6e4-1e84190ba9e5"
      },
      "source": [
        "#display all columns and their data types\n",
        "df.info()"
      ],
      "execution_count": 7,
      "outputs": [
        {
          "output_type": "stream",
          "text": [
            "<class 'pandas.core.frame.DataFrame'>\n",
            "RangeIndex: 800 entries, 0 to 799\n",
            "Data columns (total 13 columns):\n",
            " #   Column      Non-Null Count  Dtype \n",
            "---  ------      --------------  ----- \n",
            " 0   #           800 non-null    int64 \n",
            " 1   Name        800 non-null    object\n",
            " 2   Type 1      800 non-null    object\n",
            " 3   Type 2      414 non-null    object\n",
            " 4   Total       800 non-null    int64 \n",
            " 5   HP          800 non-null    int64 \n",
            " 6   Attack      800 non-null    int64 \n",
            " 7   Defense     800 non-null    int64 \n",
            " 8   Sp. Atk     800 non-null    int64 \n",
            " 9   Sp. Def     800 non-null    int64 \n",
            " 10  Speed       800 non-null    int64 \n",
            " 11  Generation  800 non-null    int64 \n",
            " 12  Legendary   800 non-null    bool  \n",
            "dtypes: bool(1), int64(9), object(3)\n",
            "memory usage: 75.9+ KB\n"
          ],
          "name": "stdout"
        }
      ]
    },
    {
      "cell_type": "code",
      "metadata": {
        "colab": {
          "base_uri": "https://localhost:8080/"
        },
        "id": "vNiIaNKzKV5O",
        "outputId": "0fe7f96b-952d-46e9-d51d-109b0545cb20"
      },
      "source": [
        "df.shape"
      ],
      "execution_count": 8,
      "outputs": [
        {
          "output_type": "execute_result",
          "data": {
            "text/plain": [
              "(800, 13)"
            ]
          },
          "metadata": {
            "tags": []
          },
          "execution_count": 8
        }
      ]
    },
    {
      "cell_type": "code",
      "metadata": {
        "colab": {
          "base_uri": "https://localhost:8080/"
        },
        "id": "Fu7-mxo0KmxO",
        "outputId": "0037a67a-63d2-4d32-c95c-d362bca35e87"
      },
      "source": [
        "df.dtypes"
      ],
      "execution_count": 9,
      "outputs": [
        {
          "output_type": "execute_result",
          "data": {
            "text/plain": [
              "#              int64\n",
              "Name          object\n",
              "Type 1        object\n",
              "Type 2        object\n",
              "Total          int64\n",
              "HP             int64\n",
              "Attack         int64\n",
              "Defense        int64\n",
              "Sp. Atk        int64\n",
              "Sp. Def        int64\n",
              "Speed          int64\n",
              "Generation     int64\n",
              "Legendary       bool\n",
              "dtype: object"
            ]
          },
          "metadata": {
            "tags": []
          },
          "execution_count": 9
        }
      ]
    },
    {
      "cell_type": "code",
      "metadata": {
        "colab": {
          "base_uri": "https://localhost:8080/"
        },
        "id": "YJprXu0KK1Zf",
        "outputId": "114a671c-7402-4b93-d9b3-f8151aad211d"
      },
      "source": [
        "#menghilangkan missing value\n",
        "df.isna().sum()"
      ],
      "execution_count": 10,
      "outputs": [
        {
          "output_type": "execute_result",
          "data": {
            "text/plain": [
              "#               0\n",
              "Name            0\n",
              "Type 1          0\n",
              "Type 2        386\n",
              "Total           0\n",
              "HP              0\n",
              "Attack          0\n",
              "Defense         0\n",
              "Sp. Atk         0\n",
              "Sp. Def         0\n",
              "Speed           0\n",
              "Generation      0\n",
              "Legendary       0\n",
              "dtype: int64"
            ]
          },
          "metadata": {
            "tags": []
          },
          "execution_count": 10
        }
      ]
    },
    {
      "cell_type": "code",
      "metadata": {
        "colab": {
          "base_uri": "https://localhost:8080/",
          "height": 300
        },
        "id": "XhjROBhgMZ-h",
        "outputId": "41267d56-7cff-4d39-9acd-14df8c210eaf"
      },
      "source": [
        "# describe statistics\n",
        "df.describe()"
      ],
      "execution_count": 11,
      "outputs": [
        {
          "output_type": "execute_result",
          "data": {
            "text/html": [
              "<div>\n",
              "<style scoped>\n",
              "    .dataframe tbody tr th:only-of-type {\n",
              "        vertical-align: middle;\n",
              "    }\n",
              "\n",
              "    .dataframe tbody tr th {\n",
              "        vertical-align: top;\n",
              "    }\n",
              "\n",
              "    .dataframe thead th {\n",
              "        text-align: right;\n",
              "    }\n",
              "</style>\n",
              "<table border=\"1\" class=\"dataframe\">\n",
              "  <thead>\n",
              "    <tr style=\"text-align: right;\">\n",
              "      <th></th>\n",
              "      <th>#</th>\n",
              "      <th>Total</th>\n",
              "      <th>HP</th>\n",
              "      <th>Attack</th>\n",
              "      <th>Defense</th>\n",
              "      <th>Sp. Atk</th>\n",
              "      <th>Sp. Def</th>\n",
              "      <th>Speed</th>\n",
              "      <th>Generation</th>\n",
              "    </tr>\n",
              "  </thead>\n",
              "  <tbody>\n",
              "    <tr>\n",
              "      <th>count</th>\n",
              "      <td>800.000000</td>\n",
              "      <td>800.00000</td>\n",
              "      <td>800.000000</td>\n",
              "      <td>800.000000</td>\n",
              "      <td>800.000000</td>\n",
              "      <td>800.000000</td>\n",
              "      <td>800.000000</td>\n",
              "      <td>800.000000</td>\n",
              "      <td>800.00000</td>\n",
              "    </tr>\n",
              "    <tr>\n",
              "      <th>mean</th>\n",
              "      <td>362.813750</td>\n",
              "      <td>435.10250</td>\n",
              "      <td>69.258750</td>\n",
              "      <td>79.001250</td>\n",
              "      <td>73.842500</td>\n",
              "      <td>72.820000</td>\n",
              "      <td>71.902500</td>\n",
              "      <td>68.277500</td>\n",
              "      <td>3.32375</td>\n",
              "    </tr>\n",
              "    <tr>\n",
              "      <th>std</th>\n",
              "      <td>208.343798</td>\n",
              "      <td>119.96304</td>\n",
              "      <td>25.534669</td>\n",
              "      <td>32.457366</td>\n",
              "      <td>31.183501</td>\n",
              "      <td>32.722294</td>\n",
              "      <td>27.828916</td>\n",
              "      <td>29.060474</td>\n",
              "      <td>1.66129</td>\n",
              "    </tr>\n",
              "    <tr>\n",
              "      <th>min</th>\n",
              "      <td>1.000000</td>\n",
              "      <td>180.00000</td>\n",
              "      <td>1.000000</td>\n",
              "      <td>5.000000</td>\n",
              "      <td>5.000000</td>\n",
              "      <td>10.000000</td>\n",
              "      <td>20.000000</td>\n",
              "      <td>5.000000</td>\n",
              "      <td>1.00000</td>\n",
              "    </tr>\n",
              "    <tr>\n",
              "      <th>25%</th>\n",
              "      <td>184.750000</td>\n",
              "      <td>330.00000</td>\n",
              "      <td>50.000000</td>\n",
              "      <td>55.000000</td>\n",
              "      <td>50.000000</td>\n",
              "      <td>49.750000</td>\n",
              "      <td>50.000000</td>\n",
              "      <td>45.000000</td>\n",
              "      <td>2.00000</td>\n",
              "    </tr>\n",
              "    <tr>\n",
              "      <th>50%</th>\n",
              "      <td>364.500000</td>\n",
              "      <td>450.00000</td>\n",
              "      <td>65.000000</td>\n",
              "      <td>75.000000</td>\n",
              "      <td>70.000000</td>\n",
              "      <td>65.000000</td>\n",
              "      <td>70.000000</td>\n",
              "      <td>65.000000</td>\n",
              "      <td>3.00000</td>\n",
              "    </tr>\n",
              "    <tr>\n",
              "      <th>75%</th>\n",
              "      <td>539.250000</td>\n",
              "      <td>515.00000</td>\n",
              "      <td>80.000000</td>\n",
              "      <td>100.000000</td>\n",
              "      <td>90.000000</td>\n",
              "      <td>95.000000</td>\n",
              "      <td>90.000000</td>\n",
              "      <td>90.000000</td>\n",
              "      <td>5.00000</td>\n",
              "    </tr>\n",
              "    <tr>\n",
              "      <th>max</th>\n",
              "      <td>721.000000</td>\n",
              "      <td>780.00000</td>\n",
              "      <td>255.000000</td>\n",
              "      <td>190.000000</td>\n",
              "      <td>230.000000</td>\n",
              "      <td>194.000000</td>\n",
              "      <td>230.000000</td>\n",
              "      <td>180.000000</td>\n",
              "      <td>6.00000</td>\n",
              "    </tr>\n",
              "  </tbody>\n",
              "</table>\n",
              "</div>"
            ],
            "text/plain": [
              "                #      Total          HP  ...     Sp. Def       Speed  Generation\n",
              "count  800.000000  800.00000  800.000000  ...  800.000000  800.000000   800.00000\n",
              "mean   362.813750  435.10250   69.258750  ...   71.902500   68.277500     3.32375\n",
              "std    208.343798  119.96304   25.534669  ...   27.828916   29.060474     1.66129\n",
              "min      1.000000  180.00000    1.000000  ...   20.000000    5.000000     1.00000\n",
              "25%    184.750000  330.00000   50.000000  ...   50.000000   45.000000     2.00000\n",
              "50%    364.500000  450.00000   65.000000  ...   70.000000   65.000000     3.00000\n",
              "75%    539.250000  515.00000   80.000000  ...   90.000000   90.000000     5.00000\n",
              "max    721.000000  780.00000  255.000000  ...  230.000000  180.000000     6.00000\n",
              "\n",
              "[8 rows x 9 columns]"
            ]
          },
          "metadata": {
            "tags": []
          },
          "execution_count": 11
        }
      ]
    },
    {
      "cell_type": "code",
      "metadata": {
        "colab": {
          "base_uri": "https://localhost:8080/"
        },
        "id": "_mrcvXplNUrh",
        "outputId": "79733eb4-283d-44a8-9c05-b7cb1fd1093d"
      },
      "source": [
        "#Print all of the object data type and their unique values\n",
        "for column in df.columns:\n",
        "  if df[column].dtype == object:\n",
        "    print(str(column) + ' : ' + str(df[column].unique()))\n",
        "    print(df[column].value_counts())\n",
        "    print(\"_________________________________________________________________\")"
      ],
      "execution_count": 12,
      "outputs": [
        {
          "output_type": "stream",
          "text": [
            "Name : ['Bulbasaur' 'Ivysaur' 'Venusaur' 'VenusaurMega Venusaur' 'Charmander'\n",
            " 'Charmeleon' 'Charizard' 'CharizardMega Charizard X'\n",
            " 'CharizardMega Charizard Y' 'Squirtle' 'Wartortle' 'Blastoise'\n",
            " 'BlastoiseMega Blastoise' 'Caterpie' 'Metapod' 'Butterfree' 'Weedle'\n",
            " 'Kakuna' 'Beedrill' 'BeedrillMega Beedrill' 'Pidgey' 'Pidgeotto'\n",
            " 'Pidgeot' 'PidgeotMega Pidgeot' 'Rattata' 'Raticate' 'Spearow' 'Fearow'\n",
            " 'Ekans' 'Arbok' 'Pikachu' 'Raichu' 'Sandshrew' 'Sandslash' 'Nidoran♀'\n",
            " 'Nidorina' 'Nidoqueen' 'Nidoran♂' 'Nidorino' 'Nidoking' 'Clefairy'\n",
            " 'Clefable' 'Vulpix' 'Ninetales' 'Jigglypuff' 'Wigglytuff' 'Zubat'\n",
            " 'Golbat' 'Oddish' 'Gloom' 'Vileplume' 'Paras' 'Parasect' 'Venonat'\n",
            " 'Venomoth' 'Diglett' 'Dugtrio' 'Meowth' 'Persian' 'Psyduck' 'Golduck'\n",
            " 'Mankey' 'Primeape' 'Growlithe' 'Arcanine' 'Poliwag' 'Poliwhirl'\n",
            " 'Poliwrath' 'Abra' 'Kadabra' 'Alakazam' 'AlakazamMega Alakazam' 'Machop'\n",
            " 'Machoke' 'Machamp' 'Bellsprout' 'Weepinbell' 'Victreebel' 'Tentacool'\n",
            " 'Tentacruel' 'Geodude' 'Graveler' 'Golem' 'Ponyta' 'Rapidash' 'Slowpoke'\n",
            " 'Slowbro' 'SlowbroMega Slowbro' 'Magnemite' 'Magneton' \"Farfetch'd\"\n",
            " 'Doduo' 'Dodrio' 'Seel' 'Dewgong' 'Grimer' 'Muk' 'Shellder' 'Cloyster'\n",
            " 'Gastly' 'Haunter' 'Gengar' 'GengarMega Gengar' 'Onix' 'Drowzee' 'Hypno'\n",
            " 'Krabby' 'Kingler' 'Voltorb' 'Electrode' 'Exeggcute' 'Exeggutor' 'Cubone'\n",
            " 'Marowak' 'Hitmonlee' 'Hitmonchan' 'Lickitung' 'Koffing' 'Weezing'\n",
            " 'Rhyhorn' 'Rhydon' 'Chansey' 'Tangela' 'Kangaskhan'\n",
            " 'KangaskhanMega Kangaskhan' 'Horsea' 'Seadra' 'Goldeen' 'Seaking'\n",
            " 'Staryu' 'Starmie' 'Mr. Mime' 'Scyther' 'Jynx' 'Electabuzz' 'Magmar'\n",
            " 'Pinsir' 'PinsirMega Pinsir' 'Tauros' 'Magikarp' 'Gyarados'\n",
            " 'GyaradosMega Gyarados' 'Lapras' 'Ditto' 'Eevee' 'Vaporeon' 'Jolteon'\n",
            " 'Flareon' 'Porygon' 'Omanyte' 'Omastar' 'Kabuto' 'Kabutops' 'Aerodactyl'\n",
            " 'AerodactylMega Aerodactyl' 'Snorlax' 'Articuno' 'Zapdos' 'Moltres'\n",
            " 'Dratini' 'Dragonair' 'Dragonite' 'Mewtwo' 'MewtwoMega Mewtwo X'\n",
            " 'MewtwoMega Mewtwo Y' 'Mew' 'Chikorita' 'Bayleef' 'Meganium' 'Cyndaquil'\n",
            " 'Quilava' 'Typhlosion' 'Totodile' 'Croconaw' 'Feraligatr' 'Sentret'\n",
            " 'Furret' 'Hoothoot' 'Noctowl' 'Ledyba' 'Ledian' 'Spinarak' 'Ariados'\n",
            " 'Crobat' 'Chinchou' 'Lanturn' 'Pichu' 'Cleffa' 'Igglybuff' 'Togepi'\n",
            " 'Togetic' 'Natu' 'Xatu' 'Mareep' 'Flaaffy' 'Ampharos'\n",
            " 'AmpharosMega Ampharos' 'Bellossom' 'Marill' 'Azumarill' 'Sudowoodo'\n",
            " 'Politoed' 'Hoppip' 'Skiploom' 'Jumpluff' 'Aipom' 'Sunkern' 'Sunflora'\n",
            " 'Yanma' 'Wooper' 'Quagsire' 'Espeon' 'Umbreon' 'Murkrow' 'Slowking'\n",
            " 'Misdreavus' 'Unown' 'Wobbuffet' 'Girafarig' 'Pineco' 'Forretress'\n",
            " 'Dunsparce' 'Gligar' 'Steelix' 'SteelixMega Steelix' 'Snubbull'\n",
            " 'Granbull' 'Qwilfish' 'Scizor' 'ScizorMega Scizor' 'Shuckle' 'Heracross'\n",
            " 'HeracrossMega Heracross' 'Sneasel' 'Teddiursa' 'Ursaring' 'Slugma'\n",
            " 'Magcargo' 'Swinub' 'Piloswine' 'Corsola' 'Remoraid' 'Octillery'\n",
            " 'Delibird' 'Mantine' 'Skarmory' 'Houndour' 'Houndoom'\n",
            " 'HoundoomMega Houndoom' 'Kingdra' 'Phanpy' 'Donphan' 'Porygon2'\n",
            " 'Stantler' 'Smeargle' 'Tyrogue' 'Hitmontop' 'Smoochum' 'Elekid' 'Magby'\n",
            " 'Miltank' 'Blissey' 'Raikou' 'Entei' 'Suicune' 'Larvitar' 'Pupitar'\n",
            " 'Tyranitar' 'TyranitarMega Tyranitar' 'Lugia' 'Ho-oh' 'Celebi' 'Treecko'\n",
            " 'Grovyle' 'Sceptile' 'SceptileMega Sceptile' 'Torchic' 'Combusken'\n",
            " 'Blaziken' 'BlazikenMega Blaziken' 'Mudkip' 'Marshtomp' 'Swampert'\n",
            " 'SwampertMega Swampert' 'Poochyena' 'Mightyena' 'Zigzagoon' 'Linoone'\n",
            " 'Wurmple' 'Silcoon' 'Beautifly' 'Cascoon' 'Dustox' 'Lotad' 'Lombre'\n",
            " 'Ludicolo' 'Seedot' 'Nuzleaf' 'Shiftry' 'Taillow' 'Swellow' 'Wingull'\n",
            " 'Pelipper' 'Ralts' 'Kirlia' 'Gardevoir' 'GardevoirMega Gardevoir'\n",
            " 'Surskit' 'Masquerain' 'Shroomish' 'Breloom' 'Slakoth' 'Vigoroth'\n",
            " 'Slaking' 'Nincada' 'Ninjask' 'Shedinja' 'Whismur' 'Loudred' 'Exploud'\n",
            " 'Makuhita' 'Hariyama' 'Azurill' 'Nosepass' 'Skitty' 'Delcatty' 'Sableye'\n",
            " 'SableyeMega Sableye' 'Mawile' 'MawileMega Mawile' 'Aron' 'Lairon'\n",
            " 'Aggron' 'AggronMega Aggron' 'Meditite' 'Medicham'\n",
            " 'MedichamMega Medicham' 'Electrike' 'Manectric' 'ManectricMega Manectric'\n",
            " 'Plusle' 'Minun' 'Volbeat' 'Illumise' 'Roselia' 'Gulpin' 'Swalot'\n",
            " 'Carvanha' 'Sharpedo' 'SharpedoMega Sharpedo' 'Wailmer' 'Wailord' 'Numel'\n",
            " 'Camerupt' 'CameruptMega Camerupt' 'Torkoal' 'Spoink' 'Grumpig' 'Spinda'\n",
            " 'Trapinch' 'Vibrava' 'Flygon' 'Cacnea' 'Cacturne' 'Swablu' 'Altaria'\n",
            " 'AltariaMega Altaria' 'Zangoose' 'Seviper' 'Lunatone' 'Solrock'\n",
            " 'Barboach' 'Whiscash' 'Corphish' 'Crawdaunt' 'Baltoy' 'Claydol' 'Lileep'\n",
            " 'Cradily' 'Anorith' 'Armaldo' 'Feebas' 'Milotic' 'Castform' 'Kecleon'\n",
            " 'Shuppet' 'Banette' 'BanetteMega Banette' 'Duskull' 'Dusclops' 'Tropius'\n",
            " 'Chimecho' 'Absol' 'AbsolMega Absol' 'Wynaut' 'Snorunt' 'Glalie'\n",
            " 'GlalieMega Glalie' 'Spheal' 'Sealeo' 'Walrein' 'Clamperl' 'Huntail'\n",
            " 'Gorebyss' 'Relicanth' 'Luvdisc' 'Bagon' 'Shelgon' 'Salamence'\n",
            " 'SalamenceMega Salamence' 'Beldum' 'Metang' 'Metagross'\n",
            " 'MetagrossMega Metagross' 'Regirock' 'Regice' 'Registeel' 'Latias'\n",
            " 'LatiasMega Latias' 'Latios' 'LatiosMega Latios' 'Kyogre'\n",
            " 'KyogrePrimal Kyogre' 'Groudon' 'GroudonPrimal Groudon' 'Rayquaza'\n",
            " 'RayquazaMega Rayquaza' 'Jirachi' 'DeoxysNormal Forme'\n",
            " 'DeoxysAttack Forme' 'DeoxysDefense Forme' 'DeoxysSpeed Forme' 'Turtwig'\n",
            " 'Grotle' 'Torterra' 'Chimchar' 'Monferno' 'Infernape' 'Piplup' 'Prinplup'\n",
            " 'Empoleon' 'Starly' 'Staravia' 'Staraptor' 'Bidoof' 'Bibarel' 'Kricketot'\n",
            " 'Kricketune' 'Shinx' 'Luxio' 'Luxray' 'Budew' 'Roserade' 'Cranidos'\n",
            " 'Rampardos' 'Shieldon' 'Bastiodon' 'Burmy' 'WormadamPlant Cloak'\n",
            " 'WormadamSandy Cloak' 'WormadamTrash Cloak' 'Mothim' 'Combee' 'Vespiquen'\n",
            " 'Pachirisu' 'Buizel' 'Floatzel' 'Cherubi' 'Cherrim' 'Shellos' 'Gastrodon'\n",
            " 'Ambipom' 'Drifloon' 'Drifblim' 'Buneary' 'Lopunny' 'LopunnyMega Lopunny'\n",
            " 'Mismagius' 'Honchkrow' 'Glameow' 'Purugly' 'Chingling' 'Stunky'\n",
            " 'Skuntank' 'Bronzor' 'Bronzong' 'Bonsly' 'Mime Jr.' 'Happiny' 'Chatot'\n",
            " 'Spiritomb' 'Gible' 'Gabite' 'Garchomp' 'GarchompMega Garchomp'\n",
            " 'Munchlax' 'Riolu' 'Lucario' 'LucarioMega Lucario' 'Hippopotas'\n",
            " 'Hippowdon' 'Skorupi' 'Drapion' 'Croagunk' 'Toxicroak' 'Carnivine'\n",
            " 'Finneon' 'Lumineon' 'Mantyke' 'Snover' 'Abomasnow'\n",
            " 'AbomasnowMega Abomasnow' 'Weavile' 'Magnezone' 'Lickilicky' 'Rhyperior'\n",
            " 'Tangrowth' 'Electivire' 'Magmortar' 'Togekiss' 'Yanmega' 'Leafeon'\n",
            " 'Glaceon' 'Gliscor' 'Mamoswine' 'Porygon-Z' 'Gallade'\n",
            " 'GalladeMega Gallade' 'Probopass' 'Dusknoir' 'Froslass' 'Rotom'\n",
            " 'RotomHeat Rotom' 'RotomWash Rotom' 'RotomFrost Rotom' 'RotomFan Rotom'\n",
            " 'RotomMow Rotom' 'Uxie' 'Mesprit' 'Azelf' 'Dialga' 'Palkia' 'Heatran'\n",
            " 'Regigigas' 'GiratinaAltered Forme' 'GiratinaOrigin Forme' 'Cresselia'\n",
            " 'Phione' 'Manaphy' 'Darkrai' 'ShayminLand Forme' 'ShayminSky Forme'\n",
            " 'Arceus' 'Victini' 'Snivy' 'Servine' 'Serperior' 'Tepig' 'Pignite'\n",
            " 'Emboar' 'Oshawott' 'Dewott' 'Samurott' 'Patrat' 'Watchog' 'Lillipup'\n",
            " 'Herdier' 'Stoutland' 'Purrloin' 'Liepard' 'Pansage' 'Simisage' 'Pansear'\n",
            " 'Simisear' 'Panpour' 'Simipour' 'Munna' 'Musharna' 'Pidove' 'Tranquill'\n",
            " 'Unfezant' 'Blitzle' 'Zebstrika' 'Roggenrola' 'Boldore' 'Gigalith'\n",
            " 'Woobat' 'Swoobat' 'Drilbur' 'Excadrill' 'Audino' 'AudinoMega Audino'\n",
            " 'Timburr' 'Gurdurr' 'Conkeldurr' 'Tympole' 'Palpitoad' 'Seismitoad'\n",
            " 'Throh' 'Sawk' 'Sewaddle' 'Swadloon' 'Leavanny' 'Venipede' 'Whirlipede'\n",
            " 'Scolipede' 'Cottonee' 'Whimsicott' 'Petilil' 'Lilligant' 'Basculin'\n",
            " 'Sandile' 'Krokorok' 'Krookodile' 'Darumaka' 'DarmanitanStandard Mode'\n",
            " 'DarmanitanZen Mode' 'Maractus' 'Dwebble' 'Crustle' 'Scraggy' 'Scrafty'\n",
            " 'Sigilyph' 'Yamask' 'Cofagrigus' 'Tirtouga' 'Carracosta' 'Archen'\n",
            " 'Archeops' 'Trubbish' 'Garbodor' 'Zorua' 'Zoroark' 'Minccino' 'Cinccino'\n",
            " 'Gothita' 'Gothorita' 'Gothitelle' 'Solosis' 'Duosion' 'Reuniclus'\n",
            " 'Ducklett' 'Swanna' 'Vanillite' 'Vanillish' 'Vanilluxe' 'Deerling'\n",
            " 'Sawsbuck' 'Emolga' 'Karrablast' 'Escavalier' 'Foongus' 'Amoonguss'\n",
            " 'Frillish' 'Jellicent' 'Alomomola' 'Joltik' 'Galvantula' 'Ferroseed'\n",
            " 'Ferrothorn' 'Klink' 'Klang' 'Klinklang' 'Tynamo' 'Eelektrik'\n",
            " 'Eelektross' 'Elgyem' 'Beheeyem' 'Litwick' 'Lampent' 'Chandelure' 'Axew'\n",
            " 'Fraxure' 'Haxorus' 'Cubchoo' 'Beartic' 'Cryogonal' 'Shelmet' 'Accelgor'\n",
            " 'Stunfisk' 'Mienfoo' 'Mienshao' 'Druddigon' 'Golett' 'Golurk' 'Pawniard'\n",
            " 'Bisharp' 'Bouffalant' 'Rufflet' 'Braviary' 'Vullaby' 'Mandibuzz'\n",
            " 'Heatmor' 'Durant' 'Deino' 'Zweilous' 'Hydreigon' 'Larvesta' 'Volcarona'\n",
            " 'Cobalion' 'Terrakion' 'Virizion' 'TornadusIncarnate Forme'\n",
            " 'TornadusTherian Forme' 'ThundurusIncarnate Forme'\n",
            " 'ThundurusTherian Forme' 'Reshiram' 'Zekrom' 'LandorusIncarnate Forme'\n",
            " 'LandorusTherian Forme' 'Kyurem' 'KyuremBlack Kyurem'\n",
            " 'KyuremWhite Kyurem' 'KeldeoOrdinary Forme' 'KeldeoResolute Forme'\n",
            " 'MeloettaAria Forme' 'MeloettaPirouette Forme' 'Genesect' 'Chespin'\n",
            " 'Quilladin' 'Chesnaught' 'Fennekin' 'Braixen' 'Delphox' 'Froakie'\n",
            " 'Frogadier' 'Greninja' 'Bunnelby' 'Diggersby' 'Fletchling' 'Fletchinder'\n",
            " 'Talonflame' 'Scatterbug' 'Spewpa' 'Vivillon' 'Litleo' 'Pyroar' 'Flabébé'\n",
            " 'Floette' 'Florges' 'Skiddo' 'Gogoat' 'Pancham' 'Pangoro' 'Furfrou'\n",
            " 'Espurr' 'MeowsticMale' 'MeowsticFemale' 'Honedge' 'Doublade'\n",
            " 'AegislashBlade Forme' 'AegislashShield Forme' 'Spritzee' 'Aromatisse'\n",
            " 'Swirlix' 'Slurpuff' 'Inkay' 'Malamar' 'Binacle' 'Barbaracle' 'Skrelp'\n",
            " 'Dragalge' 'Clauncher' 'Clawitzer' 'Helioptile' 'Heliolisk' 'Tyrunt'\n",
            " 'Tyrantrum' 'Amaura' 'Aurorus' 'Sylveon' 'Hawlucha' 'Dedenne' 'Carbink'\n",
            " 'Goomy' 'Sliggoo' 'Goodra' 'Klefki' 'Phantump' 'Trevenant'\n",
            " 'PumpkabooAverage Size' 'PumpkabooSmall Size' 'PumpkabooLarge Size'\n",
            " 'PumpkabooSuper Size' 'GourgeistAverage Size' 'GourgeistSmall Size'\n",
            " 'GourgeistLarge Size' 'GourgeistSuper Size' 'Bergmite' 'Avalugg' 'Noibat'\n",
            " 'Noivern' 'Xerneas' 'Yveltal' 'Zygarde50% Forme' 'Diancie'\n",
            " 'DiancieMega Diancie' 'HoopaHoopa Confined' 'HoopaHoopa Unbound'\n",
            " 'Volcanion']\n",
            "Sneasel     1\n",
            "Natu        1\n",
            "Zweilous    1\n",
            "Cranidos    1\n",
            "Gliscor     1\n",
            "           ..\n",
            "Muk         1\n",
            "Lopunny     1\n",
            "Nuzleaf     1\n",
            "Bergmite    1\n",
            "Fennekin    1\n",
            "Name: Name, Length: 800, dtype: int64\n",
            "_________________________________________________________________\n",
            "Type 1 : ['Grass' 'Fire' 'Water' 'Bug' 'Normal' 'Poison' 'Electric' 'Ground'\n",
            " 'Fairy' 'Fighting' 'Psychic' 'Rock' 'Ghost' 'Ice' 'Dragon' 'Dark' 'Steel'\n",
            " 'Flying']\n",
            "Water       112\n",
            "Normal       98\n",
            "Grass        70\n",
            "Bug          69\n",
            "Psychic      57\n",
            "Fire         52\n",
            "Rock         44\n",
            "Electric     44\n",
            "Ghost        32\n",
            "Dragon       32\n",
            "Ground       32\n",
            "Dark         31\n",
            "Poison       28\n",
            "Fighting     27\n",
            "Steel        27\n",
            "Ice          24\n",
            "Fairy        17\n",
            "Flying        4\n",
            "Name: Type 1, dtype: int64\n",
            "_________________________________________________________________\n",
            "Type 2 : ['Poison' nan 'Flying' 'Dragon' 'Ground' 'Fairy' 'Grass' 'Fighting'\n",
            " 'Psychic' 'Steel' 'Ice' 'Rock' 'Dark' 'Water' 'Electric' 'Fire' 'Ghost'\n",
            " 'Bug' 'Normal']\n",
            "Flying      97\n",
            "Ground      35\n",
            "Poison      34\n",
            "Psychic     33\n",
            "Fighting    26\n",
            "Grass       25\n",
            "Fairy       23\n",
            "Steel       22\n",
            "Dark        20\n",
            "Dragon      18\n",
            "Ghost       14\n",
            "Water       14\n",
            "Ice         14\n",
            "Rock        14\n",
            "Fire        12\n",
            "Electric     6\n",
            "Normal       4\n",
            "Bug          3\n",
            "Name: Type 2, dtype: int64\n",
            "_________________________________________________________________\n"
          ],
          "name": "stdout"
        }
      ]
    },
    {
      "cell_type": "code",
      "metadata": {
        "colab": {
          "base_uri": "https://localhost:8080/"
        },
        "id": "fOQFErLfOpiK",
        "outputId": "06ff2f54-b4f2-4a6d-9d6e-a04be9c3143c"
      },
      "source": [
        "# cek isnull values\n",
        "df.isnull().values.any()"
      ],
      "execution_count": 13,
      "outputs": [
        {
          "output_type": "execute_result",
          "data": {
            "text/plain": [
              "True"
            ]
          },
          "metadata": {
            "tags": []
          },
          "execution_count": 13
        }
      ]
    },
    {
      "cell_type": "code",
      "metadata": {
        "colab": {
          "base_uri": "https://localhost:8080/"
        },
        "id": "4rNEp5_lQ34Q",
        "outputId": "1b76c6e9-0455-4135-df73-6ced52500f7a"
      },
      "source": [
        "#sum isnull column \n",
        "df.isnull().sum().sum()"
      ],
      "execution_count": 14,
      "outputs": [
        {
          "output_type": "execute_result",
          "data": {
            "text/plain": [
              "386"
            ]
          },
          "metadata": {
            "tags": []
          },
          "execution_count": 14
        }
      ]
    },
    {
      "cell_type": "code",
      "metadata": {
        "colab": {
          "base_uri": "https://localhost:8080/"
        },
        "id": "lIWoC-R3RuXb",
        "outputId": "7a7ad5dc-8d97-4ee1-fb7f-01bf01ab18a3"
      },
      "source": [
        "#delete isnull\n",
        "df = df.dropna()\n",
        "\n",
        "print(df)"
      ],
      "execution_count": 15,
      "outputs": [
        {
          "output_type": "stream",
          "text": [
            "       #                   Name   Type 1  ... Speed  Generation  Legendary\n",
            "0      1              Bulbasaur    Grass  ...    45           1      False\n",
            "1      2                Ivysaur    Grass  ...    60           1      False\n",
            "2      3               Venusaur    Grass  ...    80           1      False\n",
            "3      3  VenusaurMega Venusaur    Grass  ...    80           1      False\n",
            "6      6              Charizard     Fire  ...   100           1      False\n",
            "..   ...                    ...      ...  ...   ...         ...        ...\n",
            "795  719                Diancie     Rock  ...    50           6       True\n",
            "796  719    DiancieMega Diancie     Rock  ...   110           6       True\n",
            "797  720    HoopaHoopa Confined  Psychic  ...    70           6       True\n",
            "798  720     HoopaHoopa Unbound  Psychic  ...    80           6       True\n",
            "799  721              Volcanion     Fire  ...    70           6       True\n",
            "\n",
            "[414 rows x 13 columns]\n"
          ],
          "name": "stdout"
        }
      ]
    },
    {
      "cell_type": "code",
      "metadata": {
        "colab": {
          "base_uri": "https://localhost:8080/",
          "height": 423
        },
        "id": "eOZRriHmVNdW",
        "outputId": "b69b793b-d9f2-4810-9762-a05fc9033cad"
      },
      "source": [
        "#delete column number\n",
        "del df['#']\n",
        "\n",
        "df.dtypes\n",
        "df"
      ],
      "execution_count": 16,
      "outputs": [
        {
          "output_type": "execute_result",
          "data": {
            "text/html": [
              "<div>\n",
              "<style scoped>\n",
              "    .dataframe tbody tr th:only-of-type {\n",
              "        vertical-align: middle;\n",
              "    }\n",
              "\n",
              "    .dataframe tbody tr th {\n",
              "        vertical-align: top;\n",
              "    }\n",
              "\n",
              "    .dataframe thead th {\n",
              "        text-align: right;\n",
              "    }\n",
              "</style>\n",
              "<table border=\"1\" class=\"dataframe\">\n",
              "  <thead>\n",
              "    <tr style=\"text-align: right;\">\n",
              "      <th></th>\n",
              "      <th>Name</th>\n",
              "      <th>Type 1</th>\n",
              "      <th>Type 2</th>\n",
              "      <th>Total</th>\n",
              "      <th>HP</th>\n",
              "      <th>Attack</th>\n",
              "      <th>Defense</th>\n",
              "      <th>Sp. Atk</th>\n",
              "      <th>Sp. Def</th>\n",
              "      <th>Speed</th>\n",
              "      <th>Generation</th>\n",
              "      <th>Legendary</th>\n",
              "    </tr>\n",
              "  </thead>\n",
              "  <tbody>\n",
              "    <tr>\n",
              "      <th>0</th>\n",
              "      <td>Bulbasaur</td>\n",
              "      <td>Grass</td>\n",
              "      <td>Poison</td>\n",
              "      <td>318</td>\n",
              "      <td>45</td>\n",
              "      <td>49</td>\n",
              "      <td>49</td>\n",
              "      <td>65</td>\n",
              "      <td>65</td>\n",
              "      <td>45</td>\n",
              "      <td>1</td>\n",
              "      <td>False</td>\n",
              "    </tr>\n",
              "    <tr>\n",
              "      <th>1</th>\n",
              "      <td>Ivysaur</td>\n",
              "      <td>Grass</td>\n",
              "      <td>Poison</td>\n",
              "      <td>405</td>\n",
              "      <td>60</td>\n",
              "      <td>62</td>\n",
              "      <td>63</td>\n",
              "      <td>80</td>\n",
              "      <td>80</td>\n",
              "      <td>60</td>\n",
              "      <td>1</td>\n",
              "      <td>False</td>\n",
              "    </tr>\n",
              "    <tr>\n",
              "      <th>2</th>\n",
              "      <td>Venusaur</td>\n",
              "      <td>Grass</td>\n",
              "      <td>Poison</td>\n",
              "      <td>525</td>\n",
              "      <td>80</td>\n",
              "      <td>82</td>\n",
              "      <td>83</td>\n",
              "      <td>100</td>\n",
              "      <td>100</td>\n",
              "      <td>80</td>\n",
              "      <td>1</td>\n",
              "      <td>False</td>\n",
              "    </tr>\n",
              "    <tr>\n",
              "      <th>3</th>\n",
              "      <td>VenusaurMega Venusaur</td>\n",
              "      <td>Grass</td>\n",
              "      <td>Poison</td>\n",
              "      <td>625</td>\n",
              "      <td>80</td>\n",
              "      <td>100</td>\n",
              "      <td>123</td>\n",
              "      <td>122</td>\n",
              "      <td>120</td>\n",
              "      <td>80</td>\n",
              "      <td>1</td>\n",
              "      <td>False</td>\n",
              "    </tr>\n",
              "    <tr>\n",
              "      <th>6</th>\n",
              "      <td>Charizard</td>\n",
              "      <td>Fire</td>\n",
              "      <td>Flying</td>\n",
              "      <td>534</td>\n",
              "      <td>78</td>\n",
              "      <td>84</td>\n",
              "      <td>78</td>\n",
              "      <td>109</td>\n",
              "      <td>85</td>\n",
              "      <td>100</td>\n",
              "      <td>1</td>\n",
              "      <td>False</td>\n",
              "    </tr>\n",
              "    <tr>\n",
              "      <th>...</th>\n",
              "      <td>...</td>\n",
              "      <td>...</td>\n",
              "      <td>...</td>\n",
              "      <td>...</td>\n",
              "      <td>...</td>\n",
              "      <td>...</td>\n",
              "      <td>...</td>\n",
              "      <td>...</td>\n",
              "      <td>...</td>\n",
              "      <td>...</td>\n",
              "      <td>...</td>\n",
              "      <td>...</td>\n",
              "    </tr>\n",
              "    <tr>\n",
              "      <th>795</th>\n",
              "      <td>Diancie</td>\n",
              "      <td>Rock</td>\n",
              "      <td>Fairy</td>\n",
              "      <td>600</td>\n",
              "      <td>50</td>\n",
              "      <td>100</td>\n",
              "      <td>150</td>\n",
              "      <td>100</td>\n",
              "      <td>150</td>\n",
              "      <td>50</td>\n",
              "      <td>6</td>\n",
              "      <td>True</td>\n",
              "    </tr>\n",
              "    <tr>\n",
              "      <th>796</th>\n",
              "      <td>DiancieMega Diancie</td>\n",
              "      <td>Rock</td>\n",
              "      <td>Fairy</td>\n",
              "      <td>700</td>\n",
              "      <td>50</td>\n",
              "      <td>160</td>\n",
              "      <td>110</td>\n",
              "      <td>160</td>\n",
              "      <td>110</td>\n",
              "      <td>110</td>\n",
              "      <td>6</td>\n",
              "      <td>True</td>\n",
              "    </tr>\n",
              "    <tr>\n",
              "      <th>797</th>\n",
              "      <td>HoopaHoopa Confined</td>\n",
              "      <td>Psychic</td>\n",
              "      <td>Ghost</td>\n",
              "      <td>600</td>\n",
              "      <td>80</td>\n",
              "      <td>110</td>\n",
              "      <td>60</td>\n",
              "      <td>150</td>\n",
              "      <td>130</td>\n",
              "      <td>70</td>\n",
              "      <td>6</td>\n",
              "      <td>True</td>\n",
              "    </tr>\n",
              "    <tr>\n",
              "      <th>798</th>\n",
              "      <td>HoopaHoopa Unbound</td>\n",
              "      <td>Psychic</td>\n",
              "      <td>Dark</td>\n",
              "      <td>680</td>\n",
              "      <td>80</td>\n",
              "      <td>160</td>\n",
              "      <td>60</td>\n",
              "      <td>170</td>\n",
              "      <td>130</td>\n",
              "      <td>80</td>\n",
              "      <td>6</td>\n",
              "      <td>True</td>\n",
              "    </tr>\n",
              "    <tr>\n",
              "      <th>799</th>\n",
              "      <td>Volcanion</td>\n",
              "      <td>Fire</td>\n",
              "      <td>Water</td>\n",
              "      <td>600</td>\n",
              "      <td>80</td>\n",
              "      <td>110</td>\n",
              "      <td>120</td>\n",
              "      <td>130</td>\n",
              "      <td>90</td>\n",
              "      <td>70</td>\n",
              "      <td>6</td>\n",
              "      <td>True</td>\n",
              "    </tr>\n",
              "  </tbody>\n",
              "</table>\n",
              "<p>414 rows × 12 columns</p>\n",
              "</div>"
            ],
            "text/plain": [
              "                      Name   Type 1  Type 2  ...  Speed  Generation  Legendary\n",
              "0                Bulbasaur    Grass  Poison  ...     45           1      False\n",
              "1                  Ivysaur    Grass  Poison  ...     60           1      False\n",
              "2                 Venusaur    Grass  Poison  ...     80           1      False\n",
              "3    VenusaurMega Venusaur    Grass  Poison  ...     80           1      False\n",
              "6                Charizard     Fire  Flying  ...    100           1      False\n",
              "..                     ...      ...     ...  ...    ...         ...        ...\n",
              "795                Diancie     Rock   Fairy  ...     50           6       True\n",
              "796    DiancieMega Diancie     Rock   Fairy  ...    110           6       True\n",
              "797    HoopaHoopa Confined  Psychic   Ghost  ...     70           6       True\n",
              "798     HoopaHoopa Unbound  Psychic    Dark  ...     80           6       True\n",
              "799              Volcanion     Fire   Water  ...     70           6       True\n",
              "\n",
              "[414 rows x 12 columns]"
            ]
          },
          "metadata": {
            "tags": []
          },
          "execution_count": 16
        }
      ]
    },
    {
      "cell_type": "code",
      "metadata": {
        "colab": {
          "base_uri": "https://localhost:8080/"
        },
        "id": "09twZz9RVwnr",
        "outputId": "fdd9a4d6-d1f6-463a-ef16-e9b33cbfbcbd"
      },
      "source": [
        "#mengganti nama kolom\n",
        "df_current = df.rename(columns = {\"Name\":\"Pokemon's Name\"})\n",
        "df_current.dtypes"
      ],
      "execution_count": 17,
      "outputs": [
        {
          "output_type": "execute_result",
          "data": {
            "text/plain": [
              "Pokemon's Name    object\n",
              "Type 1            object\n",
              "Type 2            object\n",
              "Total              int64\n",
              "HP                 int64\n",
              "Attack             int64\n",
              "Defense            int64\n",
              "Sp. Atk            int64\n",
              "Sp. Def            int64\n",
              "Speed              int64\n",
              "Generation         int64\n",
              "Legendary           bool\n",
              "dtype: object"
            ]
          },
          "metadata": {
            "tags": []
          },
          "execution_count": 17
        }
      ]
    },
    {
      "cell_type": "code",
      "metadata": {
        "colab": {
          "base_uri": "https://localhost:8080/",
          "height": 423
        },
        "id": "t7w5cpMqWDEZ",
        "outputId": "e6c85643-1b0a-43ed-ae88-6b87820389cf"
      },
      "source": [
        "# attack > 100\n",
        "hi_attack = df_current[df_current['Attack'] > 100]\n",
        "hi_attack"
      ],
      "execution_count": 19,
      "outputs": [
        {
          "output_type": "execute_result",
          "data": {
            "text/html": [
              "<div>\n",
              "<style scoped>\n",
              "    .dataframe tbody tr th:only-of-type {\n",
              "        vertical-align: middle;\n",
              "    }\n",
              "\n",
              "    .dataframe tbody tr th {\n",
              "        vertical-align: top;\n",
              "    }\n",
              "\n",
              "    .dataframe thead th {\n",
              "        text-align: right;\n",
              "    }\n",
              "</style>\n",
              "<table border=\"1\" class=\"dataframe\">\n",
              "  <thead>\n",
              "    <tr style=\"text-align: right;\">\n",
              "      <th></th>\n",
              "      <th>Pokemon's Name</th>\n",
              "      <th>Type 1</th>\n",
              "      <th>Type 2</th>\n",
              "      <th>Total</th>\n",
              "      <th>HP</th>\n",
              "      <th>Attack</th>\n",
              "      <th>Defense</th>\n",
              "      <th>Sp. Atk</th>\n",
              "      <th>Sp. Def</th>\n",
              "      <th>Speed</th>\n",
              "      <th>Generation</th>\n",
              "      <th>Legendary</th>\n",
              "    </tr>\n",
              "  </thead>\n",
              "  <tbody>\n",
              "    <tr>\n",
              "      <th>7</th>\n",
              "      <td>CharizardMega Charizard X</td>\n",
              "      <td>Fire</td>\n",
              "      <td>Dragon</td>\n",
              "      <td>634</td>\n",
              "      <td>78</td>\n",
              "      <td>130</td>\n",
              "      <td>111</td>\n",
              "      <td>130</td>\n",
              "      <td>85</td>\n",
              "      <td>100</td>\n",
              "      <td>1</td>\n",
              "      <td>False</td>\n",
              "    </tr>\n",
              "    <tr>\n",
              "      <th>8</th>\n",
              "      <td>CharizardMega Charizard Y</td>\n",
              "      <td>Fire</td>\n",
              "      <td>Flying</td>\n",
              "      <td>634</td>\n",
              "      <td>78</td>\n",
              "      <td>104</td>\n",
              "      <td>78</td>\n",
              "      <td>159</td>\n",
              "      <td>115</td>\n",
              "      <td>100</td>\n",
              "      <td>1</td>\n",
              "      <td>False</td>\n",
              "    </tr>\n",
              "    <tr>\n",
              "      <th>19</th>\n",
              "      <td>BeedrillMega Beedrill</td>\n",
              "      <td>Bug</td>\n",
              "      <td>Poison</td>\n",
              "      <td>495</td>\n",
              "      <td>65</td>\n",
              "      <td>150</td>\n",
              "      <td>40</td>\n",
              "      <td>15</td>\n",
              "      <td>80</td>\n",
              "      <td>145</td>\n",
              "      <td>1</td>\n",
              "      <td>False</td>\n",
              "    </tr>\n",
              "    <tr>\n",
              "      <th>39</th>\n",
              "      <td>Nidoking</td>\n",
              "      <td>Poison</td>\n",
              "      <td>Ground</td>\n",
              "      <td>505</td>\n",
              "      <td>81</td>\n",
              "      <td>102</td>\n",
              "      <td>77</td>\n",
              "      <td>85</td>\n",
              "      <td>75</td>\n",
              "      <td>85</td>\n",
              "      <td>1</td>\n",
              "      <td>False</td>\n",
              "    </tr>\n",
              "    <tr>\n",
              "      <th>77</th>\n",
              "      <td>Victreebel</td>\n",
              "      <td>Grass</td>\n",
              "      <td>Poison</td>\n",
              "      <td>490</td>\n",
              "      <td>80</td>\n",
              "      <td>105</td>\n",
              "      <td>65</td>\n",
              "      <td>100</td>\n",
              "      <td>70</td>\n",
              "      <td>70</td>\n",
              "      <td>1</td>\n",
              "      <td>False</td>\n",
              "    </tr>\n",
              "    <tr>\n",
              "      <th>...</th>\n",
              "      <td>...</td>\n",
              "      <td>...</td>\n",
              "      <td>...</td>\n",
              "      <td>...</td>\n",
              "      <td>...</td>\n",
              "      <td>...</td>\n",
              "      <td>...</td>\n",
              "      <td>...</td>\n",
              "      <td>...</td>\n",
              "      <td>...</td>\n",
              "      <td>...</td>\n",
              "      <td>...</td>\n",
              "    </tr>\n",
              "    <tr>\n",
              "      <th>793</th>\n",
              "      <td>Yveltal</td>\n",
              "      <td>Dark</td>\n",
              "      <td>Flying</td>\n",
              "      <td>680</td>\n",
              "      <td>126</td>\n",
              "      <td>131</td>\n",
              "      <td>95</td>\n",
              "      <td>131</td>\n",
              "      <td>98</td>\n",
              "      <td>99</td>\n",
              "      <td>6</td>\n",
              "      <td>True</td>\n",
              "    </tr>\n",
              "    <tr>\n",
              "      <th>796</th>\n",
              "      <td>DiancieMega Diancie</td>\n",
              "      <td>Rock</td>\n",
              "      <td>Fairy</td>\n",
              "      <td>700</td>\n",
              "      <td>50</td>\n",
              "      <td>160</td>\n",
              "      <td>110</td>\n",
              "      <td>160</td>\n",
              "      <td>110</td>\n",
              "      <td>110</td>\n",
              "      <td>6</td>\n",
              "      <td>True</td>\n",
              "    </tr>\n",
              "    <tr>\n",
              "      <th>797</th>\n",
              "      <td>HoopaHoopa Confined</td>\n",
              "      <td>Psychic</td>\n",
              "      <td>Ghost</td>\n",
              "      <td>600</td>\n",
              "      <td>80</td>\n",
              "      <td>110</td>\n",
              "      <td>60</td>\n",
              "      <td>150</td>\n",
              "      <td>130</td>\n",
              "      <td>70</td>\n",
              "      <td>6</td>\n",
              "      <td>True</td>\n",
              "    </tr>\n",
              "    <tr>\n",
              "      <th>798</th>\n",
              "      <td>HoopaHoopa Unbound</td>\n",
              "      <td>Psychic</td>\n",
              "      <td>Dark</td>\n",
              "      <td>680</td>\n",
              "      <td>80</td>\n",
              "      <td>160</td>\n",
              "      <td>60</td>\n",
              "      <td>170</td>\n",
              "      <td>130</td>\n",
              "      <td>80</td>\n",
              "      <td>6</td>\n",
              "      <td>True</td>\n",
              "    </tr>\n",
              "    <tr>\n",
              "      <th>799</th>\n",
              "      <td>Volcanion</td>\n",
              "      <td>Fire</td>\n",
              "      <td>Water</td>\n",
              "      <td>600</td>\n",
              "      <td>80</td>\n",
              "      <td>110</td>\n",
              "      <td>120</td>\n",
              "      <td>130</td>\n",
              "      <td>90</td>\n",
              "      <td>70</td>\n",
              "      <td>6</td>\n",
              "      <td>True</td>\n",
              "    </tr>\n",
              "  </tbody>\n",
              "</table>\n",
              "<p>106 rows × 12 columns</p>\n",
              "</div>"
            ],
            "text/plain": [
              "                Pokemon's Name   Type 1  Type 2  ...  Speed  Generation  Legendary\n",
              "7    CharizardMega Charizard X     Fire  Dragon  ...    100           1      False\n",
              "8    CharizardMega Charizard Y     Fire  Flying  ...    100           1      False\n",
              "19       BeedrillMega Beedrill      Bug  Poison  ...    145           1      False\n",
              "39                    Nidoking   Poison  Ground  ...     85           1      False\n",
              "77                  Victreebel    Grass  Poison  ...     70           1      False\n",
              "..                         ...      ...     ...  ...    ...         ...        ...\n",
              "793                    Yveltal     Dark  Flying  ...     99           6       True\n",
              "796        DiancieMega Diancie     Rock   Fairy  ...    110           6       True\n",
              "797        HoopaHoopa Confined  Psychic   Ghost  ...     70           6       True\n",
              "798         HoopaHoopa Unbound  Psychic    Dark  ...     80           6       True\n",
              "799                  Volcanion     Fire   Water  ...     70           6       True\n",
              "\n",
              "[106 rows x 12 columns]"
            ]
          },
          "metadata": {
            "tags": []
          },
          "execution_count": 19
        }
      ]
    },
    {
      "cell_type": "code",
      "metadata": {
        "colab": {
          "base_uri": "https://localhost:8080/",
          "height": 363
        },
        "id": "edkC1wjgjeNK",
        "outputId": "5cd2089b-5e75-45d1-c7a2-d14e5c3c6243"
      },
      "source": [
        "#Sort top 10 by total \n",
        "df_current.sort_values(by=['Total'], ascending = False).head(10)"
      ],
      "execution_count": 20,
      "outputs": [
        {
          "output_type": "execute_result",
          "data": {
            "text/html": [
              "<div>\n",
              "<style scoped>\n",
              "    .dataframe tbody tr th:only-of-type {\n",
              "        vertical-align: middle;\n",
              "    }\n",
              "\n",
              "    .dataframe tbody tr th {\n",
              "        vertical-align: top;\n",
              "    }\n",
              "\n",
              "    .dataframe thead th {\n",
              "        text-align: right;\n",
              "    }\n",
              "</style>\n",
              "<table border=\"1\" class=\"dataframe\">\n",
              "  <thead>\n",
              "    <tr style=\"text-align: right;\">\n",
              "      <th></th>\n",
              "      <th>Pokemon's Name</th>\n",
              "      <th>Type 1</th>\n",
              "      <th>Type 2</th>\n",
              "      <th>Total</th>\n",
              "      <th>HP</th>\n",
              "      <th>Attack</th>\n",
              "      <th>Defense</th>\n",
              "      <th>Sp. Atk</th>\n",
              "      <th>Sp. Def</th>\n",
              "      <th>Speed</th>\n",
              "      <th>Generation</th>\n",
              "      <th>Legendary</th>\n",
              "    </tr>\n",
              "  </thead>\n",
              "  <tbody>\n",
              "    <tr>\n",
              "      <th>426</th>\n",
              "      <td>RayquazaMega Rayquaza</td>\n",
              "      <td>Dragon</td>\n",
              "      <td>Flying</td>\n",
              "      <td>780</td>\n",
              "      <td>105</td>\n",
              "      <td>180</td>\n",
              "      <td>100</td>\n",
              "      <td>180</td>\n",
              "      <td>100</td>\n",
              "      <td>115</td>\n",
              "      <td>3</td>\n",
              "      <td>True</td>\n",
              "    </tr>\n",
              "    <tr>\n",
              "      <th>163</th>\n",
              "      <td>MewtwoMega Mewtwo X</td>\n",
              "      <td>Psychic</td>\n",
              "      <td>Fighting</td>\n",
              "      <td>780</td>\n",
              "      <td>106</td>\n",
              "      <td>190</td>\n",
              "      <td>100</td>\n",
              "      <td>154</td>\n",
              "      <td>100</td>\n",
              "      <td>130</td>\n",
              "      <td>1</td>\n",
              "      <td>True</td>\n",
              "    </tr>\n",
              "    <tr>\n",
              "      <th>424</th>\n",
              "      <td>GroudonPrimal Groudon</td>\n",
              "      <td>Ground</td>\n",
              "      <td>Fire</td>\n",
              "      <td>770</td>\n",
              "      <td>100</td>\n",
              "      <td>180</td>\n",
              "      <td>160</td>\n",
              "      <td>150</td>\n",
              "      <td>90</td>\n",
              "      <td>90</td>\n",
              "      <td>3</td>\n",
              "      <td>True</td>\n",
              "    </tr>\n",
              "    <tr>\n",
              "      <th>494</th>\n",
              "      <td>GarchompMega Garchomp</td>\n",
              "      <td>Dragon</td>\n",
              "      <td>Ground</td>\n",
              "      <td>700</td>\n",
              "      <td>108</td>\n",
              "      <td>170</td>\n",
              "      <td>115</td>\n",
              "      <td>120</td>\n",
              "      <td>95</td>\n",
              "      <td>92</td>\n",
              "      <td>4</td>\n",
              "      <td>False</td>\n",
              "    </tr>\n",
              "    <tr>\n",
              "      <th>413</th>\n",
              "      <td>MetagrossMega Metagross</td>\n",
              "      <td>Steel</td>\n",
              "      <td>Psychic</td>\n",
              "      <td>700</td>\n",
              "      <td>80</td>\n",
              "      <td>145</td>\n",
              "      <td>150</td>\n",
              "      <td>105</td>\n",
              "      <td>110</td>\n",
              "      <td>110</td>\n",
              "      <td>3</td>\n",
              "      <td>False</td>\n",
              "    </tr>\n",
              "    <tr>\n",
              "      <th>711</th>\n",
              "      <td>KyuremBlack Kyurem</td>\n",
              "      <td>Dragon</td>\n",
              "      <td>Ice</td>\n",
              "      <td>700</td>\n",
              "      <td>125</td>\n",
              "      <td>170</td>\n",
              "      <td>100</td>\n",
              "      <td>120</td>\n",
              "      <td>90</td>\n",
              "      <td>95</td>\n",
              "      <td>5</td>\n",
              "      <td>True</td>\n",
              "    </tr>\n",
              "    <tr>\n",
              "      <th>712</th>\n",
              "      <td>KyuremWhite Kyurem</td>\n",
              "      <td>Dragon</td>\n",
              "      <td>Ice</td>\n",
              "      <td>700</td>\n",
              "      <td>125</td>\n",
              "      <td>120</td>\n",
              "      <td>90</td>\n",
              "      <td>170</td>\n",
              "      <td>100</td>\n",
              "      <td>95</td>\n",
              "      <td>5</td>\n",
              "      <td>True</td>\n",
              "    </tr>\n",
              "    <tr>\n",
              "      <th>418</th>\n",
              "      <td>LatiasMega Latias</td>\n",
              "      <td>Dragon</td>\n",
              "      <td>Psychic</td>\n",
              "      <td>700</td>\n",
              "      <td>80</td>\n",
              "      <td>100</td>\n",
              "      <td>120</td>\n",
              "      <td>140</td>\n",
              "      <td>150</td>\n",
              "      <td>110</td>\n",
              "      <td>3</td>\n",
              "      <td>True</td>\n",
              "    </tr>\n",
              "    <tr>\n",
              "      <th>420</th>\n",
              "      <td>LatiosMega Latios</td>\n",
              "      <td>Dragon</td>\n",
              "      <td>Psychic</td>\n",
              "      <td>700</td>\n",
              "      <td>80</td>\n",
              "      <td>130</td>\n",
              "      <td>100</td>\n",
              "      <td>160</td>\n",
              "      <td>120</td>\n",
              "      <td>110</td>\n",
              "      <td>3</td>\n",
              "      <td>True</td>\n",
              "    </tr>\n",
              "    <tr>\n",
              "      <th>409</th>\n",
              "      <td>SalamenceMega Salamence</td>\n",
              "      <td>Dragon</td>\n",
              "      <td>Flying</td>\n",
              "      <td>700</td>\n",
              "      <td>95</td>\n",
              "      <td>145</td>\n",
              "      <td>130</td>\n",
              "      <td>120</td>\n",
              "      <td>90</td>\n",
              "      <td>120</td>\n",
              "      <td>3</td>\n",
              "      <td>False</td>\n",
              "    </tr>\n",
              "  </tbody>\n",
              "</table>\n",
              "</div>"
            ],
            "text/plain": [
              "              Pokemon's Name   Type 1    Type 2  ...  Speed  Generation  Legendary\n",
              "426    RayquazaMega Rayquaza   Dragon    Flying  ...    115           3       True\n",
              "163      MewtwoMega Mewtwo X  Psychic  Fighting  ...    130           1       True\n",
              "424    GroudonPrimal Groudon   Ground      Fire  ...     90           3       True\n",
              "494    GarchompMega Garchomp   Dragon    Ground  ...     92           4      False\n",
              "413  MetagrossMega Metagross    Steel   Psychic  ...    110           3      False\n",
              "711       KyuremBlack Kyurem   Dragon       Ice  ...     95           5       True\n",
              "712       KyuremWhite Kyurem   Dragon       Ice  ...     95           5       True\n",
              "418        LatiasMega Latias   Dragon   Psychic  ...    110           3       True\n",
              "420        LatiosMega Latios   Dragon   Psychic  ...    110           3       True\n",
              "409  SalamenceMega Salamence   Dragon    Flying  ...    120           3      False\n",
              "\n",
              "[10 rows x 12 columns]"
            ]
          },
          "metadata": {
            "tags": []
          },
          "execution_count": 20
        }
      ]
    },
    {
      "cell_type": "code",
      "metadata": {
        "colab": {
          "base_uri": "https://localhost:8080/"
        },
        "id": "Yaeh_OD0WT9V",
        "outputId": "c4a16fb1-56a9-4898-f996-2d6882f5a39b"
      },
      "source": [
        "#mengelompokkan data berdasarkan Generation\n",
        "df_current.groupby(\"Type 1\", sort=False)[\"Total\"].sum()"
      ],
      "execution_count": 34,
      "outputs": [
        {
          "output_type": "execute_result",
          "data": {
            "text/plain": [
              "Type 1\n",
              "Psychic     3340\n",
              "Dragon      8080\n",
              "Ground      1970\n",
              "Rock        1880\n",
              "Steel       1860\n",
              "Dark         680\n",
              "Ghost       1360\n",
              "Water        680\n",
              "Fire        2460\n",
              "Grass       1180\n",
              "Electric    1740\n",
              "Ice          580\n",
              "Name: Total, dtype: int64"
            ]
          },
          "metadata": {
            "tags": []
          },
          "execution_count": 34
        }
      ]
    },
    {
      "cell_type": "code",
      "metadata": {
        "colab": {
          "base_uri": "https://localhost:8080/"
        },
        "id": "BFDDZRKA2V62",
        "outputId": "1bf1815c-38ae-44f6-b2dd-87cbdc3a9169"
      },
      "source": [
        "#group by Generation\n",
        "df_current.groupby(\"Generation\", sort=False)[\"Total\"].sum()"
      ],
      "execution_count": 26,
      "outputs": [
        {
          "output_type": "execute_result",
          "data": {
            "text/plain": [
              "Generation\n",
              "1    34894\n",
              "2    24014\n",
              "3    37227\n",
              "4    32076\n",
              "5    37896\n",
              "6    22937\n",
              "Name: Total, dtype: int64"
            ]
          },
          "metadata": {
            "tags": []
          },
          "execution_count": 26
        }
      ]
    },
    {
      "cell_type": "code",
      "metadata": {
        "colab": {
          "base_uri": "https://localhost:8080/",
          "height": 327
        },
        "id": "lbAggd3Y4ZlD",
        "outputId": "c95de2e4-2b0c-497d-8ee3-dad643091c6f"
      },
      "source": [
        "#mengelompokan Pokemon by Type 2\n",
        "%matplotlib inline\n",
        "df_current.groupby(\"Type 2\", sort=False)[\"Total\"].sum().plot(kind = \"bar\")"
      ],
      "execution_count": 25,
      "outputs": [
        {
          "output_type": "execute_result",
          "data": {
            "text/plain": [
              "<matplotlib.axes._subplots.AxesSubplot at 0x7fb946619050>"
            ]
          },
          "metadata": {
            "tags": []
          },
          "execution_count": 25
        },
        {
          "output_type": "display_data",
          "data": {
            "image/png": "[encoded data removed]",
            "text/plain": [
              "<Figure size 432x288 with 1 Axes>"
            ]
          },
          "metadata": {
            "tags": [],
            "needs_background": "light"
          }
        }
      ]
    },
    {
      "cell_type": "markdown",
      "metadata": {
        "id": "vrnYXjQA3D2f"
      },
      "source": [
        "Histogram diatas menunjukkan Pokemon dengan Type 2 Flying memiliki total terbanyak."
      ]
    },
    {
      "cell_type": "code",
      "metadata": {
        "colab": {
          "base_uri": "https://localhost:8080/",
          "height": 279
        },
        "id": "l6pGzgJuxqJA",
        "outputId": "777ff978-5f21-451a-dd83-2508be5f22f5"
      },
      "source": [
        "import matplotlib.pyplot as plt\n",
        "\n",
        "bins=range(0,200,20) #they act as containers\n",
        "plt.hist(df[\"Attack\"],bins,histtype=\"bar\",rwidth=1.2,color='#0000CD') #hist() is used to plot a histogram\n",
        "plt.xlabel('Attack') #set the xlabel name\n",
        "plt.ylabel('Count') #set the ylabel name\n",
        "plt.plot()\n",
        "plt.axvline(df['Attack'].mean(),linestyle='dashed',color='red') #draw a vertical line showing the average Attack value\n",
        "plt.show()"
      ],
      "execution_count": 37,
      "outputs": [
        {
          "output_type": "display_data",
          "data": {
            "image/png": "[encoded data removed]",
            "text/plain": [
              "<Figure size 432x288 with 1 Axes>"
            ]
          },
          "metadata": {
            "tags": [],
            "needs_background": "light"
          }
        }
      ]
    },
    {
      "cell_type": "markdown",
      "metadata": {
        "id": "o5BdYTsF28Y5"
      },
      "source": [
        "Kesimpulan :\n",
        "Histogram yang menunjukkan distribusi serangan untuk Pokemon. Nilai rata-rata adalah antara 75-77"
      ]
    }
  ]
}